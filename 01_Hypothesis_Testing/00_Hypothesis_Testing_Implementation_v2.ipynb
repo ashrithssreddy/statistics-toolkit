{
 "cells": [
  {
   "cell_type": "markdown",
   "metadata": {},
   "source": [
    "<a id=\"table-of-contents\"></a>\n",
    "# 📖 Table of Contents\n",
    "\n",
    "- [🗂️ Data Setup](#data-setup)  \n",
    "- [🛠️ Test Setup](#test-setup)  \n",
    "- [📈 Assumptions Check](#assumptions-check)  \n",
    "- [📈 Hypothesis Testing](#hypothesis-testing)  \n",
    "___"
   ]
  },
  {
   "cell_type": "markdown",
   "metadata": {},
   "source": [
    "<details><summary><strong>📖 Hypothesis Testing - Assumptions & Methods (Click to Expand)</strong></summary>\n",
    "\n",
    "<table>\n",
    "  <thead>\n",
    "    <tr>\n",
    "      <th>Test Type</th>\n",
    "      <th>Use Case</th>\n",
    "      <th>Parametric?</th>\n",
    "      <th>Assumptions</th>\n",
    "      <th>Non-Parametric Alternative</th>\n",
    "    </tr>\n",
    "  </thead>\n",
    "  <tbody>\n",
    "    <tr>\n",
    "      <td>One-Sample t-test</td>\n",
    "      <td>Compare sample mean vs. known value</td>\n",
    "      <td>✅</td>\n",
    "      <td>Normality of sample</td>\n",
    "      <td>Sign test</td>\n",
    "    </tr>\n",
    "    <tr>\n",
    "      <td>Two-Sample t-test</td>\n",
    "      <td>Compare means of two independent groups</td>\n",
    "      <td>✅</td>\n",
    "      <td>- Normality (both groups)<br>- Equal variance (if pooled)<br>- Independence</td>\n",
    "      <td>Mann-Whitney U</td>\n",
    "    </tr>\n",
    "    <tr>\n",
    "      <td>Paired t-test</td>\n",
    "      <td>Compare means of two related samples (before-after, matched)</td>\n",
    "      <td>✅</td>\n",
    "      <td>- Normality of *differences*<br>- No extreme outliers</td>\n",
    "      <td>Wilcoxon signed-rank</td>\n",
    "    </tr>\n",
    "    <tr>\n",
    "      <td>Proportions z-test</td>\n",
    "      <td>Compare binary rates (e.g., CTR in A vs B)</td>\n",
    "      <td>✅</td>\n",
    "      <td>- np > 5, nq > 5 (sample size rule)<br>- Independence</td>\n",
    "      <td>Fisher’s exact</td>\n",
    "    </tr>\n",
    "    <tr>\n",
    "      <td>Chi-Square Test</td>\n",
    "      <td>Categorical association (e.g., device type vs. AR adoption)</td>\n",
    "      <td>✅</td>\n",
    "      <td>- Expected count ≥ 5 in ≥ 80% of cells<br>- Independence</td>\n",
    "      <td>Fisher’s exact</td>\n",
    "    </tr>\n",
    "    <tr>\n",
    "      <td>ANOVA</td>\n",
    "      <td>Compare means across 3+ groups</td>\n",
    "      <td>✅</td>\n",
    "      <td>- Normality<br>- Equal variance<br>- Independence</td>\n",
    "      <td>Kruskal-Wallis</td>\n",
    "    </tr>\n",
    "    <tr>\n",
    "      <td>Mann-Whitney U</td>\n",
    "      <td>Compare medians/ranks of two independent groups</td>\n",
    "      <td>❌</td>\n",
    "      <td>- Same shape distribution (ideally)<br>- Ordinal or continuous data</td>\n",
    "      <td>N/A</td>\n",
    "    </tr>\n",
    "    <tr>\n",
    "      <td>Wilcoxon Signed-Rank</td>\n",
    "      <td>Paired version of Mann-Whitney (for related samples)</td>\n",
    "      <td>❌</td>\n",
    "      <td>- Symmetry in differences<br>- Ordinal or continuous</td>\n",
    "      <td>Sign test</td>\n",
    "    </tr>\n",
    "  </tbody>\n",
    "</table>\n",
    "\n",
    "</details>\n"
   ]
  },
  {
   "cell_type": "markdown",
   "metadata": {},
   "source": [
    "<a id=\"test-setup\"></a>\n",
    "\n",
    "# 🛠️ Test Setup"
   ]
  },
  {
   "cell_type": "markdown",
   "metadata": {},
   "source": [
    "\n",
    "<details><summary><strong>📖 Test Settings Explanation (Click to Expand)</strong></summary>\n",
    "\n",
    "### 📊 **Test Type (test_type)**\n",
    "This setting defines the type of test you want to perform.\n",
    "\n",
    "- **one_sample**: Comparing the sample mean against a known value (e.g., a population mean).\n",
    "- **two_sample**: Comparing the means of two independent groups (e.g., A vs B).\n",
    "- **paired**: Comparing means from the same group at two different times (before vs after).\n",
    "- **proportions**: Comparing proportions (e.g., the conversion rates of two groups).\n",
    "\n",
    "**Example**: You might want to test if the mean age of two groups of people (Group A and Group B) differs, or if the proportion of people who converted in each group is different.\n",
    "\n",
    "### 📏 **Tail Type (tail_type)**\n",
    "This setting determines whether you are performing a one-tailed or two-tailed test.\n",
    "\n",
    "- **one_tailed**: You are testing if the value is greater than or less than the reference value (directional).\n",
    "- **two_tailed**: You are testing if the value is different from the reference value, either higher or lower (non-directional).\n",
    "\n",
    "**Example**:  \n",
    "- **One-tailed**: Testing if new treatment increases sales (you only care if it's greater).  \n",
    "- **Two-tailed**: Testing if there is any difference in sales between two treatments (it could be either an increase or decrease).\n",
    "\n",
    "### 🧮 **Parametric (parametric)**\n",
    "This setting indicates whether the test is **parametric** or **non-parametric**.\n",
    "\n",
    "- **True (Parametric)**: This means we assume that the data follows a certain distribution, often a **normal distribution**. The most common parametric tests are **t-tests** and **z-tests**. Parametric tests are generally more powerful if the assumptions are met.\n",
    "  \n",
    "- **False (Non-Parametric)**: Non-parametric tests don’t assume any specific distribution. These are used when the data doesn’t follow a normal distribution or when the sample size is small. Examples include **Mann-Whitney U** (alternative to the t-test) and **Wilcoxon Signed-Rank** (alternative to paired t-test).\n",
    "\n",
    "**Why does this matter?**  \n",
    "Parametric tests tend to be more powerful because they make assumptions about the distribution of the data (e.g., normality). Non-parametric tests are more flexible and can be used when these assumptions are not met, but they may be less powerful.\n",
    "\n",
    "### 📊 **Equal Variance (equal_variance)**\n",
    "This setting is used specifically for **two-sample t-tests**.\n",
    "\n",
    "- **True**: Assumes that the two groups have **equal variances** (i.e., the spread of data is the same in both groups). This is used for the **pooled t-test**.\n",
    "  \n",
    "- **False**: Assumes the two groups have **different variances**. This is used for the **Welch t-test**, which is more robust when the assumption of equal variances is violated.\n",
    "\n",
    "**Why is this important?**  \n",
    "If the variances are not equal, using a pooled t-test (which assumes equal variance) can lead to incorrect conclusions. The Welch t-test is safer when in doubt about the equality of variances.\n",
    "\n",
    "### 🔑 **Significance Level (alpha)**\n",
    "The **alpha** level is your **threshold for statistical significance**.\n",
    "\n",
    "- Commonly set at **0.05**, this means that you are willing to accept a 5% chance of wrongly rejecting the null hypothesis (i.e., a 5% chance of a Type I error).\n",
    "  \n",
    "- If the **p-value** (calculated from your test) is less than **alpha**, you reject the null hypothesis. If it's greater than alpha, you fail to reject the null hypothesis.\n",
    "\n",
    "**Example**:  \n",
    "- **alpha = 0.05** means there’s a 5% risk of concluding that a treatment has an effect when it actually doesn’t.\n",
    "\n",
    "### 🎯 **Putting It All Together**\n",
    "\n",
    "For instance, let's say you're testing if a new feature (Group A) increases user engagement compared to the existing feature (Group B). Here’s how each configuration works together:\n",
    "\n",
    "- **test_type** = `'two_sample'`: You're comparing two independent groups (A vs B).\n",
    "- **tail_type** = `'two_tailed'`: You’re testing if there’s any difference (increase or decrease) in engagement.\n",
    "- **parametric** = `True`: You assume the data is normally distributed, so a t-test will be appropriate.\n",
    "- **equal_variance** = `True`: You assume the two groups have equal variance, so you’ll use a pooled t-test.\n",
    "- **alpha** = `0.05`: You’re using a 5% significance level for your hypothesis test.\n",
    "\n",
    "</details>\n"
   ]
  },
  {
   "cell_type": "code",
   "execution_count": 1,
   "metadata": {},
   "outputs": [
    {
     "data": {
      "text/plain": [
       "{'test_type': 'two_sample',\n",
       " 'tail_type': 'two_tailed',\n",
       " 'parametric': True,\n",
       " 'equal_variance': True,\n",
       " 'alpha': 0.05}"
      ]
     },
     "execution_count": 1,
     "metadata": {},
     "output_type": "execute_result"
    }
   ],
   "source": [
    "# -------------------------\n",
    "# CONFIGURATION SETUP\n",
    "# -------------------------\n",
    "config = {\n",
    "    'test_type': 'two_sample',         # one_sample, two_sample, paired, proportions\n",
    "    'tail_type': 'two_tailed',         # one_tailed or two_tailed\n",
    "    'parametric': True,                # True = t-test/z-test, False = non-parametric\n",
    "    'equal_variance': True,            # Used in two-sample t-test (pooled vs Welch)\n",
    "    'alpha': 0.05                      # Significance level\n",
    "}\n",
    "config"
   ]
  },
  {
   "cell_type": "markdown",
   "metadata": {},
   "source": [
    "[Back to the top](#table-of-contents)\n",
    "___\n"
   ]
  },
  {
   "cell_type": "markdown",
   "metadata": {},
   "source": [
    "<a id=\"data-setup\"></a>\n",
    "# 🗂️ Data Setup"
   ]
  },
  {
   "cell_type": "code",
   "execution_count": 3,
   "metadata": {},
   "outputs": [
    {
     "data": {
      "text/html": [
       "<div>\n",
       "<style scoped>\n",
       "    .dataframe tbody tr th:only-of-type {\n",
       "        vertical-align: middle;\n",
       "    }\n",
       "\n",
       "    .dataframe tbody tr th {\n",
       "        vertical-align: top;\n",
       "    }\n",
       "\n",
       "    .dataframe thead th {\n",
       "        text-align: right;\n",
       "    }\n",
       "</style>\n",
       "<table border=\"1\" class=\"dataframe\">\n",
       "  <thead>\n",
       "    <tr style=\"text-align: right;\">\n",
       "      <th></th>\n",
       "      <th>group</th>\n",
       "      <th>value</th>\n",
       "    </tr>\n",
       "  </thead>\n",
       "  <tbody>\n",
       "    <tr>\n",
       "      <th>0</th>\n",
       "      <td>A</td>\n",
       "      <td>2.336800</td>\n",
       "    </tr>\n",
       "    <tr>\n",
       "      <th>1</th>\n",
       "      <td>A</td>\n",
       "      <td>4.754953</td>\n",
       "    </tr>\n",
       "    <tr>\n",
       "      <th>2</th>\n",
       "      <td>A</td>\n",
       "      <td>6.816619</td>\n",
       "    </tr>\n",
       "    <tr>\n",
       "      <th>3</th>\n",
       "      <td>A</td>\n",
       "      <td>6.793577</td>\n",
       "    </tr>\n",
       "    <tr>\n",
       "      <th>4</th>\n",
       "      <td>A</td>\n",
       "      <td>5.709621</td>\n",
       "    </tr>\n",
       "    <tr>\n",
       "      <th>...</th>\n",
       "      <td>...</td>\n",
       "      <td>...</td>\n",
       "    </tr>\n",
       "    <tr>\n",
       "      <th>195</th>\n",
       "      <td>B</td>\n",
       "      <td>6.870548</td>\n",
       "    </tr>\n",
       "    <tr>\n",
       "      <th>196</th>\n",
       "      <td>B</td>\n",
       "      <td>5.261823</td>\n",
       "    </tr>\n",
       "    <tr>\n",
       "      <th>197</th>\n",
       "      <td>B</td>\n",
       "      <td>6.502157</td>\n",
       "    </tr>\n",
       "    <tr>\n",
       "      <th>198</th>\n",
       "      <td>B</td>\n",
       "      <td>3.808016</td>\n",
       "    </tr>\n",
       "    <tr>\n",
       "      <th>199</th>\n",
       "      <td>B</td>\n",
       "      <td>8.195371</td>\n",
       "    </tr>\n",
       "  </tbody>\n",
       "</table>\n",
       "<p>200 rows × 2 columns</p>\n",
       "</div>"
      ],
      "text/plain": [
       "    group     value\n",
       "0       A  2.336800\n",
       "1       A  4.754953\n",
       "2       A  6.816619\n",
       "3       A  6.793577\n",
       "4       A  5.709621\n",
       "..    ...       ...\n",
       "195     B  6.870548\n",
       "196     B  5.261823\n",
       "197     B  6.502157\n",
       "198     B  3.808016\n",
       "199     B  8.195371\n",
       "\n",
       "[200 rows x 2 columns]"
      ]
     },
     "execution_count": 3,
     "metadata": {},
     "output_type": "execute_result"
    }
   ],
   "source": [
    "import numpy as np\n",
    "import pandas as pd\n",
    "\n",
    "# Simulated Example: Session duration (in minutes)\n",
    "group_A = np.random.normal(loc=5.2, scale=1.1, size=100)\n",
    "group_B = np.random.normal(loc=5.7, scale=1.3, size=100)\n",
    "data = pd.DataFrame({\n",
    "    'group': ['A'] * len(group_A) + ['B'] * len(group_B),\n",
    "    'value': np.concatenate([group_A, group_B])\n",
    "})\n",
    "data"
   ]
  },
  {
   "cell_type": "markdown",
   "metadata": {},
   "source": [
    "[Back to the top](#table-of-contents)\n",
    "___\n"
   ]
  },
  {
   "cell_type": "markdown",
   "metadata": {},
   "source": [
    "<a id=\"assumptions-check\"></a>\n",
    "\n",
    "# 📈 Assumptions Check"
   ]
  },
  {
   "cell_type": "code",
   "execution_count": 4,
   "metadata": {},
   "outputs": [
    {
     "name": "stdout",
     "output_type": "stream",
     "text": [
      "\n",
      "🔍 Assumption Checks\n",
      "Normality (Shapiro-Wilk): A p=0.230, B p=0.644\n",
      "Equal Variance (Levene's): p=0.876\n",
      "\n"
     ]
    },
    {
     "data": {
      "image/png": "[encoded data removed]",
      "text/plain": [
       "<Figure size 1200x400 with 2 Axes>"
      ]
     },
     "metadata": {},
     "output_type": "display_data"
    }
   ],
   "source": [
    "from scipy.stats import shapiro, levene\n",
    "import matplotlib.pyplot as plt\n",
    "import seaborn as sns\n",
    "\n",
    "print(\"\\n🔍 Assumption Checks\")\n",
    "\n",
    "# Normality check\n",
    "_, p_A = shapiro(group_A)\n",
    "_, p_B = shapiro(group_B)\n",
    "print(f\"Normality (Shapiro-Wilk): A p={p_A:.3f}, B p={p_B:.3f}\")\n",
    "\n",
    "# Variance check\n",
    "_, p_var = levene(group_A, group_B)\n",
    "print(f\"Equal Variance (Levene's): p={p_var:.3f}\\n\")\n",
    "\n",
    "# Visuals\n",
    "fig, axs = plt.subplots(1, 2, figsize=(12, 4))\n",
    "sns.histplot(data, x='value', hue='group', kde=True, ax=axs[0])\n",
    "axs[0].set_title('Histogram')\n",
    "sns.boxplot(data=data, x='group', y='value', ax=axs[1])\n",
    "axs[1].set_title('Boxplot')\n",
    "plt.tight_layout()\n",
    "plt.show()\n"
   ]
  },
  {
   "cell_type": "markdown",
   "metadata": {},
   "source": [
    "[Back to the top](#table-of-contents)\n",
    "___\n"
   ]
  },
  {
   "cell_type": "markdown",
   "metadata": {},
   "source": [
    "<a id=\"hypothesis-testing\"></a>\n",
    "\n",
    "<h1>🧪 Hypothesis Testing</h1>\n",
    "\n"
   ]
  },
  {
   "cell_type": "code",
   "execution_count": 5,
   "metadata": {},
   "outputs": [],
   "source": [
    "def run_hypothesis_test(cfg, data):\n",
    "    from scipy.stats import ttest_ind, ttest_rel, mannwhitneyu, wilcoxon\n",
    "    from statsmodels.stats.proportion import proportions_ztest\n",
    "\n",
    "    A = data[data['group'] == 'A']['value']\n",
    "    B = data[data['group'] == 'B']['value']\n",
    "\n",
    "    tail = cfg['tail_type']\n",
    "    alpha = cfg['alpha']\n",
    "\n",
    "    print(\"\\n🧪 Running Hypothesis Test\")\n",
    "\n",
    "    if cfg['test_type'] == 'two_sample':\n",
    "        if cfg['parametric']:\n",
    "            stat, p = ttest_ind(A, B, equal_var=cfg['equal_variance'])\n",
    "        else:\n",
    "            stat, p = mannwhitneyu(A, B)\n",
    "    elif cfg['test_type'] == 'paired':\n",
    "        if cfg['parametric']:\n",
    "            stat, p = ttest_rel(A, B)\n",
    "        else:\n",
    "            stat, p = wilcoxon(A, B)\n",
    "    elif cfg['test_type'] == 'proportions':\n",
    "        # Binary conversion case\n",
    "        count = np.array([A.sum(), B.sum()])\n",
    "        nobs = np.array([len(A), len(B)])\n",
    "        stat, p = proportions_ztest(count, nobs)\n",
    "    else:\n",
    "        print(\"Unsupported test_type\")\n",
    "        return\n",
    "\n",
    "    # Adjust for one-tailed\n",
    "    if tail == 'one_tailed':\n",
    "        p = p / 2 if stat > 0 else 1 - (p / 2)\n",
    "\n",
    "    print(f\"Test Statistic: {stat:.3f}  |  p-value: {p:.4f}\")\n",
    "\n",
    "    if p < alpha:\n",
    "        print(f\"✅ Reject Null Hypothesis (p < {alpha})\")\n",
    "    else:\n",
    "        print(f\"❌ Fail to Reject Null Hypothesis (p >= {alpha})\")\n"
   ]
  },
  {
   "cell_type": "code",
   "execution_count": 6,
   "metadata": {},
   "outputs": [
    {
     "name": "stdout",
     "output_type": "stream",
     "text": [
      "\n",
      "🧪 Running Hypothesis Test\n",
      "Test Statistic: -4.092  |  p-value: 0.0001\n",
      "✅ Reject Null Hypothesis (p < 0.05)\n"
     ]
    }
   ],
   "source": [
    "run_hypothesis_test(config, data)\n"
   ]
  },
  {
   "cell_type": "markdown",
   "metadata": {},
   "source": [
    "[Back to the top](#table-of-contents)\n",
    "___\n"
   ]
  }
 ],
 "metadata": {
  "kernelspec": {
   "display_name": "base",
   "language": "python",
   "name": "python3"
  },
  "language_info": {
   "codemirror_mode": {
    "name": "ipython",
    "version": 3
   },
   "file_extension": ".py",
   "mimetype": "text/x-python",
   "name": "python",
   "nbconvert_exporter": "python",
   "pygments_lexer": "ipython3",
   "version": "3.11.3"
  }
 },
 "nbformat": 4,
 "nbformat_minor": 2
}
