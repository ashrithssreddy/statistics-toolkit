{
 "cells": [
  {
   "cell_type": "markdown",
   "metadata": {},
   "source": [
    "# Contents\n",
    "- [Z test](#Z-test)\n",
    "- [T test](#T-test)\n",
    "- [Chi Squared Test](#Chi-Squared-Test)\n",
    "- [ANOVA](#ANOVA)\n",
    "- [99 Scratch Notes](#99-Scratch-Notes)\n",
    "\n",
    "___"
   ]
  },
  {
   "cell_type": "markdown",
   "metadata": {},
   "source": [
    "# Z test"
   ]
  },
  {
   "cell_type": "markdown",
   "metadata": {},
   "source": [
    "A Z-Test is a statistical method used to determine whether there is a significant difference between a sample mean and a known population mean. It assumes that the population data follows a normal distribution and is typically used when the population mean and standard deviation are known. Use when \n",
    "- The `population mean and population standard deviation` are known.\n",
    "- The `sample size` is reasonably large (typically $n > 30$).\n",
    "\n",
    "#### Key Concepts:\n",
    "1. Null Hypothesis ($H_0$): The sample mean is equal to the population mean.\n",
    "2. Alternative Hypothesis ($H_a$): The sample mean is different (or greater/less than) the population mean.\n",
    "3. Z-Statistic: Measures how many standard deviations the sample mean is away from the population mean.\n",
    "   $$\n",
    "   Z = \\frac{\\bar{X} - \\mu}{\\sigma / \\sqrt{n}}\n",
    "   $$\n",
    "   **Where:** $\\bar{X}$: Sample mean, $\\mu$: Population mean, $\\sigma$: Population standard deviation, $n$: Sample size  \n",
    "4. P-Value: Probability of observing the test results under the assumption of null hypothesis. A smaller p-value (e.g., $p < 0.05$) indicates stronger evidence against $H_0$.\n",
    "\n",
    "#### Example:\n",
    "Suppose the average height in a region (population mean) is 5.5 feet, with a standard deviation of 0.5 feet. You take a sample of 50 students from a school and find their average height to be 5.6 feet. A Z-Test can help determine whether this observed difference is statistically significant or just due to random variation.\n"
   ]
  },
  {
   "cell_type": "code",
   "execution_count": 1,
   "metadata": {},
   "outputs": [],
   "source": [
    "# Import necessary libraries\n",
    "import numpy as np\n",
    "from scipy.stats import norm"
   ]
  },
  {
   "cell_type": "code",
   "execution_count": 2,
   "metadata": {},
   "outputs": [],
   "source": [
    "# Function to perform a one-sample Z-test\n",
    "def z_test_one_sample(sample, population_mean, population_std, alpha=0.05):\n",
    "    \"\"\"\n",
    "    Perform a one-sample Z-test.\n",
    "    \n",
    "    Parameters:\n",
    "    - sample: array-like, the sample data\n",
    "    - population_mean: float, the known population mean\n",
    "    - population_std: float, the known population standard deviation\n",
    "    - alpha: float, significance level (default 0.05)\n",
    "    \n",
    "    Returns:\n",
    "    - results: Dictionary containing null hypothesis, Z-statistic, p-value, and decision explanation.\n",
    "    \"\"\"\n",
    "    # Define the null hypothesis\n",
    "    null_hypothesis = f\"The sample mean is equal to the population mean (μ = {population_mean}).\"\n",
    "    \n",
    "    # Calculate sample mean and size\n",
    "    sample_mean = np.mean(sample)\n",
    "    sample_size = len(sample)\n",
    "    \n",
    "    # Calculate Z-statistic\n",
    "    z_stat = (sample_mean - population_mean) / (population_std / np.sqrt(sample_size))\n",
    "    \n",
    "    # Calculate p-value (two-tailed)\n",
    "    p_value = 2 * (1 - norm.cdf(abs(z_stat)))\n",
    "    \n",
    "    # Decision based on alpha\n",
    "    if p_value < alpha:\n",
    "        decision = (\"Reject Null Hypothesis\",\n",
    "                    f\"With a p-value of {p_value:.3f}, which is less than the significance level (α = {alpha}), \"\n",
    "                    f\"we reject the null hypothesis. This suggests that the sample mean is significantly different from the population mean.\")\n",
    "    else:\n",
    "        decision = (\"Fail to Reject Null Hypothesis\",\n",
    "                    f\"With a p-value of {p_value:.3f}, which is greater than or equal to the significance level (α = {alpha}), \"\n",
    "                    f\"we fail to reject the null hypothesis. This suggests there is insufficient evidence to conclude that the sample mean differs from the population mean.\")\n",
    "    \n",
    "    return {\n",
    "        \"null_hypothesis\": null_hypothesis,\n",
    "        \"z_statistic\": z_stat,\n",
    "        \"p_value\": p_value,\n",
    "        \"decision\": decision[0],\n",
    "        \"explanation\": decision[1]\n",
    "    }"
   ]
  },
  {
   "cell_type": "code",
   "execution_count": 3,
   "metadata": {},
   "outputs": [],
   "source": [
    "# Example Usage\n",
    "# Simulated data: A sample of test scores\n",
    "sample_data = [72, 75, 78, 65, 68, 74, 79, 80]\n",
    "known_population_mean = 70  # Hypothetical population mean\n",
    "known_population_std = 10   # Hypothetical population standard deviation\n",
    "significance_level = 0.05"
   ]
  },
  {
   "cell_type": "code",
   "execution_count": 4,
   "metadata": {},
   "outputs": [],
   "source": [
    "# Perform the Z-test\n",
    "results = z_test_one_sample(\n",
    "    sample=sample_data,\n",
    "    population_mean=known_population_mean,\n",
    "    population_std=known_population_std,\n",
    "    alpha=significance_level\n",
    ")"
   ]
  },
  {
   "cell_type": "code",
   "execution_count": 5,
   "metadata": {},
   "outputs": [
    {
     "name": "stdout",
     "output_type": "stream",
     "text": [
      "Null Hypothesis: The sample mean is equal to the population mean (μ = 70).\n",
      "Z-Statistic: 1.096\n",
      "P-Value: 0.273\n",
      "Decision: Fail to Reject Null Hypothesis\n",
      "Explanation: With a p-value of 0.273, which is greater than or equal to the significance level (α = 0.05), we fail to reject the null hypothesis. This suggests there is insufficient evidence to conclude that the sample mean differs from the population mean.\n"
     ]
    }
   ],
   "source": [
    "# Output the results\n",
    "print(\"Null Hypothesis:\", results[\"null_hypothesis\"])\n",
    "print(f\"Z-Statistic: {results['z_statistic']:.3f}\")\n",
    "print(f\"P-Value: {results['p_value']:.3f}\")\n",
    "print(f\"Decision: {results['decision']}\")\n",
    "print(\"Explanation:\", results[\"explanation\"])"
   ]
  },
  {
   "cell_type": "markdown",
   "metadata": {},
   "source": [
    "___\n",
    "[Back to the top](#Contents)"
   ]
  },
  {
   "cell_type": "markdown",
   "metadata": {},
   "source": [
    "# T test"
   ]
  },
  {
   "cell_type": "markdown",
   "metadata": {},
   "source": [
    "A T-Test is a statistical method used to determine whether there is a significant difference between a sample mean and a population mean (one-sample T-Test), or between the means of two groups (two-sample T-Test). It is used when the population standard deviation is unknown and the sample size is small. Use when:\n",
    "- The `population standard deviation` is unknown.\n",
    "- The `sample size` is small (typically $n < 30$).\n",
    "- The `data in the sample(s)` is approximately normally distributed.\n",
    "\n",
    "#### Key Concepts:\n",
    "1. Null Hypothesis ($H_0$): \n",
    "   - For a one-sample T-Test: The sample mean is equal to the population mean.\n",
    "   - For a two-sample T-Test: The two group means are equal.\n",
    "2. Alternative Hypothesis ($H_a$): \n",
    "   - For a one-sample T-Test: The sample mean is different (or greater/less than) the population mean.\n",
    "   - For a two-sample T-Test: The two group means are different.\n",
    "3. T-Statistic: Measures how many standard errors the sample mean (or the difference between two means) is away from the population mean (or hypothesized difference).\n",
    "\n",
    "   $$\n",
    "   T = \\frac{\\bar{X} - \\mu}{S / \\sqrt{n}}\n",
    "   $$\n",
    "\n",
    "   **Where:** \n",
    "   - $\\bar{X}$: Sample mean  \n",
    "   - $\\mu$: Population mean  \n",
    "   - $S$: Sample standard deviation  \n",
    "   - $n$: Sample size  \n",
    "\n",
    "   For a two-sample T-Test:\n",
    "   $$\n",
    "   T = \\frac{\\bar{X_1} - \\bar{X_2}}{\\sqrt{\\frac{S_1^2}{n_1} + \\frac{S_2^2}{n_2}}}\n",
    "   $$\n",
    "\n",
    "   **Where:** \n",
    "   - $\\bar{X_1}, \\bar{X_2}$: Sample means for the two groups  \n",
    "   - $S_1, S_2$: Sample standard deviations for the two groups  \n",
    "   - $n_1, n_2$: Sample sizes for the two groups  \n",
    "\n",
    "4. P-Value: Probability of observing the test results under the assumption of null hypothesis. A smaller p-value (e.g., $p < 0.05$) indicates stronger evidence against $H_0$.\n",
    "\n",
    "#### Types of T-Tests:\n",
    "1. **One-Sample T-Test**: Compares the sample mean to a known population mean.\n",
    "2. **Independent Two-Sample T-Test**: Compares the means of two independent groups.\n",
    "3. **Paired T-Test**: Compares means from the same group at two different times (e.g., before and after a treatment).\n",
    "\n",
    "#### Example:\n",
    "Suppose the average weight of a population is 70 kg. You take a sample of 15 individuals and find their average weight is 68 kg, with a sample standard deviation of 5 kg. A one-sample T-Test can help determine whether this observed difference is statistically significant or due to random variation.\n"
   ]
  },
  {
   "cell_type": "code",
   "execution_count": 6,
   "metadata": {},
   "outputs": [],
   "source": [
    "# Import necessary libraries\n",
    "import numpy as np\n",
    "from scipy.stats import t"
   ]
  },
  {
   "cell_type": "code",
   "execution_count": 7,
   "metadata": {},
   "outputs": [],
   "source": [
    "# Function to perform a t-test\n",
    "def t_test(sample1, sample2=None, population_mean=None, paired=False, alpha=0.05):\n",
    "    \"\"\"\n",
    "    Perform a t-test (one-sample, independent two-sample, or paired sample).\n",
    "    \n",
    "    Parameters:\n",
    "    - sample1: array-like, the first sample data\n",
    "    - sample2: array-like or None, the second sample data (default is None)\n",
    "    - population_mean: float or None, the known population mean for a one-sample t-test (default is None)\n",
    "    - paired: bool, whether the test is paired (default is False)\n",
    "    - alpha: float, significance level (default 0.05)\n",
    "    \n",
    "    Returns:\n",
    "    - results: Dictionary containing null hypothesis, t-statistic, p-value, and decision explanation.\n",
    "    \"\"\"\n",
    "    # Define variables\n",
    "    sample1 = np.array(sample1)\n",
    "    null_hypothesis = None\n",
    "    t_stat = None\n",
    "    p_value = None\n",
    "\n",
    "    if population_mean is not None:\n",
    "        # One-sample t-test\n",
    "        null_hypothesis = f\"The sample mean is equal to the population mean (μ = {population_mean}).\"\n",
    "        sample_mean = np.mean(sample1)\n",
    "        sample_std = np.std(sample1, ddof=1)\n",
    "        sample_size = len(sample1)\n",
    "        t_stat = (sample_mean - population_mean) / (sample_std / np.sqrt(sample_size))\n",
    "        df = sample_size - 1\n",
    "        p_value = 2 * (1 - t.cdf(abs(t_stat), df))\n",
    "    \n",
    "    elif sample2 is not None:\n",
    "        sample2 = np.array(sample2)\n",
    "        if paired:\n",
    "            # Paired sample t-test\n",
    "            null_hypothesis = \"The mean difference between paired samples is zero.\"\n",
    "            differences = sample1 - sample2\n",
    "            mean_diff = np.mean(differences)\n",
    "            std_diff = np.std(differences, ddof=1)\n",
    "            sample_size = len(differences)\n",
    "            t_stat = mean_diff / (std_diff / np.sqrt(sample_size))\n",
    "            df = sample_size - 1\n",
    "            p_value = 2 * (1 - t.cdf(abs(t_stat), df))\n",
    "        else:\n",
    "            # Independent two-sample t-test\n",
    "            null_hypothesis = \"The means of the two independent samples are equal.\"\n",
    "            mean1, mean2 = np.mean(sample1), np.mean(sample2)\n",
    "            std1, std2 = np.std(sample1, ddof=1), np.std(sample2, ddof=1)\n",
    "            n1, n2 = len(sample1), len(sample2)\n",
    "            pooled_std = np.sqrt(((std1**2) / n1) + ((std2**2) / n2))\n",
    "            t_stat = (mean1 - mean2) / pooled_std\n",
    "            df = min(n1 - 1, n2 - 1)  # Approximation for degrees of freedom\n",
    "            p_value = 2 * (1 - t.cdf(abs(t_stat), df))\n",
    "    \n",
    "    else:\n",
    "        raise ValueError(\"Provide either a population mean for one-sample t-test or a second sample for two-sample t-test.\")\n",
    "    \n",
    "    # Decision based on alpha\n",
    "    if p_value < alpha:\n",
    "        decision = (\"Reject Null Hypothesis\",\n",
    "                    f\"With a p-value of {p_value:.3f}, which is less than the significance level (α = {alpha}), \"\n",
    "                    \"we reject the null hypothesis. This suggests significant evidence against the null hypothesis.\")\n",
    "    else:\n",
    "        decision = (\"Fail to Reject Null Hypothesis\",\n",
    "                    f\"With a p-value of {p_value:.3f}, which is greater than or equal to the significance level (α = {alpha}), \"\n",
    "                    \"we fail to reject the null hypothesis. This suggests insufficient evidence against the null hypothesis.\")\n",
    "    \n",
    "    return {\n",
    "        \"null_hypothesis\": null_hypothesis,\n",
    "        \"t_statistic\": t_stat,\n",
    "        \"p_value\": p_value,\n",
    "        \"decision\": decision[0],\n",
    "        \"explanation\": decision[1]\n",
    "    }"
   ]
  },
  {
   "cell_type": "code",
   "execution_count": 8,
   "metadata": {},
   "outputs": [
    {
     "name": "stdout",
     "output_type": "stream",
     "text": [
      "One-Sample T-Test\n",
      "Null Hypothesis: The sample mean is equal to the population mean (μ = 70).\n",
      "T-Statistic: 2.056\n",
      "P-Value: 0.079\n",
      "Decision: Fail to Reject Null Hypothesis\n",
      "Explanation: With a p-value of 0.079, which is greater than or equal to the significance level (α = 0.05), we fail to reject the null hypothesis. This suggests insufficient evidence against the null hypothesis.\n",
      "\n"
     ]
    }
   ],
   "source": [
    "# Example Usage\n",
    "# One-sample t-test\n",
    "sample_data = [72, 75, 78, 65, 68, 74, 79, 80]\n",
    "population_mean = 70\n",
    "results_one_sample = t_test(sample1=sample_data, population_mean=population_mean)\n",
    "print(\"One-Sample T-Test\")\n",
    "print(\"Null Hypothesis:\", results_one_sample[\"null_hypothesis\"])\n",
    "print(f\"T-Statistic: {results_one_sample['t_statistic']:.3f}\")\n",
    "print(f\"P-Value: {results_one_sample['p_value']:.3f}\")\n",
    "print(f\"Decision: {results_one_sample['decision']}\")\n",
    "print(\"Explanation:\", results_one_sample[\"explanation\"])\n",
    "print()\n",
    "\n"
   ]
  },
  {
   "cell_type": "code",
   "execution_count": 9,
   "metadata": {},
   "outputs": [
    {
     "name": "stdout",
     "output_type": "stream",
     "text": [
      "Two-Sample T-Test\n",
      "Null Hypothesis: The means of the two independent samples are equal.\n",
      "T-Statistic: 0.778\n",
      "P-Value: 0.462\n",
      "Decision: Fail to Reject Null Hypothesis\n",
      "Explanation: With a p-value of 0.462, which is greater than or equal to the significance level (α = 0.05), we fail to reject the null hypothesis. This suggests insufficient evidence against the null hypothesis.\n",
      "\n"
     ]
    }
   ],
   "source": [
    "# Independent two-sample t-test\n",
    "sample1 = [72, 75, 78, 65, 68, 74, 79, 80]\n",
    "sample2 = [70, 68, 74, 64, 69, 75, 76, 79]\n",
    "results_two_sample = t_test(sample1=sample1, sample2=sample2)\n",
    "print(\"Two-Sample T-Test\")\n",
    "print(\"Null Hypothesis:\", results_two_sample[\"null_hypothesis\"])\n",
    "print(f\"T-Statistic: {results_two_sample['t_statistic']:.3f}\")\n",
    "print(f\"P-Value: {results_two_sample['p_value']:.3f}\")\n",
    "print(f\"Decision: {results_two_sample['decision']}\")\n",
    "print(\"Explanation:\", results_two_sample[\"explanation\"])\n",
    "print()"
   ]
  },
  {
   "cell_type": "code",
   "execution_count": 10,
   "metadata": {},
   "outputs": [
    {
     "name": "stdout",
     "output_type": "stream",
     "text": [
      "Paired T-Test\n",
      "Null Hypothesis: The mean difference between paired samples is zero.\n",
      "T-Statistic: 7.514\n",
      "P-Value: 0.000\n",
      "Decision: Reject Null Hypothesis\n",
      "Explanation: With a p-value of 0.000, which is less than the significance level (α = 0.05), we reject the null hypothesis. This suggests significant evidence against the null hypothesis.\n"
     ]
    }
   ],
   "source": [
    "# Paired t-test\n",
    "sample1_paired = [72, 75, 78, 65, 68, 74, 79, 80]\n",
    "sample2_paired = [70, 74, 77, 63, 67, 72, 78, 79]\n",
    "results_paired = t_test(sample1=sample1_paired, sample2=sample2_paired, paired=True)\n",
    "print(\"Paired T-Test\")\n",
    "print(\"Null Hypothesis:\", results_paired[\"null_hypothesis\"])\n",
    "print(f\"T-Statistic: {results_paired['t_statistic']:.3f}\")\n",
    "print(f\"P-Value: {results_paired['p_value']:.3f}\")\n",
    "print(f\"Decision: {results_paired['decision']}\")\n",
    "print(\"Explanation:\", results_paired[\"explanation\"])\n"
   ]
  },
  {
   "cell_type": "markdown",
   "metadata": {},
   "source": [
    "___\n",
    "[Back to the top](#Contents)\n"
   ]
  },
  {
   "cell_type": "markdown",
   "metadata": {},
   "source": [
    "# Wilcoxon Signed Rank Test\n",
    "A non-parametric alternative to the paired T-Test, used for comparing two related samples when data is not normally distributed."
   ]
  },
  {
   "cell_type": "markdown",
   "metadata": {},
   "source": [
    "___\n",
    "[Back to the top](#Contents)"
   ]
  },
  {
   "cell_type": "markdown",
   "metadata": {},
   "source": [
    "# Mann Whitney U Test\n",
    "A non-parametric test for comparing two groups when data is not normally distributed (an alternative to the T-Test)."
   ]
  },
  {
   "cell_type": "markdown",
   "metadata": {},
   "source": [
    "___\n",
    "[Back to the top](#Contents)"
   ]
  },
  {
   "cell_type": "markdown",
   "metadata": {},
   "source": [
    "# Chi Squared Test"
   ]
  },
  {
   "cell_type": "markdown",
   "metadata": {},
   "source": [
    "A Chi-Squared Test is a statistical method used to test relationships between categorical variables (Test of Independence) or to compare observed and expected frequencies (Goodness of Fit). It is a non-parametric test, meaning it does not assume the data follows a normal distribution. Use when:\n",
    "- You are working with categorical data.\n",
    "- Observed and expected frequencies are available (for Goodness of Fit).\n",
    "- You want to test for independence between two categorical variables (for Test of Independence).\n",
    "\n",
    "#### Key Concepts:\n",
    "1. Null Hypothesis ($H_0$): \n",
    "   - For Goodness of Fit: The observed frequencies match the expected frequencies.\n",
    "   - For Test of Independence: The two categorical variables are independent.\n",
    "2. Alternative Hypothesis ($H_a$): \n",
    "   - For Goodness of Fit: The observed frequencies do not match the expected frequencies.\n",
    "   - For Test of Independence: The two categorical variables are not independent.\n",
    "3. Chi-Square Statistic: Measures the discrepancy between observed and expected frequencies.\n",
    "\n",
    "   $$\n",
    "   \\chi^2 = \\sum \\frac{(O_i - E_i)^2}{E_i}\n",
    "   $$\n",
    "\n",
    "   **Where:** \n",
    "   - $O_i$: Observed frequency for category $i$  \n",
    "   - $E_i$: Expected frequency for category $i$\n",
    "\n",
    "4. P-Value: Probability of observing the test results under the assumption of the null hypothesis. A smaller p-value (e.g., $p < 0.05$) indicates stronger evidence against $H_0$.\n",
    "\n",
    "#### Types of Chi-Squared Tests:\n",
    "1. **Goodness of Fit Test**: Compares observed frequencies to expected frequencies to determine if they match a specific distribution.\n",
    "2. **Test of Independence**: Assesses whether two categorical variables are independent based on a contingency table.\n",
    "\n",
    "#### Example (Goodness of Fit):\n",
    "A die is rolled 60 times, and the observed frequencies for each face are: [10, 12, 8, 14, 10, 6]. The expected frequency for a fair die is 10 for each face. A Chi-Squared Test can help determine whether the die is fair.\n",
    "\n",
    "#### Example (Test of Independence):\n",
    "A survey is conducted to see if gender (male, female) is associated with preference for a product (like, dislike). The data is summarized in a contingency table:\n",
    "\n",
    "|                | Like | Dislike |\n",
    "|----------------|------|---------|\n",
    "| Male           | 20   | 30      |\n",
    "| Female         | 25   | 25      |\n",
    "\n",
    "A Chi-Squared Test of Independence can help determine if gender and product preference are independent.\n"
   ]
  },
  {
   "cell_type": "code",
   "execution_count": 11,
   "metadata": {},
   "outputs": [],
   "source": [
    "# Import necessary libraries\n",
    "import numpy as np\n",
    "from scipy.stats import chi2_contingency, chisquare\n",
    "\n",
    "# Function for Chi-Square Test\n",
    "def chi_square_test(observed=None, expected=None, contingency_table=None, alpha=0.05):\n",
    "    \"\"\"\n",
    "    Perform a Chi-Square Test (Goodness of Fit or Test of Independence).\n",
    "    \n",
    "    Parameters:\n",
    "    - observed: array-like or None, observed frequencies for goodness of fit test (default is None).\n",
    "    - expected: array-like or None, expected frequencies for goodness of fit test (default is None).\n",
    "    - contingency_table: 2D array-like or None, contingency table for the test of independence (default is None).\n",
    "    - alpha: float, significance level (default 0.05).\n",
    "    \n",
    "    Returns:\n",
    "    - results: Dictionary containing test type, null hypothesis, chi-square statistic, p-value, and decision explanation.\n",
    "    \"\"\"\n",
    "    # Determine test type and perform the appropriate test\n",
    "    if observed is not None and expected is not None:\n",
    "        # Goodness of Fit Test\n",
    "        test_type = \"Goodness of Fit Test\"\n",
    "        null_hypothesis = \"The observed frequencies match the expected frequencies.\"\n",
    "        chi2_stat, p_value = chisquare(f_obs=observed, f_exp=expected)\n",
    "        df = len(observed) - 1\n",
    "    elif contingency_table is not None:\n",
    "        # Test of Independence\n",
    "        test_type = \"Test of Independence\"\n",
    "        null_hypothesis = \"The variables in the contingency table are independent.\"\n",
    "        chi2_stat, p_value, df, _ = chi2_contingency(contingency_table)\n",
    "    else:\n",
    "        raise ValueError(\"Provide either observed and expected frequencies for goodness of fit test, or a contingency table for test of independence.\")\n",
    "    \n",
    "    # Decision based on alpha\n",
    "    if p_value < alpha:\n",
    "        decision = (\"Reject Null Hypothesis\",\n",
    "                    f\"With a p-value of {p_value:.3f}, which is less than the significance level (α = {alpha}), \"\n",
    "                    \"we reject the null hypothesis. This suggests significant evidence against the null hypothesis.\")\n",
    "    else:\n",
    "        decision = (\"Fail to Reject Null Hypothesis\",\n",
    "                    f\"With a p-value of {p_value:.3f}, which is greater than or equal to the significance level (α = {alpha}), \"\n",
    "                    \"we fail to reject the null hypothesis. This suggests insufficient evidence against the null hypothesis.\")\n",
    "    \n",
    "    return {\n",
    "        \"test_type\": test_type,\n",
    "        \"null_hypothesis\": null_hypothesis,\n",
    "        \"chi2_statistic\": chi2_stat,\n",
    "        \"p_value\": p_value,\n",
    "        \"degrees_of_freedom\": df,\n",
    "        \"decision\": decision[0],\n",
    "        \"explanation\": decision[1]\n",
    "    }"
   ]
  },
  {
   "cell_type": "code",
   "execution_count": 12,
   "metadata": {},
   "outputs": [
    {
     "ename": "ValueError",
     "evalue": "For each axis slice, the sum of the observed frequencies must agree with the sum of the expected frequencies to a relative tolerance of 1e-08, but the percent differences are:\n0.02631578947368421",
     "output_type": "error",
     "traceback": [
      "\u001b[0;31m---------------------------------------------------------------------------\u001b[0m",
      "\u001b[0;31mValueError\u001b[0m                                Traceback (most recent call last)",
      "Cell \u001b[0;32mIn[12], line 5\u001b[0m\n\u001b[1;32m      3\u001b[0m observed \u001b[38;5;241m=\u001b[39m [\u001b[38;5;241m100\u001b[39m, \u001b[38;5;241m85\u001b[39m, \u001b[38;5;241m90\u001b[39m, \u001b[38;5;241m120\u001b[39m, \u001b[38;5;241m95\u001b[39m, \u001b[38;5;241m110\u001b[39m, \u001b[38;5;241m105\u001b[39m, \u001b[38;5;241m115\u001b[39m, \u001b[38;5;241m80\u001b[39m, \u001b[38;5;241m75\u001b[39m]\n\u001b[1;32m      4\u001b[0m expected \u001b[38;5;241m=\u001b[39m [\u001b[38;5;241m95\u001b[39m, \u001b[38;5;241m95\u001b[39m, \u001b[38;5;241m95\u001b[39m, \u001b[38;5;241m95\u001b[39m, \u001b[38;5;241m95\u001b[39m, \u001b[38;5;241m95\u001b[39m, \u001b[38;5;241m95\u001b[39m, \u001b[38;5;241m95\u001b[39m, \u001b[38;5;241m95\u001b[39m, \u001b[38;5;241m95\u001b[39m]\n\u001b[0;32m----> 5\u001b[0m results_goodness_of_fit \u001b[38;5;241m=\u001b[39m chi_square_test(observed\u001b[38;5;241m=\u001b[39mobserved, expected\u001b[38;5;241m=\u001b[39mexpected)\n\u001b[1;32m      7\u001b[0m \u001b[38;5;28mprint\u001b[39m(\u001b[38;5;124m\"\u001b[39m\u001b[38;5;124mGoodness of Fit Test\u001b[39m\u001b[38;5;124m\"\u001b[39m)\n\u001b[1;32m      8\u001b[0m \u001b[38;5;28mprint\u001b[39m(\u001b[38;5;124m\"\u001b[39m\u001b[38;5;124mTest Type:\u001b[39m\u001b[38;5;124m\"\u001b[39m, results_goodness_of_fit[\u001b[38;5;124m\"\u001b[39m\u001b[38;5;124mtest_type\u001b[39m\u001b[38;5;124m\"\u001b[39m])\n",
      "Cell \u001b[0;32mIn[11], line 24\u001b[0m, in \u001b[0;36mchi_square_test\u001b[0;34m(observed, expected, contingency_table, alpha)\u001b[0m\n\u001b[1;32m     22\u001b[0m     test_type \u001b[38;5;241m=\u001b[39m \u001b[38;5;124m\"\u001b[39m\u001b[38;5;124mGoodness of Fit Test\u001b[39m\u001b[38;5;124m\"\u001b[39m\n\u001b[1;32m     23\u001b[0m     null_hypothesis \u001b[38;5;241m=\u001b[39m \u001b[38;5;124m\"\u001b[39m\u001b[38;5;124mThe observed frequencies match the expected frequencies.\u001b[39m\u001b[38;5;124m\"\u001b[39m\n\u001b[0;32m---> 24\u001b[0m     chi2_stat, p_value \u001b[38;5;241m=\u001b[39m chisquare(f_obs\u001b[38;5;241m=\u001b[39mobserved, f_exp\u001b[38;5;241m=\u001b[39mexpected)\n\u001b[1;32m     25\u001b[0m     df \u001b[38;5;241m=\u001b[39m \u001b[38;5;28mlen\u001b[39m(observed) \u001b[38;5;241m-\u001b[39m \u001b[38;5;241m1\u001b[39m\n\u001b[1;32m     26\u001b[0m \u001b[38;5;28;01melif\u001b[39;00m contingency_table \u001b[38;5;129;01mis\u001b[39;00m \u001b[38;5;129;01mnot\u001b[39;00m \u001b[38;5;28;01mNone\u001b[39;00m:\n\u001b[1;32m     27\u001b[0m     \u001b[38;5;66;03m# Test of Independence\u001b[39;00m\n",
      "File \u001b[0;32m~/anaconda3/lib/python3.11/site-packages/scipy/stats/_stats_py.py:7553\u001b[0m, in \u001b[0;36mchisquare\u001b[0;34m(f_obs, f_exp, ddof, axis)\u001b[0m\n\u001b[1;32m   7428\u001b[0m \u001b[38;5;28;01mdef\u001b[39;00m \u001b[38;5;21mchisquare\u001b[39m(f_obs, f_exp\u001b[38;5;241m=\u001b[39m\u001b[38;5;28;01mNone\u001b[39;00m, ddof\u001b[38;5;241m=\u001b[39m\u001b[38;5;241m0\u001b[39m, axis\u001b[38;5;241m=\u001b[39m\u001b[38;5;241m0\u001b[39m):\n\u001b[1;32m   7429\u001b[0m \u001b[38;5;250m    \u001b[39m\u001b[38;5;124;03m\"\"\"Calculate a one-way chi-square test.\u001b[39;00m\n\u001b[1;32m   7430\u001b[0m \n\u001b[1;32m   7431\u001b[0m \u001b[38;5;124;03m    The chi-square test tests the null hypothesis that the categorical data\u001b[39;00m\n\u001b[0;32m   (...)\u001b[0m\n\u001b[1;32m   7551\u001b[0m \n\u001b[1;32m   7552\u001b[0m \u001b[38;5;124;03m    \"\"\"\u001b[39;00m\n\u001b[0;32m-> 7553\u001b[0m     \u001b[38;5;28;01mreturn\u001b[39;00m power_divergence(f_obs, f_exp\u001b[38;5;241m=\u001b[39mf_exp, ddof\u001b[38;5;241m=\u001b[39mddof, axis\u001b[38;5;241m=\u001b[39maxis,\n\u001b[1;32m   7554\u001b[0m                             lambda_\u001b[38;5;241m=\u001b[39m\u001b[38;5;124m\"\u001b[39m\u001b[38;5;124mpearson\u001b[39m\u001b[38;5;124m\"\u001b[39m)\n",
      "File \u001b[0;32m~/anaconda3/lib/python3.11/site-packages/scipy/stats/_stats_py.py:7394\u001b[0m, in \u001b[0;36mpower_divergence\u001b[0;34m(f_obs, f_exp, ddof, axis, lambda_)\u001b[0m\n\u001b[1;32m   7388\u001b[0m     \u001b[38;5;28;01mif\u001b[39;00m diff_gt_tol:\n\u001b[1;32m   7389\u001b[0m         msg \u001b[38;5;241m=\u001b[39m (\u001b[38;5;124mf\u001b[39m\u001b[38;5;124m\"\u001b[39m\u001b[38;5;124mFor each axis slice, the sum of the observed \u001b[39m\u001b[38;5;124m\"\u001b[39m\n\u001b[1;32m   7390\u001b[0m                \u001b[38;5;124mf\u001b[39m\u001b[38;5;124m\"\u001b[39m\u001b[38;5;124mfrequencies must agree with the sum of the \u001b[39m\u001b[38;5;124m\"\u001b[39m\n\u001b[1;32m   7391\u001b[0m                \u001b[38;5;124mf\u001b[39m\u001b[38;5;124m\"\u001b[39m\u001b[38;5;124mexpected frequencies to a relative tolerance \u001b[39m\u001b[38;5;124m\"\u001b[39m\n\u001b[1;32m   7392\u001b[0m                \u001b[38;5;124mf\u001b[39m\u001b[38;5;124m\"\u001b[39m\u001b[38;5;124mof \u001b[39m\u001b[38;5;132;01m{\u001b[39;00mrtol\u001b[38;5;132;01m}\u001b[39;00m\u001b[38;5;124m, but the percent differences are:\u001b[39m\u001b[38;5;130;01m\\n\u001b[39;00m\u001b[38;5;124m\"\u001b[39m\n\u001b[1;32m   7393\u001b[0m                \u001b[38;5;124mf\u001b[39m\u001b[38;5;124m\"\u001b[39m\u001b[38;5;132;01m{\u001b[39;00mrelative_diff\u001b[38;5;132;01m}\u001b[39;00m\u001b[38;5;124m\"\u001b[39m)\n\u001b[0;32m-> 7394\u001b[0m         \u001b[38;5;28;01mraise\u001b[39;00m \u001b[38;5;167;01mValueError\u001b[39;00m(msg)\n\u001b[1;32m   7396\u001b[0m \u001b[38;5;28;01melse\u001b[39;00m:\n\u001b[1;32m   7397\u001b[0m     \u001b[38;5;66;03m# Ignore 'invalid' errors so the edge case of a data set with length 0\u001b[39;00m\n\u001b[1;32m   7398\u001b[0m     \u001b[38;5;66;03m# is handled without spurious warnings.\u001b[39;00m\n\u001b[1;32m   7399\u001b[0m     \u001b[38;5;28;01mwith\u001b[39;00m np\u001b[38;5;241m.\u001b[39merrstate(invalid\u001b[38;5;241m=\u001b[39m\u001b[38;5;124m'\u001b[39m\u001b[38;5;124mignore\u001b[39m\u001b[38;5;124m'\u001b[39m):\n",
      "\u001b[0;31mValueError\u001b[0m: For each axis slice, the sum of the observed frequencies must agree with the sum of the expected frequencies to a relative tolerance of 1e-08, but the percent differences are:\n0.02631578947368421"
     ]
    }
   ],
   "source": [
    "# Example Usage\n",
    "# 1. Goodness of Fit Test\n",
    "observed = [100, 85, 90, 120, 95, 110, 105, 115, 80, 75]\n",
    "expected = [95, 95, 95, 95, 95, 95, 95, 95, 95, 95]\n",
    "results_goodness_of_fit = chi_square_test(observed=observed, expected=expected)\n",
    "\n",
    "print(\"Goodness of Fit Test\")\n",
    "print(\"Test Type:\", results_goodness_of_fit[\"test_type\"])\n",
    "print(\"Null Hypothesis:\", results_goodness_of_fit[\"null_hypothesis\"])\n",
    "print(f\"Chi-Square Statistic: {results_goodness_of_fit['chi2_statistic']:.3f}\")\n",
    "print(f\"P-Value: {results_goodness_of_fit['p_value']:.3f}\")\n",
    "print(f\"Degrees of Freedom: {results_goodness_of_fit['degrees_of_freedom']}\")\n",
    "print(f\"Decision: {results_goodness_of_fit['decision']}\")\n",
    "print(\"Explanation:\", results_goodness_of_fit[\"explanation\"])\n",
    "print()"
   ]
  },
  {
   "cell_type": "code",
   "execution_count": null,
   "metadata": {},
   "outputs": [],
   "source": [
    "# 2. Test of Independence\n",
    "contingency_table = [\n",
    "    [50, 60, 40, 70],\n",
    "    [30, 20, 50, 40],\n",
    "    [40, 30, 60, 50],\n",
    "    [70, 80, 50, 90],\n",
    "    [60, 70, 30, 80]\n",
    "]\n",
    "results_independence = chi_square_test(contingency_table=contingency_table)\n",
    "\n",
    "print(\"Test of Independence\")\n",
    "print(\"Test Type:\", results_independence[\"test_type\"])\n",
    "print(\"Null Hypothesis:\", results_independence[\"null_hypothesis\"])\n",
    "print(f\"Chi-Square Statistic: {results_independence['chi2_statistic']:.3f}\")\n",
    "print(f\"P-Value: {results_independence['p_value']:.3f}\")\n",
    "print(f\"Degrees of Freedom: {results_independence['degrees_of_freedom']}\")\n",
    "print(f\"Decision: {results_independence['decision']}\")\n",
    "print(\"Explanation:\", results_independence[\"explanation\"])\n"
   ]
  },
  {
   "cell_type": "markdown",
   "metadata": {},
   "source": [
    "___\n",
    "[Back to the top](#Contents)"
   ]
  },
  {
   "cell_type": "markdown",
   "metadata": {},
   "source": [
    "# ANOVA"
   ]
  },
  {
   "cell_type": "markdown",
   "metadata": {},
   "source": [
    "`Analysis of Variance` is Used to compare means across three or more groups:\n",
    "- One-Way ANOVA: Compare means of multiple groups (e.g., testing the performance of three ad creatives).\n",
    "- Two-Way ANOVA: Compare means while considering two factors (e.g., how gender and age group impact feature adoption)."
   ]
  },
  {
   "cell_type": "markdown",
   "metadata": {},
   "source": [
    "#### Post-Hoc Tests\n",
    "- When you reject the null hypothesis in ANOVA, you need to know post-hoc tests to determine which groups differ:\n",
    "- Tukey’s HSD (Honestly Significant Difference): Identifies specific group differences after ANOVA."
   ]
  },
  {
   "cell_type": "markdown",
   "metadata": {},
   "source": [
    "___\n",
    "[Back to the top](#Contents)"
   ]
  },
  {
   "cell_type": "markdown",
   "metadata": {},
   "source": [
    "# Kruskal Wallis Test\n",
    "A non-parametric alternative to One-Way ANOVA, used to compare medians across multiple groups when data is not normally distributed."
   ]
  },
  {
   "cell_type": "markdown",
   "metadata": {},
   "source": [
    "___\n",
    "[Back to the top](#Contents)"
   ]
  },
  {
   "cell_type": "markdown",
   "metadata": {},
   "source": [
    "# Shapiro Wilk Test\n",
    "- Used to test normality of the data, which is often a prerequisite for parametric tests like T-Test and ANOVA."
   ]
  },
  {
   "cell_type": "markdown",
   "metadata": {},
   "source": [
    "___\n",
    "[Back to the top](#Contents)"
   ]
  },
  {
   "cell_type": "markdown",
   "metadata": {},
   "source": [
    "# Kolmogorov Smirnov Test\n",
    "- Used to test normality of the data, which is often a prerequisite for parametric tests like T-Test and ANOVA."
   ]
  },
  {
   "cell_type": "markdown",
   "metadata": {},
   "source": [
    "___\n",
    "[Back to the top](#Contents)"
   ]
  }
 ],
 "metadata": {
  "kernelspec": {
   "display_name": "base",
   "language": "python",
   "name": "python3"
  },
  "language_info": {
   "codemirror_mode": {
    "name": "ipython",
    "version": 3
   },
   "file_extension": ".py",
   "mimetype": "text/x-python",
   "name": "python",
   "nbconvert_exporter": "python",
   "pygments_lexer": "ipython3",
   "version": "3.11.3"
  }
 },
 "nbformat": 4,
 "nbformat_minor": 2
}
