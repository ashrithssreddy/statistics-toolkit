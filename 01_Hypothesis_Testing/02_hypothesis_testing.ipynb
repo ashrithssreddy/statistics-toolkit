{
 "cells": [
  {
   "cell_type": "markdown",
   "metadata": {},
   "source": [
    "11. Power Analysis\n",
    "Important for experimentation:\n",
    "Calculate sample size requirements to ensure your test is adequately powered to detect meaningful differences.\n",
    "\n",
    "9. A/B Testing-Specific Metrics\n",
    "These are crucial for experimentation and A/B testing:\n",
    "- Lift Calculation: Determine the percentage change in a metric (e.g., conversion rate) between variants.\n",
    "- Confidence Intervals: Quantify the uncertainty around your test results.\n",
    "- Bayesian Testing: A probabilistic approach to A/B testing, often preferred over traditional frequentist methods.\n",
    "- Sequential Testing: Allows for continuous monitoring of results without inflating false positive rates.\n",
    "\n",
    "15. Uplift Modeling\n",
    "Used in experimentation to understand:\n",
    "Which users are most influenced by a treatment (e.g., which users respond best to a new feature or campaign)."
   ]
  },
  {
   "cell_type": "markdown",
   "metadata": {},
   "source": []
  }
 ],
 "metadata": {
  "language_info": {
   "name": "python"
  }
 },
 "nbformat": 4,
 "nbformat_minor": 2
}
