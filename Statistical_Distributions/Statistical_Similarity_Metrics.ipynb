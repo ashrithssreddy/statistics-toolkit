{
 "cells": [
  {
   "cell_type": "markdown",
   "metadata": {},
   "source": [
    "<a id=\"table-of-contents\"></a>  \n",
    "# 📖 Table of Contents  \n",
    "1. [🧭 Overview](#overview)  \n",
    "2. [📏 Distance Metrics for Numeric Data](#distance-metrics-for-numeric-data)  \n",
    "   - [📌 Euclidean Distance](#euclidean-distance)  \n",
    "   - [📌 Manhattan Distance](#manhattan-distance)  \n",
    "   - [📌 Minkowski Distance](#minkowski-distance)  \n",
    "   - [📌 Mahalanobis Distance](#mahalanobis-distance)  \n",
    "3. [🧮 Distance Metrics for Vectors and Angles](#distance-metrics-for-vectors-and-angles)  \n",
    "   - [📌 Cosine Similarity / Distance](#cosine-similarity--distance)  \n",
    "4. [🔤 Distance Metrics for Categorical or Binary Data](#distance-metrics-for-categorical-or-binary-data)  \n",
    "   - [📌 Hamming Distance](#hamming-distance)  \n",
    "   - [📌 Jaccard Similarity / Distance](#jaccard-similarity--distance)  \n",
    "5. [📊 Similarity Measures for Continuous Data](#similarity-measures-for-continuous-data)  \n",
    "   - [📌 Pearson Correlation](#pearson-correlation)  \n",
    "   - [📌 Spearman Rank Correlation](#spearman-rank-correlation)  \n",
    "___"
   ]
  },
  {
   "cell_type": "markdown",
   "metadata": {},
   "source": [
    "<a id=\"overview\"></a>  \n",
    "# 🧭 Overview  \n",
    "\n",
    "<details><summary><strong>📖 Click to Expand</strong></summary>  \n",
    "\n",
    "<p>This notebook covers a wide range of <strong>distance and similarity metrics</strong> that are foundational to machine learning and statistical analysis.</p>\n",
    "\n",
    "<ul>\n",
    "  <li>📏 <strong>Distance Metrics for Numeric Data</strong>  \n",
    "    Includes Euclidean, Manhattan, Minkowski, and Mahalanobis distances—core to algorithms like KNN, clustering, and anomaly detection.\n",
    "  </li>\n",
    "  <li>🧮 <strong>Vector-Based Measures</strong>  \n",
    "    Covers Cosine similarity, useful in high-dimensional spaces like NLP and recommender systems.\n",
    "  </li>\n",
    "  <li>🔤 <strong>Distance Metrics for Categorical/Binary Data</strong>  \n",
    "    Includes Hamming and Jaccard distances, often used in matching and similarity scoring for categorical features.\n",
    "  </li>\n",
    "  <li>📊 <strong>Similarity Measures for Continuous Data</strong>  \n",
    "    Covers Pearson and Spearman correlations, essential for understanding relationships and dependencies between numeric variables.\n",
    "  </li>\n",
    "</ul>\n",
    "\n",
    "<p>Each section contains:</p>\n",
    "<ul>\n",
    "  <li>Clear explanation + intuition</li>\n",
    "  <li>Mathematical formula</li>\n",
    "  <li>Clean, reproducible code implementation</li>\n",
    "</ul>\n",
    "\n",
    "</details>\n"
   ]
  },
  {
   "cell_type": "markdown",
   "metadata": {},
   "source": [
    "[Back to the top](#table-of-contents)\n",
    "___\n"
   ]
  },
  {
   "cell_type": "markdown",
   "metadata": {},
   "source": [
    "<a id=\"distance-metrics-for-numeric-data\"></a>  \n",
    "# 📏 Distance Metrics for Numeric Data  \n",
    "\n",
    "<details><summary><strong>📖 Click to Expand</strong></summary>  \n",
    "\n",
    "This section includes distance metrics that operate on **numerical features**. These metrics are used when data points are represented as vectors in a continuous feature space.\n",
    "\n",
    "They form the backbone of many machine learning algorithms, particularly those that rely on geometric closeness, such as:\n",
    "\n",
    "- 📌 **K-Nearest Neighbors (KNN)**\n",
    "- 📌 **K-Means Clustering**\n",
    "- 📌 **Anomaly Detection**\n",
    "- 📌 **Distance-based recommender systems**\n",
    "\n",
    "Each metric here differs in how it defines \"closeness\"—some are sensitive to scale or outliers, while others account for data correlations.\n",
    "\n",
    "</details>\n"
   ]
  },
  {
   "cell_type": "code",
   "execution_count": 1,
   "metadata": {},
   "outputs": [],
   "source": [
    "import numpy as np\n",
    "import pandas as pd\n",
    "import matplotlib.pyplot as plt\n",
    "\n",
    "from scipy.spatial.distance import (\n",
    "    minkowski,\n",
    "    mahalanobis,\n",
    "    cosine,\n",
    "    hamming,\n",
    "    jaccard,\n",
    "    euclidean,\n",
    ")\n",
    "\n",
    "from scipy.stats import pearsonr, spearmanr\n",
    "from numpy.linalg import norm\n"
   ]
  },
  {
   "cell_type": "markdown",
   "metadata": {},
   "source": [
    "#### 📌 Euclidean Distance  \n",
    "<a id=\"euclidean-distance\"></a>  \n",
    "\n",
    "<details><summary><strong>📖 Click to Expand</strong></summary>  \n",
    "\n",
    "🧠 **Intuition**  \n",
    "The straight-line (as-the-crow-flies) distance between two points in space. Think of it like using a ruler to measure distance on a map.\n",
    "\n",
    "🧮 **Formula**\n",
    "\n",
    "$$\n",
    "d(x, y) = \\sqrt{ \\sum_{i=1}^{n} (x_i - y_i)^2 }\n",
    "$$\n",
    "\n",
    "⚠️ **Sensitivity**  \n",
    "- Sensitive to scale differences between features  \n",
    "- Highly affected by outliers  \n",
    "- Requires normalization when features vary in range\n",
    "\n",
    "🧰 **Use Cases + Real-World Examples**  \n",
    "- Used in **KNN** and **K-Means** to compute closeness  \n",
    "- In **image processing**, for comparing pixel intensities or feature embeddings  \n",
    "- Can model physical distances in **geospatial analysis** when units are aligned\n",
    "\n",
    "📝 **Notes**  \n",
    "- Assumes all features contribute equally  \n",
    "- Simple, intuitive, but not always reliable without preprocessing  \n",
    "- Can mislead in high-dimensional spaces or with unscaled features\n",
    "\n",
    "</details>\n"
   ]
  },
  {
   "cell_type": "markdown",
   "metadata": {},
   "source": [
    "`Import Libraries`"
   ]
  },
  {
   "cell_type": "code",
   "execution_count": 2,
   "metadata": {},
   "outputs": [],
   "source": [
    "def compute_euclidean_distance(x, y, method=\"both\", visualize=False):\n",
    "    \"\"\"\n",
    "    Compute the Euclidean distance between two vectors using manual and/or library methods.\n",
    "\n",
    "    Parameters:\n",
    "    - x (array-like): First vector\n",
    "    - y (array-like): Second vector\n",
    "    - method (str): 'manual', 'library', or 'both' (default: 'both')\n",
    "    - visualize (bool): Whether to show a 2D visualization if applicable (default: False)\n",
    "\n",
    "    Returns:\n",
    "    - None (prints results directly)\n",
    "    \"\"\"\n",
    "    x = np.array(x)\n",
    "    y = np.array(y)\n",
    "\n",
    "    lib_dist = None\n",
    "\n",
    "    if method in [\"library\", \"both\"]:\n",
    "        lib_dist = euclidean(x, y)\n",
    "        print(f\"⚙️  Euclidean Distance: {lib_dist:.4f}\")\n",
    "\n",
    "    if method in [\"manual\", \"both\"]:\n",
    "        manual_dist = np.sqrt(np.sum((x - y) ** 2))\n",
    "        print(f\"📐 Euclidean Distance (Custom Code): {manual_dist:.4f}\")\n",
    "\n",
    "    if visualize and len(x) == 2 and len(y) == 2:\n",
    "        if lib_dist is None:\n",
    "            lib_dist = euclidean(x, y)  # fallback for plotting\n",
    "\n",
    "        plt.figure(figsize=(5, 5))\n",
    "        plt.scatter(*x, color='blue', s=100)\n",
    "        plt.scatter(*y, color='green', s=100)\n",
    "        plt.plot([x[0], y[0]], [x[1], y[1]], 'r--')\n",
    "\n",
    "        # Annotate distance\n",
    "        mid_x, mid_y = (x[0] + y[0]) / 2, (x[1] + y[1]) / 2\n",
    "        plt.text(mid_x, mid_y, f\"Distance = {lib_dist:.4f}\", fontsize=12, color='red', ha='center', va='bottom')\n",
    "\n",
    "        # Annotate points\n",
    "        plt.text(*x, f'  x {tuple(x)}', fontsize=12, verticalalignment='bottom')\n",
    "        plt.text(*y, f'  y {tuple(y)}', fontsize=12, verticalalignment='bottom')\n",
    "\n",
    "        plt.title(\"Euclidean Distance Visualization (2D)\")\n",
    "        plt.axis('equal')\n",
    "        plt.show()"
   ]
  },
  {
   "cell_type": "code",
   "execution_count": 3,
   "metadata": {},
   "outputs": [
    {
     "name": "stdout",
     "output_type": "stream",
     "text": [
      "⚙️  Euclidean Distance: 5.0000\n",
      "📐 Euclidean Distance (Custom Code): 5.0000\n"
     ]
    },
    {
     "data": {
      "image/png": "[encoded data removed]",
      "text/plain": [
       "<Figure size 500x500 with 1 Axes>"
      ]
     },
     "metadata": {},
     "output_type": "display_data"
    }
   ],
   "source": [
    "# Example usage\n",
    "x = [1, 2]\n",
    "y = [4, 6]\n",
    "compute_euclidean_distance(x, y, method=\"both\", visualize=True)\n"
   ]
  },
  {
   "cell_type": "code",
   "execution_count": 4,
   "metadata": {},
   "outputs": [
    {
     "name": "stdout",
     "output_type": "stream",
     "text": [
      "⚙️  Euclidean Distance: 2.2361\n",
      "📐 Euclidean Distance (Custom Code): 2.2361\n"
     ]
    }
   ],
   "source": [
    "# 5D example (no visualization)\n",
    "x_5d = [1, 3, 5, 7, 9]\n",
    "y_5d = [2, 4, 6, 8, 10]\n",
    "compute_euclidean_distance(x_5d, y_5d, method=\"both\", visualize=False)\n"
   ]
  },
  {
   "cell_type": "markdown",
   "metadata": {},
   "source": [
    "<hr style=\"border: none; height: 1px; background-color: #ddd;\" />\n"
   ]
  },
  {
   "cell_type": "markdown",
   "metadata": {},
   "source": [
    "#### 📌 Manhattan Distance  \n",
    "<a id=\"manhattan-distance\"></a>  \n",
    "\n",
    "<details><summary><strong>📖 Click to Expand</strong></summary>  \n",
    "\n",
    "🧠 **Intuition**  \n",
    "Measures distance by summing absolute differences across dimensions. Like navigating a city grid—no diagonal shortcuts, only vertical and horizontal movement.\n",
    "\n",
    "🧮 **Formula**\n",
    "\n",
    "$$\n",
    "d(x, y) = \\sum_{i=1}^{n} |x_i - y_i|\n",
    "$$\n",
    "\n",
    "⚠️ **Sensitivity**  \n",
    "- Less sensitive to outliers than Euclidean  \n",
    "- Still scale-dependent—normalization is recommended  \n",
    "- Can be more robust in sparse or high-dimensional settings\n",
    "\n",
    "🧰 **Use Cases + Real-World Examples**  \n",
    "- Common in **recommender systems** where input vectors are high-dimensional and sparse  \n",
    "- Used in **L1-regularized models** like Lasso, which induce sparsity  \n",
    "- Helpful when minimizing absolute error is preferred (e.g., **median-based objectives**)\n",
    "\n",
    "📝 **Notes**  \n",
    "- Captures linear path cost better than Euclidean in some contexts  \n",
    "- Useful when small differences across many features matter more than large differences in a few  \n",
    "- Often performs better than Euclidean in high-dimensional, noisy data\n",
    "\n",
    "</details>\n"
   ]
  },
  {
   "cell_type": "code",
   "execution_count": 5,
   "metadata": {},
   "outputs": [],
   "source": [
    "import numpy as np\n",
    "from scipy.spatial.distance import cityblock\n",
    "import matplotlib.pyplot as plt\n",
    "\n",
    "def compute_manhattan_distance(x, y, method=\"both\", visualize=False):\n",
    "    \"\"\"\n",
    "    Compute the Manhattan (L1) distance between two vectors using manual and/or library methods.\n",
    "\n",
    "    Parameters:\n",
    "    - x (array-like): First vector\n",
    "    - y (array-like): Second vector\n",
    "    - method (str): 'manual', 'library', or 'both' (default: 'both')\n",
    "    - visualize (bool): Whether to show a 2D visualization if applicable (default: False)\n",
    "\n",
    "    Returns:\n",
    "    - None (prints results directly)\n",
    "    \"\"\"\n",
    "    x = np.array(x)\n",
    "    y = np.array(y)\n",
    "\n",
    "    lib_dist = None\n",
    "\n",
    "    if method in [\"library\", \"both\"]:\n",
    "        lib_dist = cityblock(x, y)\n",
    "        print(f\"⚙️  Manhattan Distance: {lib_dist:.4f}\")\n",
    "\n",
    "    if method in [\"manual\", \"both\"]:\n",
    "        manual_dist = np.sum(np.abs(x - y))\n",
    "        print(f\"📐 Manhattan Distance (Custom Code): {manual_dist:.4f}\")\n",
    "\n",
    "    if visualize and len(x) == 2 and len(y) == 2:\n",
    "        if lib_dist is None:\n",
    "            lib_dist = cityblock(x, y)\n",
    "\n",
    "        plt.figure(figsize=(5, 5))\n",
    "        plt.scatter(*x, color='blue', s=100)\n",
    "        plt.scatter(*y, color='green', s=100)\n",
    "\n",
    "        # Draw horizontal and vertical segments\n",
    "        plt.plot([x[0], y[0]], [x[1], x[1]], 'r--')  # horizontal\n",
    "        plt.plot([y[0], y[0]], [x[1], y[1]], 'r--')  # vertical\n",
    "\n",
    "        # Annotate distances on the segments\n",
    "        plt.text((x[0] + y[0]) / 2, x[1], f\"Δx = {abs(x[0] - y[0])}\", \n",
    "                 fontsize=10, color='blue', ha='center', va='bottom')\n",
    "        plt.text(y[0], (x[1] + y[1]) / 2, f\"Δy = {abs(x[1] - y[1])}\", \n",
    "                 fontsize=10, color='green', ha='left', va='center')\n",
    "\n",
    "        # Annotate total distance\n",
    "        mid_x, mid_y = (x[0] + y[0]) / 2, (x[1] + y[1]) / 2\n",
    "        plt.text(mid_x, mid_y, f\"Distance = {lib_dist:.4f}\", fontsize=12, color='red', ha='center', va='bottom')\n",
    "\n",
    "        # Label points with coordinates\n",
    "        plt.text(*x, f'  x {tuple(x)}', fontsize=12, verticalalignment='bottom')\n",
    "        plt.text(*y, f'  y {tuple(y)}', fontsize=12, verticalalignment='bottom')\n",
    "\n",
    "        plt.title(\"Manhattan Distance Visualization (2D)\")\n",
    "        plt.axis('equal')\n",
    "        plt.show()"
   ]
  },
  {
   "cell_type": "code",
   "execution_count": 6,
   "metadata": {},
   "outputs": [
    {
     "name": "stdout",
     "output_type": "stream",
     "text": [
      "⚙️  Manhattan Distance: 7.0000\n",
      "📐 Manhattan Distance (Custom Code): 7.0000\n"
     ]
    },
    {
     "data": {
      "image/png": "[encoded data removed]",
      "text/plain": [
       "<Figure size 500x500 with 1 Axes>"
      ]
     },
     "metadata": {},
     "output_type": "display_data"
    }
   ],
   "source": [
    "# Example usage\n",
    "x = [1, 2]\n",
    "y = [4, 6]\n",
    "compute_manhattan_distance(x, y, method=\"both\", visualize=True)"
   ]
  },
  {
   "cell_type": "code",
   "execution_count": 7,
   "metadata": {},
   "outputs": [
    {
     "name": "stdout",
     "output_type": "stream",
     "text": [
      "⚙️  Manhattan Distance: 5.0000\n",
      "📐 Manhattan Distance (Custom Code): 5.0000\n"
     ]
    }
   ],
   "source": [
    "# 5D usage (no plot)\n",
    "x_5d = [1, 3, 5, 7, 9]\n",
    "y_5d = [2, 4, 6, 8, 10]\n",
    "compute_manhattan_distance(x_5d, y_5d, method=\"both\", visualize=False)\n"
   ]
  },
  {
   "cell_type": "markdown",
   "metadata": {},
   "source": [
    "<hr style=\"border: none; height: 1px; background-color: #ddd;\" />"
   ]
  },
  {
   "cell_type": "markdown",
   "metadata": {},
   "source": [
    "#### 📌 Minkowski Distance  \n",
    "<a id=\"minkowski-distance\"></a>  \n",
    "\n",
    "<details><summary><strong>📖 Click to Expand</strong></summary>  \n",
    "\n",
    "🧠 **Intuition**  \n",
    "A generalization of both Euclidean and Manhattan distances. By adjusting the parameter \\( p \\), it morphs into different distance metrics. Think of it as a flexible distance formula with a sensitivity dial.\n",
    "\n",
    "🧮 **Formula**\n",
    "\n",
    "$$\n",
    "d(x, y) = \\left( \\sum_{i=1}^{n} |x_i - y_i|^p \\right)^{1/p}\n",
    "$$\n",
    "\n",
    "⚠️ **Sensitivity**  \n",
    "- Sensitive to the choice of \\( p \\):  \n",
    "  - \\( p = 1 \\): Manhattan Distance  \n",
    "  - \\( p = 2 \\): Euclidean Distance  \n",
    "- Higher \\( p \\) values emphasize larger deviations  \n",
    "- Still scale-dependent like its special cases\n",
    "\n",
    "🧰 **Use Cases + Real-World Examples**  \n",
    "- Used in **KNN classifiers** to experiment with different notions of \"closeness\"  \n",
    "- Helpful in **model tuning**, especially when testing sensitivity to distance metrics  \n",
    "- Useful in **feature engineering pipelines** with customizable distance needs\n",
    "\n",
    "📝 **Notes**  \n",
    "- Acts as a bridge between L1 and L2 distances  \n",
    "- Not commonly used directly, but understanding it gives you control over distance behavior  \n",
    "- Can help explore robustness to outliers by adjusting \\( p \\)\n",
    "\n",
    "</details>\n"
   ]
  },
  {
   "cell_type": "code",
   "execution_count": 8,
   "metadata": {},
   "outputs": [],
   "source": [
    "def compute_minkowski_distance(x, y, p=3, method=\"both\", visualize=False):\n",
    "    \"\"\"\n",
    "    Compute the Minkowski distance between two vectors using manual and/or library methods.\n",
    "\n",
    "    Parameters:\n",
    "    - x (array-like): First vector\n",
    "    - y (array-like): Second vector\n",
    "    - p (int or float): Order of the norm (e.g., 1 for Manhattan, 2 for Euclidean)\n",
    "    - method (str): 'manual', 'library', or 'both' (default: 'both')\n",
    "    - visualize (bool): Show a 2D visualization (only works for p=1 or p=2) (default: False)\n",
    "\n",
    "    Returns:\n",
    "    - None (prints results directly)\n",
    "    \"\"\"\n",
    "    x = np.array(x)\n",
    "    y = np.array(y)\n",
    "\n",
    "    lib_dist = None\n",
    "\n",
    "    if method in [\"library\", \"both\"]:\n",
    "        lib_dist = minkowski(x, y, p)\n",
    "        print(f\"⚙️  Minkowski Distance (p = {p}): {lib_dist:.4f}\")\n",
    "\n",
    "    if method in [\"manual\", \"both\"]:\n",
    "        manual_dist = np.sum(np.abs(x - y) ** p) ** (1 / p)\n",
    "        print(f\"📐 Minkowski Distance (Custom Code, p = {p}): {manual_dist:.4f}\")\n",
    "\n",
    "    if visualize:\n",
    "        if len(x) != 2 or len(y) != 2:\n",
    "            print(\"⚠️  Visualization skipped: only supported for 2D vectors.\")\n",
    "        elif p not in [1, 2]:\n",
    "            print(f\"⚠️  Visualization skipped: p = {p} is not supported for geometric interpretation (only p = 1 or 2).\")\n",
    "        else:\n",
    "            plt.figure(figsize=(5, 5))\n",
    "            plt.scatter(*x, color='blue', s=100)\n",
    "            plt.scatter(*y, color='green', s=100)\n",
    "            plt.plot([x[0], y[0]], [x[1], y[1]], 'r--')\n",
    "\n",
    "            # Annotate distance\n",
    "            mid_x, mid_y = (x[0] + y[0]) / 2, (x[1] + y[1]) / 2\n",
    "            plt.text(mid_x, mid_y, f\"Distance = {lib_dist:.4f}\", fontsize=12, color='red', ha='center', va='bottom')\n",
    "\n",
    "            # Label points\n",
    "            plt.text(*x, f'  x {tuple(x)}', fontsize=12, verticalalignment='bottom')\n",
    "            plt.text(*y, f'  y {tuple(y)}', fontsize=12, verticalalignment='bottom')\n",
    "\n",
    "            plt.title(f\"Minkowski Distance Visualization (2D, p = {p})\")\n",
    "            plt.axis('equal')\n",
    "            plt.show()\n",
    "\n"
   ]
  },
  {
   "cell_type": "code",
   "execution_count": 9,
   "metadata": {},
   "outputs": [
    {
     "name": "stdout",
     "output_type": "stream",
     "text": [
      "⚙️  Minkowski Distance (p = 3): 4.4979\n",
      "📐 Minkowski Distance (Custom Code, p = 3): 4.4979\n",
      "⚠️  Visualization skipped: p = 3 is not supported for geometric interpretation (only p = 1 or 2).\n"
     ]
    }
   ],
   "source": [
    "# Example usage (p = 3, should not visualize)\n",
    "x = [1, 2]\n",
    "y = [4, 6]\n",
    "compute_minkowski_distance(x, y, p=3, method=\"both\", visualize=True)\n",
    "\n"
   ]
  },
  {
   "cell_type": "code",
   "execution_count": 10,
   "metadata": {},
   "outputs": [
    {
     "name": "stdout",
     "output_type": "stream",
     "text": [
      "⚙️  Minkowski Distance (p = 2): 5.0000\n",
      "📐 Minkowski Distance (Custom Code, p = 2): 5.0000\n"
     ]
    },
    {
     "data": {
      "image/png": "[encoded data removed]",
      "text/plain": [
       "<Figure size 500x500 with 1 Axes>"
      ]
     },
     "metadata": {},
     "output_type": "display_data"
    }
   ],
   "source": [
    "# Example usage (p = 2, will visualize)\n",
    "compute_minkowski_distance(x, y, p=2, method=\"both\", visualize=True)"
   ]
  },
  {
   "cell_type": "markdown",
   "metadata": {},
   "source": [
    "<hr style=\"border: none; height: 1px; background-color: #ddd;\" />"
   ]
  },
  {
   "cell_type": "markdown",
   "metadata": {},
   "source": [
    "#### 📌 Mahalanobis Distance  \n",
    "<a id=\"mahalanobis-distance\"></a>  \n",
    "\n",
    "<details><summary><strong>📖 Click to Expand</strong></summary>  \n",
    "\n",
    "🧠 **Intuition**  \n",
    "Measures distance between a point and a distribution, not just another point. It accounts for the variance and correlation in the data, effectively \"whitening\" the space before measuring distance.\n",
    "\n",
    "🧮 **Formula**\n",
    "\n",
    "$$\n",
    "d(x, y) = \\sqrt{(x - y)^T S^{-1} (x - y)}\n",
    "$$\n",
    "\n",
    "Where \\( S \\) is the covariance matrix of the data.\n",
    "\n",
    "⚠️ **Sensitivity**  \n",
    "- Not scale-sensitive—handles feature scaling internally via covariance  \n",
    "- Sensitive to multicollinearity or singularity in the covariance matrix  \n",
    "- Requires a well-estimated covariance matrix (large sample size helps)\n",
    "\n",
    "🧰 **Use Cases + Real-World Examples**  \n",
    "- Common in **multivariate outlier detection** (e.g., fraud detection in finance)  \n",
    "- Used in **discriminant analysis** (e.g., LDA)  \n",
    "- Helpful when features are correlated, unlike Euclidean/Manhattan\n",
    "\n",
    "📝 **Notes**  \n",
    "- Allows distance to stretch/shrink based on feature correlation structure  \n",
    "- Highlights points that are far from the mean *and* unusual based on the data distribution  \n",
    "- More reliable with large, clean datasets—can break with singular or noisy covariance\n",
    "\n",
    "</details>\n"
   ]
  },
  {
   "cell_type": "code",
   "execution_count": 11,
   "metadata": {},
   "outputs": [],
   "source": [
    "def compute_mahalanobis_distance(x, y, data=None, cov_matrix=None, method=\"both\"):\n",
    "    \"\"\"\n",
    "    Compute the Mahalanobis distance between two vectors using manual and/or library methods.\n",
    "\n",
    "    Parameters:\n",
    "    - x (array-like): First vector\n",
    "    - y (array-like): Second vector\n",
    "    - data (array-like, optional): Dataset to compute covariance matrix if cov_matrix is not provided\n",
    "    - cov_matrix (ndarray, optional): Precomputed covariance matrix\n",
    "    - method (str): 'manual', 'library', or 'both' (default: 'both')\n",
    "\n",
    "    Returns:\n",
    "    - None (prints results directly)\n",
    "    \"\"\"\n",
    "    x = np.array(x)\n",
    "    y = np.array(y)\n",
    "\n",
    "    if cov_matrix is None:\n",
    "        if data is None:\n",
    "            raise ValueError(\"Either a covariance matrix or sample data must be provided.\")\n",
    "        data = np.array(data)\n",
    "        cov_matrix = np.cov(data.T)\n",
    "\n",
    "    try:\n",
    "        inv_cov = np.linalg.inv(cov_matrix)\n",
    "    except np.linalg.LinAlgError:\n",
    "        raise ValueError(\"Covariance matrix is singular or not invertible.\")\n",
    "\n",
    "    lib_dist = None\n",
    "\n",
    "    if method in [\"library\", \"both\"]:\n",
    "        lib_dist = mahalanobis(x, y, inv_cov)\n",
    "        print(f\"⚙️  Mahalanobis Distance: {lib_dist:.4f}\")\n",
    "\n",
    "    if method in [\"manual\", \"both\"]:\n",
    "        diff = x - y\n",
    "        manual_dist = np.sqrt(diff.T @ inv_cov @ diff)\n",
    "        print(f\"📐 Mahalanobis Distance (Custom Code): {manual_dist:.4f}\")"
   ]
  },
  {
   "cell_type": "code",
   "execution_count": 12,
   "metadata": {},
   "outputs": [
    {
     "name": "stdout",
     "output_type": "stream",
     "text": [
      "⚙️  Mahalanobis Distance: 2.0000\n",
      "📐 Mahalanobis Distance (Custom Code): 2.0000\n"
     ]
    }
   ],
   "source": [
    "# Example usage\n",
    "data = [\n",
    "    [1, 2],\n",
    "    [4, 6],\n",
    "    [3, 5],\n",
    "    [5, 7]\n",
    "]\n",
    "x = [1, 2]\n",
    "y = [4, 6]\n",
    "compute_mahalanobis_distance(x, y, data=data, method=\"both\")"
   ]
  },
  {
   "cell_type": "code",
   "execution_count": 13,
   "metadata": {},
   "outputs": [
    {
     "name": "stdout",
     "output_type": "stream",
     "text": [
      "⚙️  Mahalanobis Distance: 2.6219\n",
      "📐 Mahalanobis Distance (Custom Code): 2.6219\n"
     ]
    }
   ],
   "source": [
    "# Example with 5D\n",
    "data_5d = np.random.randn(100, 5)\n",
    "x_5d = data_5d[0]\n",
    "y_5d = data_5d[1]\n",
    "compute_mahalanobis_distance(x_5d, y_5d, data=data_5d, method=\"both\")"
   ]
  },
  {
   "cell_type": "markdown",
   "metadata": {},
   "source": [
    "[Back to the top](#table-of-contents)\n",
    "___\n"
   ]
  },
  {
   "cell_type": "markdown",
   "metadata": {},
   "source": [
    "<a id=\"distance-metrics-for-vectors-and-angles\"></a>  \n",
    "# 🧮 Distance Metrics for Vectors and Angles  \n",
    "\n",
    "<details><summary><strong>📖 Click to Expand</strong></summary>  \n",
    "\n",
    "This section focuses on metrics that measure **angular relationships** between vectors, rather than their raw distance.\n",
    "\n",
    "These are especially useful in **high-dimensional spaces** where magnitude is less meaningful and **direction** matters more.\n",
    "\n",
    "Typical scenarios include:\n",
    "- 🧠 **NLP**: comparing TF-IDF or embedding vectors  \n",
    "- 🎧 **Recommender Systems**: user/item interaction vectors  \n",
    "- 🧬 **Similarity Scoring** in sparse or normalized datasets\n",
    "\n",
    "These metrics shine when you're more interested in **alignment** than absolute difference.\n",
    "\n",
    "</details>\n"
   ]
  },
  {
   "cell_type": "markdown",
   "metadata": {},
   "source": [
    "#### 📌 Cosine Similarity / Distance  \n",
    "<a id=\"cosine-similarity--distance\"></a>  \n",
    "\n",
    "<details><summary><strong>📖 Click to Expand</strong></summary>  \n",
    "\n",
    "🧠 **Intuition**  \n",
    "Measures the angle between two vectors, not their magnitude. It captures how aligned two directions are—perfect for understanding similarity in high-dimensional, sparse spaces.\n",
    "\n",
    "🧮 **Formula**\n",
    "\n",
    "$$\n",
    "\\text{Cosine Similarity} = \\frac{\\vec{x} \\cdot \\vec{y}}{||\\vec{x}|| \\cdot ||\\vec{y}||}\n",
    "$$\n",
    "\n",
    "$$\n",
    "\\text{Cosine Distance} = 1 - \\text{Cosine Similarity}\n",
    "$$\n",
    "\n",
    "⚠️ **Sensitivity**  \n",
    "- Ignores magnitude, focuses only on orientation  \n",
    "- Not affected by vector scaling (e.g., multiplying a vector by 10 doesn’t change similarity)  \n",
    "- Still sensitive to dimensionality sparsity if most features are zeros\n",
    "\n",
    "🧰 **Use Cases + Real-World Examples**  \n",
    "- Dominant metric in **text analysis**, especially with **TF-IDF** vectors  \n",
    "- Used in **recommender systems** to compute user-item similarity  \n",
    "- Helps detect directionally similar patterns regardless of intensity (e.g., in topic modeling)\n",
    "\n",
    "📝 **Notes**  \n",
    "- Works well when **direction matters more than magnitude**  \n",
    "- Can be misleading if vectors are zero or near-zero (need to handle edge cases)  \n",
    "- In practice, often used with high-dimensional embeddings (e.g., NLP, document matching)\n",
    "\n",
    "</details>\n"
   ]
  },
  {
   "cell_type": "code",
   "execution_count": 14,
   "metadata": {},
   "outputs": [],
   "source": [
    "def compute_cosine_similarity_distance(x, y, method=\"both\", visualize=False):\n",
    "    x = np.array(x)\n",
    "    y = np.array(y)\n",
    "    origin = np.zeros(2)\n",
    "\n",
    "    if method in [\"library\", \"both\"]:\n",
    "        cos_dist = cosine(x, y)\n",
    "        cos_sim = 1 - cos_dist\n",
    "        print(f\"⚙️  Cosine Similarity: {cos_sim:.4f}\")\n",
    "        print(f\"⚙️  Cosine Distance  : {cos_dist:.4f}\")\n",
    "\n",
    "    if method in [\"manual\", \"both\"]:\n",
    "        manual_sim = np.dot(x, y) / (norm(x) * norm(y))\n",
    "        manual_dist = 1 - manual_sim\n",
    "        print(f\"📐 Cosine Similarity (Custom Code): {manual_sim:.4f}\")\n",
    "        print(f\"📐 Cosine Distance (Custom Code)  : {manual_dist:.4f}\")\n",
    "\n",
    "    if visualize and len(x) == 2 and len(y) == 2:\n",
    "        angle_rad = np.arccos(np.clip(np.dot(x, y) / (norm(x) * norm(y)), -1.0, 1.0))\n",
    "        angle_deg = np.degrees(angle_rad)\n",
    "        angle_label = f\"θ ≈ {angle_deg:.1f}°\"\n",
    "        angle_pos = (x + y) / 2\n",
    "\n",
    "        fig, ax = plt.subplots(figsize=(6, 6), dpi=100)\n",
    "        ax.quiver(*origin, *x, angles='xy', scale_units='xy', scale=1, color='blue', label=f\"x {tuple(x)}\")\n",
    "        ax.quiver(*origin, *y, angles='xy', scale_units='xy', scale=1, color='green', label=f\"y {tuple(y)}\")\n",
    "        ax.text(*angle_pos, angle_label, fontsize=12, color='red', ha='center')\n",
    "\n",
    "        all_coords = np.array([origin, x, y])\n",
    "        min_x, max_x = all_coords[:, 0].min(), all_coords[:, 0].max()\n",
    "        min_y, max_y = all_coords[:, 1].min(), all_coords[:, 1].max()\n",
    "        pad = 1\n",
    "        ax.set_xlim(min_x - pad, max_x + pad)\n",
    "        ax.set_ylim(min_y - pad, max_y + pad)\n",
    "\n",
    "        ax.set_aspect('equal')\n",
    "        ax.grid(True)\n",
    "        ax.set_xlabel(\"X-axis\")\n",
    "        ax.set_ylabel(\"Y-axis\")\n",
    "        ax.legend()\n",
    "        ax.set_title(\"Cosine Similarity Visualization (2D)\")\n",
    "        plt.tight_layout()\n",
    "        plt.show()\n"
   ]
  },
  {
   "cell_type": "code",
   "execution_count": 15,
   "metadata": {},
   "outputs": [
    {
     "name": "stdout",
     "output_type": "stream",
     "text": [
      "⚙️  Cosine Similarity: 0.9923\n",
      "⚙️  Cosine Distance  : 0.0077\n",
      "📐 Cosine Similarity (Custom Code): 0.9923\n",
      "📐 Cosine Distance (Custom Code)  : 0.0077\n"
     ]
    },
    {
     "data": {
      "image/png": "[encoded data removed]",
      "text/plain": [
       "<Figure size 600x600 with 1 Axes>"
      ]
     },
     "metadata": {},
     "output_type": "display_data"
    }
   ],
   "source": [
    "# # Example usage (2D)\n",
    "x = [1, 2]\n",
    "y = [4, 6]\n",
    "compute_cosine_similarity_distance(x, y, method=\"both\", visualize=True)\n",
    "\n"
   ]
  },
  {
   "cell_type": "code",
   "execution_count": 16,
   "metadata": {},
   "outputs": [
    {
     "name": "stdout",
     "output_type": "stream",
     "text": [
      "⚙️  Cosine Similarity: 0.9972\n",
      "⚙️  Cosine Distance  : 0.0028\n",
      "📐 Cosine Similarity (Custom Code): 0.9972\n",
      "📐 Cosine Distance (Custom Code)  : 0.0028\n"
     ]
    }
   ],
   "source": [
    "# Example usage (5D)\n",
    "x_5d = [1, 3, 5, 7, 9]\n",
    "y_5d = [2, 4, 6, 8, 10]\n",
    "compute_cosine_similarity_distance(x_5d, y_5d, method=\"both\", visualize=False)\n"
   ]
  },
  {
   "cell_type": "markdown",
   "metadata": {},
   "source": [
    "[Back to the top](#table-of-contents)\n",
    "___\n"
   ]
  },
  {
   "cell_type": "markdown",
   "metadata": {},
   "source": [
    "<a id=\"distance-metrics-for-categorical-or-binary-data\"></a>  \n",
    "# 🔤 Distance Metrics for Categorical or Binary Data  \n",
    "\n",
    "<details><summary><strong>📖 Click to Expand</strong></summary>  \n",
    "\n",
    "This section includes metrics tailored for **categorical**, **binary**, or **boolean** feature spaces—where traditional numeric distances don’t make sense.\n",
    "\n",
    "These are particularly useful when:\n",
    "- Your data is one-hot encoded  \n",
    "- You're comparing sequences, strings, or sets  \n",
    "- Features are **non-numeric** but still informative\n",
    "\n",
    "Common applications:\n",
    "- 🧬 **Genomic and text sequence comparison**  \n",
    "- 📦 **Product recommendation based on binary attributes**  \n",
    "- 🏷️ **Clustering with categorical features**  \n",
    "\n",
    "These metrics help quantify **presence/absence** and **set overlap**, making them ideal for discrete comparisons.\n",
    "\n",
    "</details>\n"
   ]
  },
  {
   "cell_type": "markdown",
   "metadata": {},
   "source": [
    "#### 📌 Hamming Distance  \n",
    "<a id=\"hamming-distance\"></a>  \n",
    "\n",
    "<details><summary><strong>📖 Click to Expand</strong></summary>  \n",
    "\n",
    "🧠 **Intuition**  \n",
    "Counts how many positions two strings (or binary vectors) differ in. Imagine comparing two passwords or binary sequences and marking the mismatches.\n",
    "\n",
    "🧮 **Formula**\n",
    "\n",
    "$$\n",
    "d(x, y) = \\sum_{i=1}^{n} \\mathbf{1}(x_i \\ne y_i) \\\\\n",
    "\\text{where } \\mathbf{1}(x_i \\ne y_i) = \n",
    "\\begin{cases}\n",
    "1, & \\text{if } x_i \\ne y_i \\\\\n",
    "0, & \\text{otherwise}\n",
    "\\end{cases}\n",
    "$$\n",
    "\n",
    "⚠️ **Sensitivity**  \n",
    "- Only works on equal-length vectors  \n",
    "- Binary/categorical only—makes no sense for continuous values  \n",
    "- Each mismatch is treated equally, no weighting\n",
    "\n",
    "🧰 **Use Cases + Real-World Examples**  \n",
    "- Used in **error detection/correction** (e.g., digital communication, QR codes)  \n",
    "- Common in **genomic sequence analysis**  \n",
    "- Helpful for comparing **one-hot encoded categorical features** in clustering or similarity scoring\n",
    "\n",
    "📝 **Notes**  \n",
    "- Simple and interpretable for binary comparisons  \n",
    "- Doesn’t account for *how different* the values are—just whether they differ  \n",
    "- Can be extended to non-binary categorical data using matching scores\n",
    "\n",
    "</details>\n"
   ]
  },
  {
   "cell_type": "code",
   "execution_count": 17,
   "metadata": {},
   "outputs": [],
   "source": [
    "def compute_hamming_distance(x, y, method=\"both\"):\n",
    "    \"\"\"\n",
    "    Compute the Hamming distance between two equal-length vectors using manual and/or library methods.\n",
    "\n",
    "    Parameters:\n",
    "    - x (array-like or string): First input\n",
    "    - y (array-like or string): Second input\n",
    "    - method (str): 'manual', 'library', or 'both' (default: 'both')\n",
    "\n",
    "    Returns:\n",
    "    - None (prints results directly)\n",
    "    \"\"\"\n",
    "    if len(x) != len(y):\n",
    "        raise ValueError(\"Inputs must be of equal length.\")\n",
    "\n",
    "    x = np.array(list(x)) if isinstance(x, str) else np.array(x)\n",
    "    y = np.array(list(y)) if isinstance(y, str) else np.array(y)\n",
    "\n",
    "    lib_dist = None\n",
    "\n",
    "    if method in [\"library\", \"both\"]:\n",
    "        lib_dist = hamming(x, y) * len(x)  # convert from proportion to raw count\n",
    "        print(f\"⚙️  Hamming Distance: {lib_dist:.4f}\")\n",
    "\n",
    "    if method in [\"manual\", \"both\"]:\n",
    "        manual_dist = np.sum(x != y)\n",
    "        print(f\"📐 Hamming Distance (Custom Code): {manual_dist:.4f}\")"
   ]
  },
  {
   "cell_type": "code",
   "execution_count": 18,
   "metadata": {},
   "outputs": [
    {
     "name": "stdout",
     "output_type": "stream",
     "text": [
      "⚙️  Hamming Distance: 3.0000\n",
      "📐 Hamming Distance (Custom Code): 3.0000\n"
     ]
    }
   ],
   "source": [
    "# Example usage: binary lists\n",
    "x = [1, 0, 1, 1, 0, 1]\n",
    "y = [1, 1, 0, 1, 0, 0]\n",
    "compute_hamming_distance(x, y, method=\"both\")"
   ]
  },
  {
   "cell_type": "code",
   "execution_count": 19,
   "metadata": {},
   "outputs": [
    {
     "name": "stdout",
     "output_type": "stream",
     "text": [
      "⚙️  Hamming Distance: 1.0000\n",
      "📐 Hamming Distance (Custom Code): 1.0000\n"
     ]
    }
   ],
   "source": [
    "# Example usage: strings\n",
    "compute_hamming_distance(\"dancer\", \"danger\", method=\"both\")"
   ]
  },
  {
   "cell_type": "markdown",
   "metadata": {},
   "source": [
    "<hr style=\"border: none; height: 1px; background-color: #ddd;\" />"
   ]
  },
  {
   "cell_type": "markdown",
   "metadata": {},
   "source": [
    "#### 📌 Jaccard Similarity / Distance  \n",
    "<a id=\"jaccard-similarity--distance\"></a>  \n",
    "\n",
    "<details><summary><strong>📖 Click to Expand</strong></summary>  \n",
    "\n",
    "🧠 **Intuition**  \n",
    "Measures the overlap between two sets relative to their union. It tells you *how similar two binary vectors or sets are*, ignoring what they don't share.\n",
    "\n",
    "🧮 **Formula**\n",
    "\n",
    "$$\n",
    "\\text{Jaccard Similarity} = \\frac{|A \\cap B|}{|A \\cup B|} \\\\\n",
    "\\text{Jaccard Distance} = 1 - \\text{Jaccard Similarity}\n",
    "$$\n",
    "\n",
    "⚠️ **Sensitivity**  \n",
    "- Only works on binary/categorical data or sets  \n",
    "- Ignores true negatives (things both sets don't have)  \n",
    "- Sensitive to sparsity—more zeros → lower similarity\n",
    "\n",
    "🧰 **Use Cases + Real-World Examples**  \n",
    "- Common in **recommender systems** to compare item sets (e.g., users with similar purchase histories)  \n",
    "- Used in **clustering binary data** (e.g., one-hot encoded attributes)  \n",
    "- Applied in **text mining** to compare sets of words (bag-of-words or shingled phrases)\n",
    "\n",
    "📝 **Notes**  \n",
    "- Especially useful when **presence** is more important than absence  \n",
    "- Performs well when comparing sparse or asymmetric binary vectors  \n",
    "- Jaccard Distance is a proper metric (satisfies triangle inequality)\n",
    "\n",
    "</details>\n"
   ]
  },
  {
   "cell_type": "code",
   "execution_count": 20,
   "metadata": {},
   "outputs": [],
   "source": [
    "def compute_jaccard_distance(x, y, method=\"both\"):\n",
    "    \"\"\"\n",
    "    Compute Jaccard Similarity and Jaccard Distance between two inputs.\n",
    "\n",
    "    Parameters:\n",
    "    - x (array-like, set, or string): First input\n",
    "    - y (array-like, set, or string): Second input\n",
    "    - method (str): 'manual', 'library', or 'both' (default: 'both')\n",
    "\n",
    "    Returns:\n",
    "    - None (prints results directly)\n",
    "    \"\"\"\n",
    "    # Convert string to set of characters\n",
    "    if isinstance(x, str) and isinstance(y, str):\n",
    "        x = set(x)\n",
    "        y = set(y)\n",
    "\n",
    "    # Convert binary vectors to numpy arrays\n",
    "    elif isinstance(x, (list, tuple, np.ndarray)) and isinstance(y, (list, tuple, np.ndarray)):\n",
    "        x = np.array(x)\n",
    "        y = np.array(y)\n",
    "\n",
    "    lib_dist = None\n",
    "\n",
    "    if method in [\"library\", \"both\"] and isinstance(x, np.ndarray):\n",
    "        lib_dist = jaccard(x, y)\n",
    "        lib_sim = 1 - lib_dist\n",
    "        print(f\"⚙️  Jaccard Similarity: {lib_sim:.4f}\")\n",
    "        print(f\"⚙️  Jaccard Distance  : {lib_dist:.4f}\")\n",
    "\n",
    "    if method in [\"manual\", \"both\"]:\n",
    "        if isinstance(x, np.ndarray):\n",
    "            intersection = np.sum(np.logical_and(x, y))\n",
    "            union = np.sum(np.logical_or(x, y))\n",
    "        else:  # assumes sets\n",
    "            intersection = len(x & y)\n",
    "            union = len(x | y)\n",
    "\n",
    "        manual_sim = intersection / union if union != 0 else 0\n",
    "        manual_dist = 1 - manual_sim\n",
    "\n",
    "        print(f\"📐 Jaccard Similarity (Custom Code): {manual_sim:.4f}\")\n",
    "        print(f\"📐 Jaccard Distance (Custom Code)  : {manual_dist:.4f}\")"
   ]
  },
  {
   "cell_type": "code",
   "execution_count": 21,
   "metadata": {},
   "outputs": [
    {
     "name": "stdout",
     "output_type": "stream",
     "text": [
      "⚙️  Jaccard Similarity: 0.5000\n",
      "⚙️  Jaccard Distance  : 0.5000\n",
      "📐 Jaccard Similarity (Custom Code): 0.5000\n",
      "📐 Jaccard Distance (Custom Code)  : 0.5000\n"
     ]
    }
   ],
   "source": [
    "# Example: binary vectors\n",
    "x_bin = [1, 0, 1, 1, 0]\n",
    "y_bin = [0, 1, 1, 1, 0]\n",
    "compute_jaccard_distance(x_bin, y_bin, method=\"both\")\n"
   ]
  },
  {
   "cell_type": "code",
   "execution_count": 22,
   "metadata": {},
   "outputs": [
    {
     "name": "stdout",
     "output_type": "stream",
     "text": [
      "📐 Jaccard Similarity (Custom Code): 1.0000\n",
      "📐 Jaccard Distance (Custom Code)  : 0.0000\n"
     ]
    }
   ],
   "source": [
    "# Example: English word character sets\n",
    "compute_jaccard_distance(\"night\", \"thing\", method=\"both\")"
   ]
  },
  {
   "cell_type": "markdown",
   "metadata": {},
   "source": [
    "[Back to the top](#table-of-contents)\n",
    "___\n"
   ]
  },
  {
   "cell_type": "markdown",
   "metadata": {},
   "source": [
    "<a id=\"similarity-measures-for-continuous-data\"></a>  \n",
    "# 📊 Similarity Measures for Continuous Data  \n",
    "\n",
    "<details><summary><strong>📖 Click to Expand</strong></summary>  \n",
    "\n",
    "This section covers **correlation-based similarity measures** for continuous variables. Instead of measuring distance, these metrics quantify the **strength and direction of relationships** between variables.\n",
    "\n",
    "Use cases typically involve:\n",
    "- 📈 **Exploratory Data Analysis (EDA)**  \n",
    "- 🧪 **Feature selection** in modeling pipelines  \n",
    "- 💰 **Financial modeling** (e.g., correlation between asset returns)\n",
    "\n",
    "These measures are:\n",
    "- Scale-invariant  \n",
    "- Useful for spotting patterns in **paired continuous variables**  \n",
    "- Sensitive to relationship type—linear vs. monotonic\n",
    "\n",
    "These metrics are key to understanding **how variables move together**, whether for modeling or diagnostics.\n",
    "\n",
    "</details>\n"
   ]
  },
  {
   "cell_type": "markdown",
   "metadata": {},
   "source": [
    "#### 📌 Pearson Correlation  \n",
    "<a id=\"pearson-correlation\"></a>  \n",
    "\n",
    "<details><summary><strong>📖 Click to Expand</strong></summary>  \n",
    "\n",
    "🧠 **Intuition**  \n",
    "Measures the strength and direction of a **linear relationship** between two continuous variables. A value of +1 means perfect positive linear correlation, -1 means perfect negative, and 0 means no linear relationship.\n",
    "\n",
    "🧮 **Formula**\n",
    "\n",
    "$$\n",
    "r = \\frac{\\sum_{i=1}^{n} (x_i - \\bar{x})(y_i - \\bar{y})}\n",
    "         {\\sqrt{\\sum_{i=1}^{n} (x_i - \\bar{x})^2} \\cdot \\sqrt{\\sum_{i=1}^{n} (y_i - \\bar{y})^2}}\n",
    "$$\n",
    "\n",
    "⚠️ **Sensitivity**  \n",
    "- Extremely sensitive to **outliers**  \n",
    "- Assumes **linearity**  \n",
    "- Affected by non-normal distributions or non-constant variance\n",
    "\n",
    "🧰 **Use Cases + Real-World Examples**  \n",
    "- Used in **feature selection** (e.g., removing highly correlated variables)  \n",
    "- Helps in **exploratory data analysis** to understand relationships  \n",
    "- Common in **finance** (e.g., correlation between stock returns)\n",
    "\n",
    "📝 **Notes**  \n",
    "- Does **not imply causation**—only association  \n",
    "- Works best when both variables are continuous, normally distributed, and linearly related  \n",
    "- For non-linear relationships, consider Spearman instead\n",
    "\n",
    "</details>\n"
   ]
  },
  {
   "cell_type": "code",
   "execution_count": 23,
   "metadata": {},
   "outputs": [],
   "source": [
    "def compute_pearson_correlation(x, y, method=\"both\"):\n",
    "    \"\"\"\n",
    "    Compute Pearson Correlation between two vectors.\n",
    "\n",
    "    Parameters:\n",
    "    - x (array-like): First variable\n",
    "    - y (array-like): Second variable\n",
    "    - method (str): 'manual', 'library', or 'both' (default: 'both')\n",
    "\n",
    "    Returns:\n",
    "    - None (prints results directly)\n",
    "    \"\"\"\n",
    "    x = np.array(x)\n",
    "    y = np.array(y)\n",
    "\n",
    "    if len(x) != len(y):\n",
    "        raise ValueError(\"x and y must be of equal length.\")\n",
    "\n",
    "    if method in [\"library\", \"both\"]:\n",
    "        lib_corr, _ = pearsonr(x, y)\n",
    "        print(f\"⚙️  Pearson Correlation: {lib_corr:.4f}\")\n",
    "\n",
    "    if method in [\"manual\", \"both\"]:\n",
    "        x_mean = np.mean(x)\n",
    "        y_mean = np.mean(y)\n",
    "        numerator = np.sum((x - x_mean) * (y - y_mean))\n",
    "        denominator = np.sqrt(np.sum((x - x_mean)**2)) * np.sqrt(np.sum((y - y_mean)**2))\n",
    "        manual_corr = numerator / denominator if denominator != 0 else 0\n",
    "        print(f\"📐 Pearson Correlation (Custom Code): {manual_corr:.4f}\")"
   ]
  },
  {
   "cell_type": "code",
   "execution_count": 24,
   "metadata": {},
   "outputs": [
    {
     "name": "stdout",
     "output_type": "stream",
     "text": [
      "⚙️  Pearson Correlation: 0.9959\n",
      "📐 Pearson Correlation (Custom Code): 0.9959\n"
     ]
    }
   ],
   "source": [
    "# Example usage\n",
    "x = [10, 20, 30, 40, 50]\n",
    "y = [15, 25, 35, 45, 60]\n",
    "compute_pearson_correlation(x, y, method=\"both\")"
   ]
  },
  {
   "cell_type": "code",
   "execution_count": 25,
   "metadata": {},
   "outputs": [
    {
     "name": "stdout",
     "output_type": "stream",
     "text": [
      "⚙️  Pearson Correlation: -0.9976\n",
      "📐 Pearson Correlation (Custom Code): -0.9976\n"
     ]
    }
   ],
   "source": [
    "# Strong but imperfect negative correlation\n",
    "x_neg = [10, 20, 30, 40, 50]\n",
    "y_neg = [92, 69, 48, 33, 13]  # slightly perturbed from a perfect linear drop\n",
    "compute_pearson_correlation(x_neg, y_neg, method=\"both\")\n"
   ]
  },
  {
   "cell_type": "code",
   "execution_count": 26,
   "metadata": {},
   "outputs": [
    {
     "name": "stdout",
     "output_type": "stream",
     "text": [
      "⚙️  Pearson Correlation: -0.0334\n",
      "📐 Pearson Correlation (Custom Code): -0.0334\n"
     ]
    }
   ],
   "source": [
    "# x and y are unrelated → correlation close to 0\n",
    "x_rand = [1, 2, 3, 4, 5]\n",
    "y_rand = [42, 5, 67, 18, 33]\n",
    "compute_pearson_correlation(x_rand, y_rand, method=\"both\")\n"
   ]
  },
  {
   "cell_type": "markdown",
   "metadata": {},
   "source": [
    "<hr style=\"border: none; height: 1px; background-color: #ddd;\" />"
   ]
  },
  {
   "cell_type": "markdown",
   "metadata": {},
   "source": [
    "#### 📌 Spearman Rank Correlation  \n",
    "<a id=\"spearman-rank-correlation\"></a>  \n",
    "\n",
    "<details><summary><strong>📖 Click to Expand</strong></summary>  \n",
    "\n",
    "🧠 **Intuition**  \n",
    "Measures the **monotonic relationship** between two variables using their ranks instead of raw values. It tells you whether the relationship is consistently increasing or decreasing, even if not linear.\n",
    "\n",
    "🧮 **Formula**\n",
    "\n",
    "If there are no tied ranks:\n",
    "\n",
    "$$\n",
    "\\rho = 1 - \\frac{6 \\sum d_i^2}{n(n^2 - 1)} \\\\\n",
    "\\text{where } d_i = \\text{rank}(x_i) - \\text{rank}(y_i)\n",
    "$$\n",
    "\n",
    "⚠️ **Sensitivity**  \n",
    "- Robust to **outliers**  \n",
    "- Captures **monotonic** (not just linear) trends  \n",
    "- Still assumes **ordinal** or continuous variables\n",
    "\n",
    "🧰 **Use Cases + Real-World Examples**  \n",
    "- Great for **ordinal data** (e.g., survey rankings, Likert scales)  \n",
    "- Used when variables don’t meet normality assumptions  \n",
    "- Common in **bioinformatics** or **psychometrics** for measuring association strength\n",
    "\n",
    "📝 **Notes**  \n",
    "- Doesn’t assume linearity or equal spacing between values  \n",
    "- Less powerful than Pearson when linearity holds  \n",
    "- Ideal fallback when data violates Pearson’s assumptions\n",
    "\n",
    "</details>\n"
   ]
  },
  {
   "cell_type": "code",
   "execution_count": 27,
   "metadata": {},
   "outputs": [],
   "source": [
    "def compute_spearman_correlation(x, y, method=\"both\"):\n",
    "    \"\"\"\n",
    "    Compute Spearman Rank Correlation between two vectors.\n",
    "\n",
    "    Parameters:\n",
    "    - x (array-like): First variable\n",
    "    - y (array-like): Second variable\n",
    "    - method (str): 'manual', 'library', or 'both' (default: 'both')\n",
    "\n",
    "    Returns:\n",
    "    - None (prints results directly)\n",
    "    \"\"\"\n",
    "    x = np.array(x)\n",
    "    y = np.array(y)\n",
    "\n",
    "    if len(x) != len(y):\n",
    "        raise ValueError(\"x and y must be of equal length.\")\n",
    "\n",
    "    if method in [\"library\", \"both\"]:\n",
    "        lib_corr, _ = spearmanr(x, y)\n",
    "        print(f\"⚙️  Spearman Correlation: {lib_corr:.4f}\")\n",
    "\n",
    "    if method in [\"manual\", \"both\"]:\n",
    "        rx = pd.Series(x).rank(method='average').values\n",
    "        ry = pd.Series(y).rank(method='average').values\n",
    "\n",
    "        rx_mean = np.mean(rx)\n",
    "        ry_mean = np.mean(ry)\n",
    "        numerator = np.sum((rx - rx_mean) * (ry - ry_mean))\n",
    "        denominator = np.sqrt(np.sum((rx - rx_mean)**2)) * np.sqrt(np.sum((ry - ry_mean)**2))\n",
    "        manual_corr = numerator / denominator if denominator != 0 else 0\n",
    "        print(f\"📐 Spearman Correlation (Custom Code): {manual_corr:.4f}\")"
   ]
  },
  {
   "cell_type": "code",
   "execution_count": 28,
   "metadata": {},
   "outputs": [
    {
     "name": "stdout",
     "output_type": "stream",
     "text": [
      "⚙️  Spearman Correlation: 1.0000\n",
      "📐 Spearman Correlation (Custom Code): 1.0000\n"
     ]
    }
   ],
   "source": [
    "# Example 1: Monotonic but non-linear (Spearman high, Pearson not)\n",
    "x = [1, 2, 3, 4, 5]\n",
    "y = [2, 4, 8, 16, 32]  # exponential\n",
    "compute_spearman_correlation(x, y, method=\"both\")"
   ]
  },
  {
   "cell_type": "code",
   "execution_count": 29,
   "metadata": {},
   "outputs": [
    {
     "name": "stdout",
     "output_type": "stream",
     "text": [
      "⚙️  Spearman Correlation: 1.0000\n",
      "📐 Spearman Correlation (Custom Code): 1.0000\n"
     ]
    }
   ],
   "source": [
    "# Example 2: Tied ranks\n",
    "x_tied = [1, 2, 2, 3, 4]\n",
    "y_tied = [10, 20, 20, 30, 40]\n",
    "compute_spearman_correlation(x_tied, y_tied, method=\"both\")"
   ]
  },
  {
   "cell_type": "markdown",
   "metadata": {},
   "source": [
    "[Back to the top](#table-of-contents)\n",
    "___\n"
   ]
  }
 ],
 "metadata": {
  "kernelspec": {
   "display_name": "Python 3",
   "language": "python",
   "name": "python3"
  },
  "language_info": {
   "codemirror_mode": {
    "name": "ipython",
    "version": 3
   },
   "file_extension": ".py",
   "mimetype": "text/x-python",
   "name": "python",
   "nbconvert_exporter": "python",
   "pygments_lexer": "ipython3",
   "version": "3.9.6"
  }
 },
 "nbformat": 4,
 "nbformat_minor": 2
}
