{
 "cells": [
  {
   "cell_type": "markdown",
   "metadata": {},
   "source": []
  },
  {
   "cell_type": "markdown",
   "metadata": {},
   "source": [
    "Linear Algebra Foundations:\n",
    "\tDot Product: Related to the cosine similarity and matrix operations used in machine learning.\n",
    "\tNorms: Understanding L1 (Manhattan), L2 (Euclidean), and Infinity Norm is crucial for regularization methods.\n",
    "\t4. Linear Transformation:\n",
    "\tEigenvalues and Eigenvectors: These are fundamental in dimensionality reduction (PCA), spectral clustering, and even in some machine learning optimization algorithms.\n",
    "\tSingular Value Decomposition (SVD): Decomposes a matrix into its singular vectors and values, and is used in techniques like PCA, collaborative filtering (e.g., Netflix recommendation system), and matrix factorization."
   ]
  }
 ],
 "metadata": {
  "language_info": {
   "name": "python"
  }
 },
 "nbformat": 4,
 "nbformat_minor": 2
}
