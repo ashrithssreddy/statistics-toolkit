{
 "cells": [
  {
   "cell_type": "markdown",
   "metadata": {},
   "source": []
  },
  {
   "cell_type": "markdown",
   "metadata": {},
   "source": [
    "<a id=\"table-of-contents\"></a>  \n",
    "# 📖 Table of Contents  \n",
    "1. [🧭 Overview](#overview)  \n",
    "2. [📏 Distance Metrics for Numeric Data](#distance-metrics-for-numeric-data)  \n",
    "   - [📌 Euclidean Distance](#euclidean-distance)  \n",
    "   - [📌 Manhattan Distance](#manhattan-distance)  \n",
    "   - [📌 Minkowski Distance](#minkowski-distance)  \n",
    "   - [📌 Mahalanobis Distance](#mahalanobis-distance)  \n",
    "3. [🧮 Distance Metrics for Vectors and Angles](#distance-metrics-for-vectors-and-angles)  \n",
    "   - [📌 Cosine Similarity / Distance](#cosine-similarity--distance)  \n",
    "4. [🔤 Distance Metrics for Categorical or Binary Data](#distance-metrics-for-categorical-or-binary-data)  \n",
    "   - [📌 Hamming Distance](#hamming-distance)  \n",
    "   - [📌 Jaccard Similarity / Distance](#jaccard-similarity--distance)  \n",
    "5. [📊 Similarity Measures for Continuous Data](#similarity-measures-for-continuous-data)  \n",
    "   - [📌 Pearson Correlation](#pearson-correlation)  \n",
    "   - [📌 Spearman Rank Correlation](#spearman-rank-correlation)  \n"
   ]
  },
  {
   "cell_type": "markdown",
   "metadata": {},
   "source": []
  },
  {
   "cell_type": "markdown",
   "metadata": {},
   "source": [
    "<a id=\"overview\"></a>  \n",
    "# 🧭 Overview  \n"
   ]
  },
  {
   "cell_type": "markdown",
   "metadata": {},
   "source": []
  },
  {
   "cell_type": "markdown",
   "metadata": {},
   "source": [
    "<a id=\"distance-metrics-for-numeric-data\"></a>  \n",
    "# 📏 Distance Metrics for Numeric Data  \n"
   ]
  },
  {
   "cell_type": "markdown",
   "metadata": {},
   "source": [
    "#### 📌 Euclidean Distance  \n",
    "<a id=\"euclidean-distance\"></a>  \n"
   ]
  },
  {
   "cell_type": "markdown",
   "metadata": {},
   "source": [
    "#### 📌 Manhattan Distance  \n",
    "<a id=\"manhattan-distance\"></a>  \n"
   ]
  },
  {
   "cell_type": "markdown",
   "metadata": {},
   "source": [
    "#### 📌 Minkowski Distance  \n",
    "<a id=\"minkowski-distance\"></a>  \n"
   ]
  },
  {
   "cell_type": "markdown",
   "metadata": {},
   "source": [
    "#### 📌 Mahalanobis Distance  \n",
    "<a id=\"mahalanobis-distance\"></a>  \n"
   ]
  },
  {
   "cell_type": "markdown",
   "metadata": {},
   "source": [
    "<a id=\"distance-metrics-for-vectors-and-angles\"></a>  \n",
    "# 🧮 Distance Metrics for Vectors and Angles  \n"
   ]
  },
  {
   "cell_type": "markdown",
   "metadata": {},
   "source": []
  },
  {
   "cell_type": "markdown",
   "metadata": {},
   "source": [
    "#### 📌 Cosine Similarity / Distance  \n",
    "<a id=\"cosine-similarity--distance\"></a>  \n"
   ]
  },
  {
   "cell_type": "markdown",
   "metadata": {},
   "source": [
    "<a id=\"distance-metrics-for-categorical-or-binary-data\"></a>  \n",
    "# 🔤 Distance Metrics for Categorical or Binary Data  \n"
   ]
  },
  {
   "cell_type": "markdown",
   "metadata": {},
   "source": [
    "#### 📌 Hamming Distance  \n",
    "<a id=\"hamming-distance\"></a>  \n"
   ]
  },
  {
   "cell_type": "markdown",
   "metadata": {},
   "source": [
    "#### 📌 Jaccard Similarity / Distance  \n",
    "<a id=\"jaccard-similarity--distance\"></a>  \n"
   ]
  },
  {
   "cell_type": "markdown",
   "metadata": {},
   "source": [
    "<a id=\"similarity-measures-for-continuous-data\"></a>  \n",
    "# 📊 Similarity Measures for Continuous Data  \n"
   ]
  },
  {
   "cell_type": "markdown",
   "metadata": {},
   "source": [
    "#### 📌 Pearson Correlation  \n",
    "<a id=\"pearson-correlation\"></a>  \n"
   ]
  },
  {
   "cell_type": "markdown",
   "metadata": {},
   "source": [
    "#### 📌 Spearman Rank Correlation  \n",
    "<a id=\"spearman-rank-correlation\"></a>  \n"
   ]
  },
  {
   "cell_type": "markdown",
   "metadata": {},
   "source": [
    "# Scratch Notes"
   ]
  },
  {
   "cell_type": "markdown",
   "metadata": {},
   "source": [
    "Distance Metrics:\n",
    "\tEuclidean Distance: The straight-line distance between two points in space.\n",
    "\tManhattan Distance: Also called L1 distance, it measures the sum of absolute differences.\n",
    "\tMinkowski Distance: A generalization of Euclidean and Manhattan distance.\n",
    "\tCosine Similarity: Measures the cosine of the angle between two vectors, often used in text analysis.\n",
    "\tMahalanobis Distance: Takes into account the correlations of the data set and is useful for multivariate analysis.\n"
   ]
  },
  {
   "cell_type": "markdown",
   "metadata": {},
   "source": [
    "Similarity Measures:\n",
    "\tJaccard Similarity: Measures similarity between finite sample sets, used for binary attributes.\n",
    "\tPearson Correlation: Measures linear correlation between two variables.\n",
    "\tSpearman Rank Correlation: Measures the relationship between two variables using rank-order.\n",
    "\tHamming Distance: Used to compare strings of equal length, measuring the number of positions at which the corresponding elements are different.\n"
   ]
  },
  {
   "cell_type": "markdown",
   "metadata": {},
   "source": []
  }
 ],
 "metadata": {
  "language_info": {
   "name": "python"
  }
 },
 "nbformat": 4,
 "nbformat_minor": 2
}
