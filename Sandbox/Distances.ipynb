{
 "cells": [
  {
   "cell_type": "markdown",
   "metadata": {},
   "source": []
  },
  {
   "cell_type": "markdown",
   "metadata": {},
   "source": [
    "Distance Metrics:\n",
    "\tEuclidean Distance: The straight-line distance between two points in space.\n",
    "\tManhattan Distance: Also called L1 distance, it measures the sum of absolute differences.\n",
    "\tMinkowski Distance: A generalization of Euclidean and Manhattan distance.\n",
    "\tCosine Similarity: Measures the cosine of the angle between two vectors, often used in text analysis.\n",
    "\tMahalanobis Distance: Takes into account the correlations of the data set and is useful for multivariate analysis.\n"
   ]
  },
  {
   "cell_type": "markdown",
   "metadata": {},
   "source": [
    "Similarity Measures:\n",
    "\tJaccard Similarity: Measures similarity between finite sample sets, used for binary attributes.\n",
    "\tPearson Correlation: Measures linear correlation between two variables.\n",
    "\tSpearman Rank Correlation: Measures the relationship between two variables using rank-order.\n",
    "\tHamming Distance: Used to compare strings of equal length, measuring the number of positions at which the corresponding elements are different.\n"
   ]
  },
  {
   "cell_type": "markdown",
   "metadata": {},
   "source": []
  }
 ],
 "metadata": {
  "language_info": {
   "name": "python"
  }
 },
 "nbformat": 4,
 "nbformat_minor": 2
}
