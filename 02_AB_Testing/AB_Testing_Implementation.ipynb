{
 "cells": [
  {
   "cell_type": "markdown",
   "id": "bf94292f",
   "metadata": {},
   "source": [
    "# Contents\n",
    "- [Setup](#Setup)\n",
    "- [Randomization Methods](#Randomization-Methods)\n",
    "    - [Simple Randomization](#Simple-Randomization)  \n",
    "    - [Stratified Sampling](#Stratified-Sampling)  \n",
    "    - [Block Randomization](#Block-Randomization)  \n",
    "    - [Match Pair Randomization](#Match-Pair-Randomization)  \n",
    "    - [Cluster Randomization](#Cluster-Randomization)  \n",
    "    - [CUPED](#CUPED)\n",
    "- [AA Testing](#AA-Testing)\n",
    "- [Power Analysis](#Power-Analysis)\n",
    "- [AB Testing](#AB-Testing)\n",
    "- [How Long](#How-Long)\n",
    "- [Results](#Results)\n",
    "    - [Visualization](#Visualization)\n",
    "- [Post Hoc Analysis](#Post-Hoc-Analysis)\n",
    "- [Other Notes](#Other-Notes)\n",
    "    - [Experimentation-Infrastructure](#Experimentation-Infrastructure)\n",
    "- [Scratch Notes](#Scratch-Notes)"
   ]
  },
  {
   "cell_type": "markdown",
   "id": "692c7961",
   "metadata": {},
   "source": [
    "# Setup"
   ]
  },
  {
   "cell_type": "code",
   "execution_count": 3,
   "id": "e5b194d1",
   "metadata": {},
   "outputs": [],
   "source": [
    "# Display all outputs\n",
    "from IPython.core.interactiveshell import InteractiveShell\n",
    "InteractiveShell.ast_node_interactivity = \"all\""
   ]
  },
  {
   "cell_type": "markdown",
   "id": "7b6202df",
   "metadata": {},
   "source": [
    "#### Data Seed"
   ]
  },
  {
   "cell_type": "code",
   "execution_count": 4,
   "id": "fb3d5308",
   "metadata": {},
   "outputs": [],
   "source": [
    "import pandas as pd\n",
    "import numpy as np\n",
    "\n",
    "# Set random seed\n",
    "np.random.seed(42)"
   ]
  },
  {
   "cell_type": "markdown",
   "id": "853f1591",
   "metadata": {},
   "source": [
    "[Back to the top](#Contents)\n",
    "___\n"
   ]
  },
  {
   "cell_type": "markdown",
   "id": "25cad63c",
   "metadata": {},
   "source": [
    "# Randomization Methods\n",
    "\n",
    "- Ensures that differences in outcome metrics are due to the experiment and not pre-existing differences between users.\n",
    "- Eliminates selection bias (e.g., users choosing their own group).\n",
    "- Helps balance confounding variables (e.g., demographics, device type, purchase history).\n",
    "- Enables valid statistical inference."
   ]
  },
  {
   "cell_type": "markdown",
   "id": "b9ab4fa6",
   "metadata": {},
   "source": [
    "### Simple Randomization\n",
    "- Each user has an equal chance (e.g., 50/50 split for A/B) of being assigned to treatment or control.\n",
    "- Works well when sample sizes are large."
   ]
  },
  {
   "cell_type": "code",
   "execution_count": null,
   "id": "9e03a828",
   "metadata": {},
   "outputs": [],
   "source": [
    "import numpy as np\n",
    "import pandas as pd\n",
    "\n",
    "# Sample user data\n",
    "np.random.seed(42)  # For reproducibility\n",
    "users = pd.DataFrame({'user_id': range(1, 101)})  # 100 users\n",
    "\n",
    "# Assign each user to 'control' or 'treatment' with 50% probability\n",
    "users['group'] = np.random.choice(['control', 'treatment'], size=len(users), p=[0.5, 0.5])\n",
    "\n",
    "# Display the result\n",
    "users"
   ]
  },
  {
   "cell_type": "markdown",
   "id": "ff9ce64c",
   "metadata": {},
   "source": [
    "### Stratified Sampling\n",
    "- Ensures balance across key segments (e.g., country, platform, user tenure).\n",
    "- Example: If 60% of your users are on iOS and 40% on Android, simple randomization might cause an imbalance, so you stratify by platform."
   ]
  },
  {
   "cell_type": "code",
   "execution_count": null,
   "id": "7c50e903",
   "metadata": {},
   "outputs": [],
   "source": [
    "from sklearn.model_selection import train_test_split\n",
    "\n",
    "# Create a sample dataset with 100 users and platform labels\n",
    "np.random.seed(42)\n",
    "users = pd.DataFrame({\n",
    "    'user_id': range(1, 101),\n",
    "    'platform': np.random.choice(['iOS', 'Android'], size=100, p=[0.6, 0.4])  # 60% iOS, 40% Android\n",
    "})\n",
    "\n",
    "# Stratify by platform to ensure balance\n",
    "train, test = train_test_split(users, test_size=0.5, stratify=users['platform'], random_state=42)\n",
    "\n",
    "# Assign groups\n",
    "train['group'] = 'control'\n",
    "test['group'] = 'treatment'\n",
    "\n",
    "# Merge and display\n",
    "users = pd.concat([train, test]).sort_values('user_id')\n",
    "users"
   ]
  },
  {
   "cell_type": "markdown",
   "id": "b5fba792",
   "metadata": {},
   "source": [
    "### Block Randomization"
   ]
  },
  {
   "cell_type": "markdown",
   "id": "844051c2",
   "metadata": {},
   "source": [
    "<!-- ### Blocked Randomization\n",
    "- Ensures equal group sizes in small experiments.\n",
    "- Example: If testing on 100 users, you create blocks of 10 and assign 5 to control and 5 to treatment within each block. -->\n"
   ]
  },
  {
   "cell_type": "code",
   "execution_count": null,
   "id": "8eda074e",
   "metadata": {},
   "outputs": [],
   "source": [
    "# Define block size (e.g., groups of 10 users)\n",
    "block_size = 10\n",
    "users = pd.DataFrame({'user_id': range(1, 101)})\n",
    "\n",
    "# Assign blocks\n",
    "users['block'] = (users['user_id'] - 1) // block_size\n",
    "\n",
    "# Within each block, randomly assign 50% to control and 50% to treatment\n",
    "users['group'] = users.groupby('block')['user_id'].transform(lambda x: np.random.choice(['control', 'treatment'], size=len(x), replace=True))\n",
    "\n",
    "# Drop the block column after assignment\n",
    "users = users.drop(columns=['block'])\n",
    "users"
   ]
  },
  {
   "cell_type": "markdown",
   "id": "628a65bc",
   "metadata": {},
   "source": [
    "### Match Pair Randomization"
   ]
  },
  {
   "cell_type": "markdown",
   "id": "cd7433cc",
   "metadata": {},
   "source": [
    "Participants are paired based on similar characteristics before being randomly assigned to different groups. This ensures that treatment and control groups are balanced on key covariates, reducing variance and improving statistical power.\n",
    "\n",
    "When to Use Matched-Pair Randomization?\n",
    "- When you have a small sample size and need to control for confounders.\n",
    "- When key characteristics (e.g., age, income, purchase history) could influence the outcome.\n",
    "- When you want to minimize variance by ensuring similar individuals are in each group.\n",
    "\n",
    "How It Works:\n",
    "- Identify key variables that might impact the outcome (e.g., age, income, engagement level).\n",
    "- Sort users based on these variables.\n",
    "= Create pairs (or small groups) of users with similar characteristics.\n",
    "- Within each pair, randomly assign one user to treatment and the other to control.\n"
   ]
  },
  {
   "cell_type": "code",
   "execution_count": null,
   "id": "881dd533",
   "metadata": {},
   "outputs": [],
   "source": [
    "import numpy as np\n",
    "import pandas as pd\n",
    "\n",
    "# Generate sample user data\n",
    "np.random.seed(42)\n",
    "users = pd.DataFrame({\n",
    "    'user_id': range(1, 101),\n",
    "    'engagement_score': np.random.normal(50, 15, 100)  # Simulated user engagement scores\n",
    "})\n",
    "\n",
    "# Sort users by engagement to create pairs\n",
    "users = users.sort_values(by='engagement_score').reset_index(drop=True)\n",
    "\n",
    "# Assign treatment/control in pairs\n",
    "users['group'] = np.where(users.index % 2 == 0, 'control', 'treatment')\n",
    "users\n"
   ]
  },
  {
   "cell_type": "markdown",
   "id": "0872f04b",
   "metadata": {},
   "source": [
    "### Cluster Randomization\n",
    "- Assigns whole groups (e.g., entire cities or schools) instead of individuals.\n",
    "- Useful when spillover effects are a concern (e.g., referral programs)."
   ]
  },
  {
   "cell_type": "code",
   "execution_count": null,
   "id": "7c7fdc67",
   "metadata": {},
   "outputs": [],
   "source": [
    "# Sample dataset with users belonging to different cities\n",
    "np.random.seed(42)\n",
    "users = pd.DataFrame({\n",
    "    'user_id': range(1, 101),\n",
    "    'city': np.random.choice(['New York', 'San Francisco', 'Chicago', 'Austin'], size=100)\n",
    "})\n",
    "\n",
    "# Randomly assign cities to control or treatment\n",
    "unique_cities = users['city'].unique()\n",
    "city_assignments = dict(zip(unique_cities, np.random.choice(['control', 'treatment'], size=len(unique_cities), replace=True)))\n",
    "\n",
    "# Assign users based on their city\n",
    "users['group'] = users['city'].map(city_assignments)\n",
    "users"
   ]
  },
  {
   "cell_type": "markdown",
   "id": "a8419594",
   "metadata": {},
   "source": [
    "### CUPED\n",
    "- Uses historical data to reduce variance and increase test sensitivity.\n",
    "- Doesn’t change how users are assigned but helps in post-analysis."
   ]
  },
  {
   "cell_type": "code",
   "execution_count": null,
   "id": "98ddd000",
   "metadata": {},
   "outputs": [],
   "source": [
    "import statsmodels.api as sm\n",
    "\n",
    "# Simulated pre-experiment metric (e.g., past purchase count)\n",
    "np.random.seed(42)\n",
    "users = pd.DataFrame({'user_id': range(1, 101)})\n",
    "users['pre_experiment_metric'] = np.random.normal(loc=50, scale=10, size=100)  # Baseline metric\n",
    "\n",
    "# Simple Randomization\n",
    "users['group'] = np.random.choice(['control', 'treatment'], size=len(users), p=[0.5, 0.5])\n",
    "\n",
    "# Compute CUPED adjustment\n",
    "X = users[['pre_experiment_metric']]\n",
    "X = sm.add_constant(X)  # Add intercept\n",
    "y = np.random.normal(loc=0, scale=5, size=100)  # Simulated experiment outcome\n",
    "\n",
    "# Regression to estimate theta (correction factor)\n",
    "theta = sm.OLS(y, X).fit().params['pre_experiment_metric']\n",
    "\n",
    "# Adjust the outcome using pre-experiment data\n",
    "users['adjusted_outcome'] = y - theta * users['pre_experiment_metric']\n",
    "users\n"
   ]
  },
  {
   "cell_type": "markdown",
   "id": "73691185",
   "metadata": {},
   "source": [
    "[Back to the top](#Contents)\n",
    "___\n"
   ]
  },
  {
   "cell_type": "markdown",
   "id": "da3d61b9",
   "metadata": {},
   "source": [
    "# AA Testing"
   ]
  },
  {
   "cell_type": "markdown",
   "id": "b3e0f628",
   "metadata": {},
   "source": [
    "A/A testing is an experiment where both groups (control and treatment) receive the **same experience** to ensure that randomization is working correctly. It acts as a **sanity check** before running an A/B test.\n",
    "\n",
    "#### Importance\n",
    "- **Validates Randomization:** Ensures that groups are statistically similar before testing.\n",
    "- **Detects Sample Ratio Mismatch (SRM):** Verifies that user assignment is balanced.\n",
    "- **Estimates Variance for Power Analysis:** Helps understand variability before defining sample size for A/B testing.\n",
    "- **Checks for Pre-Existing Bias:** Ensures no systematic differences exist between control and treatment groups.\n",
    "\n",
    "#### Process\n",
    "- **Randomly assign users** to two equal groups (just like an A/B test).\n",
    "- **Measure key metrics** (e.g., conversion rate, engagement, revenue).\n",
    "- **Perform statistical tests** (e.g., t-test for continuous data, chi-square for categorical data) to confirm no significant difference.\n",
    "- **Analyze Sample Ratio Mismatch (SRM)** to verify even split between groups.\n",
    "\n",
    "#### Result\n",
    "- **No significant difference:** Randomization is working correctly, and the experiment is set up properly.\n",
    "- **Significant difference detected:** Investigate potential issues such as randomization bugs, sample bias, or instrumentation errors.\n"
   ]
  },
  {
   "cell_type": "markdown",
   "id": "3170e8a9",
   "metadata": {},
   "source": [
    "#### 🧪 When to Use Which Statistical Test in A/B Testing\n",
    "\n",
    "| **Metric Type**        | **Example**                        | **Recommended Test**                      | **Why**                                                  |\n",
    "|------------------------|------------------------------------|-------------------------------------------|-----------------------------------------------------------|\n",
    "| Continuous             | Revenue, time on site, scores      | `scipy.stats.ttest_ind` (T-test)          | Compares means of two independent groups                 |\n",
    "| Continuous (unequal variance) | Same as above               | `ttest_ind(..., equal_var=False)`         | Welch’s T-test — safer when variances differ             |\n",
    "| Binary (0/1 outcomes)  | Conversion, click, purchase        | `statsmodels.stats.proportions_ztest`     | Compares proportions between two groups                  |\n",
    "| Count data             | # pageviews, # items bought        | Poisson or Negative Binomial test         | For skewed count distributions                           |\n",
    "| Non-parametric         | Ordinal/skewed data, NPS scores    | Mann-Whitney U test                       | No assumption of normality                               |\n",
    "| Multiple groups (A/B/C)| Multi-variant tests                | ANOVA (continuous), Chi-squared (binary)  | Tests across 3+ groups                                   |\n",
    "\n",
    "---\n",
    "\n",
    "#### ✅ Quick Rules of Thumb:\n",
    "- If your metric is **continuous + normal-ish** → Use **T-test**\n",
    "- If it’s **binary (e.g., clicked or not)** → Use **Z-test**\n",
    "- If it’s **non-normal or skewed** → Use **Mann-Whitney U test**\n",
    "- If testing **3 or more variants** → Use **ANOVA** or **Chi-squared**"
   ]
  },
  {
   "cell_type": "code",
   "execution_count": 31,
   "id": "3e3e1a31",
   "metadata": {},
   "outputs": [
    {
     "name": "stdout",
     "output_type": "stream",
     "text": [
      "population:\n",
      "\n"
     ]
    },
    {
     "data": {
      "text/html": [
       "<div>\n",
       "<style scoped>\n",
       "    .dataframe tbody tr th:only-of-type {\n",
       "        vertical-align: middle;\n",
       "    }\n",
       "\n",
       "    .dataframe tbody tr th {\n",
       "        vertical-align: top;\n",
       "    }\n",
       "\n",
       "    .dataframe thead th {\n",
       "        text-align: right;\n",
       "    }\n",
       "</style>\n",
       "<table border=\"1\" class=\"dataframe\">\n",
       "  <thead>\n",
       "    <tr style=\"text-align: right;\">\n",
       "      <th></th>\n",
       "      <th>user_id</th>\n",
       "      <th>is_eligible</th>\n",
       "      <th>engagement_score</th>\n",
       "    </tr>\n",
       "  </thead>\n",
       "  <tbody>\n",
       "    <tr>\n",
       "      <th>0</th>\n",
       "      <td>1</td>\n",
       "      <td>0</td>\n",
       "      <td>41.220174</td>\n",
       "    </tr>\n",
       "    <tr>\n",
       "      <th>1</th>\n",
       "      <td>2</td>\n",
       "      <td>1</td>\n",
       "      <td>41.731196</td>\n",
       "    </tr>\n",
       "    <tr>\n",
       "      <th>2</th>\n",
       "      <td>3</td>\n",
       "      <td>1</td>\n",
       "      <td>47.735211</td>\n",
       "    </tr>\n",
       "    <tr>\n",
       "      <th>3</th>\n",
       "      <td>4</td>\n",
       "      <td>1</td>\n",
       "      <td>53.673655</td>\n",
       "    </tr>\n",
       "    <tr>\n",
       "      <th>4</th>\n",
       "      <td>5</td>\n",
       "      <td>0</td>\n",
       "      <td>59.135846</td>\n",
       "    </tr>\n",
       "    <tr>\n",
       "      <th>...</th>\n",
       "      <td>...</td>\n",
       "      <td>...</td>\n",
       "      <td>...</td>\n",
       "    </tr>\n",
       "    <tr>\n",
       "      <th>1995</th>\n",
       "      <td>1996</td>\n",
       "      <td>1</td>\n",
       "      <td>64.665409</td>\n",
       "    </tr>\n",
       "    <tr>\n",
       "      <th>1996</th>\n",
       "      <td>1997</td>\n",
       "      <td>1</td>\n",
       "      <td>38.884198</td>\n",
       "    </tr>\n",
       "    <tr>\n",
       "      <th>1997</th>\n",
       "      <td>1998</td>\n",
       "      <td>0</td>\n",
       "      <td>49.641744</td>\n",
       "    </tr>\n",
       "    <tr>\n",
       "      <th>1998</th>\n",
       "      <td>1999</td>\n",
       "      <td>0</td>\n",
       "      <td>44.685454</td>\n",
       "    </tr>\n",
       "    <tr>\n",
       "      <th>1999</th>\n",
       "      <td>2000</td>\n",
       "      <td>0</td>\n",
       "      <td>34.321406</td>\n",
       "    </tr>\n",
       "  </tbody>\n",
       "</table>\n",
       "<p>2000 rows × 3 columns</p>\n",
       "</div>"
      ],
      "text/plain": [
       "      user_id  is_eligible  engagement_score\n",
       "0           1            0         41.220174\n",
       "1           2            1         41.731196\n",
       "2           3            1         47.735211\n",
       "3           4            1         53.673655\n",
       "4           5            0         59.135846\n",
       "...       ...          ...               ...\n",
       "1995     1996            1         64.665409\n",
       "1996     1997            1         38.884198\n",
       "1997     1998            0         49.641744\n",
       "1998     1999            0         44.685454\n",
       "1999     2000            0         34.321406\n",
       "\n",
       "[2000 rows x 3 columns]"
      ]
     },
     "execution_count": 31,
     "metadata": {},
     "output_type": "execute_result"
    },
    {
     "name": "stdout",
     "output_type": "stream",
     "text": [
      "eligible_population:\n",
      "\n"
     ]
    },
    {
     "data": {
      "text/html": [
       "<div>\n",
       "<style scoped>\n",
       "    .dataframe tbody tr th:only-of-type {\n",
       "        vertical-align: middle;\n",
       "    }\n",
       "\n",
       "    .dataframe tbody tr th {\n",
       "        vertical-align: top;\n",
       "    }\n",
       "\n",
       "    .dataframe thead th {\n",
       "        text-align: right;\n",
       "    }\n",
       "</style>\n",
       "<table border=\"1\" class=\"dataframe\">\n",
       "  <thead>\n",
       "    <tr style=\"text-align: right;\">\n",
       "      <th></th>\n",
       "      <th>user_id</th>\n",
       "      <th>is_eligible</th>\n",
       "      <th>engagement_score</th>\n",
       "      <th>group</th>\n",
       "    </tr>\n",
       "  </thead>\n",
       "  <tbody>\n",
       "    <tr>\n",
       "      <th>1</th>\n",
       "      <td>2</td>\n",
       "      <td>1</td>\n",
       "      <td>41.731196</td>\n",
       "      <td>A1</td>\n",
       "    </tr>\n",
       "    <tr>\n",
       "      <th>2</th>\n",
       "      <td>3</td>\n",
       "      <td>1</td>\n",
       "      <td>47.735211</td>\n",
       "      <td>A2</td>\n",
       "    </tr>\n",
       "    <tr>\n",
       "      <th>3</th>\n",
       "      <td>4</td>\n",
       "      <td>1</td>\n",
       "      <td>53.673655</td>\n",
       "      <td>A1</td>\n",
       "    </tr>\n",
       "    <tr>\n",
       "      <th>7</th>\n",
       "      <td>8</td>\n",
       "      <td>1</td>\n",
       "      <td>47.288764</td>\n",
       "      <td>A2</td>\n",
       "    </tr>\n",
       "    <tr>\n",
       "      <th>8</th>\n",
       "      <td>9</td>\n",
       "      <td>1</td>\n",
       "      <td>49.786327</td>\n",
       "      <td>A1</td>\n",
       "    </tr>\n",
       "    <tr>\n",
       "      <th>...</th>\n",
       "      <td>...</td>\n",
       "      <td>...</td>\n",
       "      <td>...</td>\n",
       "      <td>...</td>\n",
       "    </tr>\n",
       "    <tr>\n",
       "      <th>1990</th>\n",
       "      <td>1991</td>\n",
       "      <td>1</td>\n",
       "      <td>58.794170</td>\n",
       "      <td>A1</td>\n",
       "    </tr>\n",
       "    <tr>\n",
       "      <th>1992</th>\n",
       "      <td>1993</td>\n",
       "      <td>1</td>\n",
       "      <td>63.764965</td>\n",
       "      <td>A2</td>\n",
       "    </tr>\n",
       "    <tr>\n",
       "      <th>1994</th>\n",
       "      <td>1995</td>\n",
       "      <td>1</td>\n",
       "      <td>56.870658</td>\n",
       "      <td>A1</td>\n",
       "    </tr>\n",
       "    <tr>\n",
       "      <th>1995</th>\n",
       "      <td>1996</td>\n",
       "      <td>1</td>\n",
       "      <td>64.665409</td>\n",
       "      <td>A1</td>\n",
       "    </tr>\n",
       "    <tr>\n",
       "      <th>1996</th>\n",
       "      <td>1997</td>\n",
       "      <td>1</td>\n",
       "      <td>38.884198</td>\n",
       "      <td>A2</td>\n",
       "    </tr>\n",
       "  </tbody>\n",
       "</table>\n",
       "<p>1194 rows × 4 columns</p>\n",
       "</div>"
      ],
      "text/plain": [
       "      user_id  is_eligible  engagement_score group\n",
       "1           2            1         41.731196    A1\n",
       "2           3            1         47.735211    A2\n",
       "3           4            1         53.673655    A1\n",
       "7           8            1         47.288764    A2\n",
       "8           9            1         49.786327    A1\n",
       "...       ...          ...               ...   ...\n",
       "1990     1991            1         58.794170    A1\n",
       "1992     1993            1         63.764965    A2\n",
       "1994     1995            1         56.870658    A1\n",
       "1995     1996            1         64.665409    A1\n",
       "1996     1997            1         38.884198    A2\n",
       "\n",
       "[1194 rows x 4 columns]"
      ]
     },
     "execution_count": 31,
     "metadata": {},
     "output_type": "execute_result"
    },
    {
     "name": "stdout",
     "output_type": "stream",
     "text": [
      "group_A1, group_A2:\n",
      "\n",
      "1     41.731196\n",
      "3     53.673655\n",
      "8     49.786327\n",
      "12    57.368439\n",
      "18    57.942647\n",
      "Name: engagement_score, dtype: float64\n",
      "2     47.735211\n",
      "7     47.288764\n",
      "9     42.527883\n",
      "11    58.840454\n",
      "17    44.709473\n",
      "Name: engagement_score, dtype: float64\n"
     ]
    }
   ],
   "source": [
    "import numpy as np\n",
    "import pandas as pd\n",
    "import scipy.stats as stats\n",
    "import matplotlib.pyplot as plt\n",
    "\n",
    "np.random.seed(42)\n",
    "\n",
    "# Step 1: Simulate a base population of customers\n",
    "n_customers = 2000\n",
    "population = pd.DataFrame({\n",
    "    'user_id': np.arange(1, n_customers + 1),\n",
    "    'is_eligible': np.random.choice([0, 1], size=n_customers, p=[0.4, 0.6]),  # 60% eligible\n",
    "    'engagement_score': np.random.normal(loc=50, scale=10, size=n_customers)  # some behavioral metric\n",
    "})\n",
    "print(\"population:\\n\")\n",
    "population\n",
    "\n",
    "# Step 2: Filter to eligible population\n",
    "eligible_population = population[population['is_eligible'] == 1].copy()\n",
    "n_eligible = len(eligible_population)\n",
    "\n",
    "# Step 3: Randomly assign eligible users into two groups (A1 and A2)\n",
    "eligible_population['group'] = np.random.choice(['A1', 'A2'], size=n_eligible, replace=True)\n",
    "print(\"eligible_population:\\n\")\n",
    "eligible_population\n",
    "\n",
    "# Step 4: Split into the two groups\n",
    "group_A1 = eligible_population[eligible_population['group'] == 'A1']['engagement_score']\n",
    "group_A2 = eligible_population[eligible_population['group'] == 'A2']['engagement_score']\n",
    "print(\"group_A1, group_A2:\\n\")\n",
    "print(group_A1.head())\n",
    "print(group_A2.head())"
   ]
  },
  {
   "cell_type": "markdown",
   "id": "cf60d6ad",
   "metadata": {},
   "source": [
    "#### Step 5: SRM Check — Is group assignment balanced?\n",
    "\n",
    "- 🔍 SRM (Sample Ratio Mismatch) checks whether the observed group sizes match the expected ratio.\n",
    "- In a perfect world, random assignment to 'A1' and 'A2' should give ~50/50 split.\n",
    "- SRM helps catch bugs in randomization, data logging, or user eligibility filtering.\n",
    "\n",
    "🎯 Real-World Experiment Split Ratios\n",
    "\n",
    "| **Scenario**                     | **Split**              | **Why**                                 |\n",
    "|----------------------------------|------------------------|------------------------------------------|\n",
    "| Default A/B                      | 50 / 50                | Maximizes power and ensures fairness     |\n",
    "| Risky feature                    | 10 / 90 or 20 / 80     | Limits user exposure to minimize risk    |\n",
    "| Ramp-up                          | Step-wise (1-5-25-50…) | Gradual rollout to catch issues early    |\n",
    "| A/B/C Test                       | 33 / 33 / 33 or weighted | Compare multiple variants fairly or with bias |\n",
    "| High control confidence needed   | 70 / 30 or 60 / 40     | More stability in baseline comparisons   |\n"
   ]
  },
  {
   "cell_type": "code",
   "execution_count": 36,
   "id": "49459fa9",
   "metadata": {},
   "outputs": [
    {
     "name": "stdout",
     "output_type": "stream",
     "text": [
      "\n",
      "📊 Group Assignment Breakdown\n",
      "Group A1: 583 users (48.83%)\n",
      "Group A2: 611 users (51.17%)\n",
      "\n",
      "🔍 SRM Check\n",
      "Chi2 Stat: 0.6566\n",
      "P-value : 0.4178\n",
      "✅ No SRM — group assignment is balanced.\n"
     ]
    }
   ],
   "source": [
    "observed_counts = eligible_population['group'].value_counts().sort_index()\n",
    "expected_counts = [n_eligible / 2, n_eligible / 2]\n",
    "\n",
    "# Print observed counts and percentages\n",
    "print(\"\\n📊 Group Assignment Breakdown\")\n",
    "for group in observed_counts.index:\n",
    "    count = observed_counts[group]\n",
    "    pct = count / n_eligible * 100\n",
    "    print(f\"Group {group}: {count} users ({pct:.2f}%)\")\n",
    "    \n",
    "# Chi-Square Goodness of Fit Test\n",
    "chi2_stat, chi2_p = stats.chisquare(f_obs=observed_counts, f_exp=expected_counts)\n",
    "\n",
    "print(\"\\n🔍 SRM Check\")\n",
    "print(f\"Chi2 Stat: {chi2_stat:.4f}\")\n",
    "print(f\"P-value : {chi2_p:.4f}\")\n",
    "if chi2_p < 0.05:\n",
    "    print(\"⚠️ Sample Ratio Mismatch detected — investigate assignment logic.\")\n",
    "else:\n",
    "    print(\"✅ No SRM — group assignment is balanced.\")"
   ]
  },
  {
   "cell_type": "code",
   "execution_count": 38,
   "id": "9d413fa8",
   "metadata": {},
   "outputs": [
    {
     "name": "stdout",
     "output_type": "stream",
     "text": [
      "\n",
      "T-statistic: 0.4869\n",
      "P-value: 0.6264\n",
      "✅ No significant difference — randomization looks good.\n"
     ]
    },
    {
     "data": {
      "image/png": "[encoded data removed]",
      "text/plain": [
       "<Figure size 640x480 with 1 Axes>"
      ]
     },
     "metadata": {},
     "output_type": "display_data"
    }
   ],
   "source": [
    "# Step 6: Run 2-sample (independent) t-test\n",
    "t_stat, p_value = stats.ttest_ind(group_A1, group_A2)\n",
    "\n",
    "print(f\"\\nT-statistic: {t_stat:.4f}\")\n",
    "print(f\"P-value: {p_value:.4f}\")\n",
    "if p_value < 0.05:\n",
    "    print(\"⚠️ Statistically significant difference found — check randomization.\")\n",
    "else:\n",
    "    print(\"✅ No significant difference — randomization looks good.\")\n",
    "\n",
    "# Step 7: Visualize distributions\n",
    "plt.hist(group_A1, bins=30, alpha=0.5, label='Group A1');\n",
    "plt.hist(group_A2, bins=30, alpha=0.5, label='Group A2');\n",
    "plt.title('AA Test: Distribution Comparison');\n",
    "plt.legend();\n",
    "plt.show();"
   ]
  },
  {
   "cell_type": "markdown",
   "id": "f48617f5",
   "metadata": {},
   "source": [
    "[Back to the top](#Contents)\n",
    "___\n"
   ]
  },
  {
   "cell_type": "markdown",
   "id": "b860c5e4",
   "metadata": {},
   "source": [
    "# Power Analysis\n",
    "\n",
    "Power analysis helps determine the **minimum sample size** needed to detect an expected effect with statistical confidence.\n",
    "\n",
    "`Why It Matters:`\n",
    "- Avoids **underpowered** tests (can't detect real differences)\n",
    "- Avoids **overpowered** tests (wastes resources)\n",
    "- Balances tradeoffs between **sample size**, **effect size**, **confidence level**, and **statistical power**\n",
    "\n",
    "`Key Inputs:`\n",
    "- **alpha (α):** Significance level (probability of Type I error, usually 0.05)\n",
    "- **Power (1 - β):** Probability of detecting a true effect (commonly 0.80 or 0.90)\n",
    "- **Baseline conversion rate:** Current performance (e.g., 10%)\n",
    "- **Minimum Detectable Effect (MDE):** Smallest lift you care to detect (e.g., +2%)\n",
    "\n",
    "We use a two-sample z-test for proportions to estimate sample size per group."
   ]
  },
  {
   "cell_type": "code",
   "execution_count": 49,
   "id": "1ef00a78",
   "metadata": {},
   "outputs": [
    {
     "name": "stdout",
     "output_type": "stream",
     "text": [
      "📈 Power Analysis Summary\n",
      "- Baseline conversion rate: 0.1\n",
      "- Minimum detectable effect (MDE): 0.02\n",
      "- Target conversion rate: 0.12\n",
      "- Significance level (α): 0.05\n",
      "- Statistical power (1 - β): 0.8\n",
      "\n",
      "✅ Result:\n",
      "To detect a lift from 0.1 to 0.12 with\n",
      "80% power and 5% significance level,\n",
      "you need at least 3532 users in each group (control and treatment).\n",
      "Total required sample size: 7064 users.\n",
      "\n"
     ]
    }
   ],
   "source": [
    "import numpy as np\n",
    "import scipy.stats as stats\n",
    "\n",
    "def calculate_sample_size(alpha, power, baseline_rate, mde):\n",
    "    \"\"\"\n",
    "    Calculate the sample size required for each group in an A/B test.\n",
    "    \n",
    "    Parameters:\n",
    "    - alpha: Significance level (e.g., 0.05)\n",
    "    - power: Desired power (e.g., 0.80)\n",
    "    - baseline_rate: Baseline conversion rate (as a proportion, e.g., 0.10)\n",
    "    - mde: Minimum Detectable Effect (as a proportion, e.g., 0.02 for +2%)\n",
    "\n",
    "    Returns:\n",
    "    - Sample size per group\n",
    "    \"\"\"\n",
    "    # Z-scores\n",
    "    z_alpha = stats.norm.ppf(1 - alpha / 2)\n",
    "    z_beta = stats.norm.ppf(power)\n",
    "\n",
    "    # Pooled standard error\n",
    "    pooled_std = np.sqrt(\n",
    "        2 * baseline_rate * (1 - baseline_rate) + \n",
    "        mde**2 / 2  # adjustment for effect size difference\n",
    "    )\n",
    "\n",
    "    # Sample size formula\n",
    "    n = ((z_alpha + z_beta)**2 * 2 * baseline_rate * (1 - baseline_rate)) / (mde**2)\n",
    "    return int(np.ceil(n))\n",
    "\n",
    "# Example usage\n",
    "alpha = 0.05\n",
    "power = 0.80\n",
    "baseline_rate = 0.10  # 10% baseline conversion\n",
    "mde = 0.02            # 2% lift\n",
    "\n",
    "required_sample_size = calculate_sample_size(alpha, power, baseline_rate, mde)\n",
    "\n",
    "# Conclusions\n",
    "print(\"📈 Power Analysis Summary\")\n",
    "print(f\"- Baseline conversion rate: {baseline_rate}\")\n",
    "print(f\"- Minimum detectable effect (MDE): {mde}\")\n",
    "print(f\"- Target conversion rate: {(baseline_rate + mde):.2f}\")\n",
    "print(f\"- Significance level (α): {alpha}\")\n",
    "print(f\"- Statistical power (1 - β): {power}\")\n",
    "\n",
    "print(f\"\\n✅ Result:\")\n",
    "print(f\"To detect a lift from {baseline_rate} to {(baseline_rate + mde):.2f} with\")\n",
    "print(f\"{power*100:.0f}% power and {alpha*100:.0f}% significance level,\")\n",
    "print(f\"you need at least {required_sample_size} users in each group (control and treatment).\")\n",
    "print(f\"Total required sample size: {required_sample_size * 2} users.\\n\")"
   ]
  },
  {
   "cell_type": "markdown",
   "id": "5a1e3add",
   "metadata": {},
   "source": [
    "[Back to the top](#Contents)\n",
    "___"
   ]
  },
  {
   "cell_type": "markdown",
   "id": "a3e68463",
   "metadata": {},
   "source": [
    "# AB Testing\n",
    "- Experiment Implementation"
   ]
  },
  {
   "cell_type": "markdown",
   "id": "5e28a1f9",
   "metadata": {},
   "source": [
    "### 🛠️ Metric Tracked:\n",
    "- **Primary metric:** Conversion rate (binary: clicked = 1, did not click = 0)\n",
    "- **Unit of analysis:** Unique user\n",
    "\n",
    "---\n",
    "\n",
    "#### 📈 Outcome Analysis Plan:\n",
    "- Two-sample **z-test for proportions** to compare conversion rates\n",
    "- Compute confidence intervals and p-values\n",
    "- Optional: visualizations of effect size and confidence bounds"
   ]
  },
  {
   "cell_type": "code",
   "execution_count": 51,
   "id": "063f7f83",
   "metadata": {},
   "outputs": [
    {
     "data": {
      "text/html": [
       "<div>\n",
       "<style scoped>\n",
       "    .dataframe tbody tr th:only-of-type {\n",
       "        vertical-align: middle;\n",
       "    }\n",
       "\n",
       "    .dataframe tbody tr th {\n",
       "        vertical-align: top;\n",
       "    }\n",
       "\n",
       "    .dataframe thead th {\n",
       "        text-align: right;\n",
       "    }\n",
       "</style>\n",
       "<table border=\"1\" class=\"dataframe\">\n",
       "  <thead>\n",
       "    <tr style=\"text-align: right;\">\n",
       "      <th></th>\n",
       "      <th>user_id</th>\n",
       "      <th>group</th>\n",
       "    </tr>\n",
       "  </thead>\n",
       "  <tbody>\n",
       "    <tr>\n",
       "      <th>0</th>\n",
       "      <td>1</td>\n",
       "      <td>control</td>\n",
       "    </tr>\n",
       "    <tr>\n",
       "      <th>1</th>\n",
       "      <td>2</td>\n",
       "      <td>treatment</td>\n",
       "    </tr>\n",
       "    <tr>\n",
       "      <th>2</th>\n",
       "      <td>3</td>\n",
       "      <td>control</td>\n",
       "    </tr>\n",
       "    <tr>\n",
       "      <th>3</th>\n",
       "      <td>4</td>\n",
       "      <td>control</td>\n",
       "    </tr>\n",
       "    <tr>\n",
       "      <th>4</th>\n",
       "      <td>5</td>\n",
       "      <td>control</td>\n",
       "    </tr>\n",
       "    <tr>\n",
       "      <th>...</th>\n",
       "      <td>...</td>\n",
       "      <td>...</td>\n",
       "    </tr>\n",
       "    <tr>\n",
       "      <th>7059</th>\n",
       "      <td>7060</td>\n",
       "      <td>treatment</td>\n",
       "    </tr>\n",
       "    <tr>\n",
       "      <th>7060</th>\n",
       "      <td>7061</td>\n",
       "      <td>treatment</td>\n",
       "    </tr>\n",
       "    <tr>\n",
       "      <th>7061</th>\n",
       "      <td>7062</td>\n",
       "      <td>control</td>\n",
       "    </tr>\n",
       "    <tr>\n",
       "      <th>7062</th>\n",
       "      <td>7063</td>\n",
       "      <td>treatment</td>\n",
       "    </tr>\n",
       "    <tr>\n",
       "      <th>7063</th>\n",
       "      <td>7064</td>\n",
       "      <td>control</td>\n",
       "    </tr>\n",
       "  </tbody>\n",
       "</table>\n",
       "<p>7064 rows × 2 columns</p>\n",
       "</div>"
      ],
      "text/plain": [
       "      user_id      group\n",
       "0           1    control\n",
       "1           2  treatment\n",
       "2           3    control\n",
       "3           4    control\n",
       "4           5    control\n",
       "...       ...        ...\n",
       "7059     7060  treatment\n",
       "7060     7061  treatment\n",
       "7061     7062    control\n",
       "7062     7063  treatment\n",
       "7063     7064    control\n",
       "\n",
       "[7064 rows x 2 columns]"
      ]
     },
     "execution_count": 51,
     "metadata": {},
     "output_type": "execute_result"
    }
   ],
   "source": [
    "import numpy as np\n",
    "import pandas as pd\n",
    "import scipy.stats as stats\n",
    "import matplotlib.pyplot as plt\n",
    "\n",
    "np.random.seed(42)\n",
    "\n",
    "# Step 1: Simulate eligible population\n",
    "n = 7064  # from power analysis\n",
    "users = pd.DataFrame({\n",
    "    'user_id': np.arange(1, n + 1),\n",
    "})\n",
    "\n",
    "# Step 2: Randomly assign users to control or treatment\n",
    "users['group'] = np.random.choice(['control', 'treatment'], size=n, replace=True)\n",
    "users"
   ]
  },
  {
   "cell_type": "code",
   "execution_count": 52,
   "id": "dd091bc8",
   "metadata": {},
   "outputs": [
    {
     "data": {
      "text/html": [
       "<div>\n",
       "<style scoped>\n",
       "    .dataframe tbody tr th:only-of-type {\n",
       "        vertical-align: middle;\n",
       "    }\n",
       "\n",
       "    .dataframe tbody tr th {\n",
       "        vertical-align: top;\n",
       "    }\n",
       "\n",
       "    .dataframe thead th {\n",
       "        text-align: right;\n",
       "    }\n",
       "</style>\n",
       "<table border=\"1\" class=\"dataframe\">\n",
       "  <thead>\n",
       "    <tr style=\"text-align: right;\">\n",
       "      <th></th>\n",
       "      <th>user_id</th>\n",
       "      <th>group</th>\n",
       "      <th>converted</th>\n",
       "    </tr>\n",
       "  </thead>\n",
       "  <tbody>\n",
       "    <tr>\n",
       "      <th>0</th>\n",
       "      <td>1</td>\n",
       "      <td>control</td>\n",
       "      <td>0</td>\n",
       "    </tr>\n",
       "    <tr>\n",
       "      <th>1</th>\n",
       "      <td>2</td>\n",
       "      <td>treatment</td>\n",
       "      <td>0</td>\n",
       "    </tr>\n",
       "    <tr>\n",
       "      <th>2</th>\n",
       "      <td>3</td>\n",
       "      <td>control</td>\n",
       "      <td>0</td>\n",
       "    </tr>\n",
       "    <tr>\n",
       "      <th>3</th>\n",
       "      <td>4</td>\n",
       "      <td>control</td>\n",
       "      <td>0</td>\n",
       "    </tr>\n",
       "    <tr>\n",
       "      <th>4</th>\n",
       "      <td>5</td>\n",
       "      <td>control</td>\n",
       "      <td>0</td>\n",
       "    </tr>\n",
       "    <tr>\n",
       "      <th>...</th>\n",
       "      <td>...</td>\n",
       "      <td>...</td>\n",
       "      <td>...</td>\n",
       "    </tr>\n",
       "    <tr>\n",
       "      <th>7059</th>\n",
       "      <td>7060</td>\n",
       "      <td>treatment</td>\n",
       "      <td>0</td>\n",
       "    </tr>\n",
       "    <tr>\n",
       "      <th>7060</th>\n",
       "      <td>7061</td>\n",
       "      <td>treatment</td>\n",
       "      <td>0</td>\n",
       "    </tr>\n",
       "    <tr>\n",
       "      <th>7061</th>\n",
       "      <td>7062</td>\n",
       "      <td>control</td>\n",
       "      <td>0</td>\n",
       "    </tr>\n",
       "    <tr>\n",
       "      <th>7062</th>\n",
       "      <td>7063</td>\n",
       "      <td>treatment</td>\n",
       "      <td>0</td>\n",
       "    </tr>\n",
       "    <tr>\n",
       "      <th>7063</th>\n",
       "      <td>7064</td>\n",
       "      <td>control</td>\n",
       "      <td>0</td>\n",
       "    </tr>\n",
       "  </tbody>\n",
       "</table>\n",
       "<p>7064 rows × 3 columns</p>\n",
       "</div>"
      ],
      "text/plain": [
       "      user_id      group  converted\n",
       "0           1    control          0\n",
       "1           2  treatment          0\n",
       "2           3    control          0\n",
       "3           4    control          0\n",
       "4           5    control          0\n",
       "...       ...        ...        ...\n",
       "7059     7060  treatment          0\n",
       "7060     7061  treatment          0\n",
       "7061     7062    control          0\n",
       "7062     7063  treatment          0\n",
       "7063     7064    control          0\n",
       "\n",
       "[7064 rows x 3 columns]"
      ]
     },
     "execution_count": 52,
     "metadata": {},
     "output_type": "execute_result"
    }
   ],
   "source": [
    "# Step 3: Simulate conversions\n",
    "# Assume baseline = 0.10, treatment = 0.12\n",
    "conversion_rate = {\n",
    "    'control': 0.10,\n",
    "    'treatment': 0.12\n",
    "}\n",
    "users['converted'] = users['group'].apply(lambda g: np.random.binomial(1, conversion_rate[g]))\n",
    "users"
   ]
  },
  {
   "cell_type": "code",
   "execution_count": 53,
   "id": "4a735472",
   "metadata": {},
   "outputs": [
    {
     "name": "stdout",
     "output_type": "stream",
     "text": [
      "           n_users  n_converted  conversion_rate\n",
      "group                                           \n",
      "control       3557          308         0.086590\n",
      "treatment     3507          432         0.123182\n"
     ]
    }
   ],
   "source": [
    "# Step 4: View summary\n",
    "summary = users.groupby('group')['converted'].agg(['count', 'sum', 'mean']).rename(columns={\n",
    "    'count': 'n_users',\n",
    "    'sum': 'n_converted',\n",
    "    'mean': 'conversion_rate'\n",
    "})\n",
    "print(summary)"
   ]
  },
  {
   "cell_type": "code",
   "execution_count": 54,
   "id": "881365ed",
   "metadata": {},
   "outputs": [],
   "source": [
    "# Step 5: Run 2-proportion z-test\n",
    "control_conv = summary.loc['control', 'conversion_rate']\n",
    "treatment_conv = summary.loc['treatment', 'conversion_rate']\n",
    "n_control = summary.loc['control', 'n_users']\n",
    "n_treatment = summary.loc['treatment', 'n_users']\n",
    "x_control = summary.loc['control', 'n_converted']\n",
    "x_treatment = summary.loc['treatment', 'n_converted']\n",
    "\n",
    "# Pooled conversion rate\n",
    "p_pooled = (x_control + x_treatment) / (n_control + n_treatment)\n",
    "se_pooled = np.sqrt(p_pooled * (1 - p_pooled) * (1/n_control + 1/n_treatment))\n",
    "\n",
    "z_stat = (treatment_conv - control_conv) / se_pooled\n",
    "p_value = 2 * (1 - stats.norm.cdf(abs(z_stat)))"
   ]
  },
  {
   "cell_type": "code",
   "execution_count": 56,
   "id": "0c9b918f",
   "metadata": {},
   "outputs": [
    {
     "name": "stdout",
     "output_type": "stream",
     "text": [
      "\n",
      "📊 Z-Test Results\n",
      "Z-statistic: 5.0213\n",
      "P-value    : 0.0000\n",
      "✅ Statistically significant difference detected.\n"
     ]
    },
    {
     "data": {
      "image/png": "[encoded data removed]",
      "text/plain": [
       "<Figure size 640x480 with 1 Axes>"
      ]
     },
     "metadata": {},
     "output_type": "display_data"
    }
   ],
   "source": [
    "print(f\"\\n📊 Z-Test Results\")\n",
    "print(f\"Z-statistic: {z_stat:.4f}\")\n",
    "print(f\"P-value    : {p_value:.4f}\")\n",
    "if p_value < 0.05:\n",
    "    print(\"✅ Statistically significant difference detected.\")\n",
    "else:\n",
    "    print(\"🚫 No significant difference detected.\")\n",
    "\n",
    "# Optional: Plot\n",
    "plt.bar(['Control', 'Treatment'], [control_conv, treatment_conv], color=['gray', 'skyblue']);\n",
    "plt.ylabel('Conversion Rate');\n",
    "plt.title('A/B Test Conversion Rates');\n",
    "plt.show();\n"
   ]
  },
  {
   "cell_type": "markdown",
   "id": "f5f10423",
   "metadata": {},
   "source": [
    "[Back to the top](#Contents)\n",
    "___\n"
   ]
  },
  {
   "cell_type": "markdown",
   "id": "71d6dc29",
   "metadata": {},
   "source": [
    "# Results \n",
    "- Analyzing results and check for statistical significance. # Lift Charts oir Confidence Intervals."
   ]
  },
  {
   "cell_type": "markdown",
   "id": "93c4bed5",
   "metadata": {},
   "source": [
    "## Visualization"
   ]
  },
  {
   "cell_type": "code",
   "execution_count": null,
   "id": "8bfc7af9",
   "metadata": {},
   "outputs": [],
   "source": []
  },
  {
   "cell_type": "markdown",
   "id": "0457202f",
   "metadata": {},
   "source": [
    "[Back to the top](#Contents)\n",
    "___\n"
   ]
  },
  {
   "cell_type": "markdown",
   "id": "81dca748",
   "metadata": {},
   "source": [
    "# How Long"
   ]
  },
  {
   "cell_type": "code",
   "execution_count": null,
   "id": "e39d634b",
   "metadata": {},
   "outputs": [],
   "source": []
  },
  {
   "cell_type": "markdown",
   "id": "41e17a8c",
   "metadata": {},
   "source": [
    "[Back to the top](#Contents)\n",
    "___\n"
   ]
  },
  {
   "cell_type": "markdown",
   "id": "a11ce892",
   "metadata": {},
   "source": [
    "# Post Hoc Analysis\n",
    "- Post Hoc Analysis: Additional Tests after primary analysis to explore further patterns"
   ]
  },
  {
   "cell_type": "code",
   "execution_count": null,
   "id": "795d55ec",
   "metadata": {},
   "outputs": [],
   "source": []
  },
  {
   "cell_type": "markdown",
   "id": "cf87d394",
   "metadata": {},
   "source": [
    "[Back to the top](#Contents)\n",
    "___\n"
   ]
  },
  {
   "cell_type": "markdown",
   "id": "3f58b5a3",
   "metadata": {},
   "source": [
    "# Other Notes"
   ]
  },
  {
   "cell_type": "markdown",
   "id": "0f4cf851",
   "metadata": {},
   "source": [
    "### Experimentation Infrastructure"
   ]
  },
  {
   "cell_type": "markdown",
   "id": "a0a404cf",
   "metadata": {},
   "source": [
    "[Back to the top](#Contents)\n",
    "___\n"
   ]
  },
  {
   "cell_type": "markdown",
   "id": "16893894",
   "metadata": {},
   "source": [
    "# Scratch Notes\n"
   ]
  },
  {
   "cell_type": "code",
   "execution_count": null,
   "id": "28f2c579",
   "metadata": {},
   "outputs": [],
   "source": [
    "# Simulate data\n",
    "n_control = 5000  # Sample size for control group\n",
    "n_treatment = 5000  # Sample size for treatment group\n",
    "\n",
    "# Assume conversion rate is 10% for control and 12% for treatment\n",
    "control_conversions = np.random.binomial(1, 0.10, n_control)\n",
    "treatment_conversions = np.random.binomial(1, 0.12, n_treatment)\n",
    "\n",
    "# Create DataFrame\n",
    "df = pd.DataFrame({\n",
    "    'group': ['control'] * n_control + ['treatment'] * n_treatment,\n",
    "    'conversion': np.concatenate([control_conversions, treatment_conversions])\n",
    "})\n",
    "df.head()\n",
    "df.shape\n",
    "\n",
    "# Display summary\n",
    "df.groupby('group')['conversion'].agg(['mean', 'count', 'sum'])\n"
   ]
  },
  {
   "cell_type": "markdown",
   "id": "568b4e4c",
   "metadata": {},
   "source": [
    "#### AB Testing"
   ]
  },
  {
   "cell_type": "markdown",
   "id": "118b4d57",
   "metadata": {},
   "source": [
    "1. Chi-Square Test (Categorical Data - Conversion Rates)     \n",
    "Used when testing differences in proportions (e.g., conversion rate increase)."
   ]
  },
  {
   "cell_type": "code",
   "execution_count": null,
   "id": "21e5e9f8",
   "metadata": {},
   "outputs": [],
   "source": [
    "from scipy.stats import chi2_contingency\n",
    "\n",
    "# Create contingency table\n",
    "conversion_table = pd.crosstab(df['group'], df['conversion'])\n",
    "\n",
    "# Chi-Square Test\n",
    "chi2_stat, p_value, dof, expected = chi2_contingency(conversion_table)\n",
    "\n",
    "# Print results\n",
    "print(f\"Chi-Square Statistic: {chi2_stat:.4f}\")\n",
    "print(f\"P-Value: {p_value:.4f}\")\n",
    "\n",
    "# Check significance\n",
    "alpha = 0.05  # 95% confidence level\n",
    "if p_value < alpha:\n",
    "    print(\"Reject the null hypothesis: Significant difference detected.\")\n",
    "else:\n",
    "    print(\"Fail to reject the null hypothesis: No significant difference detected.\")\n"
   ]
  },
  {
   "cell_type": "markdown",
   "id": "2b1d53a0",
   "metadata": {},
   "source": []
  },
  {
   "cell_type": "markdown",
   "id": "ff20b9a4",
   "metadata": {},
   "source": [
    "2. Independent T-Test (Continuous Data - Avg. Time Spent, Revenue)    \n",
    "Used when comparing means of continuous data between two independent groups."
   ]
  },
  {
   "cell_type": "code",
   "execution_count": null,
   "id": "a865a254",
   "metadata": {},
   "outputs": [],
   "source": [
    "from scipy.stats import ttest_ind\n",
    "\n",
    "# Perform independent t-test\n",
    "t_stat, p_val = ttest_ind(control_conversions, treatment_conversions)\n",
    "\n",
    "print(f\"T-Statistic: {t_stat:.4f}\")\n",
    "print(f\"P-Value: {p_val:.4f}\")\n",
    "\n",
    "if p_val < alpha:\n",
    "    print(\"Reject the null hypothesis: The new feature has a significant effect.\")\n",
    "else:\n",
    "    print(\"Fail to reject the null hypothesis: No significant difference detected.\")\n"
   ]
  },
  {
   "cell_type": "markdown",
   "id": "7e340824",
   "metadata": {},
   "source": [
    "3. Paired T-Test (Before/After Tests - Same Users)    \n",
    "Used when measuring differences within the same group (e.g., before vs. after)."
   ]
  },
  {
   "cell_type": "code",
   "execution_count": null,
   "id": "11ea096b",
   "metadata": {},
   "outputs": [],
   "source": [
    "from scipy.stats import ttest_rel\n",
    "\n",
    "# Example: User engagement before & after a UI change\n",
    "before = np.random.normal(200, 25, 100)  # Mean 200 sec, std dev 25\n",
    "after = np.random.normal(210, 25, 100)  # Mean 210 sec, std dev 25\n",
    "\n",
    "t_stat, p_val = ttest_rel(before, after)\n",
    "\n",
    "print(f\"Paired T-Test Statistic: {t_stat:.4f}\")\n",
    "print(f\"P-Value: {p_val:.4f}\")\n",
    "\n",
    "if p_val < 0.05:\n",
    "    print(\"Significant difference detected.\")\n",
    "else:\n",
    "    print(\"No significant difference detected.\")\n"
   ]
  },
  {
   "cell_type": "markdown",
   "id": "e055e0f8",
   "metadata": {},
   "source": [
    "4. Mann-Whitney U Test (Non-Normal Continuous Data)\n",
    "A non-parametric test used when data isn’t normally distributed (e.g., skewed revenue)."
   ]
  },
  {
   "cell_type": "code",
   "execution_count": null,
   "id": "845d0398",
   "metadata": {},
   "outputs": [],
   "source": [
    "from scipy.stats import mannwhitneyu\n",
    "\n",
    "# Example: Revenue data (skewed distribution)\n",
    "control_revenue = np.random.exponential(50, 5000)  # Skewed\n",
    "treatment_revenue = np.random.exponential(55, 5000)  # Skewed\n",
    "\n",
    "u_stat, p_val = mannwhitneyu(control_revenue, treatment_revenue)\n",
    "\n",
    "print(f\"Mann-Whitney U Statistic: {u_stat:.4f}\")\n",
    "print(f\"P-Value: {p_val:.4f}\")\n",
    "\n",
    "if p_val < 0.05:\n",
    "    print(\"Significant difference detected.\")\n",
    "else:\n",
    "    print(\"No significant difference detected.\")\n"
   ]
  },
  {
   "cell_type": "markdown",
   "id": "1b1fad0a",
   "metadata": {},
   "source": [
    " 5. Bayesian A/B Testing (Alternative Approach)    \n",
    "Instead of p-values, Bayesian A/B testing provides posterior probability distributions."
   ]
  },
  {
   "cell_type": "code",
   "execution_count": null,
   "id": "7a0a4fe4",
   "metadata": {},
   "outputs": [],
   "source": [
    "# import pymc3 as pm\n",
    "\n",
    "# # Simulated conversion data\n",
    "# control_conversions = np.sum(np.random.binomial(1, 0.10, 5000))\n",
    "# treatment_conversions = np.sum(np.random.binomial(1, 0.12, 5000))\n",
    "\n",
    "# with pm.Model():\n",
    "#     control_rate = pm.Beta(\"control_rate\", alpha=1, beta=1)\n",
    "#     treatment_rate = pm.Beta(\"treatment_rate\", alpha=1, beta=1)\n",
    "\n",
    "#     # Priors\n",
    "#     control = pm.Binomial(\"control\", n=5000, p=control_rate, observed=control_conversions)\n",
    "#     treatment = pm.Binomial(\"treatment\", n=5000, p=treatment_rate, observed=treatment_conversions)\n",
    "\n",
    "#     trace = pm.sample(2000, return_inferencedata=True)\n",
    "\n",
    "# # Compute probability that the treatment is better\n",
    "# prob_treatment_better = (trace.posterior[\"treatment_rate\"] > trace.posterior[\"control_rate\"]).mean().item()\n",
    "\n",
    "# print(f\"Probability that the treatment is better: {prob_treatment_better:.4f}\")\n"
   ]
  },
  {
   "cell_type": "markdown",
   "id": "552361b0",
   "metadata": {},
   "source": [
    "6. Power Analysis (How Much Data Do You Need?)\n",
    "Used to determine sample size before running an experiment."
   ]
  },
  {
   "cell_type": "code",
   "execution_count": null,
   "id": "2d9f7a7e",
   "metadata": {},
   "outputs": [],
   "source": [
    "from statsmodels.stats.power import TTestIndPower\n",
    "\n",
    "# Define parameters\n",
    "effect_size = 0.02  # Expected lift in conversion rate\n",
    "alpha = 0.05  # Significance level\n",
    "power = 0.8  # Desired statistical power\n",
    "\n",
    "# Compute sample size per group\n",
    "analysis = TTestIndPower()\n",
    "sample_size = analysis.solve_power(effect_size, power=power, alpha=alpha, ratio=1)\n",
    "\n",
    "print(f\"Required Sample Size per Group: {int(sample_size)}\")"
   ]
  },
  {
   "cell_type": "markdown",
   "id": "42a7cf4d",
   "metadata": {},
   "source": [
    "[Back to the top](#Contents)\n",
    "___"
   ]
  }
 ],
 "metadata": {
  "kernelspec": {
   "display_name": "Python 3 (ipykernel)",
   "language": "python",
   "name": "python3"
  },
  "language_info": {
   "codemirror_mode": {
    "name": "ipython",
    "version": 3
   },
   "file_extension": ".py",
   "mimetype": "text/x-python",
   "name": "python",
   "nbconvert_exporter": "python",
   "pygments_lexer": "ipython3",
   "version": "3.11.3"
  }
 },
 "nbformat": 4,
 "nbformat_minor": 5
}
