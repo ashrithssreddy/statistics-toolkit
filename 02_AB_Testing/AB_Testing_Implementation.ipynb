{
 "cells": [
  {
   "cell_type": "markdown",
   "id": "bf94292f",
   "metadata": {},
   "source": [
    "# Contents\n",
    "- [Setup](#Setup)\n",
    "- [Randomization Methods](#Randomization-Methods)\n",
    "- [AA Testing](#AA-Testing)\n",
    "- [Power Analysis](#Power-Analysis)\n",
    "- [AB Testing](#AB-Testing)\n",
    "- [How Long](#How-Long)\n",
    "- [Results](#Results)\n",
    "    - [Visualization](#Visualization)\n",
    "- [Post Hoc Analysis](#Post-Hoc-Analysis)\n",
    "- [Other Notes](#Other-Notes)\n",
    "- [Scratch Notes](#Scratch-Notes)"
   ]
  },
  {
   "cell_type": "markdown",
   "id": "692c7961",
   "metadata": {},
   "source": [
    "# Setup"
   ]
  },
  {
   "cell_type": "code",
   "execution_count": 26,
   "id": "e5b194d1",
   "metadata": {},
   "outputs": [],
   "source": [
    "import numpy as np\n",
    "import pandas as pd\n",
    "\n",
    "# Set random seed for reproducibility\n",
    "np.random.seed(42)\n",
    "\n",
    "# Display all outputs\n",
    "from IPython.core.interactiveshell import InteractiveShell\n",
    "InteractiveShell.ast_node_interactivity = \"all\""
   ]
  },
  {
   "cell_type": "markdown",
   "id": "853f1591",
   "metadata": {},
   "source": [
    "[Back to the top](#Contents)\n",
    "___\n"
   ]
  },
  {
   "cell_type": "markdown",
   "id": "25cad63c",
   "metadata": {},
   "source": [
    "# Randomization Methods\n",
    "\n",
    "- Ensures that differences in outcome metrics are due to the experiment and not pre-existing differences between users.\n",
    "- Eliminates selection bias (e.g., users choosing their own group).\n",
    "- Helps balance confounding variables (e.g., demographics, device type, purchase history).\n",
    "- Enables valid statistical inference."
   ]
  },
  {
   "cell_type": "markdown",
   "id": "b9ab4fa6",
   "metadata": {},
   "source": [
    "### Simple Randomization\n",
    "- Each user has an equal chance (e.g., 50/50 split for A/B) of being assigned to treatment or control.\n",
    "- Works well when sample sizes are large."
   ]
  },
  {
   "cell_type": "code",
   "execution_count": 27,
   "id": "9e03a828",
   "metadata": {},
   "outputs": [
    {
     "data": {
      "text/html": [
       "<div>\n",
       "<style scoped>\n",
       "    .dataframe tbody tr th:only-of-type {\n",
       "        vertical-align: middle;\n",
       "    }\n",
       "\n",
       "    .dataframe tbody tr th {\n",
       "        vertical-align: top;\n",
       "    }\n",
       "\n",
       "    .dataframe thead th {\n",
       "        text-align: right;\n",
       "    }\n",
       "</style>\n",
       "<table border=\"1\" class=\"dataframe\">\n",
       "  <thead>\n",
       "    <tr style=\"text-align: right;\">\n",
       "      <th></th>\n",
       "      <th>user_id</th>\n",
       "      <th>group</th>\n",
       "    </tr>\n",
       "  </thead>\n",
       "  <tbody>\n",
       "    <tr>\n",
       "      <th>0</th>\n",
       "      <td>1</td>\n",
       "      <td>control</td>\n",
       "    </tr>\n",
       "    <tr>\n",
       "      <th>1</th>\n",
       "      <td>2</td>\n",
       "      <td>treatment</td>\n",
       "    </tr>\n",
       "    <tr>\n",
       "      <th>2</th>\n",
       "      <td>3</td>\n",
       "      <td>treatment</td>\n",
       "    </tr>\n",
       "    <tr>\n",
       "      <th>3</th>\n",
       "      <td>4</td>\n",
       "      <td>treatment</td>\n",
       "    </tr>\n",
       "    <tr>\n",
       "      <th>4</th>\n",
       "      <td>5</td>\n",
       "      <td>control</td>\n",
       "    </tr>\n",
       "    <tr>\n",
       "      <th>...</th>\n",
       "      <td>...</td>\n",
       "      <td>...</td>\n",
       "    </tr>\n",
       "    <tr>\n",
       "      <th>95</th>\n",
       "      <td>96</td>\n",
       "      <td>control</td>\n",
       "    </tr>\n",
       "    <tr>\n",
       "      <th>96</th>\n",
       "      <td>97</td>\n",
       "      <td>treatment</td>\n",
       "    </tr>\n",
       "    <tr>\n",
       "      <th>97</th>\n",
       "      <td>98</td>\n",
       "      <td>control</td>\n",
       "    </tr>\n",
       "    <tr>\n",
       "      <th>98</th>\n",
       "      <td>99</td>\n",
       "      <td>control</td>\n",
       "    </tr>\n",
       "    <tr>\n",
       "      <th>99</th>\n",
       "      <td>100</td>\n",
       "      <td>control</td>\n",
       "    </tr>\n",
       "  </tbody>\n",
       "</table>\n",
       "<p>100 rows × 2 columns</p>\n",
       "</div>"
      ],
      "text/plain": [
       "    user_id      group\n",
       "0         1    control\n",
       "1         2  treatment\n",
       "2         3  treatment\n",
       "3         4  treatment\n",
       "4         5    control\n",
       "..      ...        ...\n",
       "95       96    control\n",
       "96       97  treatment\n",
       "97       98    control\n",
       "98       99    control\n",
       "99      100    control\n",
       "\n",
       "[100 rows x 2 columns]"
      ]
     },
     "execution_count": 27,
     "metadata": {},
     "output_type": "execute_result"
    }
   ],
   "source": [
    "import numpy as np\n",
    "import pandas as pd\n",
    "\n",
    "# Sample user data\n",
    "np.random.seed(42)  # For reproducibility\n",
    "users = pd.DataFrame({'user_id': range(1, 101)})  # 100 users\n",
    "\n",
    "# Assign each user to 'control' or 'treatment' with 50% probability\n",
    "users['group'] = np.random.choice(['control', 'treatment'], size=len(users), p=[0.5, 0.5])\n",
    "\n",
    "# Display the result\n",
    "users"
   ]
  },
  {
   "cell_type": "markdown",
   "id": "ff9ce64c",
   "metadata": {},
   "source": [
    "### Stratified Sampling\n",
    "- Ensures balance across key segments (e.g., country, platform, user tenure).\n",
    "- Example: If 60% of your users are on iOS and 40% on Android, simple randomization might cause an imbalance, so you stratify by platform."
   ]
  },
  {
   "cell_type": "code",
   "execution_count": 28,
   "id": "7c50e903",
   "metadata": {},
   "outputs": [
    {
     "data": {
      "text/html": [
       "<div>\n",
       "<style scoped>\n",
       "    .dataframe tbody tr th:only-of-type {\n",
       "        vertical-align: middle;\n",
       "    }\n",
       "\n",
       "    .dataframe tbody tr th {\n",
       "        vertical-align: top;\n",
       "    }\n",
       "\n",
       "    .dataframe thead th {\n",
       "        text-align: right;\n",
       "    }\n",
       "</style>\n",
       "<table border=\"1\" class=\"dataframe\">\n",
       "  <thead>\n",
       "    <tr style=\"text-align: right;\">\n",
       "      <th></th>\n",
       "      <th>user_id</th>\n",
       "      <th>platform</th>\n",
       "      <th>group</th>\n",
       "    </tr>\n",
       "  </thead>\n",
       "  <tbody>\n",
       "    <tr>\n",
       "      <th>0</th>\n",
       "      <td>1</td>\n",
       "      <td>iOS</td>\n",
       "      <td>control</td>\n",
       "    </tr>\n",
       "    <tr>\n",
       "      <th>1</th>\n",
       "      <td>2</td>\n",
       "      <td>Android</td>\n",
       "      <td>control</td>\n",
       "    </tr>\n",
       "    <tr>\n",
       "      <th>2</th>\n",
       "      <td>3</td>\n",
       "      <td>Android</td>\n",
       "      <td>treatment</td>\n",
       "    </tr>\n",
       "    <tr>\n",
       "      <th>3</th>\n",
       "      <td>4</td>\n",
       "      <td>iOS</td>\n",
       "      <td>treatment</td>\n",
       "    </tr>\n",
       "    <tr>\n",
       "      <th>4</th>\n",
       "      <td>5</td>\n",
       "      <td>iOS</td>\n",
       "      <td>control</td>\n",
       "    </tr>\n",
       "    <tr>\n",
       "      <th>...</th>\n",
       "      <td>...</td>\n",
       "      <td>...</td>\n",
       "      <td>...</td>\n",
       "    </tr>\n",
       "    <tr>\n",
       "      <th>95</th>\n",
       "      <td>96</td>\n",
       "      <td>iOS</td>\n",
       "      <td>treatment</td>\n",
       "    </tr>\n",
       "    <tr>\n",
       "      <th>96</th>\n",
       "      <td>97</td>\n",
       "      <td>iOS</td>\n",
       "      <td>control</td>\n",
       "    </tr>\n",
       "    <tr>\n",
       "      <th>97</th>\n",
       "      <td>98</td>\n",
       "      <td>iOS</td>\n",
       "      <td>treatment</td>\n",
       "    </tr>\n",
       "    <tr>\n",
       "      <th>98</th>\n",
       "      <td>99</td>\n",
       "      <td>iOS</td>\n",
       "      <td>control</td>\n",
       "    </tr>\n",
       "    <tr>\n",
       "      <th>99</th>\n",
       "      <td>100</td>\n",
       "      <td>iOS</td>\n",
       "      <td>treatment</td>\n",
       "    </tr>\n",
       "  </tbody>\n",
       "</table>\n",
       "<p>100 rows × 3 columns</p>\n",
       "</div>"
      ],
      "text/plain": [
       "    user_id platform      group\n",
       "0         1      iOS    control\n",
       "1         2  Android    control\n",
       "2         3  Android  treatment\n",
       "3         4      iOS  treatment\n",
       "4         5      iOS    control\n",
       "..      ...      ...        ...\n",
       "95       96      iOS  treatment\n",
       "96       97      iOS    control\n",
       "97       98      iOS  treatment\n",
       "98       99      iOS    control\n",
       "99      100      iOS  treatment\n",
       "\n",
       "[100 rows x 3 columns]"
      ]
     },
     "execution_count": 28,
     "metadata": {},
     "output_type": "execute_result"
    }
   ],
   "source": [
    "from sklearn.model_selection import train_test_split\n",
    "\n",
    "# Create a sample dataset with 100 users and platform labels\n",
    "np.random.seed(42)\n",
    "users = pd.DataFrame({\n",
    "    'user_id': range(1, 101),\n",
    "    'platform': np.random.choice(['iOS', 'Android'], size=100, p=[0.6, 0.4])  # 60% iOS, 40% Android\n",
    "})\n",
    "\n",
    "# Stratify by platform to ensure balance\n",
    "train, test = train_test_split(users, test_size=0.5, stratify=users['platform'], random_state=42)\n",
    "\n",
    "# Assign groups\n",
    "train['group'] = 'control'\n",
    "test['group'] = 'treatment'\n",
    "\n",
    "# Merge and display\n",
    "users = pd.concat([train, test]).sort_values('user_id')\n",
    "users"
   ]
  },
  {
   "cell_type": "markdown",
   "id": "844051c2",
   "metadata": {},
   "source": [
    "<!-- ### Blocked Randomization\n",
    "- Ensures equal group sizes in small experiments.\n",
    "- Example: If testing on 100 users, you create blocks of 10 and assign 5 to control and 5 to treatment within each block. -->\n"
   ]
  },
  {
   "cell_type": "code",
   "execution_count": 29,
   "id": "8eda074e",
   "metadata": {},
   "outputs": [
    {
     "data": {
      "text/html": [
       "<div>\n",
       "<style scoped>\n",
       "    .dataframe tbody tr th:only-of-type {\n",
       "        vertical-align: middle;\n",
       "    }\n",
       "\n",
       "    .dataframe tbody tr th {\n",
       "        vertical-align: top;\n",
       "    }\n",
       "\n",
       "    .dataframe thead th {\n",
       "        text-align: right;\n",
       "    }\n",
       "</style>\n",
       "<table border=\"1\" class=\"dataframe\">\n",
       "  <thead>\n",
       "    <tr style=\"text-align: right;\">\n",
       "      <th></th>\n",
       "      <th>user_id</th>\n",
       "      <th>group</th>\n",
       "    </tr>\n",
       "  </thead>\n",
       "  <tbody>\n",
       "    <tr>\n",
       "      <th>0</th>\n",
       "      <td>1</td>\n",
       "      <td>control</td>\n",
       "    </tr>\n",
       "    <tr>\n",
       "      <th>1</th>\n",
       "      <td>2</td>\n",
       "      <td>treatment</td>\n",
       "    </tr>\n",
       "    <tr>\n",
       "      <th>2</th>\n",
       "      <td>3</td>\n",
       "      <td>control</td>\n",
       "    </tr>\n",
       "    <tr>\n",
       "      <th>3</th>\n",
       "      <td>4</td>\n",
       "      <td>control</td>\n",
       "    </tr>\n",
       "    <tr>\n",
       "      <th>4</th>\n",
       "      <td>5</td>\n",
       "      <td>treatment</td>\n",
       "    </tr>\n",
       "    <tr>\n",
       "      <th>...</th>\n",
       "      <td>...</td>\n",
       "      <td>...</td>\n",
       "    </tr>\n",
       "    <tr>\n",
       "      <th>95</th>\n",
       "      <td>96</td>\n",
       "      <td>treatment</td>\n",
       "    </tr>\n",
       "    <tr>\n",
       "      <th>96</th>\n",
       "      <td>97</td>\n",
       "      <td>treatment</td>\n",
       "    </tr>\n",
       "    <tr>\n",
       "      <th>97</th>\n",
       "      <td>98</td>\n",
       "      <td>control</td>\n",
       "    </tr>\n",
       "    <tr>\n",
       "      <th>98</th>\n",
       "      <td>99</td>\n",
       "      <td>control</td>\n",
       "    </tr>\n",
       "    <tr>\n",
       "      <th>99</th>\n",
       "      <td>100</td>\n",
       "      <td>treatment</td>\n",
       "    </tr>\n",
       "  </tbody>\n",
       "</table>\n",
       "<p>100 rows × 2 columns</p>\n",
       "</div>"
      ],
      "text/plain": [
       "    user_id      group\n",
       "0         1    control\n",
       "1         2  treatment\n",
       "2         3    control\n",
       "3         4    control\n",
       "4         5  treatment\n",
       "..      ...        ...\n",
       "95       96  treatment\n",
       "96       97  treatment\n",
       "97       98    control\n",
       "98       99    control\n",
       "99      100  treatment\n",
       "\n",
       "[100 rows x 2 columns]"
      ]
     },
     "execution_count": 29,
     "metadata": {},
     "output_type": "execute_result"
    }
   ],
   "source": [
    "# Define block size (e.g., groups of 10 users)\n",
    "block_size = 10\n",
    "users = pd.DataFrame({'user_id': range(1, 101)})\n",
    "\n",
    "# Assign blocks\n",
    "users['block'] = (users['user_id'] - 1) // block_size\n",
    "\n",
    "# Within each block, randomly assign 50% to control and 50% to treatment\n",
    "users['group'] = users.groupby('block')['user_id'].transform(lambda x: np.random.choice(['control', 'treatment'], size=len(x), replace=True))\n",
    "\n",
    "# Drop the block column after assignment\n",
    "users = users.drop(columns=['block'])\n",
    "users"
   ]
  },
  {
   "cell_type": "markdown",
   "id": "628a65bc",
   "metadata": {},
   "source": [
    "### Match Pair"
   ]
  },
  {
   "cell_type": "markdown",
   "id": "cd7433cc",
   "metadata": {},
   "source": [
    "Participants are paired based on similar characteristics before being randomly assigned to different groups. This ensures that treatment and control groups are balanced on key covariates, reducing variance and improving statistical power.\n",
    "\n",
    "When to Use Matched-Pair Randomization?\n",
    "- When you have a small sample size and need to control for confounders.\n",
    "- When key characteristics (e.g., age, income, purchase history) could influence the outcome.\n",
    "- When you want to minimize variance by ensuring similar individuals are in each group.\n",
    "\n",
    "How It Works:\n",
    "- Identify key variables that might impact the outcome (e.g., age, income, engagement level).\n",
    "- Sort users based on these variables.\n",
    "= Create pairs (or small groups) of users with similar characteristics.\n",
    "- Within each pair, randomly assign one user to treatment and the other to control.\n"
   ]
  },
  {
   "cell_type": "code",
   "execution_count": 30,
   "id": "881dd533",
   "metadata": {},
   "outputs": [
    {
     "data": {
      "text/html": [
       "<div>\n",
       "<style scoped>\n",
       "    .dataframe tbody tr th:only-of-type {\n",
       "        vertical-align: middle;\n",
       "    }\n",
       "\n",
       "    .dataframe tbody tr th {\n",
       "        vertical-align: top;\n",
       "    }\n",
       "\n",
       "    .dataframe thead th {\n",
       "        text-align: right;\n",
       "    }\n",
       "</style>\n",
       "<table border=\"1\" class=\"dataframe\">\n",
       "  <thead>\n",
       "    <tr style=\"text-align: right;\">\n",
       "      <th></th>\n",
       "      <th>user_id</th>\n",
       "      <th>engagement_score</th>\n",
       "      <th>group</th>\n",
       "    </tr>\n",
       "  </thead>\n",
       "  <tbody>\n",
       "    <tr>\n",
       "      <th>0</th>\n",
       "      <td>75</td>\n",
       "      <td>10.703823</td>\n",
       "      <td>control</td>\n",
       "    </tr>\n",
       "    <tr>\n",
       "      <th>1</th>\n",
       "      <td>80</td>\n",
       "      <td>20.186466</td>\n",
       "      <td>treatment</td>\n",
       "    </tr>\n",
       "    <tr>\n",
       "      <th>2</th>\n",
       "      <td>38</td>\n",
       "      <td>20.604948</td>\n",
       "      <td>control</td>\n",
       "    </tr>\n",
       "    <tr>\n",
       "      <th>3</th>\n",
       "      <td>14</td>\n",
       "      <td>21.300796</td>\n",
       "      <td>treatment</td>\n",
       "    </tr>\n",
       "    <tr>\n",
       "      <th>4</th>\n",
       "      <td>50</td>\n",
       "      <td>23.554398</td>\n",
       "      <td>control</td>\n",
       "    </tr>\n",
       "    <tr>\n",
       "      <th>...</th>\n",
       "      <td>...</td>\n",
       "      <td>...</td>\n",
       "      <td>...</td>\n",
       "    </tr>\n",
       "    <tr>\n",
       "      <th>95</th>\n",
       "      <td>4</td>\n",
       "      <td>72.845448</td>\n",
       "      <td>treatment</td>\n",
       "    </tr>\n",
       "    <tr>\n",
       "      <th>96</th>\n",
       "      <td>72</td>\n",
       "      <td>73.070548</td>\n",
       "      <td>control</td>\n",
       "    </tr>\n",
       "    <tr>\n",
       "      <th>97</th>\n",
       "      <td>74</td>\n",
       "      <td>73.469655</td>\n",
       "      <td>treatment</td>\n",
       "    </tr>\n",
       "    <tr>\n",
       "      <th>98</th>\n",
       "      <td>7</td>\n",
       "      <td>73.688192</td>\n",
       "      <td>control</td>\n",
       "    </tr>\n",
       "    <tr>\n",
       "      <th>99</th>\n",
       "      <td>32</td>\n",
       "      <td>77.784173</td>\n",
       "      <td>treatment</td>\n",
       "    </tr>\n",
       "  </tbody>\n",
       "</table>\n",
       "<p>100 rows × 3 columns</p>\n",
       "</div>"
      ],
      "text/plain": [
       "    user_id  engagement_score      group\n",
       "0        75         10.703823    control\n",
       "1        80         20.186466  treatment\n",
       "2        38         20.604948    control\n",
       "3        14         21.300796  treatment\n",
       "4        50         23.554398    control\n",
       "..      ...               ...        ...\n",
       "95        4         72.845448  treatment\n",
       "96       72         73.070548    control\n",
       "97       74         73.469655  treatment\n",
       "98        7         73.688192    control\n",
       "99       32         77.784173  treatment\n",
       "\n",
       "[100 rows x 3 columns]"
      ]
     },
     "execution_count": 30,
     "metadata": {},
     "output_type": "execute_result"
    }
   ],
   "source": [
    "import numpy as np\n",
    "import pandas as pd\n",
    "\n",
    "# Generate sample user data\n",
    "np.random.seed(42)\n",
    "users = pd.DataFrame({\n",
    "    'user_id': range(1, 101),\n",
    "    'engagement_score': np.random.normal(50, 15, 100)  # Simulated user engagement scores\n",
    "})\n",
    "\n",
    "# Sort users by engagement to create pairs\n",
    "users = users.sort_values(by='engagement_score').reset_index(drop=True)\n",
    "\n",
    "# Assign treatment/control in pairs\n",
    "users['group'] = np.where(users.index % 2 == 0, 'control', 'treatment')\n",
    "users\n"
   ]
  },
  {
   "cell_type": "markdown",
   "id": "0872f04b",
   "metadata": {},
   "source": [
    "### Cluster Randomization\n",
    "- Assigns whole groups (e.g., entire cities or schools) instead of individuals.\n",
    "- Useful when spillover effects are a concern (e.g., referral programs)."
   ]
  },
  {
   "cell_type": "code",
   "execution_count": 31,
   "id": "7c7fdc67",
   "metadata": {},
   "outputs": [
    {
     "data": {
      "text/html": [
       "<div>\n",
       "<style scoped>\n",
       "    .dataframe tbody tr th:only-of-type {\n",
       "        vertical-align: middle;\n",
       "    }\n",
       "\n",
       "    .dataframe tbody tr th {\n",
       "        vertical-align: top;\n",
       "    }\n",
       "\n",
       "    .dataframe thead th {\n",
       "        text-align: right;\n",
       "    }\n",
       "</style>\n",
       "<table border=\"1\" class=\"dataframe\">\n",
       "  <thead>\n",
       "    <tr style=\"text-align: right;\">\n",
       "      <th></th>\n",
       "      <th>user_id</th>\n",
       "      <th>city</th>\n",
       "      <th>group</th>\n",
       "    </tr>\n",
       "  </thead>\n",
       "  <tbody>\n",
       "    <tr>\n",
       "      <th>0</th>\n",
       "      <td>1</td>\n",
       "      <td>Chicago</td>\n",
       "      <td>control</td>\n",
       "    </tr>\n",
       "    <tr>\n",
       "      <th>1</th>\n",
       "      <td>2</td>\n",
       "      <td>Austin</td>\n",
       "      <td>treatment</td>\n",
       "    </tr>\n",
       "    <tr>\n",
       "      <th>2</th>\n",
       "      <td>3</td>\n",
       "      <td>New York</td>\n",
       "      <td>treatment</td>\n",
       "    </tr>\n",
       "    <tr>\n",
       "      <th>3</th>\n",
       "      <td>4</td>\n",
       "      <td>Chicago</td>\n",
       "      <td>control</td>\n",
       "    </tr>\n",
       "    <tr>\n",
       "      <th>4</th>\n",
       "      <td>5</td>\n",
       "      <td>Chicago</td>\n",
       "      <td>control</td>\n",
       "    </tr>\n",
       "    <tr>\n",
       "      <th>...</th>\n",
       "      <td>...</td>\n",
       "      <td>...</td>\n",
       "      <td>...</td>\n",
       "    </tr>\n",
       "    <tr>\n",
       "      <th>95</th>\n",
       "      <td>96</td>\n",
       "      <td>San Francisco</td>\n",
       "      <td>treatment</td>\n",
       "    </tr>\n",
       "    <tr>\n",
       "      <th>96</th>\n",
       "      <td>97</td>\n",
       "      <td>San Francisco</td>\n",
       "      <td>treatment</td>\n",
       "    </tr>\n",
       "    <tr>\n",
       "      <th>97</th>\n",
       "      <td>98</td>\n",
       "      <td>Austin</td>\n",
       "      <td>treatment</td>\n",
       "    </tr>\n",
       "    <tr>\n",
       "      <th>98</th>\n",
       "      <td>99</td>\n",
       "      <td>San Francisco</td>\n",
       "      <td>treatment</td>\n",
       "    </tr>\n",
       "    <tr>\n",
       "      <th>99</th>\n",
       "      <td>100</td>\n",
       "      <td>New York</td>\n",
       "      <td>treatment</td>\n",
       "    </tr>\n",
       "  </tbody>\n",
       "</table>\n",
       "<p>100 rows × 3 columns</p>\n",
       "</div>"
      ],
      "text/plain": [
       "    user_id           city      group\n",
       "0         1        Chicago    control\n",
       "1         2         Austin  treatment\n",
       "2         3       New York  treatment\n",
       "3         4        Chicago    control\n",
       "4         5        Chicago    control\n",
       "..      ...            ...        ...\n",
       "95       96  San Francisco  treatment\n",
       "96       97  San Francisco  treatment\n",
       "97       98         Austin  treatment\n",
       "98       99  San Francisco  treatment\n",
       "99      100       New York  treatment\n",
       "\n",
       "[100 rows x 3 columns]"
      ]
     },
     "execution_count": 31,
     "metadata": {},
     "output_type": "execute_result"
    }
   ],
   "source": [
    "# Sample dataset with users belonging to different cities\n",
    "np.random.seed(42)\n",
    "users = pd.DataFrame({\n",
    "    'user_id': range(1, 101),\n",
    "    'city': np.random.choice(['New York', 'San Francisco', 'Chicago', 'Austin'], size=100)\n",
    "})\n",
    "\n",
    "# Randomly assign cities to control or treatment\n",
    "unique_cities = users['city'].unique()\n",
    "city_assignments = dict(zip(unique_cities, np.random.choice(['control', 'treatment'], size=len(unique_cities), replace=True)))\n",
    "\n",
    "# Assign users based on their city\n",
    "users['group'] = users['city'].map(city_assignments)\n",
    "users"
   ]
  },
  {
   "cell_type": "markdown",
   "id": "a8419594",
   "metadata": {},
   "source": [
    "### CUPED\n",
    "- Uses historical data to reduce variance and increase test sensitivity.\n",
    "- Doesn’t change how users are assigned but helps in post-analysis."
   ]
  },
  {
   "cell_type": "code",
   "execution_count": 32,
   "id": "98ddd000",
   "metadata": {},
   "outputs": [
    {
     "data": {
      "text/html": [
       "<div>\n",
       "<style scoped>\n",
       "    .dataframe tbody tr th:only-of-type {\n",
       "        vertical-align: middle;\n",
       "    }\n",
       "\n",
       "    .dataframe tbody tr th {\n",
       "        vertical-align: top;\n",
       "    }\n",
       "\n",
       "    .dataframe thead th {\n",
       "        text-align: right;\n",
       "    }\n",
       "</style>\n",
       "<table border=\"1\" class=\"dataframe\">\n",
       "  <thead>\n",
       "    <tr style=\"text-align: right;\">\n",
       "      <th></th>\n",
       "      <th>user_id</th>\n",
       "      <th>pre_experiment_metric</th>\n",
       "      <th>group</th>\n",
       "      <th>adjusted_outcome</th>\n",
       "    </tr>\n",
       "  </thead>\n",
       "  <tbody>\n",
       "    <tr>\n",
       "      <th>0</th>\n",
       "      <td>1</td>\n",
       "      <td>54.967142</td>\n",
       "      <td>control</td>\n",
       "      <td>0.719184</td>\n",
       "    </tr>\n",
       "    <tr>\n",
       "      <th>1</th>\n",
       "      <td>2</td>\n",
       "      <td>48.617357</td>\n",
       "      <td>control</td>\n",
       "      <td>7.846275</td>\n",
       "    </tr>\n",
       "    <tr>\n",
       "      <th>2</th>\n",
       "      <td>3</td>\n",
       "      <td>56.476885</td>\n",
       "      <td>control</td>\n",
       "      <td>-0.651142</td>\n",
       "    </tr>\n",
       "    <tr>\n",
       "      <th>3</th>\n",
       "      <td>4</td>\n",
       "      <td>65.230299</td>\n",
       "      <td>control</td>\n",
       "      <td>14.377164</td>\n",
       "    </tr>\n",
       "    <tr>\n",
       "      <th>4</th>\n",
       "      <td>5</td>\n",
       "      <td>47.658466</td>\n",
       "      <td>treatment</td>\n",
       "      <td>3.695529</td>\n",
       "    </tr>\n",
       "    <tr>\n",
       "      <th>...</th>\n",
       "      <td>...</td>\n",
       "      <td>...</td>\n",
       "      <td>...</td>\n",
       "      <td>...</td>\n",
       "    </tr>\n",
       "    <tr>\n",
       "      <th>95</th>\n",
       "      <td>96</td>\n",
       "      <td>35.364851</td>\n",
       "      <td>control</td>\n",
       "      <td>-6.758427</td>\n",
       "    </tr>\n",
       "    <tr>\n",
       "      <th>96</th>\n",
       "      <td>97</td>\n",
       "      <td>52.961203</td>\n",
       "      <td>treatment</td>\n",
       "      <td>6.446120</td>\n",
       "    </tr>\n",
       "    <tr>\n",
       "      <th>97</th>\n",
       "      <td>98</td>\n",
       "      <td>52.610553</td>\n",
       "      <td>control</td>\n",
       "      <td>0.677294</td>\n",
       "    </tr>\n",
       "    <tr>\n",
       "      <th>98</th>\n",
       "      <td>99</td>\n",
       "      <td>50.051135</td>\n",
       "      <td>treatment</td>\n",
       "      <td>-4.311875</td>\n",
       "    </tr>\n",
       "    <tr>\n",
       "      <th>99</th>\n",
       "      <td>100</td>\n",
       "      <td>47.654129</td>\n",
       "      <td>treatment</td>\n",
       "      <td>2.877658</td>\n",
       "    </tr>\n",
       "  </tbody>\n",
       "</table>\n",
       "<p>100 rows × 4 columns</p>\n",
       "</div>"
      ],
      "text/plain": [
       "    user_id  pre_experiment_metric      group  adjusted_outcome\n",
       "0         1              54.967142    control          0.719184\n",
       "1         2              48.617357    control          7.846275\n",
       "2         3              56.476885    control         -0.651142\n",
       "3         4              65.230299    control         14.377164\n",
       "4         5              47.658466  treatment          3.695529\n",
       "..      ...                    ...        ...               ...\n",
       "95       96              35.364851    control         -6.758427\n",
       "96       97              52.961203  treatment          6.446120\n",
       "97       98              52.610553    control          0.677294\n",
       "98       99              50.051135  treatment         -4.311875\n",
       "99      100              47.654129  treatment          2.877658\n",
       "\n",
       "[100 rows x 4 columns]"
      ]
     },
     "execution_count": 32,
     "metadata": {},
     "output_type": "execute_result"
    }
   ],
   "source": [
    "import statsmodels.api as sm\n",
    "\n",
    "# Simulated pre-experiment metric (e.g., past purchase count)\n",
    "np.random.seed(42)\n",
    "users = pd.DataFrame({'user_id': range(1, 101)})\n",
    "users['pre_experiment_metric'] = np.random.normal(loc=50, scale=10, size=100)  # Baseline metric\n",
    "\n",
    "# Simple Randomization\n",
    "users['group'] = np.random.choice(['control', 'treatment'], size=len(users), p=[0.5, 0.5])\n",
    "\n",
    "# Compute CUPED adjustment\n",
    "X = users[['pre_experiment_metric']]\n",
    "X = sm.add_constant(X)  # Add intercept\n",
    "y = np.random.normal(loc=0, scale=5, size=100)  # Simulated experiment outcome\n",
    "\n",
    "# Regression to estimate theta (correction factor)\n",
    "theta = sm.OLS(y, X).fit().params['pre_experiment_metric']\n",
    "\n",
    "# Adjust the outcome using pre-experiment data\n",
    "users['adjusted_outcome'] = y - theta * users['pre_experiment_metric']\n",
    "users\n"
   ]
  },
  {
   "cell_type": "markdown",
   "id": "35bfb4ea",
   "metadata": {},
   "source": [
    "### Match Pair Randomization\n",
    "\n"
   ]
  },
  {
   "cell_type": "markdown",
   "id": "6b8aef99",
   "metadata": {},
   "source": [
    "Participants are paired based on similar characteristics before being randomly assigned to different groups. This ensures that treatment and control groups are balanced on key covariates, reducing variance and improving statistical power.\n",
    "\n",
    "`When to Use`\n",
    "- When you have a small sample size and need to control for confounders.\n",
    "- When key characteristics (e.g., age, income, purchase history) could influence the outcome.\n",
    "- When you want to minimize variance by ensuring similar individuals are in each group.\n",
    "\n",
    "`How It Works`\n",
    "- Identify key variables that might impact the outcome (e.g., age, income, engagement level).\n",
    "- Sort users based on these variables.\n",
    "- Create pairs (or small groups) of users with similar characteristics.\n",
    "= Within each pair, randomly assign one user to treatment and the other to control."
   ]
  },
  {
   "cell_type": "code",
   "execution_count": 41,
   "id": "86410c96",
   "metadata": {},
   "outputs": [
    {
     "data": {
      "text/html": [
       "<div>\n",
       "<style scoped>\n",
       "    .dataframe tbody tr th:only-of-type {\n",
       "        vertical-align: middle;\n",
       "    }\n",
       "\n",
       "    .dataframe tbody tr th {\n",
       "        vertical-align: top;\n",
       "    }\n",
       "\n",
       "    .dataframe thead th {\n",
       "        text-align: right;\n",
       "    }\n",
       "</style>\n",
       "<table border=\"1\" class=\"dataframe\">\n",
       "  <thead>\n",
       "    <tr style=\"text-align: right;\">\n",
       "      <th></th>\n",
       "      <th>user_id</th>\n",
       "      <th>engagement_score</th>\n",
       "      <th>group</th>\n",
       "    </tr>\n",
       "  </thead>\n",
       "  <tbody>\n",
       "    <tr>\n",
       "      <th>0</th>\n",
       "      <td>75</td>\n",
       "      <td>10.703823</td>\n",
       "      <td>control</td>\n",
       "    </tr>\n",
       "    <tr>\n",
       "      <th>1</th>\n",
       "      <td>80</td>\n",
       "      <td>20.186466</td>\n",
       "      <td>treatment</td>\n",
       "    </tr>\n",
       "    <tr>\n",
       "      <th>2</th>\n",
       "      <td>38</td>\n",
       "      <td>20.604948</td>\n",
       "      <td>control</td>\n",
       "    </tr>\n",
       "    <tr>\n",
       "      <th>3</th>\n",
       "      <td>14</td>\n",
       "      <td>21.300796</td>\n",
       "      <td>treatment</td>\n",
       "    </tr>\n",
       "    <tr>\n",
       "      <th>4</th>\n",
       "      <td>50</td>\n",
       "      <td>23.554398</td>\n",
       "      <td>control</td>\n",
       "    </tr>\n",
       "    <tr>\n",
       "      <th>...</th>\n",
       "      <td>...</td>\n",
       "      <td>...</td>\n",
       "      <td>...</td>\n",
       "    </tr>\n",
       "    <tr>\n",
       "      <th>95</th>\n",
       "      <td>4</td>\n",
       "      <td>72.845448</td>\n",
       "      <td>treatment</td>\n",
       "    </tr>\n",
       "    <tr>\n",
       "      <th>96</th>\n",
       "      <td>72</td>\n",
       "      <td>73.070548</td>\n",
       "      <td>control</td>\n",
       "    </tr>\n",
       "    <tr>\n",
       "      <th>97</th>\n",
       "      <td>74</td>\n",
       "      <td>73.469655</td>\n",
       "      <td>treatment</td>\n",
       "    </tr>\n",
       "    <tr>\n",
       "      <th>98</th>\n",
       "      <td>7</td>\n",
       "      <td>73.688192</td>\n",
       "      <td>control</td>\n",
       "    </tr>\n",
       "    <tr>\n",
       "      <th>99</th>\n",
       "      <td>32</td>\n",
       "      <td>77.784173</td>\n",
       "      <td>treatment</td>\n",
       "    </tr>\n",
       "  </tbody>\n",
       "</table>\n",
       "<p>100 rows × 3 columns</p>\n",
       "</div>"
      ],
      "text/plain": [
       "    user_id  engagement_score      group\n",
       "0        75         10.703823    control\n",
       "1        80         20.186466  treatment\n",
       "2        38         20.604948    control\n",
       "3        14         21.300796  treatment\n",
       "4        50         23.554398    control\n",
       "..      ...               ...        ...\n",
       "95        4         72.845448  treatment\n",
       "96       72         73.070548    control\n",
       "97       74         73.469655  treatment\n",
       "98        7         73.688192    control\n",
       "99       32         77.784173  treatment\n",
       "\n",
       "[100 rows x 3 columns]"
      ]
     },
     "execution_count": 41,
     "metadata": {},
     "output_type": "execute_result"
    }
   ],
   "source": [
    "import numpy as np\n",
    "import pandas as pd\n",
    "\n",
    "# Generate sample user data\n",
    "np.random.seed(42)\n",
    "users = pd.DataFrame({\n",
    "    'user_id': range(1, 101),\n",
    "    'engagement_score': np.random.normal(50, 15, 100)  # Simulated user engagement scores\n",
    "})\n",
    "\n",
    "# Sort users by engagement to create pairs\n",
    "users = users.sort_values(by='engagement_score').reset_index(drop=True)\n",
    "\n",
    "# Assign treatment/control in pairs\n",
    "users['group'] = np.where(users.index % 2 == 0, 'control', 'treatment')\n",
    "users"
   ]
  },
  {
   "cell_type": "markdown",
   "id": "73691185",
   "metadata": {},
   "source": [
    "[Back to the top](#Contents)\n",
    "___\n"
   ]
  },
  {
   "cell_type": "markdown",
   "id": "da3d61b9",
   "metadata": {},
   "source": [
    "# AA Testing"
   ]
  },
  {
   "cell_type": "markdown",
   "id": "b3e0f628",
   "metadata": {},
   "source": [
    "A/A testing is an experiment where both groups (control and treatment) receive the **same experience** to ensure that randomization is working correctly. It acts as a **sanity check** before running an A/B test.\n",
    "\n",
    "### Importance**\n",
    "- **Validates Randomization:** Ensures that groups are statistically similar before testing.\n",
    "- **Detects Sample Ratio Mismatch (SRM):** Verifies that user assignment is balanced.\n",
    "- **Estimates Variance for Power Analysis:** Helps understand variability before defining sample size for A/B testing.\n",
    "- **Checks for Pre-Existing Bias:** Ensures no systematic differences exist between control and treatment groups.\n",
    "\n",
    "### Process\n",
    "1. **Randomly assign users** to two equal groups (just like an A/B test).\n",
    "2. **Measure key metrics** (e.g., conversion rate, engagement, revenue).\n",
    "3. **Perform statistical tests** (e.g., t-test for continuous data, chi-square for categorical data) to confirm no significant difference.\n",
    "4. **Analyze Sample Ratio Mismatch (SRM)** to verify even split between groups.\n",
    "\n",
    "### Result\n",
    "- **No significant difference:** Randomization is working correctly, and the experiment is set up properly.\n",
    "- **Significant difference detected:** Investigate potential issues such as randomization bugs, sample bias, or instrumentation errors.\n"
   ]
  },
  {
   "cell_type": "markdown",
   "id": "f48617f5",
   "metadata": {},
   "source": [
    "[Back to the top](#Contents)\n",
    "___\n"
   ]
  },
  {
   "cell_type": "markdown",
   "id": "b860c5e4",
   "metadata": {},
   "source": [
    "# Power Analysis\n",
    "- Sample size and power analysis\n",
    "\n"
   ]
  },
  {
   "cell_type": "code",
   "execution_count": null,
   "id": "7cbda4c1",
   "metadata": {},
   "outputs": [],
   "source": []
  },
  {
   "cell_type": "markdown",
   "id": "0689b4c9",
   "metadata": {},
   "source": [
    "[Back to the top](#Contents)\n",
    "___"
   ]
  },
  {
   "cell_type": "markdown",
   "id": "a3e68463",
   "metadata": {},
   "source": [
    "# AB Testing\n",
    "- Experiment Implementation"
   ]
  },
  {
   "cell_type": "code",
   "execution_count": null,
   "id": "063f7f83",
   "metadata": {},
   "outputs": [],
   "source": []
  },
  {
   "cell_type": "markdown",
   "id": "f5f10423",
   "metadata": {},
   "source": [
    "[Back to the top](#Contents)\n",
    "___\n"
   ]
  },
  {
   "cell_type": "markdown",
   "id": "71d6dc29",
   "metadata": {},
   "source": [
    "# Results \n",
    "- Analyzing results and check for statistical significance. # Lift Charts oir Confidence Intervals."
   ]
  },
  {
   "cell_type": "markdown",
   "id": "93c4bed5",
   "metadata": {},
   "source": [
    "## Visualization"
   ]
  },
  {
   "cell_type": "code",
   "execution_count": null,
   "id": "8bfc7af9",
   "metadata": {},
   "outputs": [],
   "source": []
  },
  {
   "cell_type": "markdown",
   "id": "0457202f",
   "metadata": {},
   "source": [
    "[Back to the top](#Contents)\n",
    "___\n"
   ]
  },
  {
   "cell_type": "markdown",
   "id": "81dca748",
   "metadata": {},
   "source": [
    "# How Long"
   ]
  },
  {
   "cell_type": "code",
   "execution_count": null,
   "id": "c9034c88",
   "metadata": {},
   "outputs": [],
   "source": []
  },
  {
   "cell_type": "markdown",
   "id": "41e17a8c",
   "metadata": {},
   "source": [
    "[Back to the top](#Contents)\n",
    "___\n"
   ]
  },
  {
   "cell_type": "markdown",
   "id": "a11ce892",
   "metadata": {},
   "source": [
    "# Post Hoc Analysis\n",
    "- Post Hoc Analysis: Additional Tests after primary analysis to explore further patterns"
   ]
  },
  {
   "cell_type": "code",
   "execution_count": null,
   "id": "4ad7dd91",
   "metadata": {},
   "outputs": [],
   "source": []
  },
  {
   "cell_type": "markdown",
   "id": "cf87d394",
   "metadata": {},
   "source": [
    "[Back to the top](#Contents)\n",
    "___\n"
   ]
  },
  {
   "cell_type": "markdown",
   "id": "d0c75689",
   "metadata": {},
   "source": [
    "# Other Notes"
   ]
  },
  {
   "cell_type": "code",
   "execution_count": null,
   "id": "be7126d0",
   "metadata": {},
   "outputs": [],
   "source": []
  },
  {
   "cell_type": "markdown",
   "id": "c746d20c",
   "metadata": {},
   "source": [
    "[Back to the top](#Contents)\n",
    "___\n"
   ]
  },
  {
   "cell_type": "markdown",
   "id": "16893894",
   "metadata": {},
   "source": [
    "# Scratch Notes\n"
   ]
  },
  {
   "cell_type": "code",
   "execution_count": 33,
   "id": "28f2c579",
   "metadata": {},
   "outputs": [
    {
     "data": {
      "text/html": [
       "<div>\n",
       "<style scoped>\n",
       "    .dataframe tbody tr th:only-of-type {\n",
       "        vertical-align: middle;\n",
       "    }\n",
       "\n",
       "    .dataframe tbody tr th {\n",
       "        vertical-align: top;\n",
       "    }\n",
       "\n",
       "    .dataframe thead th {\n",
       "        text-align: right;\n",
       "    }\n",
       "</style>\n",
       "<table border=\"1\" class=\"dataframe\">\n",
       "  <thead>\n",
       "    <tr style=\"text-align: right;\">\n",
       "      <th></th>\n",
       "      <th>group</th>\n",
       "      <th>conversion</th>\n",
       "    </tr>\n",
       "  </thead>\n",
       "  <tbody>\n",
       "    <tr>\n",
       "      <th>0</th>\n",
       "      <td>control</td>\n",
       "      <td>0</td>\n",
       "    </tr>\n",
       "    <tr>\n",
       "      <th>1</th>\n",
       "      <td>control</td>\n",
       "      <td>0</td>\n",
       "    </tr>\n",
       "    <tr>\n",
       "      <th>2</th>\n",
       "      <td>control</td>\n",
       "      <td>0</td>\n",
       "    </tr>\n",
       "    <tr>\n",
       "      <th>3</th>\n",
       "      <td>control</td>\n",
       "      <td>0</td>\n",
       "    </tr>\n",
       "    <tr>\n",
       "      <th>4</th>\n",
       "      <td>control</td>\n",
       "      <td>1</td>\n",
       "    </tr>\n",
       "  </tbody>\n",
       "</table>\n",
       "</div>"
      ],
      "text/plain": [
       "     group  conversion\n",
       "0  control           0\n",
       "1  control           0\n",
       "2  control           0\n",
       "3  control           0\n",
       "4  control           1"
      ]
     },
     "execution_count": 33,
     "metadata": {},
     "output_type": "execute_result"
    },
    {
     "data": {
      "text/plain": [
       "(10000, 2)"
      ]
     },
     "execution_count": 33,
     "metadata": {},
     "output_type": "execute_result"
    },
    {
     "data": {
      "text/html": [
       "<div>\n",
       "<style scoped>\n",
       "    .dataframe tbody tr th:only-of-type {\n",
       "        vertical-align: middle;\n",
       "    }\n",
       "\n",
       "    .dataframe tbody tr th {\n",
       "        vertical-align: top;\n",
       "    }\n",
       "\n",
       "    .dataframe thead th {\n",
       "        text-align: right;\n",
       "    }\n",
       "</style>\n",
       "<table border=\"1\" class=\"dataframe\">\n",
       "  <thead>\n",
       "    <tr style=\"text-align: right;\">\n",
       "      <th></th>\n",
       "      <th>mean</th>\n",
       "      <th>count</th>\n",
       "      <th>sum</th>\n",
       "    </tr>\n",
       "    <tr>\n",
       "      <th>group</th>\n",
       "      <th></th>\n",
       "      <th></th>\n",
       "      <th></th>\n",
       "    </tr>\n",
       "  </thead>\n",
       "  <tbody>\n",
       "    <tr>\n",
       "      <th>control</th>\n",
       "      <td>0.0976</td>\n",
       "      <td>5000</td>\n",
       "      <td>488</td>\n",
       "    </tr>\n",
       "    <tr>\n",
       "      <th>treatment</th>\n",
       "      <td>0.1128</td>\n",
       "      <td>5000</td>\n",
       "      <td>564</td>\n",
       "    </tr>\n",
       "  </tbody>\n",
       "</table>\n",
       "</div>"
      ],
      "text/plain": [
       "             mean  count  sum\n",
       "group                        \n",
       "control    0.0976   5000  488\n",
       "treatment  0.1128   5000  564"
      ]
     },
     "execution_count": 33,
     "metadata": {},
     "output_type": "execute_result"
    }
   ],
   "source": [
    "# Simulate data\n",
    "n_control = 5000  # Sample size for control group\n",
    "n_treatment = 5000  # Sample size for treatment group\n",
    "\n",
    "# Assume conversion rate is 10% for control and 12% for treatment\n",
    "control_conversions = np.random.binomial(1, 0.10, n_control)\n",
    "treatment_conversions = np.random.binomial(1, 0.12, n_treatment)\n",
    "\n",
    "# Create DataFrame\n",
    "df = pd.DataFrame({\n",
    "    'group': ['control'] * n_control + ['treatment'] * n_treatment,\n",
    "    'conversion': np.concatenate([control_conversions, treatment_conversions])\n",
    "})\n",
    "df.head()\n",
    "df.shape\n",
    "\n",
    "# Display summary\n",
    "df.groupby('group')['conversion'].agg(['mean', 'count', 'sum'])\n"
   ]
  },
  {
   "cell_type": "markdown",
   "id": "568b4e4c",
   "metadata": {},
   "source": [
    "#### AB Testing"
   ]
  },
  {
   "cell_type": "markdown",
   "id": "118b4d57",
   "metadata": {},
   "source": [
    "1. Chi-Square Test (Categorical Data - Conversion Rates)     \n",
    "Used when testing differences in proportions (e.g., conversion rate increase)."
   ]
  },
  {
   "cell_type": "code",
   "execution_count": 34,
   "id": "21e5e9f8",
   "metadata": {},
   "outputs": [
    {
     "name": "stdout",
     "output_type": "stream",
     "text": [
      "Chi-Square Statistic: 5.9756\n",
      "P-Value: 0.0145\n",
      "Reject the null hypothesis: Significant difference detected.\n"
     ]
    }
   ],
   "source": [
    "from scipy.stats import chi2_contingency\n",
    "\n",
    "# Create contingency table\n",
    "conversion_table = pd.crosstab(df['group'], df['conversion'])\n",
    "\n",
    "# Chi-Square Test\n",
    "chi2_stat, p_value, dof, expected = chi2_contingency(conversion_table)\n",
    "\n",
    "# Print results\n",
    "print(f\"Chi-Square Statistic: {chi2_stat:.4f}\")\n",
    "print(f\"P-Value: {p_value:.4f}\")\n",
    "\n",
    "# Check significance\n",
    "alpha = 0.05  # 95% confidence level\n",
    "if p_value < alpha:\n",
    "    print(\"Reject the null hypothesis: Significant difference detected.\")\n",
    "else:\n",
    "    print(\"Fail to reject the null hypothesis: No significant difference detected.\")\n"
   ]
  },
  {
   "cell_type": "markdown",
   "id": "2b1d53a0",
   "metadata": {},
   "source": []
  },
  {
   "cell_type": "markdown",
   "id": "ff20b9a4",
   "metadata": {},
   "source": [
    "2. Independent T-Test (Continuous Data - Avg. Time Spent, Revenue)    \n",
    "Used when comparing means of continuous data between two independent groups."
   ]
  },
  {
   "cell_type": "code",
   "execution_count": 35,
   "id": "a865a254",
   "metadata": {},
   "outputs": [
    {
     "name": "stdout",
     "output_type": "stream",
     "text": [
      "T-Statistic: -2.4776\n",
      "P-Value: 0.0132\n",
      "Reject the null hypothesis: The new feature has a significant effect.\n"
     ]
    }
   ],
   "source": [
    "from scipy.stats import ttest_ind\n",
    "\n",
    "# Perform independent t-test\n",
    "t_stat, p_val = ttest_ind(control_conversions, treatment_conversions)\n",
    "\n",
    "print(f\"T-Statistic: {t_stat:.4f}\")\n",
    "print(f\"P-Value: {p_val:.4f}\")\n",
    "\n",
    "if p_val < alpha:\n",
    "    print(\"Reject the null hypothesis: The new feature has a significant effect.\")\n",
    "else:\n",
    "    print(\"Fail to reject the null hypothesis: No significant difference detected.\")\n"
   ]
  },
  {
   "cell_type": "markdown",
   "id": "7e340824",
   "metadata": {},
   "source": [
    "3. Paired T-Test (Before/After Tests - Same Users)    \n",
    "Used when measuring differences within the same group (e.g., before vs. after)."
   ]
  },
  {
   "cell_type": "code",
   "execution_count": 36,
   "id": "11ea096b",
   "metadata": {},
   "outputs": [
    {
     "name": "stdout",
     "output_type": "stream",
     "text": [
      "Paired T-Test Statistic: -3.5348\n",
      "P-Value: 0.0006\n",
      "Significant difference detected.\n"
     ]
    }
   ],
   "source": [
    "from scipy.stats import ttest_rel\n",
    "\n",
    "# Example: User engagement before & after a UI change\n",
    "before = np.random.normal(200, 25, 100)  # Mean 200 sec, std dev 25\n",
    "after = np.random.normal(210, 25, 100)  # Mean 210 sec, std dev 25\n",
    "\n",
    "t_stat, p_val = ttest_rel(before, after)\n",
    "\n",
    "print(f\"Paired T-Test Statistic: {t_stat:.4f}\")\n",
    "print(f\"P-Value: {p_val:.4f}\")\n",
    "\n",
    "if p_val < 0.05:\n",
    "    print(\"Significant difference detected.\")\n",
    "else:\n",
    "    print(\"No significant difference detected.\")\n"
   ]
  },
  {
   "cell_type": "markdown",
   "id": "e055e0f8",
   "metadata": {},
   "source": [
    "4. Mann-Whitney U Test (Non-Normal Continuous Data)\n",
    "A non-parametric test used when data isn’t normally distributed (e.g., skewed revenue)."
   ]
  },
  {
   "cell_type": "code",
   "execution_count": 37,
   "id": "845d0398",
   "metadata": {},
   "outputs": [
    {
     "name": "stdout",
     "output_type": "stream",
     "text": [
      "Mann-Whitney U Statistic: 11697821.0000\n",
      "P-Value: 0.0000\n",
      "Significant difference detected.\n"
     ]
    }
   ],
   "source": [
    "from scipy.stats import mannwhitneyu\n",
    "\n",
    "# Example: Revenue data (skewed distribution)\n",
    "control_revenue = np.random.exponential(50, 5000)  # Skewed\n",
    "treatment_revenue = np.random.exponential(55, 5000)  # Skewed\n",
    "\n",
    "u_stat, p_val = mannwhitneyu(control_revenue, treatment_revenue)\n",
    "\n",
    "print(f\"Mann-Whitney U Statistic: {u_stat:.4f}\")\n",
    "print(f\"P-Value: {p_val:.4f}\")\n",
    "\n",
    "if p_val < 0.05:\n",
    "    print(\"Significant difference detected.\")\n",
    "else:\n",
    "    print(\"No significant difference detected.\")\n"
   ]
  },
  {
   "cell_type": "markdown",
   "id": "1b1fad0a",
   "metadata": {},
   "source": [
    " 5. Bayesian A/B Testing (Alternative Approach)    \n",
    "Instead of p-values, Bayesian A/B testing provides posterior probability distributions."
   ]
  },
  {
   "cell_type": "code",
   "execution_count": 38,
   "id": "7a0a4fe4",
   "metadata": {},
   "outputs": [],
   "source": [
    "# import pymc3 as pm\n",
    "\n",
    "# # Simulated conversion data\n",
    "# control_conversions = np.sum(np.random.binomial(1, 0.10, 5000))\n",
    "# treatment_conversions = np.sum(np.random.binomial(1, 0.12, 5000))\n",
    "\n",
    "# with pm.Model():\n",
    "#     control_rate = pm.Beta(\"control_rate\", alpha=1, beta=1)\n",
    "#     treatment_rate = pm.Beta(\"treatment_rate\", alpha=1, beta=1)\n",
    "\n",
    "#     # Priors\n",
    "#     control = pm.Binomial(\"control\", n=5000, p=control_rate, observed=control_conversions)\n",
    "#     treatment = pm.Binomial(\"treatment\", n=5000, p=treatment_rate, observed=treatment_conversions)\n",
    "\n",
    "#     trace = pm.sample(2000, return_inferencedata=True)\n",
    "\n",
    "# # Compute probability that the treatment is better\n",
    "# prob_treatment_better = (trace.posterior[\"treatment_rate\"] > trace.posterior[\"control_rate\"]).mean().item()\n",
    "\n",
    "# print(f\"Probability that the treatment is better: {prob_treatment_better:.4f}\")\n"
   ]
  },
  {
   "cell_type": "markdown",
   "id": "552361b0",
   "metadata": {},
   "source": [
    "6. Power Analysis (How Much Data Do You Need?)\n",
    "Used to determine sample size before running an experiment."
   ]
  },
  {
   "cell_type": "code",
   "execution_count": 39,
   "id": "2d9f7a7e",
   "metadata": {},
   "outputs": [
    {
     "name": "stdout",
     "output_type": "stream",
     "text": [
      "Required Sample Size per Group: 39245\n"
     ]
    }
   ],
   "source": [
    "from statsmodels.stats.power import TTestIndPower\n",
    "\n",
    "# Define parameters\n",
    "effect_size = 0.02  # Expected lift in conversion rate\n",
    "alpha = 0.05  # Significance level\n",
    "power = 0.8  # Desired statistical power\n",
    "\n",
    "# Compute sample size per group\n",
    "analysis = TTestIndPower()\n",
    "sample_size = analysis.solve_power(effect_size, power=power, alpha=alpha, ratio=1)\n",
    "\n",
    "print(f\"Required Sample Size per Group: {int(sample_size)}\")\n"
   ]
  },
  {
   "cell_type": "markdown",
   "id": "5b75b896",
   "metadata": {},
   "source": [
    "## A-----B Testing"
   ]
  },
  {
   "cell_type": "markdown",
   "id": "3891307d",
   "metadata": {},
   "source": [
    "#### Data Creation"
   ]
  },
  {
   "cell_type": "code",
   "execution_count": 7,
   "id": "e5a58b21",
   "metadata": {},
   "outputs": [],
   "source": [
    "# Simulated data for A and B groups\n",
    "np.random.seed(0)\n",
    "group_A = np.random.normal(25, 5, 1000)  # Control group\n",
    "group_B = np.random.normal(28, 5, 1000)  # Treatment group"
   ]
  },
  {
   "cell_type": "code",
   "execution_count": 10,
   "id": "6cb90bce",
   "metadata": {},
   "outputs": [],
   "source": [
    "# Calculate means and standard deviations\n",
    "mean_A = np.mean(group_A)\n",
    "mean_B = np.mean(group_B)\n",
    "std_dev_A = np.std(group_A)\n",
    "std_dev_B = np.std(group_B)\n",
    "\n",
    "# Calculate the t-statistic and p-value\n",
    "t_stat, p_value = stats.ttest_ind(group_A, group_B)"
   ]
  },
  {
   "cell_type": "code",
   "execution_count": 11,
   "id": "d16392e7",
   "metadata": {},
   "outputs": [
    {
     "name": "stdout",
     "output_type": "stream",
     "text": [
      "Statistically significant difference between A and B groups\n",
      "Group B performs better.\n"
     ]
    }
   ],
   "source": [
    "alpha = 0.05 # Define significance level (alpha)\n",
    "\n",
    "# Check if the p-value is less than alpha (two-tailed test)\n",
    "if p_value < alpha:\n",
    "    print(\"Statistically significant difference between A and B groups\")\n",
    "    if mean_A < mean_B:\n",
    "        print(\"Group B performs better.\")\n",
    "    else:\n",
    "        print(\"Group A performs better.\")\n",
    "else:\n",
    "    print(\"No statistically significant difference between A and B groups\")"
   ]
  },
  {
   "cell_type": "code",
   "execution_count": 12,
   "id": "e4a16e3f",
   "metadata": {},
   "outputs": [],
   "source": [
    "def calculate_sample_size(alpha, power, baseline_conversion, min_detectable_effect):\n",
    "    \"\"\"\n",
    "    Calculate the sample size required for an A/B test using a two-sample t-test.\n",
    "    \n",
    "    Parameters:\n",
    "    alpha (float): Significance level (e.g., 0.05 for 5%)\n",
    "    power (float): Desired power (e.g., 0.80 for 80%)\n",
    "    baseline_conversion (float): Baseline conversion rate (proportion)\n",
    "    min_detectable_effect (float): Minimum detectable effect (proportion)\n",
    "    \n",
    "    Returns:\n",
    "    int: Sample size required for each group (control and treatment)\n",
    "    \"\"\"\n",
    "    # Calculate the standard error\n",
    "    std_error = np.sqrt((2 * baseline_conversion * (1 - baseline_conversion)) +\n",
    "                        (baseline_conversion + min_detectable_effect) * (1 - baseline_conversion + min_detectable_effect))\n",
    "    \n",
    "    # Calculate the z-scores for alpha and power\n",
    "    z_alpha = stats.norm.ppf(1 - alpha/2)\n",
    "    z_power = stats.norm.ppf(power)\n",
    "    \n",
    "    # Calculate the sample size for each group\n",
    "    sample_size = ((z_alpha + z_power) ** 2 * (baseline_conversion * (1 - baseline_conversion))) / min_detectable_effect**2\n",
    "    \n",
    "    return int(np.ceil(sample_size))\n"
   ]
  },
  {
   "cell_type": "markdown",
   "id": "03a78445",
   "metadata": {},
   "source": [
    "#### Example usage"
   ]
  },
  {
   "cell_type": "code",
   "execution_count": 13,
   "id": "b062a700",
   "metadata": {},
   "outputs": [],
   "source": [
    "alpha = 0.05\n",
    "power = 0.80\n",
    "baseline_conversion = 0.10  # 10% baseline conversion rate\n",
    "min_detectable_effect = 0.02  # 2% minimum detectable effect"
   ]
  },
  {
   "cell_type": "markdown",
   "id": "23053ba1",
   "metadata": {},
   "source": [
    "[Back to the top](#Contents)\n",
    "___"
   ]
  }
 ],
 "metadata": {
  "kernelspec": {
   "display_name": "Python 3 (ipykernel)",
   "language": "python",
   "name": "python3"
  },
  "language_info": {
   "codemirror_mode": {
    "name": "ipython",
    "version": 3
   },
   "file_extension": ".py",
   "mimetype": "text/x-python",
   "name": "python",
   "nbconvert_exporter": "python",
   "pygments_lexer": "ipython3",
   "version": "3.11.3"
  }
 },
 "nbformat": 4,
 "nbformat_minor": 5
}
