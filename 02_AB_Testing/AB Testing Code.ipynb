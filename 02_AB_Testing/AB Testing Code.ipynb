{
 "cells": [
  {
   "cell_type": "markdown",
   "id": "bf94292f",
   "metadata": {},
   "source": [
    "Contents\n",
    "- [01 Setup](#01-Setup)\n",
    "    - [Data Creation](#Data-Creation)\n",
    "- [A/B-Testing](#A/B-Testing)\n",
    "- [01 Setup](#01-Setup)\n"
   ]
  },
  {
   "cell_type": "markdown",
   "id": "2e4b6915",
   "metadata": {},
   "source": [
    "## 01 Setup"
   ]
  },
  {
   "cell_type": "code",
   "execution_count": 6,
   "id": "7ab24b9a",
   "metadata": {},
   "outputs": [],
   "source": [
    "import numpy as np\n",
    "import scipy.stats as stats"
   ]
  },
  {
   "cell_type": "markdown",
   "id": "daeabcc2",
   "metadata": {},
   "source": [
    "[Back to the top](#Contents)"
   ]
  },
  {
   "cell_type": "markdown",
   "id": "3891307d",
   "metadata": {},
   "source": [
    "#### Data Creation"
   ]
  },
  {
   "cell_type": "code",
   "execution_count": 7,
   "id": "e5a58b21",
   "metadata": {},
   "outputs": [],
   "source": [
    "# Simulated data for A and B groups\n",
    "np.random.seed(0)\n",
    "group_A = np.random.normal(25, 5, 1000)  # Control group\n",
    "group_B = np.random.normal(28, 5, 1000)  # Treatment group"
   ]
  },
  {
   "cell_type": "markdown",
   "id": "1b19536c",
   "metadata": {},
   "source": [
    "[Back to the top](#Contents)"
   ]
  },
  {
   "cell_type": "markdown",
   "id": "5b75b896",
   "metadata": {},
   "source": [
    "## A/B Testing"
   ]
  },
  {
   "cell_type": "code",
   "execution_count": 10,
   "id": "6cb90bce",
   "metadata": {},
   "outputs": [],
   "source": [
    "# Calculate means and standard deviations\n",
    "mean_A = np.mean(group_A)\n",
    "mean_B = np.mean(group_B)\n",
    "std_dev_A = np.std(group_A)\n",
    "std_dev_B = np.std(group_B)\n",
    "\n",
    "# Calculate the t-statistic and p-value\n",
    "t_stat, p_value = stats.ttest_ind(group_A, group_B)"
   ]
  },
  {
   "cell_type": "code",
   "execution_count": null,
   "id": "2fe5099f",
   "metadata": {},
   "outputs": [],
   "source": []
  },
  {
   "cell_type": "code",
   "execution_count": 11,
   "id": "d16392e7",
   "metadata": {},
   "outputs": [
    {
     "name": "stdout",
     "output_type": "stream",
     "text": [
      "Statistically significant difference between A and B groups\n",
      "Group B performs better.\n"
     ]
    }
   ],
   "source": [
    "alpha = 0.05 # Define significance level (alpha)\n",
    "\n",
    "# Check if the p-value is less than alpha (two-tailed test)\n",
    "if p_value < alpha:\n",
    "    print(\"Statistically significant difference between A and B groups\")\n",
    "    if mean_A < mean_B:\n",
    "        print(\"Group B performs better.\")\n",
    "    else:\n",
    "        print(\"Group A performs better.\")\n",
    "else:\n",
    "    print(\"No statistically significant difference between A and B groups\")"
   ]
  },
  {
   "cell_type": "code",
   "execution_count": 12,
   "id": "e4a16e3f",
   "metadata": {},
   "outputs": [],
   "source": [
    "def calculate_sample_size(alpha, power, baseline_conversion, min_detectable_effect):\n",
    "    \"\"\"\n",
    "    Calculate the sample size required for an A/B test using a two-sample t-test.\n",
    "    \n",
    "    Parameters:\n",
    "    alpha (float): Significance level (e.g., 0.05 for 5%)\n",
    "    power (float): Desired power (e.g., 0.80 for 80%)\n",
    "    baseline_conversion (float): Baseline conversion rate (proportion)\n",
    "    min_detectable_effect (float): Minimum detectable effect (proportion)\n",
    "    \n",
    "    Returns:\n",
    "    int: Sample size required for each group (control and treatment)\n",
    "    \"\"\"\n",
    "    # Calculate the standard error\n",
    "    std_error = np.sqrt((2 * baseline_conversion * (1 - baseline_conversion)) +\n",
    "                        (baseline_conversion + min_detectable_effect) * (1 - baseline_conversion + min_detectable_effect))\n",
    "    \n",
    "    # Calculate the z-scores for alpha and power\n",
    "    z_alpha = stats.norm.ppf(1 - alpha/2)\n",
    "    z_power = stats.norm.ppf(power)\n",
    "    \n",
    "    # Calculate the sample size for each group\n",
    "    sample_size = ((z_alpha + z_power) ** 2 * (baseline_conversion * (1 - baseline_conversion))) / min_detectable_effect**2\n",
    "    \n",
    "    return int(np.ceil(sample_size))\n"
   ]
  },
  {
   "cell_type": "code",
   "execution_count": null,
   "id": "7df72734",
   "metadata": {},
   "outputs": [],
   "source": []
  },
  {
   "cell_type": "code",
   "execution_count": null,
   "id": "3f07a8cf",
   "metadata": {},
   "outputs": [],
   "source": []
  },
  {
   "cell_type": "markdown",
   "id": "03a78445",
   "metadata": {},
   "source": [
    "#### Example usage"
   ]
  },
  {
   "cell_type": "code",
   "execution_count": 13,
   "id": "b062a700",
   "metadata": {},
   "outputs": [],
   "source": [
    "alpha = 0.05\n",
    "power = 0.80\n",
    "baseline_conversion = 0.10  # 10% baseline conversion rate\n",
    "min_detectable_effect = 0.02  # 2% minimum detectable effect"
   ]
  },
  {
   "cell_type": "code",
   "execution_count": null,
   "id": "151a180d",
   "metadata": {},
   "outputs": [],
   "source": []
  },
  {
   "cell_type": "code",
   "execution_count": null,
   "id": "bc2cbefd",
   "metadata": {},
   "outputs": [],
   "source": []
  },
  {
   "cell_type": "markdown",
   "id": "241345e6",
   "metadata": {},
   "source": [
    "#### Randomization"
   ]
  },
  {
   "cell_type": "code",
   "execution_count": null,
   "id": "030a8578",
   "metadata": {},
   "outputs": [],
   "source": []
  },
  {
   "cell_type": "markdown",
   "id": "e565c884",
   "metadata": {},
   "source": [
    "### Visualization"
   ]
  },
  {
   "cell_type": "code",
   "execution_count": null,
   "id": "692c7961",
   "metadata": {},
   "outputs": [],
   "source": []
  }
 ],
 "metadata": {
  "kernelspec": {
   "display_name": "Python 3 (ipykernel)",
   "language": "python",
   "name": "python3"
  },
  "language_info": {
   "codemirror_mode": {
    "name": "ipython",
    "version": 3
   },
   "file_extension": ".py",
   "mimetype": "text/x-python",
   "name": "python",
   "nbconvert_exporter": "python",
   "pygments_lexer": "ipython3",
   "version": "3.11.3"
  }
 },
 "nbformat": 4,
 "nbformat_minor": 5
}
