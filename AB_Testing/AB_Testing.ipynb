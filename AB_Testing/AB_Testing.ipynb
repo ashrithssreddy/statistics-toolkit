{
 "cells": [
  {
   "cell_type": "markdown",
   "id": "1c3160e9",
   "metadata": {},
   "source": [
    "<a id=\"table-of-contents\"></a>\n",
    "# 📖 Table of Contents\n",
    "[🗂️ Data Setup](#data-setup)  \n",
    "- [🧾 Sample Data](#sample-data)  \n",
    "- [🛠️ Experiment Setup](#experiment-setup)  \n",
    "- [⚙️ Other Experiment Parameters](#other-experiment-parameters)  \n",
    "- [🔧 Central Control Panel](#central-control-panel)\n",
    "\n",
    "[🔀 Randomization Methods](#randomization-methods)  \n",
    "- [🔄 Simple Randomization](#simple-randomization)  \n",
    "- [🧬 Stratified Sampling](#stratified-sampling)  \n",
    "- [🔁 Block Randomization](#block-randomization)  \n",
    "- [🧯 Match Pair Randomization](#match-pair-randomization)  \n",
    "- [🗃️ Cluster Randomization](#cluster-randomization)  \n",
    "- [📉 CUPED](#cuped)\n",
    "- [🕸️ Network Effects](#network-effects)\n",
    "\n",
    "[📈 EDA](#eda)  \n",
    "- [🔍 Normality](#normality)  \n",
    "- [🧪 Variance Homogeneity Check](#variance-homogeneity-check)  \n",
    "- [🧬 Test Family](#test-family)\n",
    "\n",
    "[🧪 AA Testing](#aa-testing)  \n",
    "- [🧬 Outcome Similarity Test](#outcome-similarity-test)  \n",
    "- [⚖️ Sample Ratio Mismatch](#sample-ratio-mismatch)  \n",
    "- [📊 AA Test Visualization](#aa-test-visualization)  \n",
    "- [🎲 Type I Error Simulation](#type-i-error-simulation)\n",
    "\n",
    "[⚡ Power Analysis](#power-analysis)  \n",
    "- [⚙️ Setup Inputs + Config](#setup-inputs--config-values)  \n",
    "- [📊 Baseline Estimation from Data](#baseline-from-data)  \n",
    "- [📈 Minimum Detectable Effect](#minimum-detectable-effect)  \n",
    "- [📐 Required Sample Size](#required-sample-size)  \n",
    "- [📊 Power Analysis Summary](#power-analysis-summary)\n",
    "\n",
    "[🧪 AB Testing](#ab-testing)\n",
    "\n",
    "[📉 Results](#results)  \n",
    "- [🧾 Summaries](#summaries)  \n",
    "- [📊 Visualization](#results-visualization)  \n",
    "- [🎯 95% Confidence Intervals](#confidence-intervals)  \n",
    "- [📈 Lift Analysis](#lift-analysis)  \n",
    "- [✅ Final Conclusion](#final-conclusion)\n",
    "\n",
    "[⏱️ How Long?](#how-long)\n",
    "- [🧭 Monitoring Dashboard Components](#monitoring-dashboard-components)\n",
    "\n",
    "[🔍 Post Hoc Analysis](#post-hoc-analysis)  \n",
    "- [🧩 Segmented Lift](#segmented-lift)  \n",
    "- [🚦 Guardrail Metrics](#guardrail-metrics)  \n",
    "- [🧠 Correcting for Multiple Comparisons](#multiple-comparisons)\n",
    "- [📦 Rollout Simulation](#rollout-simulation)\n",
    "- [🪄 Novelty Effects](#novelty-effects)\n",
    "\n",
    "<hr style=\"border: none; height: 1px; background-color: #ddd;\" />"
   ]
  },
  {
   "cell_type": "markdown",
   "id": "692c7961",
   "metadata": {},
   "source": [
    "<a id=\"data-setup\"></a>\n",
    "# 🗂️ Data Setup"
   ]
  },
  {
   "cell_type": "markdown",
   "id": "5371d6a0",
   "metadata": {},
   "source": [
    "<details>\n",
    "<summary><strong>📖 A/B Test - Decision Flow (Click to Expand)</strong></summary>\n",
    "\n",
    "<pre>\n",
    "[What is your outcome type?]  \n",
    "   |  \n",
    "   +--> Binary (e.g., converted = 1 or 0, clicked or not)  \n",
    "   |     |  \n",
    "   |     +--> What are you comparing?  \n",
    "   |           |  \n",
    "   |           +--> Proportions (e.g., 10% vs 12% conversion rate)  \n",
    "   |           |     |  \n",
    "   |           |     +--> Comparing 2 groups ---------> Use Z-test  \n",
    "   |           |     |                                 Compares success rates (proportions) between 2 groups  \n",
    "   |           |     +--> Comparing 3+ groups --------> Use Chi-Square Test  \n",
    "   |           |                                       Tests whether at least one group’s success rate differs; follow with pairwise Z-tests  \n",
    "   |           +--> Counts (e.g., number of users who converted)  \n",
    "   |                 +--> Comparing 2 groups ---------> Use Chi-Square Test  \n",
    "   |                 +--> Comparing 3+ groups --------> Use Chi-Square Test  \n",
    "   |  \n",
    "   +--> Continuous (e.g., revenue, time spent, items bought)  \n",
    "   |     +--> Comparing 2 groups  \n",
    "   |     |     +--> Are the groups made of different users?  \n",
    "   |     |           +--> Yes  \n",
    "   |     |           |     +--> Is the outcome roughly normal?  \n",
    "   |     |           |           +--> Yes ------------> Use Independent T-test  \n",
    "   |     |           |           +--> No -------------> Use Mann-Whitney U Test  \n",
    "   |     |           +--> No (same users before/after)  \n",
    "   |     |                 +--> Is the outcome roughly normal?  \n",
    "   |     |                       +--> Yes ------------> Use Paired T-test  \n",
    "   |     |                       +--> No -------------> Use Wilcoxon Signed-Rank Test  \n",
    "   |     +--> Comparing 3+ groups --------------------> Use ANOVA  \n",
    "   |  \n",
    "   +--> Categorical (e.g., selected A/B/C option)  \n",
    "         +--> Comparing 2 or more groups -------------> Use Chi-Square Test  \n",
    "\n",
    "[Other Scenarios]  \n",
    "   +--> Want to control for other variables? ---------> Use Regression (Linear or Logistic)  \n",
    "   +--> Prefer probability over p-values? ------------> Use Bayesian A/B Testing\n",
    "</pre>\n",
    "\n",
    "</details>\n"
   ]
  },
  {
   "cell_type": "markdown",
   "id": "f74073bc",
   "metadata": {},
   "source": [
    "<details><summary><strong>📖 A/B Test - Decision Flow Flattened Table (Click to Expand)</strong></summary>\n",
    "    \n",
    "<table>\n",
    "  <thead>\n",
    "    <tr>\n",
    "      <th>Outcome Type</th>\n",
    "      <th>What Are You Comparing?</th>\n",
    "      <th>Group Count</th>\n",
    "      <th>Group Structure</th>\n",
    "      <th>Outcome Distribution</th>\n",
    "      <th>Statistical Test</th>\n",
    "      <th>What It Does</th>\n",
    "      <th>Example Problem Statement</th>\n",
    "    </tr>\n",
    "  </thead>\n",
    "  <tbody>\n",
    "    <tr>\n",
    "      <td>Binary</td>\n",
    "      <td>Proportions (% converted)</td>\n",
    "      <td>2</td>\n",
    "      <td>Independent</td>\n",
    "      <td>N/A</td>\n",
    "      <td>Z-test</td>\n",
    "      <td>Compares proportions between 2 groups</td>\n",
    "      <td>Does the new homepage increase conversion from 10% to 12%?</td>\n",
    "    </tr>\n",
    "    <tr>\n",
    "      <td>Binary</td>\n",
    "      <td>Proportions</td>\n",
    "      <td>3+</td>\n",
    "      <td>Independent</td>\n",
    "      <td>N/A</td>\n",
    "      <td>Chi-Square</td>\n",
    "      <td>Tests if at least one group’s conversion rate differs</td>\n",
    "      <td>Is there a significant difference in conversion across blue/orange/green CTA?</td>\n",
    "    </tr>\n",
    "    <tr>\n",
    "      <td>Binary</td>\n",
    "      <td>Counts (e.g., #converted users)</td>\n",
    "      <td>2</td>\n",
    "      <td>Independent</td>\n",
    "      <td>N/A</td>\n",
    "      <td>Chi-Square</td>\n",
    "      <td>Compares success/failure counts between groups</td>\n",
    "      <td>Did 120 out of 1000 in group A convert vs 150 out of 1000 in group B?</td>\n",
    "    </tr>\n",
    "    <tr>\n",
    "      <td>Binary</td>\n",
    "      <td>Counts</td>\n",
    "      <td>3+</td>\n",
    "      <td>Independent</td>\n",
    "      <td>N/A</td>\n",
    "      <td>Chi-Square</td>\n",
    "      <td>Compares categorical counts across multiple groups</td>\n",
    "      <td>Do different signup flows lead to different conversion counts?</td>\n",
    "    </tr>\n",
    "    <tr>\n",
    "      <td>Continuous</td>\n",
    "      <td>Mean of a metric (e.g., revenue)</td>\n",
    "      <td>2</td>\n",
    "      <td>Independent</td>\n",
    "      <td>Normal</td>\n",
    "      <td>Independent T-test</td>\n",
    "      <td>Compares average outcome across 2 independent groups</td>\n",
    "      <td>Does average order value differ between control and treatment?</td>\n",
    "    </tr>\n",
    "    <tr>\n",
    "      <td>Continuous</td>\n",
    "      <td>Mean of a metric</td>\n",
    "      <td>2</td>\n",
    "      <td>Independent</td>\n",
    "      <td>Not normal</td>\n",
    "      <td>Mann-Whitney U</td>\n",
    "      <td>Compares ranks/distributions between 2 independent groups</td>\n",
    "      <td>Is time-on-site higher in treatment group (skewed data)?</td>\n",
    "    </tr>\n",
    "    <tr>\n",
    "      <td>Continuous</td>\n",
    "      <td>Before vs After (same users)</td>\n",
    "      <td>2</td>\n",
    "      <td>Paired</td>\n",
    "      <td>Normal</td>\n",
    "      <td>Paired T-test</td>\n",
    "      <td>Compares mean change for same users before and after</td>\n",
    "      <td>Did users spend more on their second visit after UI update?</td>\n",
    "    </tr>\n",
    "    <tr>\n",
    "      <td>Continuous</td>\n",
    "      <td>Before vs After (same users)</td>\n",
    "      <td>2</td>\n",
    "      <td>Paired</td>\n",
    "      <td>Not normal</td>\n",
    "      <td>Wilcoxon Signed-Rank</td>\n",
    "      <td>Compares paired non-normal outcomes</td>\n",
    "      <td>Did session duration increase for the same users post-change?</td>\n",
    "    </tr>\n",
    "    <tr>\n",
    "      <td>Continuous</td>\n",
    "      <td>Mean outcome</td>\n",
    "      <td>3+</td>\n",
    "      <td>Independent</td>\n",
    "      <td>Any</td>\n",
    "      <td>ANOVA</td>\n",
    "      <td>Compares means across 3 or more groups</td>\n",
    "      <td>Does average basket size differ across A/B/C pricing variants?</td>\n",
    "    </tr>\n",
    "    <tr>\n",
    "      <td>Categorical</td>\n",
    "      <td>User-selected categories</td>\n",
    "      <td>2+</td>\n",
    "      <td>Independent</td>\n",
    "      <td>N/A</td>\n",
    "      <td>Chi-Square</td>\n",
    "      <td>Tests distribution of categories across groups</td>\n",
    "      <td>Do users pick different plans (Basic, Pro, Premium) across test groups?</td>\n",
    "    </tr>\n",
    "    <tr>\n",
    "      <td>Any</td>\n",
    "      <td>Adjusting for other variables</td>\n",
    "      <td>Any</td>\n",
    "      <td>Any</td>\n",
    "      <td>N/A</td>\n",
    "      <td>Regression (Linear/Logistic)</td>\n",
    "      <td>Measures treatment effect while controlling for covariates</td>\n",
    "      <td>Is treatment still effective after accounting for device and region?</td>\n",
    "    </tr>\n",
    "    <tr>\n",
    "      <td>Any</td>\n",
    "      <td>Prefer probability > p-value</td>\n",
    "      <td>Any</td>\n",
    "      <td>Any</td>\n",
    "      <td>N/A</td>\n",
    "      <td>Bayesian A/B Test</td>\n",
    "      <td>Returns probability one group is better than the other</td>\n",
    "      <td>What’s the probability green button outperforms blue?</td>\n",
    "    </tr>\n",
    "    <tr>\n",
    "      <td>Binary (Paired)</td>\n",
    "      <td>Conversion before vs after (same users)</td>\n",
    "      <td>2</td>\n",
    "      <td>Paired</td>\n",
    "      <td>N/A</td>\n",
    "      <td>McNemar’s Test</td>\n",
    "      <td>Tests change in conversion for same users</td>\n",
    "      <td>Did logged-in users convert more after design change?</td>\n",
    "    </tr>\n",
    "  </tbody>\n",
    "</table>\n",
    "\n",
    "</details>\n"
   ]
  },
  {
   "cell_type": "markdown",
   "id": "873b6875",
   "metadata": {},
   "source": [
    "<details><summary><strong>📖 Statistical Test to Choose (Click to Expand) </strong></summary>\n",
    "\n",
    "<h4>🧪 When to Use Which Statistical Test in A/B Testing</h4>\n",
    "\n",
    "<table>\n",
    "  <thead>\n",
    "    <tr>\n",
    "      <th><strong>Metric Type</strong></th>\n",
    "      <th><strong>Example</strong></th>\n",
    "      <th><strong>Recommended Test</strong></th>\n",
    "      <th><strong>Why</strong></th>\n",
    "    </tr>\n",
    "  </thead>\n",
    "  <tbody>\n",
    "    <tr>\n",
    "      <td>Continuous</td>\n",
    "      <td>Revenue, time on site, scores</td>\n",
    "      <td><code>scipy.stats.ttest_ind</code> (T-test)</td>\n",
    "      <td>Compares means of two independent groups</td>\n",
    "    </tr>\n",
    "    <tr>\n",
    "      <td>Continuous (unequal variance)</td>\n",
    "      <td>Same as above</td>\n",
    "      <td><code>ttest_ind(..., equal_var=False)</code></td>\n",
    "      <td>Welch’s T-test — safer when variances differ</td>\n",
    "    </tr>\n",
    "    <tr>\n",
    "      <td>Binary (0/1 outcomes)</td>\n",
    "      <td>Conversion, click, purchase</td>\n",
    "      <td><code>statsmodels.stats.proportions_ztest</code></td>\n",
    "      <td>Compares proportions between two groups</td>\n",
    "    </tr>\n",
    "    <tr>\n",
    "      <td>Count data</td>\n",
    "      <td># pageviews, # items bought</td>\n",
    "      <td>Poisson or Negative Binomial test</td>\n",
    "      <td>For skewed count distributions</td>\n",
    "    </tr>\n",
    "    <tr>\n",
    "      <td>Non-parametric</td>\n",
    "      <td>Ordinal/skewed data, NPS scores</td>\n",
    "      <td>Mann-Whitney U test</td>\n",
    "      <td>No assumption of normality</td>\n",
    "    </tr>\n",
    "    <tr>\n",
    "      <td>Multiple groups (A/B/C)</td>\n",
    "      <td>Multi-variant tests</td>\n",
    "      <td>ANOVA (continuous), Chi-squared (binary)</td>\n",
    "      <td>Tests across 3+ groups</td>\n",
    "    </tr>\n",
    "  </tbody>\n",
    "</table>\n",
    "\n",
    "<h4>✅ Quick Rules of Thumb:</h4>\n",
    "<ul>\n",
    "  <li>If your metric is <strong>continuous + normal-ish</strong> → Use <strong>T-test</strong></li>\n",
    "  <li>If it’s <strong>binary (e.g., clicked or not)</strong> → Use <strong>Z-test</strong></li>\n",
    "  <li>If it’s <strong>non-normal or skewed</strong> → Use <strong>Mann-Whitney U test</strong></li>\n",
    "  <li>If testing <strong>3 or more variants</strong> → Use <strong>ANOVA</strong> or <strong>Chi-squared</strong></li>\n",
    "</ul>\n",
    "\n",
    "</details>\n"
   ]
  },
  {
   "cell_type": "code",
   "execution_count": 1,
   "id": "e5b194d1",
   "metadata": {},
   "outputs": [],
   "source": [
    "# Display Settings\n",
    "from IPython.core.interactiveshell import InteractiveShell\n",
    "InteractiveShell.ast_node_interactivity = \"all\"\n",
    "from IPython.display import display, HTML\n",
    "\n",
    "# Set Seed \n",
    "my_seed=1995\n",
    "\n",
    "# Libraries\n",
    "import numpy as np\n",
    "import pandas as pd\n",
    "import matplotlib.pyplot as plt\n",
    "import seaborn as sns\n",
    "import json\n",
    "from scipy import stats\n",
    "from scipy.stats import (\n",
    "    ttest_ind,\n",
    "    ttest_rel,\n",
    "    chi2_contingency,\n",
    "    mannwhitneyu,\n",
    "    levene,\n",
    "    shapiro\n",
    ")\n",
    "import statsmodels.api as sm\n",
    "from statsmodels.stats.power import (\n",
    "    TTestIndPower,\n",
    "    TTestPower,\n",
    "    FTestAnovaPower,\n",
    "    NormalIndPower\n",
    ")\n",
    "from sklearn.model_selection import train_test_split"
   ]
  },
  {
   "cell_type": "markdown",
   "id": "3edc9bb8",
   "metadata": {},
   "source": [
    "<a id=\"sample-data\"></a>\n",
    "#### 🧾 Sample data"
   ]
  },
  {
   "cell_type": "code",
   "execution_count": 2,
   "id": "f125df9a",
   "metadata": {},
   "outputs": [
    {
     "data": {
      "text/html": [
       "<div>\n",
       "<style scoped>\n",
       "    .dataframe tbody tr th:only-of-type {\n",
       "        vertical-align: middle;\n",
       "    }\n",
       "\n",
       "    .dataframe tbody tr th {\n",
       "        vertical-align: top;\n",
       "    }\n",
       "\n",
       "    .dataframe thead th {\n",
       "        text-align: right;\n",
       "    }\n",
       "</style>\n",
       "<table border=\"1\" class=\"dataframe\">\n",
       "  <thead>\n",
       "    <tr style=\"text-align: right;\">\n",
       "      <th></th>\n",
       "      <th>user_id</th>\n",
       "      <th>platform</th>\n",
       "      <th>device_type</th>\n",
       "      <th>user_tier</th>\n",
       "      <th>region</th>\n",
       "      <th>plan_type</th>\n",
       "      <th>city</th>\n",
       "      <th>engagement_score</th>\n",
       "      <th>converted</th>\n",
       "      <th>past_purchase_count</th>\n",
       "      <th>bounce_rate</th>\n",
       "    </tr>\n",
       "  </thead>\n",
       "  <tbody>\n",
       "    <tr>\n",
       "      <th>0</th>\n",
       "      <td>1</td>\n",
       "      <td>iOS</td>\n",
       "      <td>mobile</td>\n",
       "      <td>new</td>\n",
       "      <td>North</td>\n",
       "      <td>premium</td>\n",
       "      <td>austin</td>\n",
       "      <td>53.437537</td>\n",
       "      <td>0</td>\n",
       "      <td>50.653869</td>\n",
       "      <td>0.660153</td>\n",
       "    </tr>\n",
       "    <tr>\n",
       "      <th>1</th>\n",
       "      <td>2</td>\n",
       "      <td>iOS</td>\n",
       "      <td>mobile</td>\n",
       "      <td>returning</td>\n",
       "      <td>North</td>\n",
       "      <td>basic</td>\n",
       "      <td>ny</td>\n",
       "      <td>48.924673</td>\n",
       "      <td>1</td>\n",
       "      <td>26.451597</td>\n",
       "      <td>0.126471</td>\n",
       "    </tr>\n",
       "    <tr>\n",
       "      <th>2</th>\n",
       "      <td>3</td>\n",
       "      <td>iOS</td>\n",
       "      <td>desktop</td>\n",
       "      <td>returning</td>\n",
       "      <td>South</td>\n",
       "      <td>premium</td>\n",
       "      <td>austin</td>\n",
       "      <td>80.179294</td>\n",
       "      <td>0</td>\n",
       "      <td>43.112520</td>\n",
       "      <td>0.552955</td>\n",
       "    </tr>\n",
       "    <tr>\n",
       "      <th>3</th>\n",
       "      <td>4</td>\n",
       "      <td>iOS</td>\n",
       "      <td>mobile</td>\n",
       "      <td>new</td>\n",
       "      <td>North</td>\n",
       "      <td>premium</td>\n",
       "      <td>austin</td>\n",
       "      <td>40.441478</td>\n",
       "      <td>0</td>\n",
       "      <td>48.339368</td>\n",
       "      <td>0.665883</td>\n",
       "    </tr>\n",
       "    <tr>\n",
       "      <th>4</th>\n",
       "      <td>5</td>\n",
       "      <td>Android</td>\n",
       "      <td>mobile</td>\n",
       "      <td>returning</td>\n",
       "      <td>West</td>\n",
       "      <td>basic</td>\n",
       "      <td>chicago</td>\n",
       "      <td>54.171571</td>\n",
       "      <td>0</td>\n",
       "      <td>56.578205</td>\n",
       "      <td>0.503212</td>\n",
       "    </tr>\n",
       "    <tr>\n",
       "      <th>...</th>\n",
       "      <td>...</td>\n",
       "      <td>...</td>\n",
       "      <td>...</td>\n",
       "      <td>...</td>\n",
       "      <td>...</td>\n",
       "      <td>...</td>\n",
       "      <td>...</td>\n",
       "      <td>...</td>\n",
       "      <td>...</td>\n",
       "      <td>...</td>\n",
       "      <td>...</td>\n",
       "    </tr>\n",
       "    <tr>\n",
       "      <th>995</th>\n",
       "      <td>996</td>\n",
       "      <td>iOS</td>\n",
       "      <td>desktop</td>\n",
       "      <td>returning</td>\n",
       "      <td>North</td>\n",
       "      <td>basic</td>\n",
       "      <td>sf</td>\n",
       "      <td>35.814776</td>\n",
       "      <td>0</td>\n",
       "      <td>55.156336</td>\n",
       "      <td>0.722611</td>\n",
       "    </tr>\n",
       "    <tr>\n",
       "      <th>996</th>\n",
       "      <td>997</td>\n",
       "      <td>iOS</td>\n",
       "      <td>mobile</td>\n",
       "      <td>new</td>\n",
       "      <td>South</td>\n",
       "      <td>pro</td>\n",
       "      <td>ny</td>\n",
       "      <td>35.693639</td>\n",
       "      <td>0</td>\n",
       "      <td>48.434500</td>\n",
       "      <td>0.522644</td>\n",
       "    </tr>\n",
       "    <tr>\n",
       "      <th>997</th>\n",
       "      <td>998</td>\n",
       "      <td>Android</td>\n",
       "      <td>desktop</td>\n",
       "      <td>returning</td>\n",
       "      <td>South</td>\n",
       "      <td>premium</td>\n",
       "      <td>chicago</td>\n",
       "      <td>33.913119</td>\n",
       "      <td>0</td>\n",
       "      <td>30.591967</td>\n",
       "      <td>0.644316</td>\n",
       "    </tr>\n",
       "    <tr>\n",
       "      <th>998</th>\n",
       "      <td>999</td>\n",
       "      <td>iOS</td>\n",
       "      <td>mobile</td>\n",
       "      <td>new</td>\n",
       "      <td>West</td>\n",
       "      <td>premium</td>\n",
       "      <td>sf</td>\n",
       "      <td>40.789684</td>\n",
       "      <td>0</td>\n",
       "      <td>44.760253</td>\n",
       "      <td>0.540618</td>\n",
       "    </tr>\n",
       "    <tr>\n",
       "      <th>999</th>\n",
       "      <td>1000</td>\n",
       "      <td>iOS</td>\n",
       "      <td>mobile</td>\n",
       "      <td>returning</td>\n",
       "      <td>South</td>\n",
       "      <td>basic</td>\n",
       "      <td>austin</td>\n",
       "      <td>71.341543</td>\n",
       "      <td>0</td>\n",
       "      <td>30.985932</td>\n",
       "      <td>0.542153</td>\n",
       "    </tr>\n",
       "  </tbody>\n",
       "</table>\n",
       "<p>1000 rows × 11 columns</p>\n",
       "</div>"
      ],
      "text/plain": [
       "     user_id platform device_type  user_tier region plan_type     city  \\\n",
       "0          1      iOS      mobile        new  North   premium   austin   \n",
       "1          2      iOS      mobile  returning  North     basic       ny   \n",
       "2          3      iOS     desktop  returning  South   premium   austin   \n",
       "3          4      iOS      mobile        new  North   premium   austin   \n",
       "4          5  Android      mobile  returning   West     basic  chicago   \n",
       "..       ...      ...         ...        ...    ...       ...      ...   \n",
       "995      996      iOS     desktop  returning  North     basic       sf   \n",
       "996      997      iOS      mobile        new  South       pro       ny   \n",
       "997      998  Android     desktop  returning  South   premium  chicago   \n",
       "998      999      iOS      mobile        new   West   premium       sf   \n",
       "999     1000      iOS      mobile  returning  South     basic   austin   \n",
       "\n",
       "     engagement_score  converted  past_purchase_count  bounce_rate  \n",
       "0           53.437537          0            50.653869     0.660153  \n",
       "1           48.924673          1            26.451597     0.126471  \n",
       "2           80.179294          0            43.112520     0.552955  \n",
       "3           40.441478          0            48.339368     0.665883  \n",
       "4           54.171571          0            56.578205     0.503212  \n",
       "..                ...        ...                  ...          ...  \n",
       "995         35.814776          0            55.156336     0.722611  \n",
       "996         35.693639          0            48.434500     0.522644  \n",
       "997         33.913119          0            30.591967     0.644316  \n",
       "998         40.789684          0            44.760253     0.540618  \n",
       "999         71.341543          0            30.985932     0.542153  \n",
       "\n",
       "[1000 rows x 11 columns]"
      ]
     },
     "execution_count": 2,
     "metadata": {},
     "output_type": "execute_result"
    }
   ],
   "source": [
    "observations_count = 1000\n",
    "\n",
    "np.random.seed(my_seed) # For reproducibility\n",
    "users = pd.DataFrame({\n",
    "    # identifiers\n",
    "    'user_id': range(1, observations_count+1),\n",
    "\n",
    "    # segmentation features\n",
    "    'platform': np.random.choice(['iOS', 'Android'], size=observations_count, p=[0.6, 0.4]), # 60% iOS, 40% Android\n",
    "    'device_type': np.random.choice(['mobile', 'desktop'], size=observations_count, p=[0.7, 0.3]),\n",
    "    'user_tier': np.random.choice(['new', 'returning'], size=observations_count, p=[0.4, 0.6]),\n",
    "    'region': np.random.choice(['North', 'South', 'East', 'West'], size=observations_count, p=[0.25, 0.25, 0.25, 0.25]),\n",
    "    'plan_type': np.random.choice(['basic', 'premium', 'pro'], size=observations_count, p=[0.6, 0.3, 0.1]), # 60% basic, 30% premium, 10% pro\n",
    "    'city': np.random.choice(['ny', 'sf', 'chicago', 'austin'], size=observations_count),\n",
    "\n",
    "    # outcome metrics\n",
    "    'engagement_score': np.random.normal(50, 15, observations_count), # Simulated user engagement scores\n",
    "    'converted': np.random.binomial(n=1, p=0.1, size=observations_count), # Simulated binary conversion: ~10% baseline\n",
    "    'past_purchase_count': np.random.normal(loc=50, scale=10, size=observations_count), # pre_experiment_metric for CUPED randomization\n",
    "    'bounce_rate': np.nan # will be simulated later\n",
    "})\n",
    "\n",
    "# Simulate  a guardrail metric (bounce_rate)\n",
    "np.random.seed(my_seed)\n",
    "users['bounce_rate'] = np.where(\n",
    "    users['converted'] == 1,\n",
    "    np.random.normal(loc=0.2, scale=0.05, size=observations_count),\n",
    "    np.random.normal(loc=0.6, scale=0.10, size=observations_count)\n",
    ")\n",
    "users['bounce_rate'] = users['bounce_rate'].clip(0, 1) # Bound bounce_rate between 0 and 1\n",
    "\n",
    "users"
   ]
  },
  {
   "cell_type": "markdown",
   "id": "23628ec2",
   "metadata": {},
   "source": [
    "<a id=\"experiment-setup\"></a>\n",
    "\n",
    "#### 🛠️ Experiment Setup"
   ]
  },
  {
   "cell_type": "code",
   "execution_count": 3,
   "id": "d31eb0a2",
   "metadata": {},
   "outputs": [],
   "source": [
    "# 1. Main outcome variable you're testing\n",
    "outcome_metric_col = 'engagement_score'\n",
    "\n",
    "# 2. Metric type: 'binary', 'continuous', or 'categorical'\n",
    "outcome_metric_datatype = 'continuous'\n",
    "\n",
    "# 3. Group assignment (to be generated)\n",
    "group_labels = ('control', 'treatment')\n",
    "\n",
    "# 4. Experimental design variant: independent or paired\n",
    "variant = 'independent'  # Options: 'independent' (supported), 'paired' (not supported yet)\n",
    "\n",
    "# 5. Optional: Unique identifier for each observation (can be user_id, session_id, etc.)\n",
    "observation_id_col = 'user_id'\n",
    "\n",
    "# 6. Optional: Pre-experiment metric for CUPED, if used\n",
    "pre_experiment_metric = 'past_purchase_count'  # Can be None"
   ]
  },
  {
   "cell_type": "markdown",
   "id": "aa38c98b",
   "metadata": {},
   "source": [
    "<a id=\"other-experiment-parameters\"></a>\n",
    "#### ⚙️ Other Experiment Parameters"
   ]
  },
  {
   "cell_type": "code",
   "execution_count": 4,
   "id": "ff851a85",
   "metadata": {},
   "outputs": [],
   "source": [
    "# Number of groups in the experiment (e.g., 2 for A/B test, 3 for A/B/C test)\n",
    "group_count = len(group_labels)\n",
    "\n",
    "# Column name used to store assigned group after randomization\n",
    "group_col = 'group'\n",
    "\n",
    "# Randomization method to assign users to groups\n",
    "# Options: 'simple', 'stratified', 'block', 'matched_pair', 'cluster', 'cuped'\n",
    "randomization_method = \"simple\""
   ]
  },
  {
   "cell_type": "markdown",
   "id": "5c643f91",
   "metadata": {},
   "source": [
    "<a id=\"central-control-panel\"></a>\n",
    "#### 🔧 Central Control Panel"
   ]
  },
  {
   "cell_type": "code",
   "execution_count": 5,
   "id": "775b66c9",
   "metadata": {},
   "outputs": [
    {
     "data": {
      "text/html": [
       "<pre style='color:teal; font-size:14px;'>{\n",
       "    \"outcome_metric_col\": \"engagement_score\",\n",
       "    \"outcome_metric_datatype\": \"continuous\",\n",
       "    \"group_labels\": [\n",
       "        \"control\",\n",
       "        \"treatment\"\n",
       "    ],\n",
       "    \"group_count\": 2,\n",
       "    \"variant\": \"independent\",\n",
       "    \"observation_id_col\": \"user_id\",\n",
       "    \"pre_experiment_metric\": \"past_purchase_count\",\n",
       "    \"normality\": null,\n",
       "    \"equal_variance\": null,\n",
       "    \"family\": null\n",
       "}</pre>"
      ],
      "text/plain": [
       "<IPython.core.display.HTML object>"
      ]
     },
     "metadata": {},
     "output_type": "display_data"
    }
   ],
   "source": [
    "test_config = {\n",
    "    # Core experiment setup\n",
    "    'outcome_metric_col'     : outcome_metric_col,         # Main metric to analyze (e.g., 'engagement_score')\n",
    "    'outcome_metric_datatype': outcome_metric_datatype,    # One of: 'binary', 'continuous', 'categorical'\n",
    "    'group_labels'           : group_labels,               # Tuple of (control, treatment) group names\n",
    "    'group_count'            : group_count,                # Number of groups (usually 2 for A/B tests)\n",
    "    'variant'                : variant,                    # 'independent' or 'paired'\n",
    "    'observation_id_col'     : observation_id_col,         # Unique identifier for each observation\n",
    "    'pre_experiment_metric'  : pre_experiment_metric,      # Used for CUPED adjustment (if any)\n",
    "\n",
    "    # Diagnostic results — filled after EDA/assumptions check\n",
    "    'normality'              : None,  # Will be set based on Shapiro-Wilk or visual tests\n",
    "    'equal_variance'         : None,  # Will be set using Levene’s/Bartlett’s test\n",
    "    'family'                 : None   # Test family → 'z_test', 't_test', 'anova', 'chi_square', etc.\n",
    "}\n",
    "\n",
    "from IPython.display import HTML\n",
    "display(HTML(f\"<pre style='color:teal; font-size:14px;'>{json.dumps(test_config, indent=4)}</pre>\"))\n"
   ]
  },
  {
   "cell_type": "markdown",
   "id": "e9d17e8c",
   "metadata": {},
   "source": [
    "[Back to the top](#table-of-contents)\n",
    "___\n"
   ]
  },
  {
   "cell_type": "markdown",
   "id": "25cad63c",
   "metadata": {},
   "source": [
    "<a id=\"randomization-methods\"></a>\n",
    "<h1>🔀 Randomization Methods</h1>\n",
    "\n",
    "<details><summary><strong>📖 Click to Expand</strong></summary>\n",
    "\n",
    "<p>Randomization is used to ensure that observed differences in outcome metrics are due to the experiment, not pre-existing differences.</p>\n",
    "\n",
    "<ul>\n",
    "  <li>Prevents <strong>selection bias</strong> (e.g., users self-selecting into groups)</li>\n",
    "  <li>Balances <strong>confounding factors</strong> like platform, region, or past behavior</li>\n",
    "  <li>Enables <strong>valid inference</strong> through statistical testing</li>\n",
    "</ul>\n",
    "\n",
    "</details>\n"
   ]
  },
  {
   "cell_type": "markdown",
   "id": "02c72abf",
   "metadata": {},
   "source": [
    "<a id=\"simple-randomization\"></a>\n",
    "\n",
    "#### 🔄 Simple Randomization\n",
    "\n",
    "<details>\n",
    "  <summary><strong>📖 Click to Expand</strong></summary>\n",
    "\n",
    "  <p><strong>Each user is assigned to control or treatment with equal probability, independent of any characteristics.</strong></p>\n",
    "\n",
    "  <strong>✅ When to Use:</strong>\n",
    "  <ul>\n",
    "    <li>Sample size is <em>large enough</em> to ensure natural balance</li>\n",
    "    <li>No strong concern about <em>confounding variables</em></li>\n",
    "    <li>Need a <em>quick, default assignment</em> strategy</li>\n",
    "  </ul>\n",
    "\n",
    "  <strong>🛠️ How It Works:</strong>\n",
    "  <ul>\n",
    "    <li>Assign each user randomly (e.g., 50/50 split)</li>\n",
    "    <li>No grouping, segmentation, or blocking involved</li>\n",
    "    <li>Groups are expected to balance out on average</li>\n",
    "  </ul>\n",
    "</details>\n"
   ]
  },
  {
   "cell_type": "code",
   "execution_count": 6,
   "id": "3e9964e9",
   "metadata": {},
   "outputs": [],
   "source": [
    "def apply_simple_randomization(df, group_labels=group_labels, group_col=group_col, seed=my_seed):\n",
    "    \"\"\"\n",
    "    Randomly assigns each row to one of the specified groups.\n",
    "\n",
    "    Parameters:\n",
    "    - df: pandas DataFrame containing observations\n",
    "    - group_labels: tuple of group names (default = ('control', 'treatment'))\n",
    "    - group_col: name of the column to store group assignments\n",
    "    - seed: random seed for reproducibility\n",
    "\n",
    "    Returns:\n",
    "    - DataFrame with an added group assignment column\n",
    "    \"\"\"\n",
    "    np.random.seed(seed)\n",
    "    df[group_col] = np.random.choice(group_labels, size=len(df), replace=True)\n",
    "    return df"
   ]
  },
  {
   "cell_type": "markdown",
   "id": "2e703a33",
   "metadata": {},
   "source": [
    "<a id=\"stratified-sampling\"></a>\n",
    "\n",
    "<h4>🔄 Stratified Sampling</h4>\n",
    "\n",
    "<details><summary><strong>📖 Click to Expand</strong></summary>\n",
    "\n",
    "<p>Ensures that key segments (e.g., platform, region) are evenly represented across control and treatment.</p>\n",
    "\n",
    "<h5>When to Use</h5>\n",
    "<ul>\n",
    "  <li>User base is <strong>naturally skewed</strong> (e.g., 70% mobile, 30% desktop)</li>\n",
    "  <li>Important to control for <strong>known confounders</strong> like geography or device</li>\n",
    "  <li>You want balance <strong>within subgroups</strong>, not just overall</li>\n",
    "</ul>\n",
    "\n",
    "<h5>How It Works</h5>\n",
    "<ul>\n",
    "  <li>Pick a stratification variable (e.g., platform)</li>\n",
    "  <li>Split population into strata (groups)</li>\n",
    "  <li>Randomly assign users <strong>within each stratum</strong></li>\n",
    "</ul>\n",
    "\n",
    "</details>\n"
   ]
  },
  {
   "cell_type": "code",
   "execution_count": 7,
   "id": "43aeb7aa",
   "metadata": {},
   "outputs": [],
   "source": [
    "def apply_stratified_randomization(df, stratify_col, group_labels=group_labels, group_col=group_col, seed=my_seed):\n",
    "    \"\"\"\n",
    "    Performs stratified randomization to assign rows into multiple groups while maintaining balance across strata.\n",
    "\n",
    "    Parameters:\n",
    "    - df: pandas DataFrame to assign groups to\n",
    "    - stratify_col: column to balance across (e.g., platform, region)\n",
    "    - group_labels: list or tuple of group names\n",
    "    - group_col: name of the column to store group assignments\n",
    "    - seed: random seed for reproducibility\n",
    "\n",
    "    Returns:\n",
    "    - DataFrame with a new group assignment column\n",
    "    \"\"\"\n",
    "    np.random.seed(seed)\n",
    "    df[group_col] = None\n",
    "    n_groups = len(group_labels)\n",
    "\n",
    "    # Stratify and assign\n",
    "    for stratum_value, stratum_df in df.groupby(stratify_col):\n",
    "        shuffled = stratum_df.sample(frac=1, random_state=seed)\n",
    "        group_assignments = np.tile(group_labels, int(np.ceil(len(shuffled) / n_groups)))[:len(shuffled)]\n",
    "        df.loc[shuffled.index, group_col] = group_assignments\n",
    "\n",
    "    return df"
   ]
  },
  {
   "cell_type": "markdown",
   "id": "5b69b4f6",
   "metadata": {},
   "source": [
    "<a id=\"block-randomization\"></a>\n",
    "\n",
    "<h4>🔄 Block Randomization</h4>\n",
    "\n",
    "<details><summary><strong>📖 Click to Expand</strong></summary>\n",
    "\n",
    "<p>Groups users into fixed-size blocks and randomly assigns groups within each block.</p>\n",
    "\n",
    "<h5>When to Use</h5>\n",
    "<ul>\n",
    "  <li>Users arrive in <strong>time-based batches</strong> (e.g., daily cohorts)</li>\n",
    "  <li>Sample size is <strong>small</strong> and needs enforced balance</li>\n",
    "  <li>You want to minimize <strong>temporal or ordering effects</strong></li>\n",
    "</ul>\n",
    "\n",
    "<h5>How It Works</h5>\n",
    "<ul>\n",
    "  <li>Create blocks based on order or ID (e.g., every 10 users)</li>\n",
    "  <li>Randomize assignments <strong>within each block</strong></li>\n",
    "  <li>Ensures near-equal split in every batch</li>\n",
    "</ul>\n",
    "\n",
    "</details>\n"
   ]
  },
  {
   "cell_type": "code",
   "execution_count": 8,
   "id": "04a062a4",
   "metadata": {},
   "outputs": [],
   "source": [
    "def apply_block_randomization(df, observation_id_col, group_col=group_col, block_size=10, group_labels=group_labels, seed=my_seed):\n",
    "    \"\"\"\n",
    "    Assigns group labels using block randomization to ensure balance within fixed-size blocks.\n",
    "\n",
    "    Parameters:\n",
    "    - df: DataFrame to assign groups\n",
    "    - observation_id_col: Unique ID to sort and block on (e.g., user_id)\n",
    "    - group_col: Name of column to store assigned group labels\n",
    "    - block_size: Number of observations in each block\n",
    "    - group_labels: Tuple or list of group names (e.g., ('control', 'treatment', 'variant_B'))\n",
    "    - seed: Random seed for reproducibility\n",
    "\n",
    "    Returns:\n",
    "    - DataFrame with a new column [group_col] indicating assigned group\n",
    "    \"\"\"\n",
    "    np.random.seed(seed)\n",
    "    df = df.sort_values(observation_id_col).reset_index(drop=True).copy()\n",
    "    n_groups = len(group_labels)\n",
    "\n",
    "    # Create block ID per row\n",
    "    df['_block'] = df.index // block_size\n",
    "\n",
    "    # Assign groups within each block\n",
    "    group_assignments = []\n",
    "    for _, block_df in df.groupby('_block'):\n",
    "        block_n = len(block_df)\n",
    "        reps = int(np.ceil(block_n / n_groups))\n",
    "        candidates = np.tile(group_labels, reps)[:block_n]\n",
    "        np.random.shuffle(candidates)\n",
    "        group_assignments.extend(candidates)\n",
    "\n",
    "    df[group_col] = group_assignments\n",
    "    df = df.drop(columns=['_block'])\n",
    "\n",
    "    return df"
   ]
  },
  {
   "cell_type": "markdown",
   "id": "cd7433cc",
   "metadata": {},
   "source": [
    "<a id=\"match-pair-randomization\"></a>\n",
    "\n",
    "<h4>🔄 Match Pair Randomization</h4>\n",
    "\n",
    "<details><summary><strong>📖 Click to Expand</strong></summary>\n",
    "\n",
    "<p>Participants are <strong>paired based on similar characteristics</strong> before random group assignment.  \n",
    "This reduces variance and improves <strong>statistical power</strong> by ensuring balance on key covariates.</p>\n",
    "\n",
    "<h5>When to Use</h5>\n",
    "<ul>\n",
    "  <li>Small sample size with high risk of <strong>confounding</strong></li>\n",
    "  <li>Outcomes influenced by user traits (e.g., <strong>age, income, tenure</strong>)</li>\n",
    "  <li>Need to <strong>minimize variance</strong> across groups</li>\n",
    "</ul>\n",
    "\n",
    "<h5>How It Works</h5>\n",
    "<ol>\n",
    "  <li>Identify important covariates (e.g., age, purchase history)</li>\n",
    "  <li>Sort users by those variables</li>\n",
    "  <li>Create matched pairs (or small groups)</li>\n",
    "  <li>Randomly assign one to <strong>control</strong>, the other to <strong>treatment</strong></li>\n",
    "</ol>\n",
    "\n",
    "</details>\n"
   ]
  },
  {
   "cell_type": "code",
   "execution_count": 9,
   "id": "a7ba496f",
   "metadata": {},
   "outputs": [],
   "source": [
    "def apply_matched_pair_randomization(df, sort_col, group_col=group_col, group_labels=group_labels):\n",
    "    \"\"\"\n",
    "    Assigns groups using matched-pair randomization based on a sorting variable.\n",
    "\n",
    "    Parameters:\n",
    "    - df: pandas DataFrame to assign groups to\n",
    "    - sort_col: column used to sort users before pairing (e.g., engagement score)\n",
    "    - group_col: name of the column to store group assignments\n",
    "    - group_labels: tuple of group names (e.g., ('control', 'treatment'))\n",
    "\n",
    "    Returns:\n",
    "    - DataFrame with alternating group assignments within sorted pairs\n",
    "    \"\"\"\n",
    "    # Sort by matching variable so similar users are adjacent\n",
    "    df = df.sort_values(by=sort_col).reset_index(drop=True)\n",
    "\n",
    "    # Cycle through group labels for each row\n",
    "    df[group_col] = [group_labels[i % len(group_labels)] for i in range(len(df))]\n",
    "\n",
    "    return df"
   ]
  },
  {
   "cell_type": "markdown",
   "id": "0872f04b",
   "metadata": {},
   "source": [
    "<a id=\"cluster-randomization\"></a>\n",
    "\n",
    "<h4>🔄 Cluster Randomization</h4>\n",
    "\n",
    "<details><summary><strong>📖 Click to Expand</strong></summary>\n",
    "\n",
    "<p>Entire <strong>groups or clusters</strong> (e.g., cities, stores, schools) are assigned to control or treatment.  \n",
    "Used when it's impractical or risky to randomize individuals within a cluster.</p>\n",
    "\n",
    "<h5>When to Use</h5>\n",
    "<ul>\n",
    "  <li>Users naturally exist in <strong>groups</strong> (e.g., teams, locations, devices)</li>\n",
    "  <li>There's a risk of <strong>interference</strong> between users (e.g., word-of-mouth)</li>\n",
    "  <li>Operational or tech constraints prevent individual-level randomization</li>\n",
    "</ul>\n",
    "\n",
    "<h5>How It Works</h5>\n",
    "<ol>\n",
    "  <li>Define the cluster unit (e.g., store, city)</li>\n",
    "  <li>Randomly assign each cluster to control or treatment</li>\n",
    "  <li>All users within the cluster inherit the group assignment</li>\n",
    "</ol>\n",
    "\n",
    "</details>\n"
   ]
  },
  {
   "cell_type": "code",
   "execution_count": 10,
   "id": "6b28e6b7",
   "metadata": {},
   "outputs": [],
   "source": [
    "def apply_cluster_randomization(df, cluster_col, group_col=group_col, group_labels=group_labels, seed=my_seed):\n",
    "    \"\"\"\n",
    "    Assigns groups using cluster-level randomization — all observations in a cluster\n",
    "    receive the same group assignment.\n",
    "\n",
    "    Parameters:\n",
    "    - df: pandas DataFrame to assign groups to\n",
    "    - cluster_col: column representing the cluster unit (e.g., city, store)\n",
    "    - group_col: name of the column where group labels will be stored\n",
    "    - group_labels: tuple of group names to randomly assign (e.g., ('control', 'treatment'))\n",
    "    - seed: random seed for reproducibility\n",
    "\n",
    "    Returns:\n",
    "    - DataFrame with assigned groups at the cluster level\n",
    "    \"\"\"\n",
    "    np.random.seed(seed)\n",
    "\n",
    "    # Unique clusters (e.g., unique city/store values)\n",
    "    unique_clusters = df[cluster_col].unique()\n",
    "\n",
    "    # Randomly assign each cluster to a group\n",
    "    cluster_assignments = dict(\n",
    "        zip(unique_clusters, np.random.choice(group_labels, size=len(unique_clusters)))\n",
    "    )\n",
    "\n",
    "    # Map group assignments to full DataFrame\n",
    "    df[group_col] = df[cluster_col].map(cluster_assignments)\n",
    "\n",
    "    return df"
   ]
  },
  {
   "cell_type": "markdown",
   "id": "a8419594",
   "metadata": {},
   "source": [
    "<a id=\"cuped\"></a>\n",
    "<h4>🔄 CUPED</h4>\n",
    "\n",
    "<details><summary><strong>📖 Click to Expand</strong></summary>\n",
    "\n",
    "<p>Controlled Pre-Experiment Data: A statistical adjustment that uses <strong>pre-experiment behavior</strong> to reduce variance and improve power.  \n",
    "It helps detect smaller effects without increasing sample size.</p>\n",
    "\n",
    "<h5>When to Use</h5>\n",
    "<ul>\n",
    "  <li>You have reliable <strong>pre-experiment metrics</strong> (e.g., past spend, engagement)</li>\n",
    "  <li>You want to <strong>reduce variance</strong> and improve test sensitivity</li>\n",
    "  <li>You’re dealing with <strong>small lifts</strong> or <strong>costly sample sizes</strong></li>\n",
    "</ul>\n",
    "\n",
    "<h5>How It Works</h5>\n",
    "<ol>\n",
    "  <li>Identify a pre-period metric <strong>correlated with your outcome</strong></li>\n",
    "  <li>Use regression to compute an adjustment (theta)</li>\n",
    "  <li>Subtract the correlated component from your outcome metric</li>\n",
    "  <li>Analyze the adjusted metric instead of the raw one</li>\n",
    "</ol>\n",
    "\n",
    "</details>\n"
   ]
  },
  {
   "cell_type": "code",
   "execution_count": 11,
   "id": "86dda432",
   "metadata": {},
   "outputs": [],
   "source": [
    "def apply_cuped(\n",
    "    df,\n",
    "    pre_metric,\n",
    "    outcome_metric_col,  # observed outcome column (e.g., engagement_score)\n",
    "    outcome_col=None,\n",
    "    group_col=group_col,\n",
    "    group_labels=group_labels,\n",
    "    seed=my_seed\n",
    "):\n",
    "    \"\"\"\n",
    "    Applies CUPED (Controlled Pre-Experiment Data) adjustment to reduce variance\n",
    "    in the outcome metric using a pre-experiment covariate.\n",
    "\n",
    "    CUPED is a post-randomization technique that reduces variance by adjusting the \n",
    "    observed outcome using a baseline (pre-metric) variable that is correlated \n",
    "    with the outcome.\n",
    "\n",
    "    Parameters:\n",
    "    ----------\n",
    "    df : pandas.DataFrame\n",
    "        Input DataFrame containing experiment data.\n",
    "    pre_metric : str\n",
    "        Column name of the pre-experiment covariate (e.g., 'past_purchase_count').\n",
    "        This is the variable used to compute the adjustment factor (theta).\n",
    "    outcome_metric_col : str\n",
    "        Column name of the original observed outcome (e.g., 'engagement_score') \n",
    "        that you are comparing across groups.\n",
    "    outcome_col : str, default=None\n",
    "        Name of the new column where the adjusted outcome will be stored.\n",
    "    group_col : str\n",
    "        Column indicating the experiment group assignment (e.g., 'control' vs 'treatment').\n",
    "    group_labels : tuple\n",
    "        Tuple containing the names of the experiment groups.\n",
    "    seed : int\n",
    "        Random seed for reproducibility (used only if randomness is introduced later).\n",
    "\n",
    "    Returns:\n",
    "    -------\n",
    "    df : pandas.DataFrame\n",
    "        DataFrame with an additional column [outcome_col] containing the CUPED-adjusted outcome.\n",
    "    \"\"\"\n",
    "    np.random.seed(seed)\n",
    "\n",
    "    # Step 1: Use actual observed experiment outcome\n",
    "    y = df[outcome_metric_col].values\n",
    "\n",
    "    # Step 2: Regress outcome on pre-metric to estimate correction factor (theta)\n",
    "    X = sm.add_constant(df[[pre_metric]])\n",
    "    theta = sm.OLS(y, X).fit().params[pre_metric]\n",
    "\n",
    "    # Step 3: Apply CUPED adjustment and save in new column\n",
    "    if outcome_col is None:\n",
    "        outcome_col = f'{outcome_metric_col}_cuped_adjusted'\n",
    "    df[outcome_col] = y - theta * df[pre_metric]\n",
    "\n",
    "    return df\n"
   ]
  },
  {
   "cell_type": "code",
   "execution_count": 12,
   "id": "cbf7e94a",
   "metadata": {},
   "outputs": [
    {
     "data": {
      "text/html": [
       "<div>\n",
       "<style scoped>\n",
       "    .dataframe tbody tr th:only-of-type {\n",
       "        vertical-align: middle;\n",
       "    }\n",
       "\n",
       "    .dataframe tbody tr th {\n",
       "        vertical-align: top;\n",
       "    }\n",
       "\n",
       "    .dataframe thead th {\n",
       "        text-align: right;\n",
       "    }\n",
       "</style>\n",
       "<table border=\"1\" class=\"dataframe\">\n",
       "  <thead>\n",
       "    <tr style=\"text-align: right;\">\n",
       "      <th></th>\n",
       "      <th>user_id</th>\n",
       "      <th>platform</th>\n",
       "      <th>device_type</th>\n",
       "      <th>user_tier</th>\n",
       "      <th>region</th>\n",
       "      <th>plan_type</th>\n",
       "      <th>city</th>\n",
       "      <th>engagement_score</th>\n",
       "      <th>converted</th>\n",
       "      <th>past_purchase_count</th>\n",
       "      <th>bounce_rate</th>\n",
       "      <th>group</th>\n",
       "    </tr>\n",
       "  </thead>\n",
       "  <tbody>\n",
       "    <tr>\n",
       "      <th>0</th>\n",
       "      <td>1</td>\n",
       "      <td>iOS</td>\n",
       "      <td>mobile</td>\n",
       "      <td>new</td>\n",
       "      <td>North</td>\n",
       "      <td>premium</td>\n",
       "      <td>austin</td>\n",
       "      <td>53.437537</td>\n",
       "      <td>0</td>\n",
       "      <td>50.653869</td>\n",
       "      <td>0.660153</td>\n",
       "      <td>control</td>\n",
       "    </tr>\n",
       "    <tr>\n",
       "      <th>1</th>\n",
       "      <td>2</td>\n",
       "      <td>iOS</td>\n",
       "      <td>mobile</td>\n",
       "      <td>returning</td>\n",
       "      <td>North</td>\n",
       "      <td>basic</td>\n",
       "      <td>ny</td>\n",
       "      <td>48.924673</td>\n",
       "      <td>1</td>\n",
       "      <td>26.451597</td>\n",
       "      <td>0.126471</td>\n",
       "      <td>control</td>\n",
       "    </tr>\n",
       "    <tr>\n",
       "      <th>2</th>\n",
       "      <td>3</td>\n",
       "      <td>iOS</td>\n",
       "      <td>desktop</td>\n",
       "      <td>returning</td>\n",
       "      <td>South</td>\n",
       "      <td>premium</td>\n",
       "      <td>austin</td>\n",
       "      <td>80.179294</td>\n",
       "      <td>0</td>\n",
       "      <td>43.112520</td>\n",
       "      <td>0.552955</td>\n",
       "      <td>control</td>\n",
       "    </tr>\n",
       "    <tr>\n",
       "      <th>3</th>\n",
       "      <td>4</td>\n",
       "      <td>iOS</td>\n",
       "      <td>mobile</td>\n",
       "      <td>new</td>\n",
       "      <td>North</td>\n",
       "      <td>premium</td>\n",
       "      <td>austin</td>\n",
       "      <td>40.441478</td>\n",
       "      <td>0</td>\n",
       "      <td>48.339368</td>\n",
       "      <td>0.665883</td>\n",
       "      <td>treatment</td>\n",
       "    </tr>\n",
       "    <tr>\n",
       "      <th>4</th>\n",
       "      <td>5</td>\n",
       "      <td>Android</td>\n",
       "      <td>mobile</td>\n",
       "      <td>returning</td>\n",
       "      <td>West</td>\n",
       "      <td>basic</td>\n",
       "      <td>chicago</td>\n",
       "      <td>54.171571</td>\n",
       "      <td>0</td>\n",
       "      <td>56.578205</td>\n",
       "      <td>0.503212</td>\n",
       "      <td>treatment</td>\n",
       "    </tr>\n",
       "    <tr>\n",
       "      <th>...</th>\n",
       "      <td>...</td>\n",
       "      <td>...</td>\n",
       "      <td>...</td>\n",
       "      <td>...</td>\n",
       "      <td>...</td>\n",
       "      <td>...</td>\n",
       "      <td>...</td>\n",
       "      <td>...</td>\n",
       "      <td>...</td>\n",
       "      <td>...</td>\n",
       "      <td>...</td>\n",
       "      <td>...</td>\n",
       "    </tr>\n",
       "    <tr>\n",
       "      <th>995</th>\n",
       "      <td>996</td>\n",
       "      <td>iOS</td>\n",
       "      <td>desktop</td>\n",
       "      <td>returning</td>\n",
       "      <td>North</td>\n",
       "      <td>basic</td>\n",
       "      <td>sf</td>\n",
       "      <td>35.814776</td>\n",
       "      <td>0</td>\n",
       "      <td>55.156336</td>\n",
       "      <td>0.722611</td>\n",
       "      <td>treatment</td>\n",
       "    </tr>\n",
       "    <tr>\n",
       "      <th>996</th>\n",
       "      <td>997</td>\n",
       "      <td>iOS</td>\n",
       "      <td>mobile</td>\n",
       "      <td>new</td>\n",
       "      <td>South</td>\n",
       "      <td>pro</td>\n",
       "      <td>ny</td>\n",
       "      <td>35.693639</td>\n",
       "      <td>0</td>\n",
       "      <td>48.434500</td>\n",
       "      <td>0.522644</td>\n",
       "      <td>control</td>\n",
       "    </tr>\n",
       "    <tr>\n",
       "      <th>997</th>\n",
       "      <td>998</td>\n",
       "      <td>Android</td>\n",
       "      <td>desktop</td>\n",
       "      <td>returning</td>\n",
       "      <td>South</td>\n",
       "      <td>premium</td>\n",
       "      <td>chicago</td>\n",
       "      <td>33.913119</td>\n",
       "      <td>0</td>\n",
       "      <td>30.591967</td>\n",
       "      <td>0.644316</td>\n",
       "      <td>control</td>\n",
       "    </tr>\n",
       "    <tr>\n",
       "      <th>998</th>\n",
       "      <td>999</td>\n",
       "      <td>iOS</td>\n",
       "      <td>mobile</td>\n",
       "      <td>new</td>\n",
       "      <td>West</td>\n",
       "      <td>premium</td>\n",
       "      <td>sf</td>\n",
       "      <td>40.789684</td>\n",
       "      <td>0</td>\n",
       "      <td>44.760253</td>\n",
       "      <td>0.540618</td>\n",
       "      <td>treatment</td>\n",
       "    </tr>\n",
       "    <tr>\n",
       "      <th>999</th>\n",
       "      <td>1000</td>\n",
       "      <td>iOS</td>\n",
       "      <td>mobile</td>\n",
       "      <td>returning</td>\n",
       "      <td>South</td>\n",
       "      <td>basic</td>\n",
       "      <td>austin</td>\n",
       "      <td>71.341543</td>\n",
       "      <td>0</td>\n",
       "      <td>30.985932</td>\n",
       "      <td>0.542153</td>\n",
       "      <td>control</td>\n",
       "    </tr>\n",
       "  </tbody>\n",
       "</table>\n",
       "<p>1000 rows × 12 columns</p>\n",
       "</div>"
      ],
      "text/plain": [
       "     user_id platform device_type  user_tier region plan_type     city  \\\n",
       "0          1      iOS      mobile        new  North   premium   austin   \n",
       "1          2      iOS      mobile  returning  North     basic       ny   \n",
       "2          3      iOS     desktop  returning  South   premium   austin   \n",
       "3          4      iOS      mobile        new  North   premium   austin   \n",
       "4          5  Android      mobile  returning   West     basic  chicago   \n",
       "..       ...      ...         ...        ...    ...       ...      ...   \n",
       "995      996      iOS     desktop  returning  North     basic       sf   \n",
       "996      997      iOS      mobile        new  South       pro       ny   \n",
       "997      998  Android     desktop  returning  South   premium  chicago   \n",
       "998      999      iOS      mobile        new   West   premium       sf   \n",
       "999     1000      iOS      mobile  returning  South     basic   austin   \n",
       "\n",
       "     engagement_score  converted  past_purchase_count  bounce_rate      group  \n",
       "0           53.437537          0            50.653869     0.660153    control  \n",
       "1           48.924673          1            26.451597     0.126471    control  \n",
       "2           80.179294          0            43.112520     0.552955    control  \n",
       "3           40.441478          0            48.339368     0.665883  treatment  \n",
       "4           54.171571          0            56.578205     0.503212  treatment  \n",
       "..                ...        ...                  ...          ...        ...  \n",
       "995         35.814776          0            55.156336     0.722611  treatment  \n",
       "996         35.693639          0            48.434500     0.522644    control  \n",
       "997         33.913119          0            30.591967     0.644316    control  \n",
       "998         40.789684          0            44.760253     0.540618  treatment  \n",
       "999         71.341543          0            30.985932     0.542153    control  \n",
       "\n",
       "[1000 rows x 12 columns]"
      ]
     },
     "execution_count": 12,
     "metadata": {},
     "output_type": "execute_result"
    }
   ],
   "source": [
    "# Apply randomization method\n",
    "if randomization_method == \"simple\":\n",
    "    users = apply_simple_randomization(users, group_col=group_col, seed=my_seed)\n",
    "\n",
    "elif randomization_method == \"stratified\":\n",
    "    users = apply_stratified_randomization(users, stratify_col='platform', group_col=group_col, seed=my_seed)\n",
    "\n",
    "elif randomization_method == \"block\":\n",
    "    users = apply_block_randomization(users, observation_id_col='user_id', group_col=group_col, block_size=10, seed=my_seed)\n",
    "\n",
    "elif randomization_method == \"matched_pair\":\n",
    "    users = apply_matched_pair_randomization(users, sort_col=outcome_metric_col, group_col=group_col, seed=my_seed)\n",
    "\n",
    "elif randomization_method == \"cluster\":\n",
    "    users = apply_cluster_randomization(users, cluster_col='city', group_col=group_col, seed=my_seed)\n",
    "\n",
    "elif randomization_method == \"cuped\":\n",
    "    users = apply_cuped(users, pre_metric='past_purchase_count', outcome_metric_col=outcome_metric_col, group_col=group_col, group_labels=group_labels, seed=my_seed)\n",
    "    # Update global outcome to CUPED-adjusted version\n",
    "    outcome_metric_col = f\"{outcome_metric_col}_cuped_adjusted\"\n",
    "else:\n",
    "    raise ValueError(f\"❌ Unsupported randomization method: {randomization_method}\")\n",
    "\n",
    "users\n"
   ]
  },
  {
   "cell_type": "markdown",
   "id": "72914a03",
   "metadata": {},
   "source": [
    "<a id=\"network-effects\"></a>\n",
    "<h4>🕸️ Network Effects & SUTVA Violations</h4>"
   ]
  },
  {
   "cell_type": "markdown",
   "id": "b399dd1d",
   "metadata": {},
   "source": [
    "<details><summary><strong>📖 When Randomization Assumptions Break (Click to Expand)</strong></summary>\n",
    "\n",
    "Most A/B tests assume the **Stable Unit Treatment Value Assumption (SUTVA)** — meaning:\n",
    "- A user's outcome depends *only* on their own treatment assignment.\n",
    "- One unit's treatment **does not influence** another unit’s outcome.\n",
    "\n",
    "##### 🧪 Why It Matters\n",
    "If users in different groups interact:\n",
    "- Control group behavior may be **influenced by treatment group exposure**.\n",
    "- This **biases your estimates** and **dilutes treatment effect**.\n",
    "- Standard tests may incorrectly **accept the null hypothesis** due to **spillover**.\n",
    "\n",
    "This assumption **breaks down** in experiments involving **social behavior**, **multi-user platforms**, or **ecosystem effects**.\n",
    "##### ⚠️ Common Violation Scenarios\n",
    "- 🛍️ **Marketplace platforms** (e.g., sellers and buyers interact)\n",
    "- 🧑‍🤝‍🧑 **Social features** (e.g., follows, likes, comments, feeds)\n",
    "- 📲 **Referrals / network effects** (e.g., invites, rewards)\n",
    "- 💬 **Chat and collaboration tools** (e.g., Slack, Teams)\n",
    "\n",
    "##### 🧩 Solutions (If You Suspect Interference)\n",
    "| Strategy                  | Description                                                                 |\n",
    "|---------------------------|-----------------------------------------------------------------------------|\n",
    "| Cluster Randomization     | Randomize **at group level** (e.g., friend group, region, org ID)          |\n",
    "| Isolation Experiments     | Only roll out to **fully disconnected segments** (e.g., one region only)   |\n",
    "| Network-Based Metrics     | Include **network centrality / exposure** as covariates                    |\n",
    "| Post-Experiment Checks    | Monitor if control group was exposed indirectly (e.g., referrals, shared UIs) |\n",
    "| Simulation-Based Designs  | Use agent-based or graph simulations to estimate contamination risk        |\n",
    "</details>"
   ]
  },
  {
   "cell_type": "markdown",
   "id": "73691185",
   "metadata": {},
   "source": [
    "[Back to the top](#table-of-contents)\n",
    "___\n"
   ]
  },
  {
   "cell_type": "markdown",
   "id": "23948c42",
   "metadata": {},
   "source": [
    "<a id=\"eda\"></a>\n",
    "# 📈 EDA\n",
    "\n",
    "Exploratory Data Analysis validates core statistical assumptions before testing begins."
   ]
  },
  {
   "cell_type": "markdown",
   "id": "09901d14",
   "metadata": {},
   "source": [
    "<a id=\"normality\"></a>\n",
    "\n",
    "<h4>🔍 Normality</h4>\n",
    "\n",
    "<details><summary><strong>📖 Click to Expand</strong></summary>\n",
    "\n",
    "<p>Checks whether your outcome metric follows a <strong>normal distribution</strong>, which is a key assumption for <strong>parametric tests</strong> like t-test or ANOVA.</p>\n",
    "\n",
    "<ul>\n",
    "  <li>Use <strong>Shapiro-Wilk test</strong> or visual tools (histograms, Q-Q plots).</li>\n",
    "  <li>Helps determine whether to use parametric or non-parametric tests.</li>\n",
    "  <li>If data is non-normal, switch to <strong>Mann-Whitney U</strong> or <strong>Wilcoxon</strong>.</li>\n",
    "</ul>\n",
    "\n",
    "</details>\n"
   ]
  },
  {
   "cell_type": "code",
   "execution_count": 13,
   "id": "3d8c77de",
   "metadata": {},
   "outputs": [],
   "source": [
    "def test_normality(df, outcome_metric_col, group_col, group_labels):\n",
    "    results = {}\n",
    "    for group in group_labels:\n",
    "        group_data = df[df[group_col] == group][outcome_metric_col]\n",
    "        stat, p = shapiro(group_data)\n",
    "        results[group] = {'statistic': stat, 'p_value': p, 'normal': p > 0.05}\n",
    "    return results"
   ]
  },
  {
   "cell_type": "code",
   "execution_count": 14,
   "id": "d2525c42",
   "metadata": {},
   "outputs": [
    {
     "name": "stdout",
     "output_type": "stream",
     "text": [
      "Normality test (Shapiro-Wilk) results:\n",
      "control: p = 0.2230 → Normal\n",
      "treatment: p = 0.6053 → Normal\n"
     ]
    }
   ],
   "source": [
    "normality_results = test_normality(users, outcome_metric_col=outcome_metric_col, group_col='group', group_labels=group_labels)\n",
    "\n",
    "print(\"Normality test (Shapiro-Wilk) results:\")\n",
    "for group, result in normality_results.items():\n",
    "    print(f\"{group}: p = {result['p_value']:.4f} → {'Normal' if result['normal'] else 'Non-normal'}\")"
   ]
  },
  {
   "cell_type": "code",
   "execution_count": 15,
   "id": "171688c1",
   "metadata": {},
   "outputs": [
    {
     "data": {
      "text/plain": [
       "{'outcome_metric_col': 'engagement_score',\n",
       " 'outcome_metric_datatype': 'continuous',\n",
       " 'group_labels': ('control', 'treatment'),\n",
       " 'group_count': 2,\n",
       " 'variant': 'independent',\n",
       " 'observation_id_col': 'user_id',\n",
       " 'pre_experiment_metric': 'past_purchase_count',\n",
       " 'normality': True,\n",
       " 'equal_variance': None,\n",
       " 'family': None}"
      ]
     },
     "execution_count": 15,
     "metadata": {},
     "output_type": "execute_result"
    }
   ],
   "source": [
    "# Assume both groups must be normal to proceed with parametric tests\n",
    "test_config['normality'] = all(result['normal'] for result in normality_results.values())\n",
    "test_config\n"
   ]
  },
  {
   "cell_type": "markdown",
   "id": "c583e166",
   "metadata": {},
   "source": [
    "<a id=\"variance-homogeneity-check\"></a>\n",
    "\n",
    "<h4>🔍 Variance Homogeneity Check</h4>\n",
    "\n",
    "<details><summary><strong>📖 Click to Expand</strong></summary>\n",
    "\n",
    "<p>Tests whether the <strong>variances between groups are equal</strong>, which affects the validity of t-tests and ANOVA.</p>\n",
    "\n",
    "<ul>\n",
    "  <li>Performed using <strong>Levene’s test</strong> or <strong>Bartlett’s test</strong>.</li>\n",
    "  <li>If variances are unequal, use <strong>Welch's t-test</strong> instead.</li>\n",
    "  <li>Unequal variances do not invalidate analysis but change the test used.</li>\n",
    "</ul>\n",
    "\n",
    "</details>\n"
   ]
  },
  {
   "cell_type": "code",
   "execution_count": 16,
   "id": "93caa915",
   "metadata": {},
   "outputs": [],
   "source": [
    "def test_equal_variance(df, outcome_metric_col, group_col, group_labels):\n",
    "    group_data = [df[df[group_col] == label][outcome_metric_col] for label in group_labels]\n",
    "    stat, p = levene(*group_data)\n",
    "    return {'statistic': stat, 'p_value': p, 'equal_variance': p > 0.05}\n"
   ]
  },
  {
   "cell_type": "code",
   "execution_count": 17,
   "id": "852916f2",
   "metadata": {},
   "outputs": [
    {
     "data": {
      "text/plain": [
       "{'statistic': 0.08918799756611763,\n",
       " 'p_value': 0.7652741675085144,\n",
       " 'equal_variance': True}"
      ]
     },
     "execution_count": 17,
     "metadata": {},
     "output_type": "execute_result"
    }
   ],
   "source": [
    "variance_result = test_equal_variance(users, outcome_metric_col=outcome_metric_col, group_col='group', group_labels=group_labels)\n",
    "variance_result"
   ]
  },
  {
   "cell_type": "code",
   "execution_count": 18,
   "id": "e9a1ac86",
   "metadata": {},
   "outputs": [
    {
     "name": "stdout",
     "output_type": "stream",
     "text": [
      "Levene’s test: p = 0.7653 → Equal variances\n"
     ]
    },
    {
     "data": {
      "text/plain": [
       "{'outcome_metric_col': 'engagement_score',\n",
       " 'outcome_metric_datatype': 'continuous',\n",
       " 'group_labels': ('control', 'treatment'),\n",
       " 'group_count': 2,\n",
       " 'variant': 'independent',\n",
       " 'observation_id_col': 'user_id',\n",
       " 'pre_experiment_metric': 'past_purchase_count',\n",
       " 'normality': True,\n",
       " 'equal_variance': True,\n",
       " 'family': None}"
      ]
     },
     "execution_count": 18,
     "metadata": {},
     "output_type": "execute_result"
    }
   ],
   "source": [
    "print(f\"Levene’s test: p = {variance_result['p_value']:.4f} → {'Equal variances' if variance_result['equal_variance'] else 'Unequal variances'}\")\n",
    "test_config['equal_variance'] = variance_result['equal_variance']\n",
    "test_config\n",
    "\n"
   ]
  },
  {
   "cell_type": "markdown",
   "id": "8150fee7",
   "metadata": {},
   "source": [
    "<a id=\"test-family\"></a>\n",
    "\n",
    "<h4>🔍 Test Family</h4>\n",
    "\n",
    "<details><summary><strong>📖 Click to Expand</strong></summary>\n",
    "\n",
    "<p>Selects the appropriate statistical test based on:</p>\n",
    "<ul>\n",
    "  <li>Outcome data type (binary, continuous, categorical)</li>\n",
    "  <li>Distributional assumptions (normality, variance)</li>\n",
    "  <li>Number of groups and experiment structure (independent vs paired)</li>\n",
    "</ul>\n",
    "\n",
    "<p>This step <strong>automatically maps to the correct test</strong> (e.g., t-test, z-test, chi-square, ANOVA).</p>\n",
    "\n",
    "<h6>🧪 Experiment Type → Test Family Mapping</h6>\n",
    "\n",
    "<table>\n",
    "  <tr><th>Outcome Metric</th><th>Normality</th><th>Group Count</th><th>Selected Test Family</th></tr>\n",
    "  <tr><td><strong>binary</strong></td><td>—</td><td>2</td><td><code>z_test</code></td></tr>\n",
    "  <tr><td><strong>binary</strong></td><td>—</td><td>3+</td><td><code>chi_square</code></td></tr>\n",
    "  <tr><td><strong>continuous</strong></td><td>✅</td><td>2</td><td><code>t_test</code></td></tr>\n",
    "  <tr><td><strong>continuous</strong></td><td>✅</td><td>3+</td><td><code>anova</code></td></tr>\n",
    "  <tr><td><strong>continuous</strong></td><td>❌</td><td>2</td><td><code>non_parametric</code> (Mann-Whitney U)</td></tr>\n",
    "  <tr><td><strong>continuous</strong></td><td>❌</td><td>3+</td><td><code>non_parametric</code> (Kruskal-Wallis)</td></tr>\n",
    "  <tr><td><strong>categorical</strong></td><td>—</td><td>2</td><td><code>chi_square</code></td></tr>\n",
    "  <tr><td><strong>categorical</strong></td><td>—</td><td>3+</td><td><code>chi_square</code></td></tr>\n",
    "</table>\n",
    "\n",
    "</details>\n"
   ]
  },
  {
   "cell_type": "code",
   "execution_count": 19,
   "id": "990d8ef3",
   "metadata": {},
   "outputs": [],
   "source": [
    "def determine_test_family(test_config):\n",
    "    \"\"\"\n",
    "    Decide which family of statistical test to use based on:\n",
    "    - outcome data type: binary / continuous / categorical\n",
    "    - group count: 2 or 3+\n",
    "    - variant: independent or paired (optional for family level)\n",
    "    - normality assumption: passed or not\n",
    "    \"\"\"\n",
    "\n",
    "    data_type = test_config['outcome_metric_datatype']\n",
    "    group_count = test_config['group_count']\n",
    "    variant = test_config['variant']\n",
    "    normality = test_config['normality']\n",
    "\n",
    "    # Binary outcome → Z-test for 2 groups, Chi-square for 3+ groups\n",
    "    if data_type == 'binary':\n",
    "        if group_count == 2:\n",
    "            return 'z_test'           # Compare proportions across 2 groups\n",
    "        else:\n",
    "            return 'chi_square'      # 2x3+ contingency test\n",
    "\n",
    "    # Continuous outcome → check for normality and group count\n",
    "    elif data_type == 'continuous':\n",
    "        if not normality:\n",
    "            return 'non_parametric'  # Mann-Whitney U or Kruskal-Wallis\n",
    "        if group_count == 2:\n",
    "            return 't_test'          # Independent or paired t-test\n",
    "        else:\n",
    "            return 'anova'           # One-way ANOVA\n",
    "\n",
    "    # Categorical outcome → Chi-square always\n",
    "    elif data_type == 'categorical':\n",
    "        return 'chi_square'\n",
    "\n",
    "    else:\n",
    "        raise ValueError(f\"Unsupported outcome_metric_datatype: {data_type}\")\n"
   ]
  },
  {
   "cell_type": "code",
   "execution_count": 20,
   "id": "9f8bb05a",
   "metadata": {},
   "outputs": [
    {
     "data": {
      "text/plain": [
       "{'outcome_metric_col': 'engagement_score',\n",
       " 'outcome_metric_datatype': 'continuous',\n",
       " 'group_labels': ('control', 'treatment'),\n",
       " 'group_count': 2,\n",
       " 'variant': 'independent',\n",
       " 'observation_id_col': 'user_id',\n",
       " 'pre_experiment_metric': 'past_purchase_count',\n",
       " 'normality': True,\n",
       " 'equal_variance': True,\n",
       " 'family': 't_test'}"
      ]
     },
     "execution_count": 20,
     "metadata": {},
     "output_type": "execute_result"
    },
    {
     "name": "stdout",
     "output_type": "stream",
     "text": [
      "✅ Selected test family: t_test\n"
     ]
    }
   ],
   "source": [
    "test_config['family'] = determine_test_family(test_config)\n",
    "test_config\n",
    "\n",
    "print(f\"✅ Selected test family: {test_config['family']}\")"
   ]
  },
  {
   "cell_type": "markdown",
   "id": "1e172b5d",
   "metadata": {},
   "source": [
    "[Back to the top](#table-of-contents)\n",
    "___\n"
   ]
  },
  {
   "cell_type": "markdown",
   "id": "da3d61b9",
   "metadata": {},
   "source": [
    "<a id=\"aa-testing\"></a>\n",
    "\n",
    "<h1>🧪 AA Testing</h1>\n",
    "\n",
    "<details><summary><strong>📖 Click to Expand</strong></summary>\n",
    "\n",
    "<p>A/A testing is a <strong>preliminary experiment</strong> where both groups (e.g., “control” and “treatment”) receive the exact same experience. It's used to validate the experimental setup before running an actual A/B test.</p>\n",
    "\n",
    "<p><strong>What Are We Checking?</strong></p>\n",
    "<ul>\n",
    "  <li>Are users being assigned fairly and randomly?</li>\n",
    "  <li>Are key outcome metrics statistically similar across groups?</li>\n",
    "  <li>Can we trust the experimental framework?</li>\n",
    "</ul>\n",
    "\n",
    "<p><strong>Why A/A Testing Matters</strong></p>\n",
    "<ul>\n",
    "  <li><strong>Validates Randomization</strong> — Confirms the groups are balanced at baseline (no bias or leakage)</li>\n",
    "  <li><strong>Detects SRM (Sample Ratio Mismatch)</strong> — Ensures the actual split (e.g., 50/50) matches what was intended</li>\n",
    "  <li><strong>Estimates Variability</strong> — Helps calibrate variance for accurate power calculations later</li>\n",
    "  <li><strong>Trust Check</strong> — Catches bugs in assignment logic, event tracking, or instrumentation</li>\n",
    "</ul>\n",
    "\n",
    "<p><strong>A/A Test Process</strong></p>\n",
    "<ol>\n",
    "  <li><strong>Randomly assign users</strong> into two equal groups — Just like you would for an A/B test (e.g., control vs treatment)</li>\n",
    "  <li><strong>Measure key outcome</strong> — This depends on your experiment type:\n",
    "    <ul>\n",
    "      <li><code>binary</code> → conversion rate</li>\n",
    "      <li><code>continuous</code> → avg. revenue, time spent</li>\n",
    "      <li><code>categorical</code> → feature adoption, plan selected</li>\n",
    "    </ul>\n",
    "  </li>\n",
    "  <li><strong>Run statistical test</strong>:\n",
    "    <ul>\n",
    "      <li><code>binary</code> → Z-test or Chi-square</li>\n",
    "      <li><code>continuous</code> → t-test</li>\n",
    "      <li><code>categorical</code> → Chi-square test</li>\n",
    "    </ul>\n",
    "  </li>\n",
    "  <li><strong>Check SRM</strong> — Use a chi-square goodness-of-fit test to detect assignment imbalances</li>\n",
    "</ol>\n",
    "\n",
    "<p><strong>Possible Outcomes</strong></p>\n",
    "<table>\n",
    "  <thead>\n",
    "    <tr>\n",
    "      <th><strong>Result</strong></th>\n",
    "      <th><strong>Interpretation</strong></th>\n",
    "    </tr>\n",
    "  </thead>\n",
    "  <tbody>\n",
    "    <tr>\n",
    "      <td>No significant difference</td>\n",
    "      <td>✅ Randomization looks good. Test setup is sound.</td>\n",
    "    </tr>\n",
    "    <tr>\n",
    "      <td>Statistically significant difference</td>\n",
    "      <td>⚠️ Something’s off — check assignment logic, instrumentation, or sample leakage</td>\n",
    "    </tr>\n",
    "  </tbody>\n",
    "</table>\n",
    "\n",
    "<p><em>Run A/A tests whenever you launch a new experiment framework, roll out a new randomizer, or need to build stakeholder trust.</em></p>\n",
    "\n",
    "</details>\n"
   ]
  },
  {
   "cell_type": "markdown",
   "id": "2b76c150",
   "metadata": {},
   "source": [
    "<a id=\"outcome-similarity-test\"></a>\n",
    "\n",
    "<h4>🧬 Outcome Similarity Test</h4>\n",
    "\n",
    "<details><summary><strong>📖 Click to Expand</strong></summary>\n",
    "\n",
    "<p>Compares the <strong>outcome metric across groups</strong> to ensure no significant differences exist when there shouldn't be any — usually used during <strong>A/A testing</strong> or pre-experiment validation.</p>\n",
    "\n",
    "<ul>\n",
    "  <li>Helps detect setup issues like <strong>biased group assignment</strong> or <strong>data leakage</strong>.</li>\n",
    "  <li>Null Hypothesis: <strong>No difference</strong> in outcomes between control and treatment.</li>\n",
    "  <li>Uses the same statistical test as the main A/B test (e.g., t-test, z-test, chi-square).</li>\n",
    "</ul>\n",
    "\n",
    "</details>\n"
   ]
  },
  {
   "cell_type": "code",
   "execution_count": 21,
   "id": "0a2ece50",
   "metadata": {},
   "outputs": [],
   "source": [
    "def run_outcome_similarity_test(\n",
    "    df,\n",
    "    group_col,\n",
    "    metric_col,\n",
    "    test_family,\n",
    "    variant=None,\n",
    "    group_labels=('control', 'treatment'),\n",
    "    alpha=0.05,\n",
    "    verbose=True\n",
    "):\n",
    "    \"\"\"\n",
    "    Runs a similarity test between two groups based on test_family and variant.\n",
    "\n",
    "    Parameters:\n",
    "    - df: pandas DataFrame\n",
    "    - group_col: column with group assignment\n",
    "    - metric_col: outcome metric\n",
    "    - test_family: one of ['z_test', 't_test', 'chi_square', 'anova', 'non_parametric']\n",
    "    - variant: 'independent' or 'paired' (required for t-test)\n",
    "    - group_labels: tuple of (control, treatment)\n",
    "    - alpha: significance threshold\n",
    "    - verbose: print detailed interpretation\n",
    "    \"\"\"\n",
    "\n",
    "    if verbose:\n",
    "        print(\"📏 Outcome Similarity Check\\n\")\n",
    "\n",
    "    group1 = df[df[group_col] == group_labels[0]][metric_col]\n",
    "    group2 = df[df[group_col] == group_labels[1]][metric_col]\n",
    "\n",
    "    # --- Run appropriate test ---\n",
    "    if test_family == 'z_test':\n",
    "        conv1, conv2 = group1.mean(), group2.mean()\n",
    "        n1, n2 = len(group1), len(group2)\n",
    "        pooled_prob = (group1.sum() + group2.sum()) / (n1 + n2)\n",
    "        se = np.sqrt(pooled_prob * (1 - pooled_prob) * (1/n1 + 1/n2))\n",
    "        z_score = (conv2 - conv1) / se\n",
    "        p_value = 2 * (1 - stats.norm.cdf(abs(z_score)))\n",
    "        test_name = \"z-test for proportions\"\n",
    "\n",
    "    elif test_family == 't_test':\n",
    "        if variant == 'independent':\n",
    "            t_stat, p_value = stats.ttest_ind(group1, group2, equal_var=False)\n",
    "            test_name = \"independent t-test\"\n",
    "        elif variant == 'paired':\n",
    "            if len(group1) != len(group2):\n",
    "                print(\"❌ Paired t-test requires equal-length samples.\")\n",
    "                return None\n",
    "            t_stat, p_value = stats.ttest_rel(group1, group2)\n",
    "            test_name = \"paired t-test\"\n",
    "        else:\n",
    "            raise ValueError(\"Missing or invalid variant for t-test.\")\n",
    "\n",
    "    elif test_family == 'chi_square':\n",
    "        contingency = pd.crosstab(df[group_col], df[metric_col])\n",
    "        chi2_stat, p_value, _, _ = stats.chi2_contingency(contingency)\n",
    "        test_name = \"chi-square test\"\n",
    "\n",
    "    elif test_family == 'anova':\n",
    "        f_stat, p_value = stats.f_oneway(group1, group2)\n",
    "        test_name = \"one-way ANOVA\"\n",
    "\n",
    "    elif test_family == 'non_parametric':\n",
    "        u_stat, p_value = stats.mannwhitneyu(group1, group2, alternative='two-sided')\n",
    "        test_name = \"Mann-Whitney U test\"\n",
    "\n",
    "    else:\n",
    "        raise ValueError(f\"❌ Unsupported test family: {test_family}\")\n",
    "\n",
    "    # --- Detailed Interpretation ---\n",
    "    if verbose:\n",
    "        print(\"\\n🧠 Interpretation:\")\n",
    "\n",
    "        if test_family == 'z_test':\n",
    "            print(f\"Used a {test_name} to compare conversion rates between groups.\")\n",
    "            print(\"Null Hypothesis: Conversion rates are equal across groups.\")\n",
    "\n",
    "        elif test_family == 't_test':\n",
    "            if variant == 'independent':\n",
    "                print(f\"Used an {test_name} to compare means of '{metric_col}' across independent groups.\")\n",
    "                print(\"Null Hypothesis: Group means are equal.\")\n",
    "            elif variant == 'paired':\n",
    "                print(f\"Used a {test_name} to compare within-user differences in '{metric_col}'.\")\n",
    "                print(\"Null Hypothesis: Mean difference between pairs is zero.\")\n",
    "\n",
    "        elif test_family == 'chi_square':\n",
    "            print(f\"Used a {test_name} to test whether '{metric_col}' distribution depends on group.\")\n",
    "            print(\"Null Hypothesis: No association between group and category.\")\n",
    "\n",
    "        elif test_family == 'anova':\n",
    "            print(f\"Used a {test_name} to compare group means of '{metric_col}' across 3+ groups.\")\n",
    "            print(\"Null Hypothesis: All group means are equal.\")\n",
    "\n",
    "        elif test_family == 'non_parametric':\n",
    "            print(f\"Used a {test_name} to compare medians of '{metric_col}' across groups (non-parametric).\")\n",
    "            print(\"Null Hypothesis: Distributions are identical across groups.\")\n",
    "\n",
    "        print(f\"\\nWe use α = {alpha:.2f}\")\n",
    "        if p_value < alpha:\n",
    "            print(f\"➡️ p = {p_value:.4f} < α → Reject null hypothesis. Statistically significant difference.\")\n",
    "        else:\n",
    "            print(f\"➡️ p = {p_value:.4f} ≥ α → Fail to reject null. No statistically significant difference.\")\n",
    "\n",
    "    return p_value\n"
   ]
  },
  {
   "cell_type": "markdown",
   "id": "7ad615c3",
   "metadata": {},
   "source": [
    "<a id=\"sample-ratio-mismatch\"></a>\n",
    "\n",
    "<h4>🧬 Sample Ratio Mismatch</h4>\n",
    "\n",
    "<details><summary><strong>📖 Click to Expand</strong></summary>\n",
    "\n",
    "<p>Is group assignment balanced?</p>\n",
    "<ul>\n",
    "  <li>SRM (Sample Ratio Mismatch) checks whether the observed group sizes match the expected ratio.</li>\n",
    "  <li>In a perfect world, random assignment to 'A1' and 'A2' should give ~50/50 split.</li>\n",
    "  <li>SRM helps catch bugs in randomization, data logging, or user eligibility filtering.</li>\n",
    "</ul>\n",
    "\n",
    "<p><strong>Real-World Experiment Split Ratios</strong></p>\n",
    "<table>\n",
    "  <thead>\n",
    "    <tr>\n",
    "      <th><strong>Scenario</strong></th>\n",
    "      <th><strong>Split</strong></th>\n",
    "      <th><strong>Why</strong></th>\n",
    "    </tr>\n",
    "  </thead>\n",
    "  <tbody>\n",
    "    <tr>\n",
    "      <td>Default A/B</td>\n",
    "      <td>50 / 50</td>\n",
    "      <td>Maximizes power and ensures fairness</td>\n",
    "    </tr>\n",
    "    <tr>\n",
    "      <td>Risky feature</td>\n",
    "      <td>10 / 90 or 20 / 80</td>\n",
    "      <td>Limits user exposure to minimize risk</td>\n",
    "    </tr>\n",
    "    <tr>\n",
    "      <td>Ramp-up</td>\n",
    "      <td>Step-wise (1-5-25-50…)</td>\n",
    "      <td>Gradual rollout to catch issues early</td>\n",
    "    </tr>\n",
    "    <tr>\n",
    "      <td>A/B/C Test</td>\n",
    "      <td>33 / 33 / 33 or weighted</td>\n",
    "      <td>Compare multiple variants fairly or with bias</td>\n",
    "    </tr>\n",
    "    <tr>\n",
    "      <td>High control confidence needed</td>\n",
    "      <td>70 / 30 or 60 / 40</td>\n",
    "      <td>More stability in baseline comparisons</td>\n",
    "    </tr>\n",
    "  </tbody>\n",
    "</table>\n",
    "\n",
    "</details>\n"
   ]
  },
  {
   "cell_type": "code",
   "execution_count": 22,
   "id": "1c9c8a8c",
   "metadata": {},
   "outputs": [],
   "source": [
    "def run_aa_testing_generalized(\n",
    "    df,\n",
    "    group_col,\n",
    "    metric_col,\n",
    "    group_labels,\n",
    "    test_family,\n",
    "    variant=None,\n",
    "    alpha=0.05,\n",
    "    visualize=True\n",
    "):\n",
    "    \"\"\"\n",
    "    Runs A/A test: SRM check + similarity test + optional visualization.\n",
    "    All logic routed by test_family + variant (no experiment_type).\n",
    "    \"\"\"\n",
    "    print(f\"\\n📊 A/A Test Summary for metric: '{metric_col}' [{test_family}, {variant}]\\n\")\n",
    "\n",
    "    check_sample_ratio_mismatch(df, group_col, group_labels, alpha=alpha, expected_ratios=[0.5, 0.5])\n",
    "\n",
    "    group1 = df[df[group_col] == group_labels[0]][metric_col]\n",
    "    group2 = df[df[group_col] == group_labels[1]][metric_col]\n",
    "\n",
    "    p_value = run_outcome_similarity_test(\n",
    "        df=df,\n",
    "        group_col=group_col,\n",
    "        metric_col=metric_col,\n",
    "        test_family=test_family,\n",
    "        variant=variant,\n",
    "        group_labels=group_labels,\n",
    "        alpha=alpha\n",
    "    )\n",
    "\n",
    "    if visualize and p_value is not None:\n",
    "        visualize_aa_distribution(\n",
    "            df, group1, group2,\n",
    "            group_col=group_col,\n",
    "            metric_col=metric_col,\n",
    "            test_family=test_family,\n",
    "            variant=variant,\n",
    "            group_labels=group_labels\n",
    "        )\n"
   ]
  },
  {
   "cell_type": "code",
   "execution_count": 23,
   "id": "b1807bfc",
   "metadata": {},
   "outputs": [],
   "source": [
    "def check_sample_ratio_mismatch(df, group_col, group_labels, expected_ratios=None, alpha=0.05):\n",
    "    \"\"\"\n",
    "    Checks for Sample Ratio Mismatch (SRM) using a Chi-Square test.\n",
    "\n",
    "    Parameters:\n",
    "    - df: DataFrame with group assignments\n",
    "    - group_col: Column containing group assignment\n",
    "    - group_labels: List or tuple of group names (e.g., ['control', 'treatment'])\n",
    "    - expected_ratios: Expected proportions per group (e.g., [0.5, 0.5])\n",
    "    - alpha: Significance level\n",
    "\n",
    "    Prints observed vs expected distribution and test results.\n",
    "    \"\"\"\n",
    "    print(\"🔍 Sample Ratio Mismatch (SRM) Check\")\n",
    "\n",
    "    observed_counts = df[group_col].value_counts().reindex(group_labels, fill_value=0)\n",
    "\n",
    "    if expected_ratios is None:\n",
    "        expected_ratios = [1 / len(group_labels)] * len(group_labels)\n",
    "    else:\n",
    "        total = sum(expected_ratios)\n",
    "        expected_ratios = [r / total for r in expected_ratios]  # normalize to sum to 1\n",
    "\n",
    "    expected_counts = [len(df) * ratio for ratio in expected_ratios]\n",
    "\n",
    "    # Print group-wise summary\n",
    "    for grp, expected in zip(group_labels, expected_counts):\n",
    "        observed = observed_counts.get(grp, 0)\n",
    "        pct = observed / len(df) * 100\n",
    "        print(f\"Group {grp}: {observed} users ({pct:.2f}%) — Expected: {expected:.1f}\")\n",
    "\n",
    "    # Run Chi-square test\n",
    "    chi2_stat, chi2_p = stats.chisquare(f_obs=observed_counts, f_exp=expected_counts)\n",
    "    print(f\"\\nChi2 Statistic: {chi2_stat:.4f}\")\n",
    "    print(f\"P-value       : {chi2_p:.4f}\")\n",
    "\n",
    "    if chi2_p < alpha:\n",
    "        print(\"⚠️ SRM Detected — group assignment might be biased.\\n\")\n",
    "    else:\n",
    "        print(\"✅ No SRM — group sizes look balanced.\\n\")\n"
   ]
  },
  {
   "cell_type": "markdown",
   "id": "a83f0b81",
   "metadata": {},
   "source": [
    "<a id=\"aa-test-visualization\"></a>\n",
    "\n",
    "#### 📊 AA Test Visualization"
   ]
  },
  {
   "cell_type": "code",
   "execution_count": 24,
   "id": "ec8520b4",
   "metadata": {},
   "outputs": [],
   "source": [
    "def visualize_aa_distribution(df, group1, group2, group_col, metric_col, test_family, variant=None, group_labels=('control', 'treatment')):\n",
    "    if test_family in ['t_test', 'anova', 'non_parametric']:\n",
    "        plt.hist(group1, bins=30, alpha=0.5, label=group_labels[0])\n",
    "        plt.hist(group2, bins=30, alpha=0.5, label=group_labels[1])\n",
    "        plt.title(f\"A/A Test: {metric_col} Distribution\")\n",
    "        plt.xlabel(metric_col)\n",
    "        plt.ylabel(\"Frequency\")\n",
    "        plt.legend()\n",
    "        plt.show()\n",
    "\n",
    "    elif test_family == 'z_test':\n",
    "        rates = [group1.mean(), group2.mean()]\n",
    "        plt.bar(group_labels, rates)\n",
    "        for i, rate in enumerate(rates):\n",
    "            plt.text(i, rate + 0.01, f\"{rate:.2%}\", ha='center')\n",
    "        plt.title(\"A/A Test: Conversion Rate by Group\")\n",
    "        plt.ylabel(\"Conversion Rate\")\n",
    "        plt.ylim(0, 1)\n",
    "        plt.grid(axis='y', linestyle='--', alpha=0.7)\n",
    "        plt.show()\n",
    "\n",
    "    elif test_family == 'chi_square':\n",
    "        contingency = pd.crosstab(df[group_col], df[metric_col], normalize='index')\n",
    "        contingency.plot(kind='bar', stacked=True)\n",
    "        plt.title(f\"A/A Test: {metric_col} Distribution by Group\")\n",
    "        plt.ylabel(\"Proportion\")\n",
    "        plt.xlabel(group_col)\n",
    "        plt.legend(title=metric_col)\n",
    "        plt.grid(axis='y', linestyle='--', alpha=0.7)\n",
    "        plt.show()\n"
   ]
  },
  {
   "cell_type": "code",
   "execution_count": 25,
   "id": "ef592b88",
   "metadata": {},
   "outputs": [
    {
     "name": "stdout",
     "output_type": "stream",
     "text": [
      "\n",
      "📊 A/A Test Summary for metric: 'engagement_score' [t_test, independent]\n",
      "\n",
      "🔍 Sample Ratio Mismatch (SRM) Check\n",
      "Group control: 510 users (51.00%) — Expected: 500.0\n",
      "Group treatment: 490 users (49.00%) — Expected: 500.0\n",
      "\n",
      "Chi2 Statistic: 0.4000\n",
      "P-value       : 0.5271\n",
      "✅ No SRM — group sizes look balanced.\n",
      "\n",
      "📏 Outcome Similarity Check\n",
      "\n",
      "\n",
      "🧠 Interpretation:\n",
      "Used an independent t-test to compare means of 'engagement_score' across independent groups.\n",
      "Null Hypothesis: Group means are equal.\n",
      "\n",
      "We use α = 0.05\n",
      "➡️ p = 0.4657 ≥ α → Fail to reject null. No statistically significant difference.\n"
     ]
    },
    {
     "data": {
      "image/png": "[encoded data removed]",
      "text/plain": [
       "<Figure size 640x480 with 1 Axes>"
      ]
     },
     "metadata": {},
     "output_type": "display_data"
    }
   ],
   "source": [
    "run_aa_testing_generalized(\n",
    "    df=users,\n",
    "    group_col='group',\n",
    "    metric_col=test_config['outcome_metric_col'],\n",
    "    group_labels=test_config['group_labels'],\n",
    "    test_family=test_config['family'],\n",
    "    variant=test_config.get('variant'),\n",
    "    alpha=0.05\n",
    ")\n"
   ]
  },
  {
   "cell_type": "markdown",
   "id": "1ffce98a",
   "metadata": {},
   "source": [
    "<a id=\"type-i-error-simulation\"></a>\n",
    "\n",
    "<h4>🎲 Type I Error Simulation</h4>\n",
    "\n",
    "<details><summary><strong>📖 Click to Expand</strong></summary>\n",
    "\n",
    "<h5>🔁 Repeated A/A Tests</h5>\n",
    "\n",
    "<p>\n",
    "While a single A/A test helps detect obvious flaws in group assignment (like SRM or data leakage), it’s still a one-off check.  \n",
    "To gain confidence in your randomization method, we simulate <strong>multiple A/A tests</strong> using the same logic:\n",
    "</p>\n",
    "\n",
    "<ul>\n",
    "  <li>Each run reassigns users randomly into <code>control</code> and <code>treatment</code> (with no actual change)</li>\n",
    "  <li>We then run the statistical test between groups for each simulation</li>\n",
    "  <li>We track how often the test reports a <strong>false positive</strong> (p &lt; α), which estimates the <strong>Type I error rate</strong></li>\n",
    "</ul>\n",
    "\n",
    "<blockquote>\n",
    "  In theory, if your setup is unbiased and α = 0.05, you'd expect about 5% of simulations to return a significant result — this validates your A/B framework isn’t \"trigger-happy.\"\n",
    "</blockquote>\n",
    "\n",
    "<h5>📊 What this tells you:</h5>\n",
    "\n",
    "<ul>\n",
    "  <li>Too many significant p-values → your framework is too noisy (bad randomization, poor test choice)</li>\n",
    "  <li>Near 5% = healthy noise level, expected by design</li>\n",
    "</ul>\n",
    "\n",
    "<p>This step is optional but highly recommended when you're:</p>\n",
    "<ul>\n",
    "  <li>Trying out a new randomization strategy</li>\n",
    "  <li>Validating an internal experimentation framework</li>\n",
    "  <li>Stress-testing your end-to-end pipeline</li>\n",
    "</ul>\n",
    "\n",
    "</details>\n"
   ]
  },
  {
   "cell_type": "code",
   "execution_count": 26,
   "id": "57319664",
   "metadata": {},
   "outputs": [],
   "source": [
    "def simulate_aa_type1_error_rate(\n",
    "    df,\n",
    "    metric_col,\n",
    "    group_labels,\n",
    "    test_family,\n",
    "    variant=None,\n",
    "    runs=100,\n",
    "    alpha=0.05,\n",
    "    seed=42,\n",
    "    verbose=False\n",
    "):\n",
    "    \"\"\"\n",
    "    Simulates repeated A/A tests to estimate empirical Type I error rate.\n",
    "\n",
    "    Returns:\n",
    "    - p_values: list of p-values from each simulation\n",
    "    \"\"\"\n",
    "    np.random.seed(seed)\n",
    "    p_values = []\n",
    "\n",
    "    for i in range(runs):\n",
    "        shuffled_df = df.copy()\n",
    "        shuffled_df['group'] = np.random.choice(group_labels, size=len(df), replace=True)\n",
    "\n",
    "        p = run_outcome_similarity_test(\n",
    "            df=shuffled_df,\n",
    "            group_col='group',\n",
    "            metric_col=metric_col,\n",
    "            test_family=test_family,\n",
    "            variant=variant,\n",
    "            group_labels=group_labels,\n",
    "            alpha=alpha,\n",
    "            verbose=False\n",
    "        )\n",
    "\n",
    "        if p is not None:\n",
    "            p_values.append(p)\n",
    "\n",
    "        if verbose:\n",
    "            print(f\"Run {i+1}: p = {p:.4f}\")\n",
    "\n",
    "    significant = sum(p < alpha for p in p_values)\n",
    "    error_rate = significant / runs\n",
    "\n",
    "    print(f\"\\n📈 Type I Error Rate Estimate: {significant}/{runs} = {error_rate:.2%}\")\n",
    "\n",
    "    # Interpretation Block\n",
    "    print(f\"\"\"\n",
    "            🧠 Summary Interpretation:\n",
    "            We simulated {runs} A/A experiments using random group assignment (no actual treatment).\n",
    "\n",
    "            Test: {test_family.upper()}{' (' + variant + ')' if variant else ''}\n",
    "            Metric: {metric_col}\n",
    "            Alpha: {alpha}\n",
    "\n",
    "            False positives (p < α): {significant} / {runs}\n",
    "            → Estimated Type I Error Rate: {error_rate:.2%}\n",
    "\n",
    "            This is within expected range for α = {alpha}.\n",
    "            → ✅ Test framework is behaving correctly — no bias or sensitivity inflation.\n",
    "            \"\"\")\n",
    "\n",
    "    plot_p_value_distribution(p_values, alpha=alpha)\n",
    "\n",
    "    return p_values\n"
   ]
  },
  {
   "cell_type": "code",
   "execution_count": 27,
   "id": "cb059a9e",
   "metadata": {},
   "outputs": [],
   "source": [
    "def plot_p_value_distribution(p_values, alpha=0.05):\n",
    "    plt.figure(figsize=(8, 4))\n",
    "    plt.hist(p_values, bins=20, edgecolor='black', alpha=0.7)\n",
    "    plt.axvline(x=alpha, color='red', linestyle='--', label=f\"α = {alpha}\")\n",
    "    plt.title(\"P-value Distribution Across A/A Tests\")\n",
    "    plt.xlabel(\"P-value\")\n",
    "    plt.ylabel(\"Frequency\")\n",
    "    plt.legend()\n",
    "    plt.grid(axis='y', linestyle='--', alpha=0.6)\n",
    "    plt.show()\n"
   ]
  },
  {
   "cell_type": "code",
   "execution_count": 28,
   "id": "a05affd5",
   "metadata": {},
   "outputs": [
    {
     "name": "stdout",
     "output_type": "stream",
     "text": [
      "\n",
      "📈 Type I Error Rate Estimate: 4/100 = 4.00%\n",
      "\n",
      "            🧠 Summary Interpretation:\n",
      "            We simulated 100 A/A experiments using random group assignment (no actual treatment).\n",
      "\n",
      "            Test: T_TEST (independent)\n",
      "            Metric: engagement_score\n",
      "            Alpha: 0.05\n",
      "\n",
      "            False positives (p < α): 4 / 100\n",
      "            → Estimated Type I Error Rate: 4.00%\n",
      "\n",
      "            This is within expected range for α = 0.05.\n",
      "            → ✅ Test framework is behaving correctly — no bias or sensitivity inflation.\n",
      "            \n"
     ]
    },
    {
     "data": {
      "image/png": "[encoded data removed]",
      "text/plain": [
       "<Figure size 800x400 with 1 Axes>"
      ]
     },
     "metadata": {},
     "output_type": "display_data"
    }
   ],
   "source": [
    "_ = simulate_aa_type1_error_rate(\n",
    "    df=users,\n",
    "    metric_col=test_config['outcome_metric_col'],\n",
    "    group_labels=test_config['group_labels'],\n",
    "    test_family=test_config['family'],\n",
    "    variant=test_config.get('variant'),\n",
    "    runs=100,\n",
    "    alpha=0.05\n",
    ")\n"
   ]
  },
  {
   "cell_type": "markdown",
   "id": "f48617f5",
   "metadata": {},
   "source": [
    "[Back to the top](#table-of-contents)\n",
    "___\n"
   ]
  },
  {
   "cell_type": "markdown",
   "id": "af02dc03",
   "metadata": {},
   "source": [
    "<a id=\"power-analysis\"></a>\n",
    "\n",
    "<h1>⚡ Power Analysis</h1>\n",
    "\n",
    "<details><summary><strong>📖 Click to Expand </strong></summary>\n",
    "\n",
    "<p>Power analysis helps determine the <strong>minimum sample size</strong> required to detect a true effect with statistical confidence.</p>\n",
    "\n",
    "<h5>Why It Matters:</h5>\n",
    "<ul>\n",
    "  <li>Avoids <strong>underpowered tests</strong> (risk of missing real effects)</li>\n",
    "  <li>Balances tradeoffs between Sample size, Minimum Detectable Effect (MDE), Significance level (α), Statistical power (1 - β)</li>\n",
    "</ul>\n",
    "\n",
    "<h5>Key Inputs:</h5>\n",
    "<table>\n",
    "<thead>\n",
    "<tr>\n",
    "  <th>Parameter</th>\n",
    "  <th>Meaning</th>\n",
    "</tr>\n",
    "</thead>\n",
    "<tbody>\n",
    "<tr>\n",
    "  <td><strong>alpha (α)</strong></td>\n",
    "  <td>Significance level (probability of false positive), e.g. 0.05</td>\n",
    "</tr>\n",
    "<tr>\n",
    "  <td><strong>Power (1 - β)</strong></td>\n",
    "  <td>Probability of detecting a true effect, e.g. 0.80 or 0.90</td>\n",
    "</tr>\n",
    "<tr>\n",
    "  <td><strong>Baseline</strong></td>\n",
    "  <td>Current outcome (e.g., 10% conversion, $50 revenue)</td>\n",
    "</tr>\n",
    "<tr>\n",
    "  <td><strong>MDE</strong></td>\n",
    "  <td>Minimum detectable effect — the smallest meaningful lift (e.g., +2% or +$5)</td>\n",
    "</tr>\n",
    "<tr>\n",
    "  <td><strong>Std Dev</strong></td>\n",
    "  <td>Standard deviation of the metric (for continuous outcomes)</td>\n",
    "</tr>\n",
    "<tr>\n",
    "  <td><strong>Effect Size</strong></td>\n",
    "  <td>Optional: Cohen's d (for t-tests) or f (for ANOVA)</td>\n",
    "</tr>\n",
    "<tr>\n",
    "  <td><strong>Groups</strong></td>\n",
    "  <td>Number of groups (relevant for ANOVA)</td>\n",
    "</tr>\n",
    "</tbody>\n",
    "</table>\n",
    "\n",
    "<p>This notebook automatically selects the correct formula based on <code>experiment_type</code> variable.</p>\n",
    "\n",
    "</details>\n"
   ]
  },
  {
   "cell_type": "markdown",
   "id": "db49821c",
   "metadata": {},
   "source": [
    "<a id=\"setup-inputs--config-values\"></a>\n",
    "\n",
    "<h4>⚙️ Setup Inputs + Config Values</h4>\n",
    "\n",
    "<details><summary><strong>📖 Click to Expand </strong></summary>\n",
    "\n",
    "<p>These are the <strong>core experiment design parameters</strong> required for power analysis and statistical testing.</p>\n",
    "\n",
    "<ul>\n",
    "  <li><code>alpha</code>: Significance level — the <strong>tolerance for false positives</strong> (commonly set at 0.05).</li>\n",
    "  <li><code>power</code>: Probability of detecting a true effect — typically <strong>0.80 or 0.90</strong>.</li>\n",
    "  <li><code>group_labels</code>: The names of the experimental groups (e.g., <code>'control'</code>, <code>'treatment'</code>).</li>\n",
    "  <li><code>metric_col</code>: Outcome metric column you're analyzing.</li>\n",
    "  <li><code>test_family</code>: Chosen statistical test (e.g., <code>'t_test'</code>, <code>'z_test'</code>, <code>'chi_square'</code>) based on assumptions.</li>\n",
    "  <li><code>variant</code>: Experimental design structure — <code>'independent'</code> or <code>'paired'</code>.</li>\n",
    "</ul>\n",
    "\n",
    "<p>These inputs drive sample size estimation, test choice, and downstream analysis logic.</p>\n",
    "\n",
    "</details>\n"
   ]
  },
  {
   "cell_type": "code",
   "execution_count": 29,
   "id": "0ba7e1c1",
   "metadata": {},
   "outputs": [],
   "source": [
    "# Define Core Inputs\n",
    "\n",
    "# Use values from your config or plug in manually\n",
    "alpha = 0.05  # False positive tolerance (Type I error)\n",
    "power = 0.80  # Statistical power (1 - Type II error)\n",
    "group_labels = test_config['group_labels']\n",
    "metric_col = test_config['outcome_metric_col']\n",
    "test_family = test_config['family']\n",
    "variant = test_config.get('variant')\n"
   ]
  },
  {
   "cell_type": "markdown",
   "id": "cb742c46",
   "metadata": {},
   "source": [
    "<a id=\"baseline-from-data\"></a>\n",
    "\n",
    "<h4>📈 Baseline Estimation from Data</h4>\n",
    "\n",
    "<details>\n",
    "<summary><strong>📖 Click to Expand </strong></summary>\n",
    "\n",
    "<p>Before we calculate required sample size, we need a <strong>baseline value</strong> from historical or current data.</p>\n",
    "\n",
    "<ul>\n",
    "  <li>For <strong>binary metrics</strong> (e.g., conversion), the baseline is the current <strong>conversion rate</strong>.</li>\n",
    "  <li>For <strong>continuous metrics</strong> (e.g., revenue, engagement), we estimate the <strong>mean and standard deviation</strong> from the control group.</li>\n",
    "  <li>These values help translate the <strong>Minimum Detectable Effect (MDE)</strong> into a usable <strong>effect size</strong>.</li>\n",
    "</ul>\n",
    "\n",
    "<blockquote>\n",
    "  ⚠️ Be cautious with outliers or extreme skew when computing baselines — they directly influence sample size estimates.\n",
    "</blockquote>\n",
    "\n",
    "</details>\n"
   ]
  },
  {
   "cell_type": "code",
   "execution_count": 30,
   "id": "cb08576c",
   "metadata": {},
   "outputs": [
    {
     "name": "stdout",
     "output_type": "stream",
     "text": [
      "📊 Control group mean: 51.03\n",
      "📏 Control group std dev: 15.61\n"
     ]
    }
   ],
   "source": [
    "# 🧮 Data-Driven Baseline Metric\n",
    "\n",
    "if test_family == 'z_test':\n",
    "    # For binary outcome (e.g., conversion): baseline = conversion rate in data\n",
    "    baseline_rate = users[metric_col].mean()\n",
    "    print(f\"📊 Baseline conversion rate: {baseline_rate:.2%}\")\n",
    "\n",
    "elif test_family in ['t_test', 'anova', 'non_parametric']:\n",
    "    # For continuous metrics (e.g., revenue, engagement)\n",
    "    control_data = users[users['group'] == group_labels[0]][metric_col]\n",
    "    baseline_mean = control_data.mean()\n",
    "    std_dev = control_data.std()\n",
    "    print(f\"📊 Control group mean: {baseline_mean:.2f}\")\n",
    "    print(f\"📏 Control group std dev: {std_dev:.2f}\")\n",
    "\n",
    "else:\n",
    "    baseline_rate = None\n",
    "    std_dev = None\n"
   ]
  },
  {
   "cell_type": "markdown",
   "id": "6e5e7d05",
   "metadata": {},
   "source": [
    "<a id=\"minimum-detectable-effect\"></a>\n",
    "\n",
    "<h4>📈 Minimum Detectable Effect</h4>\n",
    "\n",
    "<details>\n",
    "  <summary><strong>📖 Click to Expand</strong></summary>\n",
    "\n",
    "  🎯 <strong>Minimum Detectable Effect (MDE)</strong> is the smallest <strong>business-relevant difference</strong> you want your test to catch.\n",
    "\n",
    "  <ul>\n",
    "    <li>It reflects <strong>what matters</strong> — not what the data happens to show</li>\n",
    "    <li>Drives required sample size:\n",
    "      <ul>\n",
    "        <li>Smaller MDE → larger sample</li>\n",
    "        <li>Larger MDE → smaller sample</li>\n",
    "      </ul>\n",
    "    </li>\n",
    "  </ul>\n",
    "\n",
    "  🧠 <strong>Choose an MDE based on:</strong>\n",
    "  <ul>\n",
    "    <li>What level of uplift would justify launching the feature?</li>\n",
    "    <li>What's a meaningful change in your metric — not just statistical noise?</li>\n",
    "  </ul>\n",
    "\n",
    "</details>\n"
   ]
  },
  {
   "cell_type": "code",
   "execution_count": 31,
   "id": "a6950ce4",
   "metadata": {},
   "outputs": [],
   "source": [
    "# Minimum Detectable Effect (MDE)\n",
    "# This is NOT data-driven — it reflects the minimum improvement you care about detecting.\n",
    "# It should be small enough to catch valuable changes, but large enough to avoid inflating sample size.\n",
    "\n",
    "# Examples by Metric Type:\n",
    "# - Binary       : 0.02 → detect a 2% lift in conversion rate (e.g., from 10% to 12%)\n",
    "# - Categorical  : 0.05 → detect a 5% shift in plan preference (e.g., more users choosing 'premium' over 'basic')\n",
    "# - Continuous   : 3.0  → detect a 3-point gain in engagement score (e.g., from 50 to 53 avg. score)\n",
    "\n",
    "mde = 5  # Change this based on business relevance\n"
   ]
  },
  {
   "cell_type": "markdown",
   "id": "169992da",
   "metadata": {},
   "source": [
    "<a id=\"required-sample-size\"></a>\n",
    "\n",
    "#### 📐 Required Sample Size"
   ]
  },
  {
   "cell_type": "code",
   "execution_count": 32,
   "id": "1fc68a10",
   "metadata": {},
   "outputs": [],
   "source": [
    "def calculate_power_sample_size(\n",
    "    test_family,\n",
    "    variant=None,\n",
    "    alpha=0.05,\n",
    "    power=0.80,\n",
    "    baseline_rate=None,  # required for z-test\n",
    "    mde=None,\n",
    "    std_dev=None,\n",
    "    effect_size=None,\n",
    "    num_groups=2  # placeholder for future ANOVA support\n",
    "):\n",
    "    \"\"\"\n",
    "    Calculate required sample size per group based on test type and assumptions.\n",
    "\n",
    "    Supported families:\n",
    "    - 'z_test'              : Binary outcomes (proportions)\n",
    "    - 't_test'              : Continuous outcomes (independent or paired)\n",
    "    - 'non_parametric'      : Mann-Whitney (approximated as t-test)\n",
    "    - 'anova'               : Not implemented (default to t-test)\n",
    "    - 'chi_square'          : Categorical outcomes (not used in this version)\n",
    "    \"\"\"\n",
    "    # -- Z-Test for Binary Proportions --\n",
    "    if test_family == 'z_test':\n",
    "        if baseline_rate is None or mde is None:\n",
    "            raise ValueError(\"baseline_rate and mde are required for z-test (binary outcome).\")\n",
    "\n",
    "        z_alpha = stats.norm.ppf(1 - alpha / 2)\n",
    "        z_beta = stats.norm.ppf(power)\n",
    "        p1 = baseline_rate\n",
    "        p2 = p1 + mde\n",
    "        pooled_std = np.sqrt(2 * p1 * (1 - p1))\n",
    "\n",
    "        n = ((z_alpha + z_beta) ** 2 * pooled_std ** 2) / (mde ** 2)\n",
    "        return int(np.ceil(n))\n",
    "\n",
    "    # -- T-Test for Continuous (Independent or Paired) --\n",
    "    elif test_family in ['t_test', 'non_parametric', 'anova']:\n",
    "        if effect_size is None:\n",
    "            if std_dev is None or mde is None:\n",
    "                raise ValueError(\"For continuous outcomes, provide either effect_size or both std_dev and mde.\")\n",
    "            effect_size = mde / std_dev  # Cohen's d\n",
    "\n",
    "        if variant == 'independent':\n",
    "            analysis = TTestIndPower()\n",
    "        elif variant == 'paired':\n",
    "            analysis = TTestPower()\n",
    "        else:\n",
    "            raise ValueError(\"variant must be 'independent' or 'paired' for t-test.\")\n",
    "\n",
    "        n = analysis.solve_power(effect_size=effect_size, power=power, alpha=alpha)\n",
    "        return int(np.ceil(n))\n",
    "\n",
    "    else:\n",
    "        raise ValueError(f\"❌ Unsupported test family: {test_family}\")\n"
   ]
  },
  {
   "cell_type": "code",
   "execution_count": 33,
   "id": "244ec802",
   "metadata": {},
   "outputs": [
    {
     "name": "stdout",
     "output_type": "stream",
     "text": [
      "✅ Required sample size per group: 154\n",
      "👥 Total sample size: 308\n"
     ]
    }
   ],
   "source": [
    "required_sample_size = calculate_power_sample_size(\n",
    "    test_family=test_family,\n",
    "    variant=variant,\n",
    "    alpha=alpha,\n",
    "    power=power,\n",
    "    baseline_rate=baseline_rate if test_family == 'z_test' else None,\n",
    "    mde=mde,\n",
    "    std_dev=std_dev if test_family in ['t_test', 'anova', 'non_parametric'] else None,\n",
    "    effect_size=None,  # Let it compute internally via mde/std\n",
    "    num_groups=2\n",
    ")\n",
    "\n",
    "test_config['required_sample_size'] = required_sample_size\n",
    "print(f\"✅ Required sample size per group: {required_sample_size}\")\n",
    "print(f\"👥 Total sample size: {required_sample_size * 2}\")"
   ]
  },
  {
   "cell_type": "markdown",
   "id": "a21bb866",
   "metadata": {},
   "source": [
    "<a id=\"power-analysis-summary\"></a>\n",
    "\n",
    "#### 📊 Power Analysis Summary"
   ]
  },
  {
   "cell_type": "code",
   "execution_count": 34,
   "id": "b2a0464e",
   "metadata": {},
   "outputs": [
    {
     "name": "stdout",
     "output_type": "stream",
     "text": [
      "📈 Power Analysis Summary\n",
      "- Test: T_TEST (independent)\n",
      "- Significance level (α): 0.05\n",
      "- Statistical power (1 - β): 0.8\n",
      "- Std Dev (control group): 15.61\n",
      "- MDE (mean difference): 5\n",
      "- Cohen's d: 0.32\n",
      "\n",
      "✅ To detect a 5-unit lift in mean outcome,\n",
      "you need 154 users per group → total 308 users.\n"
     ]
    }
   ],
   "source": [
    "def print_power_summary(\n",
    "    test_family,\n",
    "    variant,\n",
    "    alpha,\n",
    "    power,\n",
    "    baseline_rate=None,\n",
    "    mde=None,\n",
    "    std_dev=None,\n",
    "    required_sample_size=None\n",
    "):\n",
    "    print(\"📈 Power Analysis Summary\")\n",
    "    print(f\"- Test: {test_family.upper()}{' (' + variant + ')' if variant else ''}\")\n",
    "    print(f\"- Significance level (α): {alpha}\")\n",
    "    print(f\"- Statistical power (1 - β): {power}\")\n",
    "\n",
    "    if test_family == 'z_test':\n",
    "        print(f\"- Baseline conversion rate: {baseline_rate:.2%}\")\n",
    "        print(f\"- MDE: {mde:.2%}\")\n",
    "        print(f\"\\n✅ To detect a lift from {baseline_rate:.2%} to {(baseline_rate + mde):.2%},\")\n",
    "        print(f\"you need {required_sample_size} users per group → total {required_sample_size * 2} users.\")\n",
    "\n",
    "    elif test_family == 't_test':\n",
    "        print(f\"- Std Dev (control group): {std_dev:.2f}\")\n",
    "        print(f\"- MDE (mean difference): {mde}\")\n",
    "        print(f\"- Cohen's d: {mde / std_dev:.2f}\")\n",
    "        print(f\"\\n✅ To detect a {mde}-unit lift in mean outcome,\")\n",
    "        print(f\"you need {required_sample_size} users per group → total {required_sample_size * 2} users.\")\n",
    "\n",
    "    else:\n",
    "        print(\"⚠️ Unsupported family for summary.\")\n",
    "\n",
    "print_power_summary(\n",
    "    test_family=test_family,\n",
    "    variant=variant,\n",
    "    alpha=alpha,\n",
    "    power=power,\n",
    "    baseline_rate=baseline_rate if test_family == 'z_test' else None,\n",
    "    mde=mde,\n",
    "    std_dev=std_dev if test_family == 't_test' else None,\n",
    "    required_sample_size=required_sample_size\n",
    ")\n"
   ]
  },
  {
   "cell_type": "markdown",
   "id": "5a1e3add",
   "metadata": {},
   "source": [
    "[Back to the top](#table-of-contents)\n",
    "___"
   ]
  },
  {
   "cell_type": "markdown",
   "id": "a3e68463",
   "metadata": {},
   "source": [
    "<a id=\"ab-testing\"></a>\n",
    "\n",
    "<h1>🧪 A/B Testing</h1>\n",
    "\n",
    "<details><summary><strong>📖 Click to Expand </strong></summary>\n",
    "\n",
    "<h5>🧪 A/B Testing - Outcome Comparison</h5>\n",
    "\n",
    "<p>This section compares the outcome metric between control and treatment groups using the appropriate statistical test based on the experiment type.</p>\n",
    "\n",
    "<h5>📌 Metric Tracked:</h5>\n",
    "<ul>\n",
    "  <li><strong>Primary metric:</strong> Depends on use case:\n",
    "    <ul>\n",
    "      <li><strong>Binary:</strong> Conversion rate (clicked or not)</li>\n",
    "      <li><strong>Continuous:</strong> Average engagement, revenue, time spent</li>\n",
    "      <li><strong>Categorical:</strong> Plan type, user tier, etc.</li>\n",
    "    </ul>\n",
    "  </li>\n",
    "  <li><strong>Unit of analysis:</strong> Unique user or unique observation</li>\n",
    "</ul>\n",
    "\n",
    "<h5>🔬 Outcome Analysis Steps:</h5>\n",
    "<ul>\n",
    "  <li>Choose the <strong>right statistical test</strong> based on <code>experiment_type</code>:\n",
    "    <ul>\n",
    "      <li><code>'binary'</code> → <strong>Z-test for proportions</strong></li>\n",
    "      <li><code>'continuous_independent'</code> → <strong>Two-sample t-test</strong></li>\n",
    "      <li><code>'continuous_paired'</code> → <strong>Paired t-test</strong></li>\n",
    "      <li><code>'categorical'</code> → <strong>Chi-square test of independence</strong></li>\n",
    "    </ul>\n",
    "  </li>\n",
    "  <li>Calculate test statistics, p-values, and confidence intervals</li>\n",
    "  <li>Visualize the comparison to aid interpretation</li>\n",
    "</ul>\n",
    "\n",
    "</details>\n"
   ]
  },
  {
   "cell_type": "code",
   "execution_count": 35,
   "id": "063f7f83",
   "metadata": {},
   "outputs": [],
   "source": [
    "def run_ab_test(\n",
    "    df,\n",
    "    group_col,\n",
    "    metric_col,\n",
    "    group_labels,\n",
    "    test_family,\n",
    "    variant=None,\n",
    "    alpha=0.05\n",
    "):\n",
    "    \"\"\"\n",
    "    Runs the correct statistical test based on test_family + variant combo.\n",
    "\n",
    "    Returns:\n",
    "    - result dict with summary stats, test used, p-value, and test-specific values\n",
    "    \"\"\"\n",
    "    group1, group2 = group_labels\n",
    "    data1 = df[df[group_col] == group1][metric_col]\n",
    "    data2 = df[df[group_col] == group2][metric_col]\n",
    "\n",
    "    result = {\n",
    "        'test_family': test_family,\n",
    "        'variant': variant,\n",
    "        'group_labels': group_labels,\n",
    "        'alpha': alpha,\n",
    "        'summary': {}\n",
    "    }\n",
    "\n",
    "    # --- Summary Stats ---\n",
    "    result['summary'][group1] = {\n",
    "        'n': len(data1),\n",
    "        'mean': data1.mean(),\n",
    "        'std': data1.std() if test_family in ['t_test', 'non_parametric'] else None,\n",
    "        'sum': data1.sum() if test_family == 'z_test' else None\n",
    "    }\n",
    "    result['summary'][group2] = {\n",
    "        'n': len(data2),\n",
    "        'mean': data2.mean(),\n",
    "        'std': data2.std() if test_family in ['t_test', 'non_parametric'] else None,\n",
    "        'sum': data2.sum() if test_family == 'z_test' else None\n",
    "    }\n",
    "\n",
    "    # --- Binary Proportions (Z-Test) ---\n",
    "    if test_family == 'z_test':\n",
    "        x1, n1 = data1.sum(), len(data1)\n",
    "        x2, n2 = data2.sum(), len(data2)\n",
    "        p_pooled = (x1 + x2) / (n1 + n2)\n",
    "        se = np.sqrt(p_pooled * (1 - p_pooled) * (1/n1 + 1/n2))\n",
    "        z_stat = (x2/n2 - x1/n1) / se\n",
    "        p_value = 2 * (1 - stats.norm.cdf(abs(z_stat)))\n",
    "        result.update({'test': 'z-test for proportions', 'z_stat': z_stat, 'p_value': p_value})\n",
    "\n",
    "    # --- Continuous (T-Test) ---\n",
    "    elif test_family == 't_test':\n",
    "        if variant == 'independent':\n",
    "            t_stat, p_value = stats.ttest_ind(data1, data2, equal_var=False)\n",
    "            result.update({'test': 'independent t-test', 't_stat': t_stat, 'p_value': p_value})\n",
    "        elif variant == 'paired':\n",
    "            if len(data1) != len(data2):\n",
    "                raise ValueError(\"Paired test requires equal-length matching samples.\")\n",
    "            t_stat, p_value = stats.ttest_rel(data1, data2)\n",
    "            result.update({'test': 'paired t-test', 't_stat': t_stat, 'p_value': p_value})\n",
    "        else:\n",
    "            raise ValueError(\"Missing or invalid variant for t-test.\")\n",
    "\n",
    "    # --- Continuous (Non-parametric) ---\n",
    "    elif test_family == 'non_parametric':\n",
    "        u_stat, p_value = stats.mannwhitneyu(data1, data2, alternative='two-sided')\n",
    "        result.update({'test': 'Mann-Whitney U Test', 'u_stat': u_stat, 'p_value': p_value})\n",
    "\n",
    "    # --- Categorical (Chi-square) ---\n",
    "    elif test_family == 'chi_square':\n",
    "        contingency = pd.crosstab(df[group_col], df[metric_col])\n",
    "        chi2, p_value, _, _ = stats.chi2_contingency(contingency)\n",
    "        result.update({'test': 'chi-square test', 'chi2_stat': chi2, 'p_value': p_value})\n",
    "\n",
    "    else:\n",
    "        raise ValueError(f\"❌ Unsupported test_family: {test_family}\")\n",
    "\n",
    "    return result\n"
   ]
  },
  {
   "cell_type": "code",
   "execution_count": 36,
   "id": "e63be386",
   "metadata": {},
   "outputs": [
    {
     "data": {
      "text/plain": [
       "{'test_family': 't_test',\n",
       " 'variant': 'independent',\n",
       " 'group_labels': ('control', 'treatment'),\n",
       " 'alpha': 0.05,\n",
       " 'summary': {'control': {'n': 510,\n",
       "   'mean': 51.02515924585304,\n",
       "   'std': 15.60949221088591,\n",
       "   'sum': None},\n",
       "  'treatment': {'n': 490,\n",
       "   'mean': 50.31059463655223,\n",
       "   'std': 15.354069556161138,\n",
       "   'sum': None}},\n",
       " 'test': 'independent t-test',\n",
       " 't_stat': 0.7297273039756266,\n",
       " 'p_value': 0.4657282187278262}"
      ]
     },
     "execution_count": 36,
     "metadata": {},
     "output_type": "execute_result"
    }
   ],
   "source": [
    "result = run_ab_test(\n",
    "    df=users,\n",
    "    group_col='group',\n",
    "    metric_col=test_config['outcome_metric_col'],\n",
    "    group_labels=test_config['group_labels'],\n",
    "    test_family=test_config['family'],\n",
    "    variant=test_config.get('variant'),\n",
    "    alpha=0.05\n",
    ")\n",
    "result"
   ]
  },
  {
   "cell_type": "markdown",
   "id": "f5f10423",
   "metadata": {},
   "source": [
    "[Back to the top](#table-of-contents)\n",
    "___\n"
   ]
  },
  {
   "cell_type": "markdown",
   "id": "71d6dc29",
   "metadata": {},
   "source": [
    "<a id=\"results\"></a>\n",
    "\n",
    "# 📉 Results"
   ]
  },
  {
   "cell_type": "markdown",
   "id": "d1fbb583",
   "metadata": {},
   "source": [
    "<a id=\"summaries\"></a>\n",
    "#### 🧾 Summaries"
   ]
  },
  {
   "cell_type": "code",
   "execution_count": 37,
   "id": "3f177f7d",
   "metadata": {},
   "outputs": [],
   "source": [
    "def summarize_ab_test_result(result):\n",
    "    \"\"\"\n",
    "    Prints A/B test results summary with statistical test outputs and lift analysis.\n",
    "    \"\"\"\n",
    "    test_family = result['test_family']\n",
    "    variant = result.get('variant')\n",
    "    group1, group2 = result['group_labels']\n",
    "    p_value = result.get('p_value')\n",
    "    alpha = result.get('alpha', 0.05)\n",
    "\n",
    "    print(\"\\n\" + \"=\"*45)\n",
    "    print(f\"🧪 A/B Test Result Summary [{test_family.upper()}]\")\n",
    "    print(\"=\"*45)\n",
    "\n",
    "    # ---- Hypothesis Test Output ----\n",
    "    print(\"\\n📊 Hypothesis Test Result\")\n",
    "    print(f\"Test used: {result.get('test', 'N/A')}\")\n",
    "    if 'z_stat' in result:\n",
    "        print(f\"Z-statistic: {result['z_stat']:.4f}\")\n",
    "    elif 't_stat' in result:\n",
    "        print(f\"T-statistic: {result['t_stat']:.4f}\")\n",
    "    elif 'chi2_stat' in result:\n",
    "        print(f\"Chi2-statistic: {result['chi2_stat']:.4f}\")\n",
    "    elif 'u_stat' in result:\n",
    "        print(f\"U-statistic: {result['u_stat']:.4f}\")\n",
    "\n",
    "    if p_value is not None:\n",
    "        print(f\"P-value    : {p_value:.4f}\")\n",
    "        print(\"✅ Statistically significant difference detected.\" if p_value < alpha else \"🚫 No significant difference detected.\")\n",
    "    else:\n",
    "        print(\"⚠️ P-value not found.\")\n",
    "\n",
    "    # ---- Summary Table ----\n",
    "    print(\"\\n📋 Group Summary:\\n\")\n",
    "    display(pd.DataFrame(result['summary']).T)\n",
    "\n",
    "    # ---- Lift Analysis (for Z-test or T-test (independent)) ----\n",
    "    if test_family in ['z_test', 't_test'] and (variant == 'independent' or test_family == 'z_test'):\n",
    "        group1_mean = result['summary'][group1]['mean']\n",
    "        group2_mean = result['summary'][group2]['mean']\n",
    "        lift = group2_mean - group1_mean\n",
    "        pct_lift = lift / group1_mean if group1_mean else np.nan\n",
    "\n",
    "        print(\"\\n📈 Lift Analysis\")\n",
    "        print(f\"- Absolute Lift   : {lift:.4f}\")\n",
    "        print(f\"- Percentage Lift : {pct_lift:.2%}\")\n",
    "\n",
    "        try:\n",
    "            n1 = result['summary'][group1]['n']\n",
    "            n2 = result['summary'][group2]['n']\n",
    "\n",
    "            if test_family == 'z_test':\n",
    "                se = np.sqrt(group1_mean * (1 - group1_mean) / n1 + group2_mean * (1 - group2_mean) / n2)\n",
    "            else:\n",
    "                sd1 = result['summary'][group1].get('std')\n",
    "                sd2 = result['summary'][group2].get('std')\n",
    "                se = np.sqrt((sd1 ** 2) / n1 + (sd2 ** 2) / n2)\n",
    "\n",
    "            z = 1.96\n",
    "            ci_low = lift - z * se\n",
    "            ci_high = lift + z * se\n",
    "            print(f\"- 95% CI for Lift : [{ci_low:.4f}, {ci_high:.4f}]\")\n",
    "        except Exception as e:\n",
    "            print(f\"⚠️ Could not compute confidence interval: {e}\")\n",
    "\n",
    "    print(\"=\"*45 + \"\\n\")\n"
   ]
  },
  {
   "cell_type": "code",
   "execution_count": 38,
   "id": "d93bc25e",
   "metadata": {},
   "outputs": [
    {
     "name": "stdout",
     "output_type": "stream",
     "text": [
      "\n",
      "=============================================\n",
      "🧪 A/B Test Result Summary [T_TEST]\n",
      "=============================================\n",
      "\n",
      "📊 Hypothesis Test Result\n",
      "Test used: independent t-test\n",
      "T-statistic: 0.7297\n",
      "P-value    : 0.4657\n",
      "🚫 No significant difference detected.\n",
      "\n",
      "📋 Group Summary:\n",
      "\n"
     ]
    },
    {
     "data": {
      "text/html": [
       "<div>\n",
       "<style scoped>\n",
       "    .dataframe tbody tr th:only-of-type {\n",
       "        vertical-align: middle;\n",
       "    }\n",
       "\n",
       "    .dataframe tbody tr th {\n",
       "        vertical-align: top;\n",
       "    }\n",
       "\n",
       "    .dataframe thead th {\n",
       "        text-align: right;\n",
       "    }\n",
       "</style>\n",
       "<table border=\"1\" class=\"dataframe\">\n",
       "  <thead>\n",
       "    <tr style=\"text-align: right;\">\n",
       "      <th></th>\n",
       "      <th>n</th>\n",
       "      <th>mean</th>\n",
       "      <th>std</th>\n",
       "      <th>sum</th>\n",
       "    </tr>\n",
       "  </thead>\n",
       "  <tbody>\n",
       "    <tr>\n",
       "      <th>control</th>\n",
       "      <td>510.0</td>\n",
       "      <td>51.025159</td>\n",
       "      <td>15.609492</td>\n",
       "      <td>NaN</td>\n",
       "    </tr>\n",
       "    <tr>\n",
       "      <th>treatment</th>\n",
       "      <td>490.0</td>\n",
       "      <td>50.310595</td>\n",
       "      <td>15.354070</td>\n",
       "      <td>NaN</td>\n",
       "    </tr>\n",
       "  </tbody>\n",
       "</table>\n",
       "</div>"
      ],
      "text/plain": [
       "               n       mean        std  sum\n",
       "control    510.0  51.025159  15.609492  NaN\n",
       "treatment  490.0  50.310595  15.354070  NaN"
      ]
     },
     "metadata": {},
     "output_type": "display_data"
    },
    {
     "name": "stdout",
     "output_type": "stream",
     "text": [
      "\n",
      "📈 Lift Analysis\n",
      "- Absolute Lift   : -0.7146\n",
      "- Percentage Lift : -1.40%\n",
      "- 95% CI for Lift : [-2.6338, 1.2047]\n",
      "=============================================\n",
      "\n"
     ]
    }
   ],
   "source": [
    "summarize_ab_test_result(result)"
   ]
  },
  {
   "cell_type": "markdown",
   "id": "21904129",
   "metadata": {},
   "source": [
    "<a id=\"results-visualization\"></a>\n",
    "\n",
    "#### 📊 Visualization"
   ]
  },
  {
   "cell_type": "code",
   "execution_count": 39,
   "id": "9d8abd7c",
   "metadata": {},
   "outputs": [],
   "source": [
    "def plot_ab_test_results(result):\n",
    "    \"\"\"\n",
    "    Plots A/B test results by group mean or distribution depending on test family.\n",
    "    \"\"\"\n",
    "    test_family = result['test_family']\n",
    "    variant = result.get('variant')\n",
    "    group1, group2 = result['group_labels']\n",
    "\n",
    "    print(\"\\n📊 Visualization:\")\n",
    "\n",
    "    if test_family in ['z_test', 't_test', 'non_parametric']:\n",
    "        labels = [group1, group2]\n",
    "        values = [result['summary'][group1]['mean'], result['summary'][group2]['mean']]\n",
    "        plt.bar(labels, values, color=['gray', 'skyblue'])\n",
    "\n",
    "        for i, val in enumerate(values):\n",
    "            label = f\"{val:.2%}\" if test_family == 'z_test' else f\"{val:.2f}\"\n",
    "            plt.text(i, val + 0.01, label, ha='center')\n",
    "\n",
    "        ylabel = \"Conversion Rate\" if test_family == 'z_test' else \"Average Value\"\n",
    "        plt.ylabel(ylabel)\n",
    "        plt.title(f\"{ylabel} by Group\")\n",
    "        plt.ylim(0, max(values) * 1.2)\n",
    "        plt.grid(axis='y', linestyle='--', alpha=0.6)\n",
    "        plt.show()\n",
    "\n",
    "    elif test_family == 'chi_square':\n",
    "        dist = pd.DataFrame(result['summary'])\n",
    "        dist.T.plot(kind='bar', stacked=True)\n",
    "        plt.title(f\"Categorical Distribution by Group\")\n",
    "        plt.ylabel(\"Proportion\")\n",
    "        plt.xlabel(\"Group\")\n",
    "        plt.grid(axis='y', linestyle='--', alpha=0.6)\n",
    "        plt.show()\n"
   ]
  },
  {
   "cell_type": "code",
   "execution_count": 40,
   "id": "0f050fda",
   "metadata": {},
   "outputs": [
    {
     "name": "stdout",
     "output_type": "stream",
     "text": [
      "\n",
      "📊 Visualization:\n"
     ]
    },
    {
     "data": {
      "image/png": "[encoded data removed]",
      "text/plain": [
       "<Figure size 640x480 with 1 Axes>"
      ]
     },
     "metadata": {},
     "output_type": "display_data"
    }
   ],
   "source": [
    "plot_ab_test_results(result)"
   ]
  },
  {
   "cell_type": "markdown",
   "id": "a64d922e",
   "metadata": {},
   "source": [
    "<a id=\"confidence-intervals\"></a>\n",
    "\n",
    "<h4>🎯 95% Confidence Intervals<br><small>for <code>outcome in groups</code></small></h4>\n",
    "\n",
    "<details><summary><strong>📖 Click to Expand </strong></summary>\n",
    "\n",
    "<ul>\n",
    "  <li>The 95% confidence interval gives a range in which we expect the <strong>true conversion rate</strong> to fall for each group.</li>\n",
    "  <li>If the confidence intervals <strong>do not overlap</strong>, it's strong evidence that the difference is statistically significant.</li>\n",
    "  <li>If they <strong>do overlap</strong>, it doesn't guarantee insignificance — you still need the p-value to decide — but it suggests caution when interpreting lift.</li>\n",
    "</ul>\n",
    "\n",
    "</details>\n"
   ]
  },
  {
   "cell_type": "code",
   "execution_count": 41,
   "id": "b39ba0b0",
   "metadata": {},
   "outputs": [],
   "source": [
    "def plot_confidence_intervals(result, z=1.96):\n",
    "    \"\"\"\n",
    "    Plot 95% confidence intervals for group means (conversion rate or continuous).\n",
    "    \"\"\"\n",
    "    test_family = result['test_family']\n",
    "    variant = result.get('variant')\n",
    "    group1, group2 = result['group_labels']\n",
    "    summary = result['summary']\n",
    "\n",
    "    if test_family not in ['z_test', 't_test']:\n",
    "        print(f\"⚠️ CI plotting not supported for test family: {test_family}\")\n",
    "        return\n",
    "    if test_family == 't_test' and variant != 'independent':\n",
    "        print(f\"⚠️ CI plotting only supported for independent t-tests.\")\n",
    "        return\n",
    "\n",
    "    p1, p2 = summary[group1]['mean'], summary[group2]['mean']\n",
    "    n1, n2 = summary[group1]['n'], summary[group2]['n']\n",
    "\n",
    "    if test_family == 'z_test':\n",
    "        se1 = np.sqrt(p1 * (1 - p1) / n1)\n",
    "        se2 = np.sqrt(p2 * (1 - p2) / n2)\n",
    "        ylabel = \"Conversion Rate\"\n",
    "    else:\n",
    "        sd1 = summary[group1]['std']\n",
    "        sd2 = summary[group2]['std']\n",
    "        se1 = sd1 / np.sqrt(n1)\n",
    "        se2 = sd2 / np.sqrt(n2)\n",
    "        ylabel = \"Mean Outcome\"\n",
    "\n",
    "    ci1 = (p1 - z * se1, p1 + z * se1)\n",
    "    ci2 = (p2 - z * se2, p2 + z * se2)\n",
    "\n",
    "    plt.errorbar([group1, group2],\n",
    "                 [p1, p2],\n",
    "                 yerr=[[p1 - ci1[0], p2 - ci2[0]], [ci1[1] - p1, ci2[1] - p2]],\n",
    "                 fmt='o', capsize=10, color='black')\n",
    "    plt.ylabel(ylabel)\n",
    "    plt.title(f\"{ylabel} with 95% Confidence Intervals\")\n",
    "    plt.grid(axis='y', linestyle='--', alpha=0.7)\n",
    "    plt.show()\n"
   ]
  },
  {
   "cell_type": "code",
   "execution_count": 42,
   "id": "11642dcb",
   "metadata": {},
   "outputs": [
    {
     "data": {
      "image/png": "[encoded data removed]",
      "text/plain": [
       "<Figure size 640x480 with 1 Axes>"
      ]
     },
     "metadata": {},
     "output_type": "display_data"
    }
   ],
   "source": [
    "plot_confidence_intervals(result)\n"
   ]
  },
  {
   "cell_type": "markdown",
   "id": "eb707b79",
   "metadata": {},
   "source": [
    "<a id=\"lift-analysis\"></a>\n",
    "\n",
    "<h4>📈 Lift Analysis<br><small>AKA 95% Confidence Intervals for (difference in outcomes)</small></h4>\n",
    "\n",
    "<details><summary><strong>📖 Click to Expand </strong></summary>\n",
    "\n",
    "<p>This confidence interval helps quantify uncertainty around the observed <strong>lift</strong> between treatment and control groups. It answers:</p>\n",
    "\n",
    "<ul>\n",
    "  <li><em>How large is the difference between groups?</em></li>\n",
    "  <li><em>How confident are we in this lift estimate?</em></li>\n",
    "</ul>\n",
    "\n",
    "<p>\n",
    "We compute a 95% CI for the difference in means (or proportions), not just for each group. If this interval <strong>does not include 0</strong>, we can reasonably trust there's a true difference.  \n",
    "If it <strong>does include 0</strong>, the observed difference might be due to random chance.\n",
    "</p>\n",
    "\n",
    "<p>\n",
    "This complements the p-value — while p-values tell us <em>if</em> the difference is significant, <strong>CIs tell us how big the effect is, and how uncertain we are.</strong>\n",
    "</p>\n",
    "\n",
    "</details>\n"
   ]
  },
  {
   "cell_type": "code",
   "execution_count": 43,
   "id": "048a3d23",
   "metadata": {},
   "outputs": [],
   "source": [
    "def compute_lift_confidence_interval(result):\n",
    "    \"\"\"\n",
    "    Compute CI for lift in binary or continuous-independent tests.\n",
    "    \"\"\"\n",
    "    test_family = result['test_family']\n",
    "    variant = result.get('variant')\n",
    "    group1, group2 = result['group_labels']\n",
    "    alpha = result.get('alpha', 0.05)\n",
    "    z = 1.96\n",
    "\n",
    "    print(\"\\n\" + \"=\"*45)\n",
    "    print(f\"📈 95% CI for Difference in Outcome [{test_family}]\")\n",
    "    print(\"=\"*45)\n",
    "\n",
    "    if test_family == 'z_test' or (test_family == 't_test' and variant == 'independent'):\n",
    "        m1 = result['summary'][group1]['mean']\n",
    "        m2 = result['summary'][group2]['mean']\n",
    "        lift = m2 - m1\n",
    "        n1 = result['summary'][group1]['n']\n",
    "        n2 = result['summary'][group2]['n']\n",
    "\n",
    "        if test_family == 'z_test':\n",
    "            se = np.sqrt(m1 * (1 - m1) / n1 + m2 * (1 - m2) / n2)\n",
    "        else:\n",
    "            sd1 = result['summary'][group1]['std']\n",
    "            sd2 = result['summary'][group2]['std']\n",
    "            se = np.sqrt((sd1 ** 2) / n1 + (sd2 ** 2) / n2)\n",
    "\n",
    "        ci_low = lift - z * se\n",
    "        ci_high = lift + z * se\n",
    "\n",
    "        print(f\"- Absolute Lift         : {lift:.4f}\")\n",
    "        print(f\"- 95% Confidence Interval: [{ci_low:.4f}, {ci_high:.4f}]\")\n",
    "\n",
    "        if ci_low > 0:\n",
    "            print(\"✅ Likely positive impact (CI > 0)\")\n",
    "        elif ci_high < 0:\n",
    "            print(\"🚫 Likely negative impact (CI < 0)\")\n",
    "        else:\n",
    "            print(\"🤷 CI includes 0 — not statistically significant.\")\n",
    "\n",
    "    elif test_family == 't_test' and variant == 'paired':\n",
    "        print(\"- Paired test: CI already accounted for in test logic.\")\n",
    "\n",
    "    elif test_family == 'chi_square':\n",
    "        print(\"- Categorical test: per-category lift analysis required (not implemented).\")\n",
    "\n",
    "    print(\"=\"*45 + \"\\n\")\n"
   ]
  },
  {
   "cell_type": "code",
   "execution_count": 44,
   "id": "f9c5f874",
   "metadata": {},
   "outputs": [
    {
     "name": "stdout",
     "output_type": "stream",
     "text": [
      "\n",
      "=============================================\n",
      "📈 95% CI for Difference in Outcome [t_test]\n",
      "=============================================\n",
      "- Absolute Lift         : -0.7146\n",
      "- 95% Confidence Interval: [-2.6338, 1.2047]\n",
      "🤷 CI includes 0 — not statistically significant.\n",
      "=============================================\n",
      "\n"
     ]
    }
   ],
   "source": [
    "compute_lift_confidence_interval(result)"
   ]
  },
  {
   "cell_type": "markdown",
   "id": "087a553b",
   "metadata": {},
   "source": [
    "<a id=\"final-conclusion\"></a>\n",
    "\n",
    "#### ✅ Final Conclusion\n"
   ]
  },
  {
   "cell_type": "code",
   "execution_count": 45,
   "id": "0fa93754",
   "metadata": {},
   "outputs": [],
   "source": [
    "def print_final_ab_test_summary(result):\n",
    "    \"\"\"\n",
    "    Final wrap-up of results with summary stats and verdict.\n",
    "    \"\"\"\n",
    "    test_family = result['test_family']\n",
    "    variant = result.get('variant')\n",
    "    group1, group2 = result['group_labels']\n",
    "    p_value = result.get('p_value')\n",
    "    alpha = result.get('alpha', 0.05)\n",
    "\n",
    "    print(\"=\"*40)\n",
    "    print(\"          📊 FINAL A/B TEST SUMMARY\")\n",
    "    print(\"=\"*40)\n",
    "\n",
    "    if test_family == 'z_test' or (test_family == 't_test' and variant == 'independent'):\n",
    "        mean1 = result['summary'][group1]['mean']\n",
    "        mean2 = result['summary'][group2]['mean']\n",
    "        lift = mean2 - mean1\n",
    "        pct_lift = lift / mean1 if mean1 else np.nan\n",
    "\n",
    "        label = \"Conversion rate\" if test_family == 'z_test' else \"Avg outcome\"\n",
    "        test_name = result.get(\"test\", \"A/B test\")\n",
    "\n",
    "        print(f\"👥  {group1.capitalize()} {label:<20}:  {mean1:.4f}\")\n",
    "        print(f\"🧪  {group2.capitalize()} {label:<20}:  {mean2:.4f}\")\n",
    "        print(f\"📈  Absolute lift              :  {lift:.4f}\")\n",
    "        print(f\"📊  Percentage lift            :  {pct_lift:.2%}\")\n",
    "        print(f\"🧪  P-value (from {test_name}) :  {p_value:.4f}\")\n",
    "\n",
    "    elif test_family == 't_test' and variant == 'paired':\n",
    "        print(\"🧪 Paired T-Test was used to compare within-user outcomes.\")\n",
    "        print(f\"🧪 P-value: {p_value:.4f}\")\n",
    "\n",
    "    elif test_family == 'chi_square':\n",
    "        print(\"🧪 Chi-square test was used to compare categorical distributions.\")\n",
    "        print(f\"🧪 P-value: {p_value:.4f}\")\n",
    "\n",
    "    else:\n",
    "        print(\"⚠️ Unsupported test type.\")\n",
    "\n",
    "    print(\"-\" * 40)\n",
    "\n",
    "    if p_value is not None:\n",
    "        if p_value < alpha:\n",
    "            print(\"✅ RESULT: Statistically significant difference detected.\")\n",
    "        else:\n",
    "            print(\"❌ RESULT: No statistically significant difference detected.\")\n",
    "    else:\n",
    "        print(\"⚠️ No p-value available.\")\n",
    "\n",
    "    print(\"=\"*40 + \"\\n\")\n"
   ]
  },
  {
   "cell_type": "code",
   "execution_count": 46,
   "id": "a56f6c36",
   "metadata": {},
   "outputs": [
    {
     "name": "stdout",
     "output_type": "stream",
     "text": [
      "========================================\n",
      "          📊 FINAL A/B TEST SUMMARY\n",
      "========================================\n",
      "👥  Control Avg outcome         :  51.0252\n",
      "🧪  Treatment Avg outcome         :  50.3106\n",
      "📈  Absolute lift              :  -0.7146\n",
      "📊  Percentage lift            :  -1.40%\n",
      "🧪  P-value (from independent t-test) :  0.4657\n",
      "----------------------------------------\n",
      "❌ RESULT: No statistically significant difference detected.\n",
      "========================================\n",
      "\n"
     ]
    }
   ],
   "source": [
    "print_final_ab_test_summary(result)"
   ]
  },
  {
   "cell_type": "markdown",
   "id": "0457202f",
   "metadata": {},
   "source": [
    "[Back to the top](#table-of-contents)\n",
    "___\n"
   ]
  },
  {
   "cell_type": "markdown",
   "id": "81dca748",
   "metadata": {},
   "source": [
    "<a id=\"how-long\"></a>\n",
    "<h1>⏱️ How Long</h1>\n",
    "<h4>to run the test?</h4>\n",
    "\n",
    "<details><summary><strong>📖 Click to Expand</strong></summary>\n",
    "\n",
    "<p>The duration of an A/B test depends on how quickly you reach the required sample size per group, as estimated during your power analysis.</p>\n",
    "\n",
    "<h5>✅ Key Inputs</h5>\n",
    "<ul>\n",
    "  <li>Daily volume of eligible observations (users, sessions, or orders — depends on your unit of analysis)</li>\n",
    "  <li>Required sample size per group (from power analysis)</li>\n",
    "  <li>Traffic split ratio (e.g., 50/50, 10/90, 33/33/33)</li>\n",
    "</ul>\n",
    "\n",
    "<h5>🧮 Formula</h5>\n",
    "<blockquote>\n",
    "  Test Duration (in days) =<br>\n",
    "  Required Sample Size per Group ÷ (Daily Eligible Observations × Group Split Proportion)\n",
    "</blockquote>\n",
    "\n",
    "<p>This ensures the experiment runs long enough to detect the expected effect with the desired confidence and power.</p>\n",
    "\n",
    "<h5>💡 Planning Tips</h5>\n",
    "<ol>\n",
    "  <li>Estimate required sample size using power analysis (based on effect size, baseline, alpha, and power)</li>\n",
    "  <li>Understand your traffic: \n",
    "    <ul>\n",
    "      <li>What’s your average daily eligible traffic?</li>\n",
    "      <li>What unit of analysis is used (user, session, impression)?</li>\n",
    "    </ul>\n",
    "  </li>\n",
    "  <li>Apply group split:\n",
    "    <ul>\n",
    "      <li>e.g., for a 50/50 A/B test, each group gets 50% of traffic</li>\n",
    "    </ul>\n",
    "  </li>\n",
    "  <li>Estimate days using the formula above.</li>\n",
    "</ol>\n",
    "\n",
    "<h5>🧠 Real-World Considerations</h5>\n",
    "<ul>\n",
    "  <li><strong>✅ Ramp-Up Period</strong><br>\n",
    "    Gradually increase traffic exposure: 5% → 25% → 50% → full traffic.<br>\n",
    "    Helps catch bugs, stability issues, and confounding edge cases early.\n",
    "  </li>\n",
    "  <li><strong>✅ Cool-Down Buffer</strong><br>\n",
    "    Avoid ending tests on weekends, holidays, or during unusual traffic spikes.<br>\n",
    "    Add buffer days so your conclusions aren’t skewed by anomalies.\n",
    "  </li>\n",
    "  <li><strong>✅ Trust Checks Before Analysis</strong>\n",
    "    <ul>\n",
    "      <li>A/A testing to verify setup</li>\n",
    "      <li>SRM checks to confirm user distribution</li>\n",
    "      <li>Monitor guardrail metrics (e.g., bounce rate, latency, load time)</li>\n",
    "    </ul>\n",
    "  </li>\n",
    "</ul>\n",
    "\n",
    "<h5>🗣️ Common Practitioner Advice</h5>\n",
    "<blockquote>\n",
    "  “We calculate sample size using power analysis, then divide by daily traffic per group. But we always factor in buffer days — for ramp-up, trust checks, and stability. Better safe than sorry.”\n",
    "  <br><br>\n",
    "  “Power analysis is the starting point. But we don’t blindly stop when we hit N. We monitor confidence intervals, metric stability, and coverage to make sure we’re making decisions the business can trust.”\n",
    "</blockquote>\n",
    "\n",
    "</details>\n"
   ]
  },
  {
   "cell_type": "code",
   "execution_count": 47,
   "id": "548ee80f",
   "metadata": {},
   "outputs": [],
   "source": [
    "def estimate_test_duration(\n",
    "    required_sample_size_per_group,\n",
    "    daily_eligible_users,\n",
    "    allocation_ratios=(0.5, 0.5),\n",
    "    buffer_days=2,\n",
    "    test_family=None  # renamed from experiment_type\n",
    "):\n",
    "    \"\"\"\n",
    "    Estimate test duration based on sample size, traffic, and allocation.\n",
    "\n",
    "    Parameters:\n",
    "    - required_sample_size_per_group: int\n",
    "    - daily_eligible_users: int — total incoming traffic per day\n",
    "    - allocation_ratios: tuple — traffic share per group (e.g., 50/50)\n",
    "    - buffer_days: int — extra time for ramp-up or anomalies\n",
    "    - test_family: str — optional metadata for clarity\n",
    "\n",
    "    Returns:\n",
    "    - dict with group durations and total estimated runtime\n",
    "    \"\"\"\n",
    "    group_durations = []\n",
    "    for alloc in allocation_ratios:\n",
    "        users_per_day = daily_eligible_users * alloc\n",
    "        days = required_sample_size_per_group / users_per_day if users_per_day else float('inf')\n",
    "        group_durations.append(np.ceil(days))\n",
    "\n",
    "    longest_group_runtime = int(max(group_durations))\n",
    "    total_with_buffer = longest_group_runtime + buffer_days\n",
    "\n",
    "    print(\"\\n🧮 Estimated Test Duration\")\n",
    "    if test_family:\n",
    "        print(f\"- Test family               : {test_family}\")\n",
    "    print(f\"- Required sample per group : {required_sample_size_per_group}\")\n",
    "    print(f\"- Daily eligible traffic    : {daily_eligible_users}\")\n",
    "    print(f\"- Allocation ratio          : {allocation_ratios}\")\n",
    "    print(f\"- Longest group runtime     : {longest_group_runtime} days\")\n",
    "    print(f\"- Buffer days               : {buffer_days}\")\n",
    "    print(f\"✅ Total estimated duration : {total_with_buffer} days\\n\")\n",
    "\n",
    "    return {\n",
    "        'test_family': test_family,\n",
    "        'per_group_days': group_durations,\n",
    "        'longest_group_runtime': longest_group_runtime,\n",
    "        'recommended_total_duration': total_with_buffer\n",
    "    }\n"
   ]
  },
  {
   "cell_type": "code",
   "execution_count": 48,
   "id": "bbcbd894",
   "metadata": {},
   "outputs": [
    {
     "name": "stdout",
     "output_type": "stream",
     "text": [
      "\n",
      "🧮 Estimated Test Duration\n",
      "- Test family               : t_test\n",
      "- Required sample per group : 154\n",
      "- Daily eligible traffic    : 1000\n",
      "- Allocation ratio          : (0.5, 0.5)\n",
      "- Longest group runtime     : 1 days\n",
      "- Buffer days               : 2\n",
      "✅ Total estimated duration : 3 days\n",
      "\n"
     ]
    },
    {
     "data": {
      "text/plain": [
       "{'test_family': 't_test',\n",
       " 'per_group_days': [1.0, 1.0],\n",
       " 'longest_group_runtime': 1,\n",
       " 'recommended_total_duration': 3}"
      ]
     },
     "execution_count": 48,
     "metadata": {},
     "output_type": "execute_result"
    }
   ],
   "source": [
    "daily_eligible_users = 1000\n",
    "allocation_ratios = (0.5, 0.5)\n",
    "buffer_days = 2\n",
    "\n",
    "test_duration_result = estimate_test_duration(\n",
    "    required_sample_size_per_group=test_config['required_sample_size'],\n",
    "    daily_eligible_users=daily_eligible_users,\n",
    "    allocation_ratios=allocation_ratios,\n",
    "    buffer_days=buffer_days,\n",
    "    test_family=test_config['family']\n",
    ")\n",
    "test_duration_result"
   ]
  },
  {
   "cell_type": "markdown",
   "id": "a48203b7",
   "metadata": {},
   "source": [
    "<a id=\"monitoring-dashboard-components\"></a>\n",
    "\n",
    "<h4>🧭 Monitoring Dashboard Components</h4>\n",
    "\n",
    "<details>\n",
    "<summary>Click to Expand</summary>\n",
    "\n",
    "<ul>\n",
    "  <li><strong>Overall Test Health</strong>\n",
    "    <ul>\n",
    "      <li>Start/end date, traffic ramp-up %, time remaining</li>\n",
    "      <li>SRM (Sample Ratio Mismatch) indicator</li>\n",
    "      <li>P-value and effect size summary (updated daily)</li>\n",
    "    </ul>\n",
    "  </li>\n",
    "  <li><strong>Primary Metric Tracking</strong>\n",
    "    <ul>\n",
    "      <li>Daily trends for primary outcome (conversion, revenue, etc.)</li>\n",
    "      <li>Cumulative lift + confidence intervals</li>\n",
    "      <li>Statistical significance tracker (p-value, test stat)</li>\n",
    "    </ul>\n",
    "  </li>\n",
    "  <li><strong>Guardrail Metrics</strong>\n",
    "    <ul>\n",
    "      <li>Bounce rate, load time, checkout errors, etc.</li>\n",
    "      <li>Alert thresholds (e.g., +10% increase in latency)</li>\n",
    "      <li>Trend vs baseline and prior experiments</li>\n",
    "    </ul>\n",
    "  </li>\n",
    "  <li><strong>Segment Drilldowns</strong>\n",
    "    <ul>\n",
    "      <li>Platform (iOS vs Android), geography, user tier</li>\n",
    "      <li>Detect heterogeneous treatment effects</li>\n",
    "      <li>Option to toggle test results per segment</li>\n",
    "    </ul>\n",
    "  </li>\n",
    "  <li><strong>Cohort Coverage</strong>\n",
    "    <ul>\n",
    "      <li>Total users assigned vs eligible</li>\n",
    "      <li>Daily inclusion and exclusion trends</li>\n",
    "      <li>Debugging filters (e.g., why user X didn’t get assigned)</li>\n",
    "    </ul>\n",
    "  </li>\n",
    "  <li><strong>Variance & Stability Checks</strong>\n",
    "    <ul>\n",
    "      <li>Volatility of key metrics</li>\n",
    "      <li>Pre vs post baseline comparisons</li>\n",
    "      <li>Funnel conversion variance analysis</li>\n",
    "    </ul>\n",
    "  </li>\n",
    "  <li><strong>Notes & Annotations</strong>\n",
    "    <ul>\n",
    "      <li>Manual tagging of major incidents (e.g., bug fix deployed, pricing change)</li>\n",
    "      <li>Timeline of changes affecting experiment interpretation</li>\n",
    "    </ul>\n",
    "  </li>\n",
    "</ul>\n",
    "\n",
    "</details>\n"
   ]
  },
  {
   "cell_type": "markdown",
   "id": "41e17a8c",
   "metadata": {},
   "source": [
    "[Back to the top](#table-of-contents)\n",
    "___\n"
   ]
  },
  {
   "cell_type": "markdown",
   "id": "b78601d2",
   "metadata": {},
   "source": [
    "<a id=\"post-hoc-analysis\"></a>\n",
    "\n",
    "<h1>🔍 Post Hoc Analysis</h1>\n",
    "\n",
    "<details><summary><strong>📖 Click to Expand</strong></summary>\n",
    "\n",
    "<blockquote>\n",
    "  After statistical significance, post-hoc analysis helps <strong>connect results to business confidence</strong>.<br>\n",
    "  It's not just <em>did it work</em> — but <em>how, for whom, and at what cost or benefit?</em>\n",
    "</blockquote>\n",
    "\n",
    "<p><strong>🧠 Why Post Hoc Analysis Matters</strong></p>\n",
    "<ul>\n",
    "  <li>Segments may <strong>respond differently</strong> — average lift may hide underperformance in subgroups</li>\n",
    "  <li>Guardrails may show <strong>collateral damage</strong> (e.g., slower load time, higher churn)</li>\n",
    "  <li>Stakeholders need <strong>impact translation</strong> — what does this mean in revenue, retention, or strategy?</li>\n",
    "</ul>\n",
    "\n",
    "<p><strong>🔎 Typical Post Hoc Questions</strong></p>\n",
    "<ul>\n",
    "  <li><strong>Segment Lift</strong>\n",
    "    <ul>\n",
    "      <li>Did certain platforms, geos, cohorts, or user types benefit more?</li>\n",
    "      <li>Any negative lift in high-value user segments?</li>\n",
    "    </ul>\n",
    "  </li>\n",
    "  <li><strong>Guardrail Checks</strong>\n",
    "    <ul>\n",
    "      <li>Did the treatment impact non-primary metrics (e.g., latency, engagement, bounce rate)?</li>\n",
    "      <li>Were alert thresholds breached?</li>\n",
    "    </ul>\n",
    "  </li>\n",
    "  <li><strong>Business Impact Simulation</strong>\n",
    "    <ul>\n",
    "      <li>How does the observed lift scale to 100% of eligible users?</li>\n",
    "      <li>What’s the projected change in conversions, revenue, or user satisfaction?</li>\n",
    "    </ul>\n",
    "  </li>\n",
    "  <li><strong>Edge Case Discovery</strong>\n",
    "    <ul>\n",
    "      <li>Any bugs, instrumentation gaps, or unexpected usage patterns?</li>\n",
    "      <li>Did any user types get excluded disproportionately?</li>\n",
    "    </ul>\n",
    "  </li>\n",
    "</ul>\n",
    "\n",
    "<p><strong>📊 What to Report</strong></p>\n",
    "\n",
    "<table>\n",
    "  <thead>\n",
    "    <tr>\n",
    "      <th>Area</th>\n",
    "      <th>What to Show</th>\n",
    "    </tr>\n",
    "  </thead>\n",
    "  <tbody>\n",
    "    <tr>\n",
    "      <td>Segment Analysis</td>\n",
    "      <td>Table or chart showing lift per segment, sorted by effect size or risk</td>\n",
    "    </tr>\n",
    "    <tr>\n",
    "      <td>Guardrail Metrics</td>\n",
    "      <td>Summary table of guardrails vs baseline, with thresholds or annotations</td>\n",
    "    </tr>\n",
    "    <tr>\n",
    "      <td>Revenue Simulation</td>\n",
    "      <td>Projected uplift × traffic volume × conversion = business impact</td>\n",
    "    </tr>\n",
    "    <tr>\n",
    "      <td>Confidence Range</td>\n",
    "      <td>95% CI for key metrics per segment (wherever possible)</td>\n",
    "    </tr>\n",
    "    <tr>\n",
    "      <td>Rollout Readiness</td>\n",
    "      <td>Any blockers, mitigations, or next steps if full rollout is considered</td>\n",
    "    </tr>\n",
    "  </tbody>\n",
    "</table>\n",
    "\n",
    "<p><strong>💡 Pro Tip</strong><br>\n",
    "Even if your p-value says “yes,” <strong>business rollout is a risk-based decision</strong>.<br>\n",
    "Post-hoc analysis is where <strong>statistical rigor meets product judgment</strong>.\n",
    "</p>\n",
    "\n",
    "</details>\n"
   ]
  },
  {
   "cell_type": "markdown",
   "id": "f4025c73",
   "metadata": {},
   "source": [
    "<a id=\"segmented-lift\"></a>\n",
    "\n",
    "<h4>🧩 Segmented Lift</h4>\n",
    "\n",
    "<details><summary><strong>📖 Click to Expand</strong></summary>\n",
    "\n",
    "<p>Segmented lift tells us <strong>how different user segments responded</strong> to the treatment.</p>\n",
    "\n",
    "<p><strong>Why It Matters:</strong></p>\n",
    "<ul>\n",
    "  <li><strong>Uncovers hidden heterogeneity</strong> — The overall average might mask variation across platforms, geographies, or user tiers.</li>\n",
    "  <li><strong>Identifies high-risk or high-reward cohorts</strong> — Some segments might benefit more, while others could be negatively impacted.</li>\n",
    "  <li><strong>Guides rollout and targeting decisions</strong> — Helps decide where to prioritize feature exposure, or where to mitigate risk.</li>\n",
    "</ul>\n",
    "\n",
    "<p><strong>Typical Segments:</strong></p>\n",
    "<ul>\n",
    "  <li>Device type (e.g., mobile vs desktop)</li>\n",
    "  <li>Region (e.g., North vs South)</li>\n",
    "  <li>User lifecycle (e.g., new vs returning)</li>\n",
    "  <li>Platform (e.g., iOS vs Android)</li>\n",
    "</ul>\n",
    "\n",
    "<blockquote>\n",
    "  <em>\"Segmentation answers <strong>who is benefiting (or suffering)</strong> — not just <strong>whether it worked on average.</strong>\"</em>\n",
    "</blockquote>\n",
    "\n",
    "</details>\n"
   ]
  },
  {
   "cell_type": "code",
   "execution_count": 49,
   "id": "e2bed84e",
   "metadata": {},
   "outputs": [],
   "source": [
    "def visualize_segment_lift(df_segment, segment_col):\n",
    "    \"\"\"\n",
    "    Plots horizontal bar chart of mean lift per segment (Treatment - Control).\n",
    "    \"\"\"\n",
    "    df_viz = df_segment.dropna(subset=['lift']).sort_values(by='lift', ascending=False)\n",
    "    if df_viz.empty:\n",
    "        print(f\"⚠️ No lift data to visualize for '{segment_col}'\\n\")\n",
    "        return\n",
    "\n",
    "    plt.figure(figsize=(8, 0.4 * len(df_viz) + 2))\n",
    "    bars = plt.barh(df_viz[segment_col], df_viz['lift'], color='skyblue')\n",
    "    for bar, val in zip(bars, df_viz['lift']):\n",
    "        plt.text(bar.get_width(), bar.get_y() + bar.get_height()/2, f\"{val:.2f}\", va='center', ha='left', fontsize=9)\n",
    "    plt.axvline(0, color='gray', linestyle='--')\n",
    "    plt.title(f\"Lift from Control to Treatment by {segment_col}\")\n",
    "    plt.xlabel(\"Mean Difference (Treatment – Control)\")\n",
    "    plt.grid(axis='x', linestyle='--', alpha=0.6)\n",
    "    plt.tight_layout()\n",
    "    plt.show()\n"
   ]
  },
  {
   "cell_type": "code",
   "execution_count": 50,
   "id": "3c5e89ad",
   "metadata": {},
   "outputs": [],
   "source": [
    "def analyze_segment_lift(\n",
    "    df,\n",
    "    test_config,\n",
    "    segment_cols=['platform', 'device_type', 'user_tier', 'region'],\n",
    "    min_count_per_group=30,\n",
    "    visualize=True\n",
    "):\n",
    "    \"\"\"\n",
    "    Post-hoc lift analysis per segment (e.g., by platform or region).\n",
    "    \"\"\"\n",
    "\n",
    "    group_col = 'group'\n",
    "    group1, group2 = test_config['group_labels']\n",
    "    metric_col = test_config['outcome_metric_col']\n",
    "    outcome_type = test_config['outcome_metric_datatype']\n",
    "    variant = test_config['variant']\n",
    "    test_family = test_config['family']\n",
    "\n",
    "    for segment in segment_cols:\n",
    "        print(f\"\\n🔎 Segmenting by: {segment}\")\n",
    "        seg_data = []\n",
    "\n",
    "        for val in df[segment].dropna().unique():\n",
    "            subset = df[df[segment] == val]\n",
    "            g1 = subset[subset[group_col] == group1][metric_col]\n",
    "            g2 = subset[subset[group_col] == group2][metric_col]\n",
    "\n",
    "            if len(g1) < min_count_per_group or len(g2) < min_count_per_group:\n",
    "                print(f\"⚠️ Skipping '{val}' under '{segment}' — too few users.\")\n",
    "                continue\n",
    "\n",
    "            lift = g2.mean() - g1.mean()\n",
    "            p_value = None\n",
    "\n",
    "            if test_family == 'z_test':\n",
    "                # Binary: z-test on proportions\n",
    "                p1, n1 = g1.mean(), len(g1)\n",
    "                p2, n2 = g2.mean(), len(g2)\n",
    "                pooled_p = (g1.sum() + g2.sum()) / (n1 + n2)\n",
    "                se = np.sqrt(pooled_p * (1 - pooled_p) * (1/n1 + 1/n2))\n",
    "                p_value = 2 * (1 - stats.norm.cdf(abs((p2 - p1) / se)))\n",
    "\n",
    "            elif test_family == 't_test':\n",
    "                if variant == 'independent':\n",
    "                    _, p_value = stats.ttest_ind(g1, g2)\n",
    "                elif variant == 'paired':\n",
    "                    print(f\"⚠️ Paired test not supported in segmented lift — skipped '{val}' under '{segment}'.\")\n",
    "                    lift, p_value = np.nan, None\n",
    "\n",
    "            elif test_family == 'chi_square':\n",
    "                print(f\"⚠️ Categorical data — lift not defined for '{val}' in '{segment}'.\")\n",
    "                lift, p_value = np.nan, None\n",
    "\n",
    "            seg_data.append({\n",
    "                segment: val,\n",
    "                'count_control': len(g1),\n",
    "                'count_treatment': len(g2),\n",
    "                'mean_control': g1.mean(),\n",
    "                'mean_treatment': g2.mean(),\n",
    "                'std_control': g1.std(),\n",
    "                'std_treatment': g2.std(),\n",
    "                'lift': lift,\n",
    "                'p_value_lift': p_value\n",
    "            })\n",
    "\n",
    "        df_segment = pd.DataFrame(seg_data)\n",
    "        display(df_segment)\n",
    "\n",
    "        if visualize:\n",
    "            visualize_segment_lift(df_segment, segment)\n"
   ]
  },
  {
   "cell_type": "code",
   "execution_count": 51,
   "id": "70383908",
   "metadata": {},
   "outputs": [
    {
     "name": "stdout",
     "output_type": "stream",
     "text": [
      "\n",
      "🔎 Segmenting by: platform\n"
     ]
    },
    {
     "data": {
      "text/html": [
       "<div>\n",
       "<style scoped>\n",
       "    .dataframe tbody tr th:only-of-type {\n",
       "        vertical-align: middle;\n",
       "    }\n",
       "\n",
       "    .dataframe tbody tr th {\n",
       "        vertical-align: top;\n",
       "    }\n",
       "\n",
       "    .dataframe thead th {\n",
       "        text-align: right;\n",
       "    }\n",
       "</style>\n",
       "<table border=\"1\" class=\"dataframe\">\n",
       "  <thead>\n",
       "    <tr style=\"text-align: right;\">\n",
       "      <th></th>\n",
       "      <th>platform</th>\n",
       "      <th>count_control</th>\n",
       "      <th>count_treatment</th>\n",
       "      <th>mean_control</th>\n",
       "      <th>mean_treatment</th>\n",
       "      <th>std_control</th>\n",
       "      <th>std_treatment</th>\n",
       "      <th>lift</th>\n",
       "      <th>p_value_lift</th>\n",
       "    </tr>\n",
       "  </thead>\n",
       "  <tbody>\n",
       "    <tr>\n",
       "      <th>0</th>\n",
       "      <td>iOS</td>\n",
       "      <td>306</td>\n",
       "      <td>283</td>\n",
       "      <td>51.473511</td>\n",
       "      <td>51.038554</td>\n",
       "      <td>15.720604</td>\n",
       "      <td>15.505342</td>\n",
       "      <td>-0.434958</td>\n",
       "      <td>0.735711</td>\n",
       "    </tr>\n",
       "    <tr>\n",
       "      <th>1</th>\n",
       "      <td>Android</td>\n",
       "      <td>204</td>\n",
       "      <td>207</td>\n",
       "      <td>50.352631</td>\n",
       "      <td>49.315366</td>\n",
       "      <td>15.455377</td>\n",
       "      <td>15.125414</td>\n",
       "      <td>-1.037265</td>\n",
       "      <td>0.492071</td>\n",
       "    </tr>\n",
       "  </tbody>\n",
       "</table>\n",
       "</div>"
      ],
      "text/plain": [
       "  platform  count_control  count_treatment  mean_control  mean_treatment  \\\n",
       "0      iOS            306              283     51.473511       51.038554   \n",
       "1  Android            204              207     50.352631       49.315366   \n",
       "\n",
       "   std_control  std_treatment      lift  p_value_lift  \n",
       "0    15.720604      15.505342 -0.434958      0.735711  \n",
       "1    15.455377      15.125414 -1.037265      0.492071  "
      ]
     },
     "metadata": {},
     "output_type": "display_data"
    },
    {
     "data": {
      "image/png": "[encoded data removed]",
      "text/plain": [
       "<Figure size 800x280 with 1 Axes>"
      ]
     },
     "metadata": {},
     "output_type": "display_data"
    },
    {
     "name": "stdout",
     "output_type": "stream",
     "text": [
      "\n",
      "🔎 Segmenting by: device_type\n"
     ]
    },
    {
     "data": {
      "text/html": [
       "<div>\n",
       "<style scoped>\n",
       "    .dataframe tbody tr th:only-of-type {\n",
       "        vertical-align: middle;\n",
       "    }\n",
       "\n",
       "    .dataframe tbody tr th {\n",
       "        vertical-align: top;\n",
       "    }\n",
       "\n",
       "    .dataframe thead th {\n",
       "        text-align: right;\n",
       "    }\n",
       "</style>\n",
       "<table border=\"1\" class=\"dataframe\">\n",
       "  <thead>\n",
       "    <tr style=\"text-align: right;\">\n",
       "      <th></th>\n",
       "      <th>device_type</th>\n",
       "      <th>count_control</th>\n",
       "      <th>count_treatment</th>\n",
       "      <th>mean_control</th>\n",
       "      <th>mean_treatment</th>\n",
       "      <th>std_control</th>\n",
       "      <th>std_treatment</th>\n",
       "      <th>lift</th>\n",
       "      <th>p_value_lift</th>\n",
       "    </tr>\n",
       "  </thead>\n",
       "  <tbody>\n",
       "    <tr>\n",
       "      <th>0</th>\n",
       "      <td>mobile</td>\n",
       "      <td>343</td>\n",
       "      <td>346</td>\n",
       "      <td>50.996739</td>\n",
       "      <td>50.737705</td>\n",
       "      <td>15.483445</td>\n",
       "      <td>15.166347</td>\n",
       "      <td>-0.259034</td>\n",
       "      <td>0.824508</td>\n",
       "    </tr>\n",
       "    <tr>\n",
       "      <th>1</th>\n",
       "      <td>desktop</td>\n",
       "      <td>167</td>\n",
       "      <td>144</td>\n",
       "      <td>51.083532</td>\n",
       "      <td>49.284344</td>\n",
       "      <td>15.912052</td>\n",
       "      <td>15.802427</td>\n",
       "      <td>-1.799188</td>\n",
       "      <td>0.319324</td>\n",
       "    </tr>\n",
       "  </tbody>\n",
       "</table>\n",
       "</div>"
      ],
      "text/plain": [
       "  device_type  count_control  count_treatment  mean_control  mean_treatment  \\\n",
       "0      mobile            343              346     50.996739       50.737705   \n",
       "1     desktop            167              144     51.083532       49.284344   \n",
       "\n",
       "   std_control  std_treatment      lift  p_value_lift  \n",
       "0    15.483445      15.166347 -0.259034      0.824508  \n",
       "1    15.912052      15.802427 -1.799188      0.319324  "
      ]
     },
     "metadata": {},
     "output_type": "display_data"
    },
    {
     "data": {
      "image/png": "[encoded data removed]",
      "text/plain": [
       "<Figure size 800x280 with 1 Axes>"
      ]
     },
     "metadata": {},
     "output_type": "display_data"
    },
    {
     "name": "stdout",
     "output_type": "stream",
     "text": [
      "\n",
      "🔎 Segmenting by: user_tier\n"
     ]
    },
    {
     "data": {
      "text/html": [
       "<div>\n",
       "<style scoped>\n",
       "    .dataframe tbody tr th:only-of-type {\n",
       "        vertical-align: middle;\n",
       "    }\n",
       "\n",
       "    .dataframe tbody tr th {\n",
       "        vertical-align: top;\n",
       "    }\n",
       "\n",
       "    .dataframe thead th {\n",
       "        text-align: right;\n",
       "    }\n",
       "</style>\n",
       "<table border=\"1\" class=\"dataframe\">\n",
       "  <thead>\n",
       "    <tr style=\"text-align: right;\">\n",
       "      <th></th>\n",
       "      <th>user_tier</th>\n",
       "      <th>count_control</th>\n",
       "      <th>count_treatment</th>\n",
       "      <th>mean_control</th>\n",
       "      <th>mean_treatment</th>\n",
       "      <th>std_control</th>\n",
       "      <th>std_treatment</th>\n",
       "      <th>lift</th>\n",
       "      <th>p_value_lift</th>\n",
       "    </tr>\n",
       "  </thead>\n",
       "  <tbody>\n",
       "    <tr>\n",
       "      <th>0</th>\n",
       "      <td>new</td>\n",
       "      <td>188</td>\n",
       "      <td>192</td>\n",
       "      <td>50.270166</td>\n",
       "      <td>52.095652</td>\n",
       "      <td>15.670024</td>\n",
       "      <td>15.297974</td>\n",
       "      <td>1.825486</td>\n",
       "      <td>0.251242</td>\n",
       "    </tr>\n",
       "    <tr>\n",
       "      <th>1</th>\n",
       "      <td>returning</td>\n",
       "      <td>322</td>\n",
       "      <td>298</td>\n",
       "      <td>51.465963</td>\n",
       "      <td>49.160490</td>\n",
       "      <td>15.581513</td>\n",
       "      <td>15.305550</td>\n",
       "      <td>-2.305472</td>\n",
       "      <td>0.063864</td>\n",
       "    </tr>\n",
       "  </tbody>\n",
       "</table>\n",
       "</div>"
      ],
      "text/plain": [
       "   user_tier  count_control  count_treatment  mean_control  mean_treatment  \\\n",
       "0        new            188              192     50.270166       52.095652   \n",
       "1  returning            322              298     51.465963       49.160490   \n",
       "\n",
       "   std_control  std_treatment      lift  p_value_lift  \n",
       "0    15.670024      15.297974  1.825486      0.251242  \n",
       "1    15.581513      15.305550 -2.305472      0.063864  "
      ]
     },
     "metadata": {},
     "output_type": "display_data"
    },
    {
     "data": {
      "image/png": "[encoded data removed]",
      "text/plain": [
       "<Figure size 800x280 with 1 Axes>"
      ]
     },
     "metadata": {},
     "output_type": "display_data"
    },
    {
     "name": "stdout",
     "output_type": "stream",
     "text": [
      "\n",
      "🔎 Segmenting by: region\n"
     ]
    },
    {
     "data": {
      "text/html": [
       "<div>\n",
       "<style scoped>\n",
       "    .dataframe tbody tr th:only-of-type {\n",
       "        vertical-align: middle;\n",
       "    }\n",
       "\n",
       "    .dataframe tbody tr th {\n",
       "        vertical-align: top;\n",
       "    }\n",
       "\n",
       "    .dataframe thead th {\n",
       "        text-align: right;\n",
       "    }\n",
       "</style>\n",
       "<table border=\"1\" class=\"dataframe\">\n",
       "  <thead>\n",
       "    <tr style=\"text-align: right;\">\n",
       "      <th></th>\n",
       "      <th>region</th>\n",
       "      <th>count_control</th>\n",
       "      <th>count_treatment</th>\n",
       "      <th>mean_control</th>\n",
       "      <th>mean_treatment</th>\n",
       "      <th>std_control</th>\n",
       "      <th>std_treatment</th>\n",
       "      <th>lift</th>\n",
       "      <th>p_value_lift</th>\n",
       "    </tr>\n",
       "  </thead>\n",
       "  <tbody>\n",
       "    <tr>\n",
       "      <th>0</th>\n",
       "      <td>North</td>\n",
       "      <td>135</td>\n",
       "      <td>120</td>\n",
       "      <td>51.205860</td>\n",
       "      <td>51.554078</td>\n",
       "      <td>15.118047</td>\n",
       "      <td>15.206938</td>\n",
       "      <td>0.348218</td>\n",
       "      <td>0.854882</td>\n",
       "    </tr>\n",
       "    <tr>\n",
       "      <th>1</th>\n",
       "      <td>South</td>\n",
       "      <td>147</td>\n",
       "      <td>113</td>\n",
       "      <td>50.736052</td>\n",
       "      <td>50.185396</td>\n",
       "      <td>16.563319</td>\n",
       "      <td>15.340048</td>\n",
       "      <td>-0.550655</td>\n",
       "      <td>0.784045</td>\n",
       "    </tr>\n",
       "    <tr>\n",
       "      <th>2</th>\n",
       "      <td>West</td>\n",
       "      <td>106</td>\n",
       "      <td>126</td>\n",
       "      <td>50.974336</td>\n",
       "      <td>50.275715</td>\n",
       "      <td>13.928319</td>\n",
       "      <td>15.292805</td>\n",
       "      <td>-0.698620</td>\n",
       "      <td>0.718471</td>\n",
       "    </tr>\n",
       "    <tr>\n",
       "      <th>3</th>\n",
       "      <td>East</td>\n",
       "      <td>122</td>\n",
       "      <td>131</td>\n",
       "      <td>51.217713</td>\n",
       "      <td>49.313070</td>\n",
       "      <td>16.501732</td>\n",
       "      <td>15.653598</td>\n",
       "      <td>-1.904643</td>\n",
       "      <td>0.347038</td>\n",
       "    </tr>\n",
       "  </tbody>\n",
       "</table>\n",
       "</div>"
      ],
      "text/plain": [
       "  region  count_control  count_treatment  mean_control  mean_treatment  \\\n",
       "0  North            135              120     51.205860       51.554078   \n",
       "1  South            147              113     50.736052       50.185396   \n",
       "2   West            106              126     50.974336       50.275715   \n",
       "3   East            122              131     51.217713       49.313070   \n",
       "\n",
       "   std_control  std_treatment      lift  p_value_lift  \n",
       "0    15.118047      15.206938  0.348218      0.854882  \n",
       "1    16.563319      15.340048 -0.550655      0.784045  \n",
       "2    13.928319      15.292805 -0.698620      0.718471  \n",
       "3    16.501732      15.653598 -1.904643      0.347038  "
      ]
     },
     "metadata": {},
     "output_type": "display_data"
    },
    {
     "data": {
      "image/png": "[encoded data removed]",
      "text/plain": [
       "<Figure size 800x360 with 1 Axes>"
      ]
     },
     "metadata": {},
     "output_type": "display_data"
    }
   ],
   "source": [
    "analyze_segment_lift(\n",
    "    df=users,\n",
    "    test_config=test_config,\n",
    "    segment_cols=['platform', 'device_type', 'user_tier', 'region'],\n",
    "    min_count_per_group=30,\n",
    "    visualize=True\n",
    ")\n"
   ]
  },
  {
   "cell_type": "markdown",
   "id": "fc8135b7",
   "metadata": {},
   "source": [
    "<a id=\"guardrail-metrics\"></a>\n",
    "\n",
    "<h4>🚦 Guardrail Metrics</h4>\n",
    "\n",
    "<details><summary><strong>📖 Click to Expand</strong></summary>\n",
    "\n",
    "<p>Guardrail metrics are <strong>non-primary metrics</strong> tracked during an experiment to ensure the feature doesn't create <strong>unintended negative consequences</strong>.</p>\n",
    "\n",
    "<p>We monitor them alongside the main success metric to:</p>\n",
    "<ul>\n",
    "  <li>📉 Catch regressions in user behavior or system performance</li>\n",
    "  <li>🔍 Detect trade-offs (e.g., conversion ↑ but bounce rate ↑ too)</li>\n",
    "  <li>🛑 Block rollouts if a feature does more harm than good</li>\n",
    "</ul>\n",
    "\n",
    "<h6>🧪 How We Check</h6>\n",
    "<ul>\n",
    "  <li>Run <strong>statistical tests</strong> on each guardrail metric just like we do for the primary metric</li>\n",
    "  <li>Use the <strong>same experiment type</strong> (binary, continuous, etc.) for evaluation</li>\n",
    "  <li>Report <strong>p-values and lift</strong> to assess significance and direction</li>\n",
    "  <li>Focus more on <strong>risk detection</strong> than optimization</li>\n",
    "</ul>\n",
    "\n",
    "<h6>📊 Common Guardrail Metrics</h6>\n",
    "<table>\n",
    "  <tr><th>Type</th><th>Examples</th></tr>\n",
    "  <tr><td><strong>UX Health</strong></td><td>Bounce Rate, Session Length, Engagement</td></tr>\n",
    "  <tr><td><strong>Performance</strong></td><td>Page Load Time, API Latency, CPU Usage</td></tr>\n",
    "  <tr><td><strong>Reliability</strong></td><td>Error Rate, Crash Rate, Timeout Errors</td></tr>\n",
    "  <tr><td><strong>Behavioral</strong></td><td>Scroll Depth, Page Views per Session</td></tr>\n",
    "</table>\n",
    "\n",
    "<h6>✅ When to Act</h6>\n",
    "<ul>\n",
    "  <li>If the <strong>treatment significantly worsens</strong> a guardrail metric → investigate</li>\n",
    "  <li>If the <strong>primary metric improves</strong> but <strong>guardrails suffer</strong>, assess trade-offs</li>\n",
    "  <li>Use <strong>p-values</strong>, <strong>lift</strong>, and <strong>domain context</strong> to guide decision-making</li>\n",
    "</ul>\n",
    "\n",
    "<h6>🧠 Why Guardrails Matter</h6>\n",
    "<blockquote>\n",
    "  “We don’t just care <em>if</em> a metric moves — we care <em>what else</em> it moved. Guardrails give us confidence that improvements aren’t hiding regressions elsewhere.”\n",
    "</blockquote>\n",
    "\n",
    "</details>\n"
   ]
  },
  {
   "cell_type": "code",
   "execution_count": 52,
   "id": "35c7ffc7",
   "metadata": {},
   "outputs": [
    {
     "name": "stdout",
     "output_type": "stream",
     "text": [
      "🚦 Average Bounce Rate by Group:\n",
      "- control: 0.5464\n",
      "- treatment: 0.5679\n"
     ]
    }
   ],
   "source": [
    "# Quick average check by group\n",
    "guardrail_avg = users.groupby('group')['bounce_rate'].mean()\n",
    "\n",
    "print(\"🚦 Average Bounce Rate by Group:\")\n",
    "for grp, val in guardrail_avg.items():\n",
    "    print(f\"- {grp}: {val:.4f}\")"
   ]
  },
  {
   "cell_type": "code",
   "execution_count": 53,
   "id": "05fcb5f7",
   "metadata": {},
   "outputs": [],
   "source": [
    "def evaluate_guardrail_metric(\n",
    "    df,\n",
    "    test_config,\n",
    "    guardrail_metric_col='bounce_rate',\n",
    "    alpha=0.05\n",
    "):\n",
    "    \"\"\"\n",
    "    Checks for statistically significant changes in guardrail metric (e.g., bounce rate).\n",
    "\n",
    "    Parameters:\n",
    "    - df : pd.DataFrame — experiment dataset\n",
    "    - test_config : dict — contains group info, variant, etc.\n",
    "    - guardrail_metric_col : str — column name of guardrail metric\n",
    "    - alpha : float — significance level (default 0.05)\n",
    "\n",
    "    Returns:\n",
    "    - None (prints result)\n",
    "    \"\"\"\n",
    "\n",
    "    group_col = 'group'\n",
    "    control, treatment = test_config['group_labels']\n",
    "\n",
    "    control_vals = df[df[group_col] == control][guardrail_metric_col]\n",
    "    treatment_vals = df[df[group_col] == treatment][guardrail_metric_col]\n",
    "\n",
    "    mean_control = control_vals.mean()\n",
    "    mean_treatment = treatment_vals.mean()\n",
    "    diff = mean_treatment - mean_control\n",
    "\n",
    "    t_stat, p_val = ttest_ind(treatment_vals, control_vals)\n",
    "\n",
    "    print(f\"\\n🚦 Guardrail Metric Check → '{guardrail_metric_col}'\\n\")\n",
    "    print(f\"- {control:10}: {mean_control:.4f}\")\n",
    "    print(f\"- {treatment:10}: {mean_treatment:.4f}\")\n",
    "    print(f\"- Difference   : {diff:+.4f}\")\n",
    "    print(f\"- P-value (t-test): {p_val:.4f}\")\n",
    "\n",
    "    if p_val < alpha:\n",
    "        if diff > 0:\n",
    "            print(\"❌ Significant *increase* — potential negative impact on guardrail.\")\n",
    "        else:\n",
    "            print(\"✅ Significant *decrease* — potential positive impact.\")\n",
    "    else:\n",
    "        print(\"🟡 No statistically significant change — guardrail looks stable.\")\n"
   ]
  },
  {
   "cell_type": "code",
   "execution_count": 54,
   "id": "2bb9ba6c",
   "metadata": {},
   "outputs": [
    {
     "name": "stdout",
     "output_type": "stream",
     "text": [
      "\n",
      "🚦 Guardrail Metric Check → 'bounce_rate'\n",
      "\n",
      "- control   : 0.5464\n",
      "- treatment : 0.5679\n",
      "- Difference   : +0.0215\n",
      "- P-value (t-test): 0.0325\n",
      "❌ Significant *increase* — potential negative impact on guardrail.\n"
     ]
    }
   ],
   "source": [
    "evaluate_guardrail_metric(\n",
    "    df=users,\n",
    "    test_config=test_config,\n",
    "    guardrail_metric_col='bounce_rate',\n",
    "    alpha=0.05\n",
    ")\n"
   ]
  },
  {
   "cell_type": "markdown",
   "id": "34b732d8",
   "metadata": {},
   "source": [
    "<a id=\"multiple-comparisons\"></a>\n",
    "#### 🧠 Correcting for Multiple Comparisons"
   ]
  },
  {
   "cell_type": "markdown",
   "id": "ae47aab9",
   "metadata": {},
   "source": [
    "<details>\n",
    "<summary><strong>📖 Why p-values can't always be trusted</strong></summary>\n",
    "\n",
    "When we test multiple segments, multiple metrics or multiple variants, we increase the risk of **false positives** (Type I errors).\n",
    "This is known as the **Multiple Comparisons Problem** — and it’s dangerous in data-driven decision-making.\n",
    "\n",
    "##### 📉 Example Scenario:\n",
    "We run A/B tests on:\n",
    "- Overall population ✅\n",
    "- By platform ✅\n",
    "- By user tier ✅\n",
    "- By region ✅\n",
    "\n",
    "If we test 10 hypotheses at 0.05 significance level, the chance of *at least one false positive* ≈ 40%.\n",
    "\n",
    "##### ✅ Correction Methods\n",
    "\n",
    "| Method                 | Use Case                                        | Risk |\n",
    "|------------------------|------------------------------------------------|------|\n",
    "| **Bonferroni**         | Very strict, controls **Family-Wise Error Rate (FWER)** | ❄️ Conservative |\n",
    "| **Benjamini-Hochberg** | Controls **False Discovery Rate (FDR)**        | 🔥 Balanced |\n",
    "\n",
    "##### 🧠 In Practice:\n",
    "We calculate raw p-values for each segment, and then apply corrections to get adjusted p-values.\n",
    "> If even the adjusted p-values are significant → result is robust.\n",
    "\n",
    "</details>"
   ]
  },
  {
   "cell_type": "markdown",
   "id": "8f145bec",
   "metadata": {},
   "source": [
    "##### ❄️ Bonferroni Correction\n",
    "\n",
    "<details>\n",
    "<summary><strong>📖 FWER Control (Click to Expand)</strong></summary>\n",
    "Bonferroni is the most **conservative** correction method.  \n",
    "It adjusts the p-value threshold by dividing it by the number of comparisons.\n",
    "\n",
    "- Formula: `adjusted_alpha = alpha / num_tests`\n",
    "- Or: `adjusted_p = p * num_tests`\n",
    "- If even one adjusted p-value < 0.05, it’s **very likely real**\n",
    "\n",
    "📌 **Best for:** High-risk decisions (e.g., medical trials, irreversible launches)    \n",
    "⚠️ **Drawback:** May **miss true positives** (higher Type II error)\n",
    "\n",
    "</details>"
   ]
  },
  {
   "cell_type": "markdown",
   "id": "ef44fbb7",
   "metadata": {},
   "source": [
    "##### 🔬 Benjamini-Hochberg (BH) Procedure\n",
    "\n",
    "<details>\n",
    "<summary><strong>📖 FDR Control (Click to Expand)</strong></summary>\n",
    "\n",
    "BH controls the **expected proportion of false discoveries** (i.e., false positives among all positives). It:\n",
    "- Ranks p-values from smallest to largest\n",
    "- Compares each to `(i/m) * alpha`, where:\n",
    "   - `i` = rank\n",
    "   - `m` = total number of tests\n",
    "\n",
    "**🧠 Important:** After adjustment, BH enforces **monotonicity** by **capping earlier (smaller) ranks to not exceed later ones**.  \n",
    "> In simple terms: **adjusted p-values can only decrease as rank increases.**\n",
    "\n",
    "The **largest p-value** that satisfies this inequality becomes the threshold — all smaller p-values are considered significant.\n",
    "\n",
    "📌 **Best for:** Exploratory research, product experiments with many segments  \n",
    "💡 **Advantage:** More power than Bonferroni, still controls errors\n",
    "\n",
    "</details>"
   ]
  },
  {
   "cell_type": "code",
   "execution_count": 55,
   "id": "0f4685d1",
   "metadata": {},
   "outputs": [
    {
     "data": {
      "text/html": [
       "<div>\n",
       "<style scoped>\n",
       "    .dataframe tbody tr th:only-of-type {\n",
       "        vertical-align: middle;\n",
       "    }\n",
       "\n",
       "    .dataframe tbody tr th {\n",
       "        vertical-align: top;\n",
       "    }\n",
       "\n",
       "    .dataframe thead th {\n",
       "        text-align: right;\n",
       "    }\n",
       "</style>\n",
       "<table border=\"1\" class=\"dataframe\">\n",
       "  <thead>\n",
       "    <tr style=\"text-align: right;\">\n",
       "      <th></th>\n",
       "      <th>Segment</th>\n",
       "      <th>Raw_pValue</th>\n",
       "      <th>Bonferroni_Adj_pValue</th>\n",
       "      <th>BH_Adj_pValue</th>\n",
       "    </tr>\n",
       "  </thead>\n",
       "  <tbody>\n",
       "    <tr>\n",
       "      <th>0</th>\n",
       "      <td>East</td>\n",
       "      <td>0.02</td>\n",
       "      <td>0.08</td>\n",
       "      <td>0.06</td>\n",
       "    </tr>\n",
       "    <tr>\n",
       "      <th>1</th>\n",
       "      <td>North</td>\n",
       "      <td>0.03</td>\n",
       "      <td>0.12</td>\n",
       "      <td>0.06</td>\n",
       "    </tr>\n",
       "    <tr>\n",
       "      <th>2</th>\n",
       "      <td>South</td>\n",
       "      <td>0.06</td>\n",
       "      <td>0.24</td>\n",
       "      <td>0.08</td>\n",
       "    </tr>\n",
       "    <tr>\n",
       "      <th>3</th>\n",
       "      <td>West</td>\n",
       "      <td>0.10</td>\n",
       "      <td>0.40</td>\n",
       "      <td>0.10</td>\n",
       "    </tr>\n",
       "  </tbody>\n",
       "</table>\n",
       "</div>"
      ],
      "text/plain": [
       "  Segment  Raw_pValue  Bonferroni_Adj_pValue  BH_Adj_pValue\n",
       "0    East        0.02                   0.08           0.06\n",
       "1   North        0.03                   0.12           0.06\n",
       "2   South        0.06                   0.24           0.08\n",
       "3    West        0.10                   0.40           0.10"
      ]
     },
     "execution_count": 55,
     "metadata": {},
     "output_type": "execute_result"
    }
   ],
   "source": [
    "import pandas as pd\n",
    "from statsmodels.stats.multitest import multipletests\n",
    "\n",
    "# Original inputs\n",
    "segment_names = ['North', 'South', 'East', 'West']\n",
    "p_vals = [0.03, 0.06, 0.02, 0.10]\n",
    "\n",
    "# Create DataFrame and sort by raw p-values BEFORE correction\n",
    "df = pd.DataFrame({\n",
    "    'Segment': segment_names,\n",
    "    'Raw_pValue': p_vals\n",
    "}).sort_values('Raw_pValue').reset_index(drop=True)\n",
    "\n",
    "# Apply corrections to the sorted p-values\n",
    "_, bonf, _, _ = multipletests(df['Raw_pValue'], alpha=0.05, method='bonferroni')\n",
    "_, bh, _, _ = multipletests(df['Raw_pValue'], alpha=0.05, method='fdr_bh')\n",
    "\n",
    "# Add to DataFrame\n",
    "df['Bonferroni_Adj_pValue'] = bonf\n",
    "df['BH_Adj_pValue'] = bh\n",
    "\n",
    "df\n"
   ]
  },
  {
   "cell_type": "code",
   "execution_count": 56,
   "id": "2a73587b",
   "metadata": {},
   "outputs": [
    {
     "data": {
      "image/png": "[encoded data removed]",
      "text/plain": [
       "<Figure size 800x500 with 1 Axes>"
      ]
     },
     "metadata": {},
     "output_type": "display_data"
    }
   ],
   "source": [
    "# Plot code without gridlines and with labels directly next to points\n",
    "\n",
    "plt.figure(figsize=(8, 5))\n",
    "\n",
    "# Plot lines\n",
    "plt.plot(df.index + 1, df['Raw_pValue'], marker='o', label='Raw p-value')\n",
    "plt.plot(df.index + 1, df['Bonferroni_Adj_pValue'], marker='^', label='Bonferroni Adj p-value')\n",
    "plt.plot(df.index + 1, df['BH_Adj_pValue'], marker='s', label='BH Adj p-value')\n",
    "\n",
    "# Add value labels next to each point\n",
    "for i in range(len(df)):\n",
    "    x = i + 1\n",
    "    plt.text(x + 0.05, df['Raw_pValue'][i], f\"{df['Raw_pValue'][i]:.2f}\", va='center')\n",
    "    plt.text(x + 0.05, df['Bonferroni_Adj_pValue'][i], f\"{df['Bonferroni_Adj_pValue'][i]:.2f}\", va='center')\n",
    "    plt.text(x + 0.05, df['BH_Adj_pValue'][i], f\"{df['BH_Adj_pValue'][i]:.2f}\", va='center')\n",
    "\n",
    "# Axis & labels\n",
    "plt.xticks(df.index + 1, df['Segment']);\n",
    "plt.axhline(0.05, color='gray', linestyle='--', label='α = 0.05');\n",
    "plt.xlabel(\"Segment (Ranked by Significance)\");\n",
    "plt.ylabel(\"p-value\");\n",
    "plt.title(\"p-value Correction: Bonferroni vs BH (FDR)\");\n",
    "plt.legend();\n",
    "plt.tight_layout();\n",
    "plt.show();\n"
   ]
  },
  {
   "cell_type": "code",
   "execution_count": 64,
   "id": "aaaf2856",
   "metadata": {},
   "outputs": [
    {
     "data": {
      "application/vnd.plotly.v1+json": {
       "config": {
        "plotlyServerURL": "https://plot.ly"
       },
       "data": [
        {
         "line": {
          "color": "#1f77b4"
         },
         "marker": {
          "color": "#1f77b4",
          "size": 10,
          "symbol": "circle"
         },
         "mode": "lines+markers+text",
         "name": "Raw p-value",
         "text": [
          "0.02",
          "0.03",
          "0.06",
          "0.10"
         ],
         "textfont": {
          "color": "#1f77b4"
         },
         "textposition": "top center",
         "type": "scatter",
         "x": [
          "East",
          "North",
          "South",
          "West"
         ],
         "y": {
          "bdata": "exSuR+F6lD+4HoXrUbieP7gehetRuK4/mpmZmZmZuT8=",
          "dtype": "f8"
         }
        },
        {
         "line": {
          "color": "#ff7f0e"
         },
         "marker": {
          "color": "#ff7f0e",
          "size": 10,
          "symbol": "triangle-up"
         },
         "mode": "lines+markers+text",
         "name": "Bonferroni Adj p-value",
         "text": [
          "0.08",
          "0.12",
          "0.24",
          "0.40"
         ],
         "textfont": {
          "color": "#ff7f0e"
         },
         "textposition": "top center",
         "type": "scatter",
         "x": [
          "East",
          "North",
          "South",
          "West"
         ],
         "y": {
          "bdata": "exSuR+F6tD+4HoXrUbi+P7gehetRuM4/mpmZmZmZ2T8=",
          "dtype": "f8"
         }
        },
        {
         "line": {
          "color": "#2ca02c"
         },
         "marker": {
          "color": "#2ca02c",
          "size": 10,
          "symbol": "square"
         },
         "mode": "lines+markers+text",
         "name": "BH Adj p-value",
         "text": [
          "0.06",
          "0.06",
          "0.08",
          "0.10"
         ],
         "textfont": {
          "color": "#2ca02c"
         },
         "textposition": "top center",
         "type": "scatter",
         "x": [
          "East",
          "North",
          "South",
          "West"
         ],
         "y": {
          "bdata": "uB6F61G4rj+4HoXrUbiuP3sUrkfherQ/mpmZmZmZuT8=",
          "dtype": "f8"
         }
        }
       ],
       "layout": {
        "height": 500,
        "shapes": [
         {
          "line": {
           "color": "gray",
           "dash": "dash"
          },
          "type": "line",
          "x0": -0.5,
          "x1": 3.5,
          "y0": 0.05,
          "y1": 0.05
         }
        ],
        "showlegend": true,
        "template": {
         "data": {
          "bar": [
           {
            "error_x": {
             "color": "#2a3f5f"
            },
            "error_y": {
             "color": "#2a3f5f"
            },
            "marker": {
             "line": {
              "color": "#E5ECF6",
              "width": 0.5
             },
             "pattern": {
              "fillmode": "overlay",
              "size": 10,
              "solidity": 0.2
             }
            },
            "type": "bar"
           }
          ],
          "barpolar": [
           {
            "marker": {
             "line": {
              "color": "#E5ECF6",
              "width": 0.5
             },
             "pattern": {
              "fillmode": "overlay",
              "size": 10,
              "solidity": 0.2
             }
            },
            "type": "barpolar"
           }
          ],
          "carpet": [
           {
            "aaxis": {
             "endlinecolor": "#2a3f5f",
             "gridcolor": "white",
             "linecolor": "white",
             "minorgridcolor": "white",
             "startlinecolor": "#2a3f5f"
            },
            "baxis": {
             "endlinecolor": "#2a3f5f",
             "gridcolor": "white",
             "linecolor": "white",
             "minorgridcolor": "white",
             "startlinecolor": "#2a3f5f"
            },
            "type": "carpet"
           }
          ],
          "choropleth": [
           {
            "colorbar": {
             "outlinewidth": 0,
             "ticks": ""
            },
            "type": "choropleth"
           }
          ],
          "contour": [
           {
            "colorbar": {
             "outlinewidth": 0,
             "ticks": ""
            },
            "colorscale": [
             [
              0,
              "#0d0887"
             ],
             [
              0.1111111111111111,
              "#46039f"
             ],
             [
              0.2222222222222222,
              "#7201a8"
             ],
             [
              0.3333333333333333,
              "#9c179e"
             ],
             [
              0.4444444444444444,
              "#bd3786"
             ],
             [
              0.5555555555555556,
              "#d8576b"
             ],
             [
              0.6666666666666666,
              "#ed7953"
             ],
             [
              0.7777777777777778,
              "#fb9f3a"
             ],
             [
              0.8888888888888888,
              "#fdca26"
             ],
             [
              1,
              "#f0f921"
             ]
            ],
            "type": "contour"
           }
          ],
          "contourcarpet": [
           {
            "colorbar": {
             "outlinewidth": 0,
             "ticks": ""
            },
            "type": "contourcarpet"
           }
          ],
          "heatmap": [
           {
            "colorbar": {
             "outlinewidth": 0,
             "ticks": ""
            },
            "colorscale": [
             [
              0,
              "#0d0887"
             ],
             [
              0.1111111111111111,
              "#46039f"
             ],
             [
              0.2222222222222222,
              "#7201a8"
             ],
             [
              0.3333333333333333,
              "#9c179e"
             ],
             [
              0.4444444444444444,
              "#bd3786"
             ],
             [
              0.5555555555555556,
              "#d8576b"
             ],
             [
              0.6666666666666666,
              "#ed7953"
             ],
             [
              0.7777777777777778,
              "#fb9f3a"
             ],
             [
              0.8888888888888888,
              "#fdca26"
             ],
             [
              1,
              "#f0f921"
             ]
            ],
            "type": "heatmap"
           }
          ],
          "histogram": [
           {
            "marker": {
             "pattern": {
              "fillmode": "overlay",
              "size": 10,
              "solidity": 0.2
             }
            },
            "type": "histogram"
           }
          ],
          "histogram2d": [
           {
            "colorbar": {
             "outlinewidth": 0,
             "ticks": ""
            },
            "colorscale": [
             [
              0,
              "#0d0887"
             ],
             [
              0.1111111111111111,
              "#46039f"
             ],
             [
              0.2222222222222222,
              "#7201a8"
             ],
             [
              0.3333333333333333,
              "#9c179e"
             ],
             [
              0.4444444444444444,
              "#bd3786"
             ],
             [
              0.5555555555555556,
              "#d8576b"
             ],
             [
              0.6666666666666666,
              "#ed7953"
             ],
             [
              0.7777777777777778,
              "#fb9f3a"
             ],
             [
              0.8888888888888888,
              "#fdca26"
             ],
             [
              1,
              "#f0f921"
             ]
            ],
            "type": "histogram2d"
           }
          ],
          "histogram2dcontour": [
           {
            "colorbar": {
             "outlinewidth": 0,
             "ticks": ""
            },
            "colorscale": [
             [
              0,
              "#0d0887"
             ],
             [
              0.1111111111111111,
              "#46039f"
             ],
             [
              0.2222222222222222,
              "#7201a8"
             ],
             [
              0.3333333333333333,
              "#9c179e"
             ],
             [
              0.4444444444444444,
              "#bd3786"
             ],
             [
              0.5555555555555556,
              "#d8576b"
             ],
             [
              0.6666666666666666,
              "#ed7953"
             ],
             [
              0.7777777777777778,
              "#fb9f3a"
             ],
             [
              0.8888888888888888,
              "#fdca26"
             ],
             [
              1,
              "#f0f921"
             ]
            ],
            "type": "histogram2dcontour"
           }
          ],
          "mesh3d": [
           {
            "colorbar": {
             "outlinewidth": 0,
             "ticks": ""
            },
            "type": "mesh3d"
           }
          ],
          "parcoords": [
           {
            "line": {
             "colorbar": {
              "outlinewidth": 0,
              "ticks": ""
             }
            },
            "type": "parcoords"
           }
          ],
          "pie": [
           {
            "automargin": true,
            "type": "pie"
           }
          ],
          "scatter": [
           {
            "fillpattern": {
             "fillmode": "overlay",
             "size": 10,
             "solidity": 0.2
            },
            "type": "scatter"
           }
          ],
          "scatter3d": [
           {
            "line": {
             "colorbar": {
              "outlinewidth": 0,
              "ticks": ""
             }
            },
            "marker": {
             "colorbar": {
              "outlinewidth": 0,
              "ticks": ""
             }
            },
            "type": "scatter3d"
           }
          ],
          "scattercarpet": [
           {
            "marker": {
             "colorbar": {
              "outlinewidth": 0,
              "ticks": ""
             }
            },
            "type": "scattercarpet"
           }
          ],
          "scattergeo": [
           {
            "marker": {
             "colorbar": {
              "outlinewidth": 0,
              "ticks": ""
             }
            },
            "type": "scattergeo"
           }
          ],
          "scattergl": [
           {
            "marker": {
             "colorbar": {
              "outlinewidth": 0,
              "ticks": ""
             }
            },
            "type": "scattergl"
           }
          ],
          "scattermap": [
           {
            "marker": {
             "colorbar": {
              "outlinewidth": 0,
              "ticks": ""
             }
            },
            "type": "scattermap"
           }
          ],
          "scattermapbox": [
           {
            "marker": {
             "colorbar": {
              "outlinewidth": 0,
              "ticks": ""
             }
            },
            "type": "scattermapbox"
           }
          ],
          "scatterpolar": [
           {
            "marker": {
             "colorbar": {
              "outlinewidth": 0,
              "ticks": ""
             }
            },
            "type": "scatterpolar"
           }
          ],
          "scatterpolargl": [
           {
            "marker": {
             "colorbar": {
              "outlinewidth": 0,
              "ticks": ""
             }
            },
            "type": "scatterpolargl"
           }
          ],
          "scatterternary": [
           {
            "marker": {
             "colorbar": {
              "outlinewidth": 0,
              "ticks": ""
             }
            },
            "type": "scatterternary"
           }
          ],
          "surface": [
           {
            "colorbar": {
             "outlinewidth": 0,
             "ticks": ""
            },
            "colorscale": [
             [
              0,
              "#0d0887"
             ],
             [
              0.1111111111111111,
              "#46039f"
             ],
             [
              0.2222222222222222,
              "#7201a8"
             ],
             [
              0.3333333333333333,
              "#9c179e"
             ],
             [
              0.4444444444444444,
              "#bd3786"
             ],
             [
              0.5555555555555556,
              "#d8576b"
             ],
             [
              0.6666666666666666,
              "#ed7953"
             ],
             [
              0.7777777777777778,
              "#fb9f3a"
             ],
             [
              0.8888888888888888,
              "#fdca26"
             ],
             [
              1,
              "#f0f921"
             ]
            ],
            "type": "surface"
           }
          ],
          "table": [
           {
            "cells": {
             "fill": {
              "color": "#EBF0F8"
             },
             "line": {
              "color": "white"
             }
            },
            "header": {
             "fill": {
              "color": "#C8D4E3"
             },
             "line": {
              "color": "white"
             }
            },
            "type": "table"
           }
          ]
         },
         "layout": {
          "annotationdefaults": {
           "arrowcolor": "#2a3f5f",
           "arrowhead": 0,
           "arrowwidth": 1
          },
          "autotypenumbers": "strict",
          "coloraxis": {
           "colorbar": {
            "outlinewidth": 0,
            "ticks": ""
           }
          },
          "colorscale": {
           "diverging": [
            [
             0,
             "#8e0152"
            ],
            [
             0.1,
             "#c51b7d"
            ],
            [
             0.2,
             "#de77ae"
            ],
            [
             0.3,
             "#f1b6da"
            ],
            [
             0.4,
             "#fde0ef"
            ],
            [
             0.5,
             "#f7f7f7"
            ],
            [
             0.6,
             "#e6f5d0"
            ],
            [
             0.7,
             "#b8e186"
            ],
            [
             0.8,
             "#7fbc41"
            ],
            [
             0.9,
             "#4d9221"
            ],
            [
             1,
             "#276419"
            ]
           ],
           "sequential": [
            [
             0,
             "#0d0887"
            ],
            [
             0.1111111111111111,
             "#46039f"
            ],
            [
             0.2222222222222222,
             "#7201a8"
            ],
            [
             0.3333333333333333,
             "#9c179e"
            ],
            [
             0.4444444444444444,
             "#bd3786"
            ],
            [
             0.5555555555555556,
             "#d8576b"
            ],
            [
             0.6666666666666666,
             "#ed7953"
            ],
            [
             0.7777777777777778,
             "#fb9f3a"
            ],
            [
             0.8888888888888888,
             "#fdca26"
            ],
            [
             1,
             "#f0f921"
            ]
           ],
           "sequentialminus": [
            [
             0,
             "#0d0887"
            ],
            [
             0.1111111111111111,
             "#46039f"
            ],
            [
             0.2222222222222222,
             "#7201a8"
            ],
            [
             0.3333333333333333,
             "#9c179e"
            ],
            [
             0.4444444444444444,
             "#bd3786"
            ],
            [
             0.5555555555555556,
             "#d8576b"
            ],
            [
             0.6666666666666666,
             "#ed7953"
            ],
            [
             0.7777777777777778,
             "#fb9f3a"
            ],
            [
             0.8888888888888888,
             "#fdca26"
            ],
            [
             1,
             "#f0f921"
            ]
           ]
          },
          "colorway": [
           "#636efa",
           "#EF553B",
           "#00cc96",
           "#ab63fa",
           "#FFA15A",
           "#19d3f3",
           "#FF6692",
           "#B6E880",
           "#FF97FF",
           "#FECB52"
          ],
          "font": {
           "color": "#2a3f5f"
          },
          "geo": {
           "bgcolor": "white",
           "lakecolor": "white",
           "landcolor": "#E5ECF6",
           "showlakes": true,
           "showland": true,
           "subunitcolor": "white"
          },
          "hoverlabel": {
           "align": "left"
          },
          "hovermode": "closest",
          "mapbox": {
           "style": "light"
          },
          "paper_bgcolor": "white",
          "plot_bgcolor": "#E5ECF6",
          "polar": {
           "angularaxis": {
            "gridcolor": "white",
            "linecolor": "white",
            "ticks": ""
           },
           "bgcolor": "#E5ECF6",
           "radialaxis": {
            "gridcolor": "white",
            "linecolor": "white",
            "ticks": ""
           }
          },
          "scene": {
           "xaxis": {
            "backgroundcolor": "#E5ECF6",
            "gridcolor": "white",
            "gridwidth": 2,
            "linecolor": "white",
            "showbackground": true,
            "ticks": "",
            "zerolinecolor": "white"
           },
           "yaxis": {
            "backgroundcolor": "#E5ECF6",
            "gridcolor": "white",
            "gridwidth": 2,
            "linecolor": "white",
            "showbackground": true,
            "ticks": "",
            "zerolinecolor": "white"
           },
           "zaxis": {
            "backgroundcolor": "#E5ECF6",
            "gridcolor": "white",
            "gridwidth": 2,
            "linecolor": "white",
            "showbackground": true,
            "ticks": "",
            "zerolinecolor": "white"
           }
          },
          "shapedefaults": {
           "line": {
            "color": "#2a3f5f"
           }
          },
          "ternary": {
           "aaxis": {
            "gridcolor": "white",
            "linecolor": "white",
            "ticks": ""
           },
           "baxis": {
            "gridcolor": "white",
            "linecolor": "white",
            "ticks": ""
           },
           "bgcolor": "#E5ECF6",
           "caxis": {
            "gridcolor": "white",
            "linecolor": "white",
            "ticks": ""
           }
          },
          "title": {
           "x": 0.05
          },
          "xaxis": {
           "automargin": true,
           "gridcolor": "white",
           "linecolor": "white",
           "ticks": "",
           "title": {
            "standoff": 15
           },
           "zerolinecolor": "white",
           "zerolinewidth": 2
          },
          "yaxis": {
           "automargin": true,
           "gridcolor": "white",
           "linecolor": "white",
           "ticks": "",
           "title": {
            "standoff": 15
           },
           "zerolinecolor": "white",
           "zerolinewidth": 2
          }
         }
        },
        "title": {
         "text": "Single Clean Plot: p-value Correction (Bonferroni vs BH)"
        },
        "xaxis": {
         "title": {
          "text": "Segment (Ranked by Significance)"
         }
        },
        "yaxis": {
         "title": {
          "text": "p-value"
         }
        }
       }
      }
     },
     "metadata": {},
     "output_type": "display_data"
    }
   ],
   "source": [
    "import plotly.graph_objects as go\n",
    "\n",
    "def plot_pvalue_corrections(df):\n",
    "    \"\"\"\n",
    "    Wrapped into a function as a workaround for duplicate plots in notebook.\n",
    "    \"\"\"\n",
    "    fig = go.Figure()\n",
    "\n",
    "    def add_trace(name, y_vals, marker_symbol, color):\n",
    "        fig.add_trace(go.Scatter(\n",
    "            x=df['Segment'],\n",
    "            y=y_vals,\n",
    "            mode='lines+markers+text',\n",
    "            name=name,\n",
    "            text=[f\"{v:.2f}\" for v in y_vals],\n",
    "            textposition=\"top center\",\n",
    "            marker=dict(symbol=marker_symbol, size=10, color=color),\n",
    "            line=dict(color=color),\n",
    "            textfont=dict(color=color)\n",
    "        ))\n",
    "\n",
    "    add_trace('Raw p-value', df['Raw_pValue'], 'circle', '#1f77b4')\n",
    "    add_trace('Bonferroni Adj p-value', df['Bonferroni_Adj_pValue'], 'triangle-up', '#ff7f0e')\n",
    "    add_trace('BH Adj p-value', df['BH_Adj_pValue'], 'square', '#2ca02c')\n",
    "\n",
    "    fig.add_shape(\n",
    "        type=\"line\",\n",
    "        x0=-0.5, x1=3.5,\n",
    "        y0=0.05, y1=0.05,\n",
    "        line=dict(color=\"gray\", dash=\"dash\")\n",
    "    )\n",
    "\n",
    "    fig.update_layout(\n",
    "        title=\"Single Clean Plot: p-value Correction (Bonferroni vs BH)\",\n",
    "        xaxis_title=\"Segment (Ranked by Significance)\",\n",
    "        yaxis_title=\"p-value\",\n",
    "        showlegend=True,\n",
    "        height=500\n",
    "    )\n",
    "    fig.show()\n",
    "\n",
    "plot_pvalue_corrections(df)"
   ]
  },
  {
   "cell_type": "code",
   "execution_count": 58,
   "id": "50b6239d",
   "metadata": {},
   "outputs": [],
   "source": [
    "def simulate_rollout_impact(\n",
    "    experiment_result,\n",
    "    daily_eligible_observations,\n",
    "    metric_unit='conversions'\n",
    "):\n",
    "    \"\"\"\n",
    "    Estimate potential impact of rolling out the treatment to all eligible traffic.\n",
    "\n",
    "    Parameters:\n",
    "    - experiment_result: dict\n",
    "        Output of `run_ab_test()` — must contain summary + group_labels\n",
    "    - daily_eligible_observations: int\n",
    "        Number of eligible units per day (users, sessions, transactions, etc.)\n",
    "    - metric_unit: str\n",
    "        What the metric represents (e.g., 'conversions', 'revenue', 'clicks')\n",
    "\n",
    "    Prints daily and monthly lift estimates.\n",
    "    \"\"\"\n",
    "\n",
    "    group1, group2 = experiment_result['group_labels']\n",
    "    summary = experiment_result['summary']\n",
    "\n",
    "    # Extract means\n",
    "    mean_control = summary[group1]['mean']\n",
    "    mean_treatment = summary[group2]['mean']\n",
    "    observed_lift = mean_treatment - mean_control\n",
    "\n",
    "    # Impact calculation\n",
    "    daily_impact = observed_lift * daily_eligible_observations\n",
    "    monthly_impact = daily_impact * 30\n",
    "\n",
    "    # Output\n",
    "    print(\"\\n📦 Rollout Simulation\")\n",
    "    print(f\"- Outcome Metric      : {metric_unit}\")\n",
    "    print(f\"- Observed Lift       : {observed_lift:.4f} per unit\")\n",
    "    print(f\"- Daily Eligible Units: {daily_eligible_observations}\")\n",
    "    print(f\"- Estimated Daily Impact   : {daily_impact:,.0f} {metric_unit}/day\")\n",
    "    print(f\"- Estimated Monthly Impact : {monthly_impact:,.0f} {metric_unit}/month\\n\")\n"
   ]
  },
  {
   "cell_type": "code",
   "execution_count": 59,
   "id": "bc977fc9",
   "metadata": {},
   "outputs": [
    {
     "name": "stdout",
     "output_type": "stream",
     "text": [
      "\n",
      "📦 Rollout Simulation\n",
      "- Outcome Metric      : engagement_score\n",
      "- Observed Lift       : -0.7146 per unit\n",
      "- Daily Eligible Units: 1000\n",
      "- Estimated Daily Impact   : -715 engagement_score/day\n",
      "- Estimated Monthly Impact : -21,437 engagement_score/month\n",
      "\n"
     ]
    }
   ],
   "source": [
    "# Derive daily volume from actual data\n",
    "daily_traffic_estimate = users.shape[0]  # Assuming full traffic per day\n",
    "\n",
    "simulate_rollout_impact(\n",
    "    experiment_result=result,                         # Output from run_ab_test()\n",
    "    daily_eligible_observations=daily_traffic_estimate,\n",
    "    metric_unit=test_config['outcome_metric_col']     # Dynamic label like 'engagement_score' or 'revenue'\n",
    ")\n"
   ]
  },
  {
   "cell_type": "markdown",
   "id": "e8867f90",
   "metadata": {},
   "source": [
    "<a id=\"novelty-effects\"></a>\n",
    "<h4>🪄 Novelty Effects & Behavioral Decay</h4>\n",
    "\n",
    "<details><summary><strong>📖 Why First Impressions Might Lie (Click to Expand) </strong></summary>\n",
    "\n",
    "##### 🪄 Novelty Effects & Behavioral Decay\n",
    "Even if an A/B test shows a statistically significant lift, that improvement may **not last**.\n",
    "\n",
    "This often happens due to **novelty effects** — short-term spikes in engagement driven by:\n",
    "- Curiosity (“What’s this new feature?”)\n",
    "- Surprise (“This looks different!”)\n",
    "- Visual attention (e.g., placement or color changes)\n",
    "\n",
    "##### 📉 Common Signs of Novelty Effects\n",
    "- Strong lift in week 1 → drops by week 3.\n",
    "- High initial usage → no long-term retention.\n",
    "- Positive metrics in one segment only (e.g., “new users”).\n",
    "\n",
    "##### 🧭 What We Do About It\n",
    "\n",
    "To address this risk during rollouts:\n",
    "- ✅ Monitor **metrics over time** post-launch (e.g., 7, 14, 28-day retention)\n",
    "- ✅ Compare results across **early adopters vs late adopters**\n",
    "- ✅ Run **holdout experiments** during phased rollout to detect fading impact\n",
    "\n",
    "</details>"
   ]
  },
  {
   "cell_type": "markdown",
   "id": "cf87d394",
   "metadata": {},
   "source": [
    "[Back to the top](#table-of-contents)\n",
    "___\n"
   ]
  }
 ],
 "metadata": {
  "kernelspec": {
   "display_name": "Python 3",
   "language": "python",
   "name": "python3"
  },
  "language_info": {
   "codemirror_mode": {
    "name": "ipython",
    "version": 3
   },
   "file_extension": ".py",
   "mimetype": "text/x-python",
   "name": "python",
   "nbconvert_exporter": "python",
   "pygments_lexer": "ipython3",
   "version": "3.9.6"
  }
 },
 "nbformat": 4,
 "nbformat_minor": 5
}
